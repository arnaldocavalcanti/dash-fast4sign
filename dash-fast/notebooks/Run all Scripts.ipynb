{
 "cells": [
  {
   "cell_type": "code",
   "execution_count": null,
   "id": "e595af80",
   "metadata": {},
   "outputs": [],
   "source": []
  },
  {
   "cell_type": "code",
   "execution_count": 12,
   "id": "7346fddf",
   "metadata": {},
   "outputs": [
    {
     "name": "stderr",
     "output_type": "stream",
     "text": [
      "Traceback (most recent call last):\n",
      "  File \"../scripts/gera_arq_empresas_situacao_geral.py\", line 18, in <module>\n",
      "    import matplotlib.pyplot as plt\n",
      "  File \"/Users/arnaldocavalcanti/opt/anaconda3/lib/python3.7/site-packages/matplotlib/pyplot.py\", line 2355, in <module>\n",
      "    switch_backend(rcParams[\"backend\"])\n",
      "  File \"/Users/arnaldocavalcanti/opt/anaconda3/lib/python3.7/site-packages/matplotlib/pyplot.py\", line 221, in switch_backend\n",
      "    backend_mod = importlib.import_module(backend_name)\n",
      "  File \"/Users/arnaldocavalcanti/opt/anaconda3/lib/python3.7/importlib/__init__.py\", line 127, in import_module\n",
      "    return _bootstrap._gcd_import(name[level:], package, level)\n",
      "ModuleNotFoundError: No module named 'matplotlib_inline'\n",
      "Traceback (most recent call last):\n",
      "  File \"../scripts/gera_arq_vendidos_vs_cancelados_por_UF.py\", line 18, in <module>\n",
      "    import matplotlib.pyplot as plt\n",
      "  File \"/Users/arnaldocavalcanti/opt/anaconda3/lib/python3.7/site-packages/matplotlib/pyplot.py\", line 2355, in <module>\n",
      "    switch_backend(rcParams[\"backend\"])\n",
      "  File \"/Users/arnaldocavalcanti/opt/anaconda3/lib/python3.7/site-packages/matplotlib/pyplot.py\", line 221, in switch_backend\n",
      "    backend_mod = importlib.import_module(backend_name)\n",
      "  File \"/Users/arnaldocavalcanti/opt/anaconda3/lib/python3.7/importlib/__init__.py\", line 127, in import_module\n",
      "    return _bootstrap._gcd_import(name[level:], package, level)\n",
      "ModuleNotFoundError: No module named 'matplotlib_inline'\n",
      "Traceback (most recent call last):\n",
      "  File \"../scripts/gera_arq_vendidos_vs_cancelados.py\", line 18, in <module>\n",
      "    import matplotlib.pyplot as plt\n",
      "  File \"/Users/arnaldocavalcanti/opt/anaconda3/lib/python3.7/site-packages/matplotlib/pyplot.py\", line 2355, in <module>\n",
      "    switch_backend(rcParams[\"backend\"])\n",
      "  File \"/Users/arnaldocavalcanti/opt/anaconda3/lib/python3.7/site-packages/matplotlib/pyplot.py\", line 221, in switch_backend\n",
      "    backend_mod = importlib.import_module(backend_name)\n",
      "  File \"/Users/arnaldocavalcanti/opt/anaconda3/lib/python3.7/importlib/__init__.py\", line 127, in import_module\n",
      "    return _bootstrap._gcd_import(name[level:], package, level)\n",
      "ModuleNotFoundError: No module named 'matplotlib_inline'\n",
      "Traceback (most recent call last):\n",
      "  File \"../scripts/gera_arquivo_empresas_mapas.py\", line 20, in <module>\n",
      "    import matplotlib.pyplot as plt\n",
      "  File \"/Users/arnaldocavalcanti/opt/anaconda3/lib/python3.7/site-packages/matplotlib/pyplot.py\", line 2355, in <module>\n",
      "    switch_backend(rcParams[\"backend\"])\n",
      "  File \"/Users/arnaldocavalcanti/opt/anaconda3/lib/python3.7/site-packages/matplotlib/pyplot.py\", line 221, in switch_backend\n",
      "    backend_mod = importlib.import_module(backend_name)\n",
      "  File \"/Users/arnaldocavalcanti/opt/anaconda3/lib/python3.7/importlib/__init__.py\", line 127, in import_module\n",
      "    return _bootstrap._gcd_import(name[level:], package, level)\n",
      "ModuleNotFoundError: No module named 'matplotlib_inline'\n"
     ]
    },
    {
     "name": "stdout",
     "output_type": "stream",
     "text": [
      "Gerando....gera_arq_empresas_situacao_geral 1\n",
      "Gerando....gera_arq_vendidos_vs_cancelados_por_UF 1\n",
      "Gerando...gera_arq_vendidos_vs_cancelados 1\n",
      "Gerando...gera_arquivo_empresas_mapas 1\n",
      "Gerando...gerar_arquivo_funil_hubspot_google 1\n",
      "Gerando...Predict_Sales_Devolus 2\n",
      "Finalizado\n"
     ]
    },
    {
     "name": "stderr",
     "output_type": "stream",
     "text": [
      "Traceback (most recent call last):\n",
      "  File \"../scripts/gerar_arquivo_funil_hubspot_google.py\", line 18, in <module>\n",
      "    import matplotlib.pyplot as plt\n",
      "  File \"/Users/arnaldocavalcanti/opt/anaconda3/lib/python3.7/site-packages/matplotlib/pyplot.py\", line 2355, in <module>\n",
      "    switch_backend(rcParams[\"backend\"])\n",
      "  File \"/Users/arnaldocavalcanti/opt/anaconda3/lib/python3.7/site-packages/matplotlib/pyplot.py\", line 221, in switch_backend\n",
      "    backend_mod = importlib.import_module(backend_name)\n",
      "  File \"/Users/arnaldocavalcanti/opt/anaconda3/lib/python3.7/importlib/__init__.py\", line 127, in import_module\n",
      "    return _bootstrap._gcd_import(name[level:], package, level)\n",
      "ModuleNotFoundError: No module named 'matplotlib_inline'\n",
      "python: can't open file '../scripts/Predict_Sales_Devolus.py': [Errno 2] No such file or directory\n"
     ]
    }
   ],
   "source": [
    "from IPython import get_ipython\n",
    "import subprocess\n",
    "a = subprocess.run('python ../scripts/gera_arq_empresas_situacao_geral.py', shell=True)\n",
    "b = subprocess.run('python ../scripts/gera_arq_vendidos_vs_cancelados_por_UF.py', shell=True)\n",
    "c = subprocess.run('python ../scripts/gera_arq_vendidos_vs_cancelados.py', shell=True)\n",
    "d = subprocess.run('python ../scripts/gera_arquivo_empresas_mapas.py', shell=True)\n",
    "e = subprocess.run('python ../scripts/gerar_arquivo_funil_hubspot_google.py', shell=True)\n",
    "f = subprocess.run('python ../scripts/Predict_Sales_Devolus.py', shell=True)\n",
    "\n",
    "\n",
    "# or\n",
    "#p = subprocess.run(['python', 'count.py'])\n",
    "print('Gerando....gera_arq_empresas_situacao_geral', a.returncode)\n",
    "print('Gerando....gera_arq_vendidos_vs_cancelados_por_UF', b.returncode)\n",
    "print('Gerando...gera_arq_vendidos_vs_cancelados', c.returncode)\n",
    "print('Gerando...gera_arquivo_empresas_mapas', d.returncode)\n",
    "print('Gerando...gerar_arquivo_funil_hubspot_google', e.returncode)\n",
    "print('Gerando...Predict_Sales_Devolus', f.returncode)\n",
    "\n",
    "print('Finalizado')"
   ]
  },
  {
   "cell_type": "code",
   "execution_count": null,
   "id": "d56b6103",
   "metadata": {},
   "outputs": [],
   "source": []
  }
 ],
 "metadata": {
  "kernelspec": {
   "display_name": "Python 3 (ipykernel)",
   "language": "python",
   "name": "python3"
  },
  "language_info": {
   "codemirror_mode": {
    "name": "ipython",
    "version": 3
   },
   "file_extension": ".py",
   "mimetype": "text/x-python",
   "name": "python",
   "nbconvert_exporter": "python",
   "pygments_lexer": "ipython3",
   "version": "3.7.11"
  }
 },
 "nbformat": 4,
 "nbformat_minor": 5
}
