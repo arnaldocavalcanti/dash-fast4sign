{
 "cells": [
  {
   "cell_type": "code",
   "execution_count": 1,
   "id": "4f1cc73c",
   "metadata": {},
   "outputs": [
    {
     "data": {
      "text/html": [
       "        <script type=\"text/javascript\">\n",
       "        window.PlotlyConfig = {MathJaxConfig: 'local'};\n",
       "        if (window.MathJax) {MathJax.Hub.Config({SVG: {font: \"STIX-Web\"}});}\n",
       "        if (typeof require !== 'undefined') {\n",
       "        require.undef(\"plotly\");\n",
       "        requirejs.config({\n",
       "            paths: {\n",
       "                'plotly': ['https://cdn.plot.ly/plotly-2.8.3.min']\n",
       "            }\n",
       "        });\n",
       "        require(['plotly'], function(Plotly) {\n",
       "            window._Plotly = Plotly;\n",
       "        });\n",
       "        }\n",
       "        </script>\n",
       "        "
      ]
     },
     "metadata": {},
     "output_type": "display_data"
    }
   ],
   "source": [
    "#basic imports\n",
    "import pandas as pd\n",
    "import numpy as np\n",
    "import matplotlib as mpl\n",
    "import json\n",
    "\n",
    "%matplotlib inline\n",
    "import warnings\n",
    "import datetime as dt\n",
    "\n",
    "# for visualizations\n",
    "import matplotlib.pyplot as plt\n",
    "import seaborn as sns\n",
    "\n",
    "\n",
    "# for interactive visualizations\n",
    "import plotly.offline as py\n",
    "from plotly.offline import init_notebook_mode, iplot\n",
    "import plotly.graph_objs as go\n",
    "from plotly import tools\n",
    "init_notebook_mode(connected = True)\n",
    "import plotly.figure_factory as ff\n",
    "\n",
    "\n",
    "warnings.filterwarnings(\"ignore\")"
   ]
  },
  {
   "cell_type": "markdown",
   "id": "9681dff4",
   "metadata": {},
   "source": [
    "# Carregando e preparando arquivo google"
   ]
  },
  {
   "cell_type": "markdown",
   "id": "9d008d74",
   "metadata": {},
   "source": [
    "Como gerei o arquivo: filtro anual de cliques tirado do adwords da Devolus (pesquisa)"
   ]
  },
  {
   "cell_type": "code",
   "execution_count": 2,
   "id": "cbc0f1fb",
   "metadata": {},
   "outputs": [
    {
     "data": {
      "text/html": [
       "<div>\n",
       "<style scoped>\n",
       "    .dataframe tbody tr th:only-of-type {\n",
       "        vertical-align: middle;\n",
       "    }\n",
       "\n",
       "    .dataframe tbody tr th {\n",
       "        vertical-align: top;\n",
       "    }\n",
       "\n",
       "    .dataframe thead th {\n",
       "        text-align: right;\n",
       "    }\n",
       "</style>\n",
       "<table border=\"1\" class=\"dataframe\">\n",
       "  <thead>\n",
       "    <tr style=\"text-align: right;\">\n",
       "      <th></th>\n",
       "      <th>Mês</th>\n",
       "      <th>Cliques</th>\n",
       "      <th>Impressões</th>\n",
       "      <th>CPC médio</th>\n",
       "      <th>Custo</th>\n",
       "    </tr>\n",
       "  </thead>\n",
       "  <tbody>\n",
       "    <tr>\n",
       "      <th>0</th>\n",
       "      <td>dez. de 2012</td>\n",
       "      <td>0.0</td>\n",
       "      <td>0.0</td>\n",
       "      <td>R$ 0,00</td>\n",
       "      <td>R$ 0,00</td>\n",
       "    </tr>\n",
       "    <tr>\n",
       "      <th>1</th>\n",
       "      <td>jan. de 2013</td>\n",
       "      <td>0.0</td>\n",
       "      <td>0.0</td>\n",
       "      <td>R$ 0,00</td>\n",
       "      <td>R$ 0,00</td>\n",
       "    </tr>\n",
       "    <tr>\n",
       "      <th>2</th>\n",
       "      <td>fev. de 2013</td>\n",
       "      <td>0.0</td>\n",
       "      <td>0.0</td>\n",
       "      <td>R$ 0,00</td>\n",
       "      <td>R$ 0,00</td>\n",
       "    </tr>\n",
       "    <tr>\n",
       "      <th>3</th>\n",
       "      <td>mar. de 2013</td>\n",
       "      <td>0.0</td>\n",
       "      <td>0.0</td>\n",
       "      <td>R$ 0,00</td>\n",
       "      <td>R$ 0,00</td>\n",
       "    </tr>\n",
       "    <tr>\n",
       "      <th>4</th>\n",
       "      <td>abr. de 2013</td>\n",
       "      <td>0.0</td>\n",
       "      <td>0.0</td>\n",
       "      <td>R$ 0,00</td>\n",
       "      <td>R$ 0,00</td>\n",
       "    </tr>\n",
       "  </tbody>\n",
       "</table>\n",
       "</div>"
      ],
      "text/plain": [
       "            Mês  Cliques  Impressões CPC médio    Custo\n",
       "0  dez. de 2012      0.0         0.0   R$ 0,00  R$ 0,00\n",
       "1  jan. de 2013      0.0         0.0   R$ 0,00  R$ 0,00\n",
       "2  fev. de 2013      0.0         0.0   R$ 0,00  R$ 0,00\n",
       "3  mar. de 2013      0.0         0.0   R$ 0,00  R$ 0,00\n",
       "4  abr. de 2013      0.0         0.0   R$ 0,00  R$ 0,00"
      ]
     },
     "execution_count": 2,
     "metadata": {},
     "output_type": "execute_result"
    }
   ],
   "source": [
    "df = pd.read_csv(\"../datasets/google_st_2022_3.csv\", sep=',')\n",
    "df.head()"
   ]
  },
  {
   "cell_type": "code",
   "execution_count": 3,
   "id": "24e43919",
   "metadata": {},
   "outputs": [
    {
     "name": "stdout",
     "output_type": "stream",
     "text": [
      "<class 'pandas.core.frame.DataFrame'>\n",
      "RangeIndex: 112 entries, 0 to 111\n",
      "Data columns (total 5 columns):\n",
      " #   Column      Non-Null Count  Dtype  \n",
      "---  ------      --------------  -----  \n",
      " 0   Mês         112 non-null    object \n",
      " 1   Cliques     112 non-null    float64\n",
      " 2   Impressões  112 non-null    float64\n",
      " 3   CPC médio   112 non-null    object \n",
      " 4   Custo       112 non-null    object \n",
      "dtypes: float64(2), object(3)\n",
      "memory usage: 4.5+ KB\n"
     ]
    }
   ],
   "source": [
    "df.info()"
   ]
  },
  {
   "cell_type": "code",
   "execution_count": 4,
   "id": "6be9ca18",
   "metadata": {},
   "outputs": [
    {
     "data": {
      "text/plain": [
       "(112, 5)"
      ]
     },
     "execution_count": 4,
     "metadata": {},
     "output_type": "execute_result"
    }
   ],
   "source": [
    "df.shape"
   ]
  },
  {
   "cell_type": "code",
   "execution_count": 5,
   "id": "38af1a92",
   "metadata": {},
   "outputs": [
    {
     "data": {
      "text/html": [
       "<div>\n",
       "<style scoped>\n",
       "    .dataframe tbody tr th:only-of-type {\n",
       "        vertical-align: middle;\n",
       "    }\n",
       "\n",
       "    .dataframe tbody tr th {\n",
       "        vertical-align: top;\n",
       "    }\n",
       "\n",
       "    .dataframe thead th {\n",
       "        text-align: right;\n",
       "    }\n",
       "</style>\n",
       "<table border=\"1\" class=\"dataframe\">\n",
       "  <thead>\n",
       "    <tr style=\"text-align: right;\">\n",
       "      <th></th>\n",
       "      <th>Mês</th>\n",
       "      <th>Cliques</th>\n",
       "      <th>Impressões</th>\n",
       "      <th>CPC médio</th>\n",
       "      <th>Custo</th>\n",
       "    </tr>\n",
       "  </thead>\n",
       "  <tbody>\n",
       "    <tr>\n",
       "      <th>0</th>\n",
       "      <td>dez. de 2012</td>\n",
       "      <td>0.000</td>\n",
       "      <td>0.000</td>\n",
       "      <td>R$ 0,00</td>\n",
       "      <td>R$ 0,00</td>\n",
       "    </tr>\n",
       "    <tr>\n",
       "      <th>1</th>\n",
       "      <td>jan. de 2013</td>\n",
       "      <td>0.000</td>\n",
       "      <td>0.000</td>\n",
       "      <td>R$ 0,00</td>\n",
       "      <td>R$ 0,00</td>\n",
       "    </tr>\n",
       "    <tr>\n",
       "      <th>2</th>\n",
       "      <td>fev. de 2013</td>\n",
       "      <td>0.000</td>\n",
       "      <td>0.000</td>\n",
       "      <td>R$ 0,00</td>\n",
       "      <td>R$ 0,00</td>\n",
       "    </tr>\n",
       "    <tr>\n",
       "      <th>3</th>\n",
       "      <td>mar. de 2013</td>\n",
       "      <td>0.000</td>\n",
       "      <td>0.000</td>\n",
       "      <td>R$ 0,00</td>\n",
       "      <td>R$ 0,00</td>\n",
       "    </tr>\n",
       "    <tr>\n",
       "      <th>4</th>\n",
       "      <td>abr. de 2013</td>\n",
       "      <td>0.000</td>\n",
       "      <td>0.000</td>\n",
       "      <td>R$ 0,00</td>\n",
       "      <td>R$ 0,00</td>\n",
       "    </tr>\n",
       "    <tr>\n",
       "      <th>...</th>\n",
       "      <td>...</td>\n",
       "      <td>...</td>\n",
       "      <td>...</td>\n",
       "      <td>...</td>\n",
       "      <td>...</td>\n",
       "    </tr>\n",
       "    <tr>\n",
       "      <th>107</th>\n",
       "      <td>nov. de 2021</td>\n",
       "      <td>1.182</td>\n",
       "      <td>26.051</td>\n",
       "      <td>R$ 1,21</td>\n",
       "      <td>R$ 1.429,82</td>\n",
       "    </tr>\n",
       "    <tr>\n",
       "      <th>108</th>\n",
       "      <td>dez. de 2021</td>\n",
       "      <td>1.186</td>\n",
       "      <td>20.531</td>\n",
       "      <td>R$ 1,25</td>\n",
       "      <td>R$ 1.483,94</td>\n",
       "    </tr>\n",
       "    <tr>\n",
       "      <th>109</th>\n",
       "      <td>jan. de 2022</td>\n",
       "      <td>1.114</td>\n",
       "      <td>22.327</td>\n",
       "      <td>R$ 1,23</td>\n",
       "      <td>R$ 1.364,89</td>\n",
       "    </tr>\n",
       "    <tr>\n",
       "      <th>110</th>\n",
       "      <td>fev. de 2022</td>\n",
       "      <td>1.044</td>\n",
       "      <td>19.966</td>\n",
       "      <td>R$ 1,23</td>\n",
       "      <td>R$ 1.283,63</td>\n",
       "    </tr>\n",
       "    <tr>\n",
       "      <th>111</th>\n",
       "      <td>mar. de 2022</td>\n",
       "      <td>594.000</td>\n",
       "      <td>11.209</td>\n",
       "      <td>R$ 1,31</td>\n",
       "      <td>R$ 779,56</td>\n",
       "    </tr>\n",
       "  </tbody>\n",
       "</table>\n",
       "<p>112 rows × 5 columns</p>\n",
       "</div>"
      ],
      "text/plain": [
       "              Mês  Cliques  Impressões CPC médio        Custo\n",
       "0    dez. de 2012    0.000       0.000   R$ 0,00      R$ 0,00\n",
       "1    jan. de 2013    0.000       0.000   R$ 0,00      R$ 0,00\n",
       "2    fev. de 2013    0.000       0.000   R$ 0,00      R$ 0,00\n",
       "3    mar. de 2013    0.000       0.000   R$ 0,00      R$ 0,00\n",
       "4    abr. de 2013    0.000       0.000   R$ 0,00      R$ 0,00\n",
       "..            ...      ...         ...       ...          ...\n",
       "107  nov. de 2021    1.182      26.051   R$ 1,21  R$ 1.429,82\n",
       "108  dez. de 2021    1.186      20.531   R$ 1,25  R$ 1.483,94\n",
       "109  jan. de 2022    1.114      22.327   R$ 1,23  R$ 1.364,89\n",
       "110  fev. de 2022    1.044      19.966   R$ 1,23  R$ 1.283,63\n",
       "111  mar. de 2022  594.000      11.209   R$ 1,31    R$ 779,56\n",
       "\n",
       "[112 rows x 5 columns]"
      ]
     },
     "execution_count": 5,
     "metadata": {},
     "output_type": "execute_result"
    }
   ],
   "source": [
    "df"
   ]
  },
  {
   "cell_type": "code",
   "execution_count": 6,
   "id": "dc15ea02",
   "metadata": {},
   "outputs": [
    {
     "name": "stdout",
     "output_type": "stream",
     "text": [
      "[['dez'], ['jan'], ['fev'], ['mar'], ['abr'], [], ['jun'], ['jul'], ['ago'], ['set'], ['out'], ['nov'], ['dez'], ['jan'], ['fev'], ['mar'], ['abr'], [], ['jun'], ['jul'], ['ago'], ['set'], ['out'], ['nov'], ['dez'], ['jan'], ['fev'], ['mar'], ['abr'], [], ['jun'], ['jul'], ['ago'], ['set'], ['out'], ['nov'], ['dez'], ['jan'], ['fev'], ['mar'], ['abr'], [], ['jun'], ['jul'], ['ago'], ['set'], ['out'], ['nov'], ['dez'], ['jan'], ['fev'], ['mar'], ['abr'], [], ['jun'], ['jul'], ['ago'], ['set'], ['out'], ['nov'], ['dez'], ['jan'], ['fev'], ['mar'], ['abr'], [], ['jun'], ['jul'], ['ago'], ['set'], ['out'], ['nov'], ['dez'], ['jan'], ['fev'], ['mar'], ['abr'], [], ['jun'], ['jul'], ['ago'], ['set'], ['out'], ['nov'], ['dez'], ['jan'], ['fev'], ['mar'], ['abr'], [], ['jun'], ['jul'], ['ago'], ['set'], ['out'], ['nov'], ['dez'], ['jan'], ['fev'], ['mar'], ['abr'], [], ['jun'], ['jul'], ['ago'], ['set'], ['out'], ['nov'], ['dez'], ['jan'], ['fev'], ['mar']]\n"
     ]
    }
   ],
   "source": [
    "#usando regex para pegar somente o mês da data que vem do aquivo do google\n",
    "import datetime\n",
    "import re\n",
    "pattern = \"r'\\b\\[harry\\]\\b'\"\n",
    "result = []\n",
    "for i in df['Mês']:\n",
    "    result.append(re.findall(r'(?:Jan|Fev|Mar|Abr|Jun|Jul|Ago|Set|Out|Nov|Dez)[a-z]*',i,flags=re.IGNORECASE))\n",
    "df['mes'] = result\n",
    "print(result)"
   ]
  },
  {
   "cell_type": "code",
   "execution_count": 7,
   "id": "68136045",
   "metadata": {},
   "outputs": [
    {
     "name": "stdout",
     "output_type": "stream",
     "text": [
      "[['2012'], ['2013'], ['2013'], ['2013'], ['2013'], ['2013'], ['2013'], ['2013'], ['2013'], ['2013'], ['2013'], ['2013'], ['2013'], ['2014'], ['2014'], ['2014'], ['2014'], ['2014'], ['2014'], ['2014'], ['2014'], ['2014'], ['2014'], ['2014'], ['2014'], ['2015'], ['2015'], ['2015'], ['2015'], ['2015'], ['2015'], ['2015'], ['2015'], ['2015'], ['2015'], ['2015'], ['2015'], ['2016'], ['2016'], ['2016'], ['2016'], ['2016'], ['2016'], ['2016'], ['2016'], ['2016'], ['2016'], ['2016'], ['2016'], ['2017'], ['2017'], ['2017'], ['2017'], ['2017'], ['2017'], ['2017'], ['2017'], ['2017'], ['2017'], ['2017'], ['2017'], ['2018'], ['2018'], ['2018'], ['2018'], ['2018'], ['2018'], ['2018'], ['2018'], ['2018'], ['2018'], ['2018'], ['2018'], ['2019'], ['2019'], ['2019'], ['2019'], ['2019'], ['2019'], ['2019'], ['2019'], ['2019'], ['2019'], ['2019'], ['2019'], ['2020'], ['2020'], ['2020'], ['2020'], ['2020'], ['2020'], ['2020'], ['2020'], ['2020'], ['2020'], ['2020'], ['2020'], ['2021'], ['2021'], ['2021'], ['2021'], ['2021'], ['2021'], ['2021'], ['2021'], ['2021'], ['2021'], ['2021'], ['2021'], ['2022'], ['2022'], ['2022']]\n"
     ]
    }
   ],
   "source": [
    "#usando regex para pegar somente o ANO da data que vem do aquivo do google\n",
    "import re\n",
    "result_ano = []\n",
    "for i in df['Mês']:\n",
    "    result_ano.append(re.findall(r'(\\d{4})',i,flags=re.IGNORECASE))\n",
    "df['ano'] = result_ano\n",
    "print(result_ano)"
   ]
  },
  {
   "cell_type": "code",
   "execution_count": 8,
   "id": "4b98f0ba",
   "metadata": {},
   "outputs": [
    {
     "data": {
      "text/html": [
       "<div>\n",
       "<style scoped>\n",
       "    .dataframe tbody tr th:only-of-type {\n",
       "        vertical-align: middle;\n",
       "    }\n",
       "\n",
       "    .dataframe tbody tr th {\n",
       "        vertical-align: top;\n",
       "    }\n",
       "\n",
       "    .dataframe thead th {\n",
       "        text-align: right;\n",
       "    }\n",
       "</style>\n",
       "<table border=\"1\" class=\"dataframe\">\n",
       "  <thead>\n",
       "    <tr style=\"text-align: right;\">\n",
       "      <th></th>\n",
       "      <th>Mês</th>\n",
       "      <th>Cliques</th>\n",
       "      <th>Impressões</th>\n",
       "      <th>CPC médio</th>\n",
       "      <th>Custo</th>\n",
       "      <th>mes</th>\n",
       "      <th>ano</th>\n",
       "    </tr>\n",
       "  </thead>\n",
       "  <tbody>\n",
       "    <tr>\n",
       "      <th>0</th>\n",
       "      <td>dez. de 2012</td>\n",
       "      <td>0.000</td>\n",
       "      <td>0.000</td>\n",
       "      <td>R$ 0,00</td>\n",
       "      <td>R$ 0,00</td>\n",
       "      <td>dez</td>\n",
       "      <td>2012</td>\n",
       "    </tr>\n",
       "    <tr>\n",
       "      <th>1</th>\n",
       "      <td>jan. de 2013</td>\n",
       "      <td>0.000</td>\n",
       "      <td>0.000</td>\n",
       "      <td>R$ 0,00</td>\n",
       "      <td>R$ 0,00</td>\n",
       "      <td>jan</td>\n",
       "      <td>2013</td>\n",
       "    </tr>\n",
       "    <tr>\n",
       "      <th>2</th>\n",
       "      <td>fev. de 2013</td>\n",
       "      <td>0.000</td>\n",
       "      <td>0.000</td>\n",
       "      <td>R$ 0,00</td>\n",
       "      <td>R$ 0,00</td>\n",
       "      <td>fev</td>\n",
       "      <td>2013</td>\n",
       "    </tr>\n",
       "    <tr>\n",
       "      <th>3</th>\n",
       "      <td>mar. de 2013</td>\n",
       "      <td>0.000</td>\n",
       "      <td>0.000</td>\n",
       "      <td>R$ 0,00</td>\n",
       "      <td>R$ 0,00</td>\n",
       "      <td>mar</td>\n",
       "      <td>2013</td>\n",
       "    </tr>\n",
       "    <tr>\n",
       "      <th>4</th>\n",
       "      <td>abr. de 2013</td>\n",
       "      <td>0.000</td>\n",
       "      <td>0.000</td>\n",
       "      <td>R$ 0,00</td>\n",
       "      <td>R$ 0,00</td>\n",
       "      <td>abr</td>\n",
       "      <td>2013</td>\n",
       "    </tr>\n",
       "    <tr>\n",
       "      <th>...</th>\n",
       "      <td>...</td>\n",
       "      <td>...</td>\n",
       "      <td>...</td>\n",
       "      <td>...</td>\n",
       "      <td>...</td>\n",
       "      <td>...</td>\n",
       "      <td>...</td>\n",
       "    </tr>\n",
       "    <tr>\n",
       "      <th>107</th>\n",
       "      <td>nov. de 2021</td>\n",
       "      <td>1.182</td>\n",
       "      <td>26.051</td>\n",
       "      <td>R$ 1,21</td>\n",
       "      <td>R$ 1.429,82</td>\n",
       "      <td>nov</td>\n",
       "      <td>2021</td>\n",
       "    </tr>\n",
       "    <tr>\n",
       "      <th>108</th>\n",
       "      <td>dez. de 2021</td>\n",
       "      <td>1.186</td>\n",
       "      <td>20.531</td>\n",
       "      <td>R$ 1,25</td>\n",
       "      <td>R$ 1.483,94</td>\n",
       "      <td>dez</td>\n",
       "      <td>2021</td>\n",
       "    </tr>\n",
       "    <tr>\n",
       "      <th>109</th>\n",
       "      <td>jan. de 2022</td>\n",
       "      <td>1.114</td>\n",
       "      <td>22.327</td>\n",
       "      <td>R$ 1,23</td>\n",
       "      <td>R$ 1.364,89</td>\n",
       "      <td>jan</td>\n",
       "      <td>2022</td>\n",
       "    </tr>\n",
       "    <tr>\n",
       "      <th>110</th>\n",
       "      <td>fev. de 2022</td>\n",
       "      <td>1.044</td>\n",
       "      <td>19.966</td>\n",
       "      <td>R$ 1,23</td>\n",
       "      <td>R$ 1.283,63</td>\n",
       "      <td>fev</td>\n",
       "      <td>2022</td>\n",
       "    </tr>\n",
       "    <tr>\n",
       "      <th>111</th>\n",
       "      <td>mar. de 2022</td>\n",
       "      <td>594.000</td>\n",
       "      <td>11.209</td>\n",
       "      <td>R$ 1,31</td>\n",
       "      <td>R$ 779,56</td>\n",
       "      <td>mar</td>\n",
       "      <td>2022</td>\n",
       "    </tr>\n",
       "  </tbody>\n",
       "</table>\n",
       "<p>112 rows × 7 columns</p>\n",
       "</div>"
      ],
      "text/plain": [
       "              Mês  Cliques  Impressões CPC médio        Custo  mes   ano\n",
       "0    dez. de 2012    0.000       0.000   R$ 0,00      R$ 0,00  dez  2012\n",
       "1    jan. de 2013    0.000       0.000   R$ 0,00      R$ 0,00  jan  2013\n",
       "2    fev. de 2013    0.000       0.000   R$ 0,00      R$ 0,00  fev  2013\n",
       "3    mar. de 2013    0.000       0.000   R$ 0,00      R$ 0,00  mar  2013\n",
       "4    abr. de 2013    0.000       0.000   R$ 0,00      R$ 0,00  abr  2013\n",
       "..            ...      ...         ...       ...          ...  ...   ...\n",
       "107  nov. de 2021    1.182      26.051   R$ 1,21  R$ 1.429,82  nov  2021\n",
       "108  dez. de 2021    1.186      20.531   R$ 1,25  R$ 1.483,94  dez  2021\n",
       "109  jan. de 2022    1.114      22.327   R$ 1,23  R$ 1.364,89  jan  2022\n",
       "110  fev. de 2022    1.044      19.966   R$ 1,23  R$ 1.283,63  fev  2022\n",
       "111  mar. de 2022  594.000      11.209   R$ 1,31    R$ 779,56  mar  2022\n",
       "\n",
       "[112 rows x 7 columns]"
      ]
     },
     "execution_count": 8,
     "metadata": {},
     "output_type": "execute_result"
    }
   ],
   "source": [
    "#removendo os squares\n",
    "df['mes'] = df['mes'].str.get(0)\n",
    "df['ano'] = df['ano'].str.get(0)\n",
    "df"
   ]
  },
  {
   "cell_type": "code",
   "execution_count": 9,
   "id": "65bdeca5",
   "metadata": {},
   "outputs": [
    {
     "data": {
      "text/html": [
       "<div>\n",
       "<style scoped>\n",
       "    .dataframe tbody tr th:only-of-type {\n",
       "        vertical-align: middle;\n",
       "    }\n",
       "\n",
       "    .dataframe tbody tr th {\n",
       "        vertical-align: top;\n",
       "    }\n",
       "\n",
       "    .dataframe thead th {\n",
       "        text-align: right;\n",
       "    }\n",
       "</style>\n",
       "<table border=\"1\" class=\"dataframe\">\n",
       "  <thead>\n",
       "    <tr style=\"text-align: right;\">\n",
       "      <th></th>\n",
       "      <th>Cliques</th>\n",
       "      <th>mes</th>\n",
       "      <th>ano</th>\n",
       "    </tr>\n",
       "  </thead>\n",
       "  <tbody>\n",
       "    <tr>\n",
       "      <th>0</th>\n",
       "      <td>0.000</td>\n",
       "      <td>dez</td>\n",
       "      <td>2012</td>\n",
       "    </tr>\n",
       "    <tr>\n",
       "      <th>1</th>\n",
       "      <td>0.000</td>\n",
       "      <td>jan</td>\n",
       "      <td>2013</td>\n",
       "    </tr>\n",
       "    <tr>\n",
       "      <th>2</th>\n",
       "      <td>0.000</td>\n",
       "      <td>fev</td>\n",
       "      <td>2013</td>\n",
       "    </tr>\n",
       "    <tr>\n",
       "      <th>3</th>\n",
       "      <td>0.000</td>\n",
       "      <td>mar</td>\n",
       "      <td>2013</td>\n",
       "    </tr>\n",
       "    <tr>\n",
       "      <th>4</th>\n",
       "      <td>0.000</td>\n",
       "      <td>abr</td>\n",
       "      <td>2013</td>\n",
       "    </tr>\n",
       "    <tr>\n",
       "      <th>...</th>\n",
       "      <td>...</td>\n",
       "      <td>...</td>\n",
       "      <td>...</td>\n",
       "    </tr>\n",
       "    <tr>\n",
       "      <th>107</th>\n",
       "      <td>1.182</td>\n",
       "      <td>nov</td>\n",
       "      <td>2021</td>\n",
       "    </tr>\n",
       "    <tr>\n",
       "      <th>108</th>\n",
       "      <td>1.186</td>\n",
       "      <td>dez</td>\n",
       "      <td>2021</td>\n",
       "    </tr>\n",
       "    <tr>\n",
       "      <th>109</th>\n",
       "      <td>1.114</td>\n",
       "      <td>jan</td>\n",
       "      <td>2022</td>\n",
       "    </tr>\n",
       "    <tr>\n",
       "      <th>110</th>\n",
       "      <td>1.044</td>\n",
       "      <td>fev</td>\n",
       "      <td>2022</td>\n",
       "    </tr>\n",
       "    <tr>\n",
       "      <th>111</th>\n",
       "      <td>594.000</td>\n",
       "      <td>mar</td>\n",
       "      <td>2022</td>\n",
       "    </tr>\n",
       "  </tbody>\n",
       "</table>\n",
       "<p>112 rows × 3 columns</p>\n",
       "</div>"
      ],
      "text/plain": [
       "     Cliques  mes   ano\n",
       "0      0.000  dez  2012\n",
       "1      0.000  jan  2013\n",
       "2      0.000  fev  2013\n",
       "3      0.000  mar  2013\n",
       "4      0.000  abr  2013\n",
       "..       ...  ...   ...\n",
       "107    1.182  nov  2021\n",
       "108    1.186  dez  2021\n",
       "109    1.114  jan  2022\n",
       "110    1.044  fev  2022\n",
       "111  594.000  mar  2022\n",
       "\n",
       "[112 rows x 3 columns]"
      ]
     },
     "execution_count": 9,
     "metadata": {},
     "output_type": "execute_result"
    }
   ],
   "source": [
    "#limpando tabelas não importantes\n",
    "df.drop('Mês', axis=1, inplace=True)\n",
    "df.drop('Impressões', axis=1, inplace=True)\n",
    "df.drop('CPC médio', axis=1, inplace=True)\n",
    "df.drop('Custo', axis=1, inplace=True)\n",
    "\n",
    "df"
   ]
  },
  {
   "cell_type": "code",
   "execution_count": 10,
   "id": "0457b50d",
   "metadata": {},
   "outputs": [
    {
     "name": "stdout",
     "output_type": "stream",
     "text": [
      "<class 'pandas.core.frame.DataFrame'>\n",
      "RangeIndex: 112 entries, 0 to 111\n",
      "Data columns (total 3 columns):\n",
      " #   Column   Non-Null Count  Dtype  \n",
      "---  ------   --------------  -----  \n",
      " 0   Cliques  112 non-null    float64\n",
      " 1   mes      103 non-null    object \n",
      " 2   ano      112 non-null    int64  \n",
      "dtypes: float64(1), int64(1), object(1)\n",
      "memory usage: 2.8+ KB\n"
     ]
    }
   ],
   "source": [
    "#convertendo coluna de ano para int para conseguir filtrar \n",
    "df['ano'] = df['ano'].astype(str).astype(int)\n",
    "df.info()"
   ]
  },
  {
   "cell_type": "code",
   "execution_count": 11,
   "id": "d01030dc",
   "metadata": {},
   "outputs": [
    {
     "data": {
      "text/html": [
       "<div>\n",
       "<style scoped>\n",
       "    .dataframe tbody tr th:only-of-type {\n",
       "        vertical-align: middle;\n",
       "    }\n",
       "\n",
       "    .dataframe tbody tr th {\n",
       "        vertical-align: top;\n",
       "    }\n",
       "\n",
       "    .dataframe thead th {\n",
       "        text-align: right;\n",
       "    }\n",
       "</style>\n",
       "<table border=\"1\" class=\"dataframe\">\n",
       "  <thead>\n",
       "    <tr style=\"text-align: right;\">\n",
       "      <th></th>\n",
       "      <th>Cliques</th>\n",
       "      <th>mes</th>\n",
       "      <th>ano</th>\n",
       "    </tr>\n",
       "  </thead>\n",
       "  <tbody>\n",
       "    <tr>\n",
       "      <th>51</th>\n",
       "      <td>186.000</td>\n",
       "      <td>mar</td>\n",
       "      <td>2017</td>\n",
       "    </tr>\n",
       "    <tr>\n",
       "      <th>52</th>\n",
       "      <td>212.000</td>\n",
       "      <td>abr</td>\n",
       "      <td>2017</td>\n",
       "    </tr>\n",
       "    <tr>\n",
       "      <th>53</th>\n",
       "      <td>262.000</td>\n",
       "      <td>NaN</td>\n",
       "      <td>2017</td>\n",
       "    </tr>\n",
       "    <tr>\n",
       "      <th>54</th>\n",
       "      <td>332.000</td>\n",
       "      <td>jun</td>\n",
       "      <td>2017</td>\n",
       "    </tr>\n",
       "    <tr>\n",
       "      <th>55</th>\n",
       "      <td>224.000</td>\n",
       "      <td>jul</td>\n",
       "      <td>2017</td>\n",
       "    </tr>\n",
       "    <tr>\n",
       "      <th>...</th>\n",
       "      <td>...</td>\n",
       "      <td>...</td>\n",
       "      <td>...</td>\n",
       "    </tr>\n",
       "    <tr>\n",
       "      <th>107</th>\n",
       "      <td>1.182</td>\n",
       "      <td>nov</td>\n",
       "      <td>2021</td>\n",
       "    </tr>\n",
       "    <tr>\n",
       "      <th>108</th>\n",
       "      <td>1.186</td>\n",
       "      <td>dez</td>\n",
       "      <td>2021</td>\n",
       "    </tr>\n",
       "    <tr>\n",
       "      <th>109</th>\n",
       "      <td>1.114</td>\n",
       "      <td>jan</td>\n",
       "      <td>2022</td>\n",
       "    </tr>\n",
       "    <tr>\n",
       "      <th>110</th>\n",
       "      <td>1.044</td>\n",
       "      <td>fev</td>\n",
       "      <td>2022</td>\n",
       "    </tr>\n",
       "    <tr>\n",
       "      <th>111</th>\n",
       "      <td>594.000</td>\n",
       "      <td>mar</td>\n",
       "      <td>2022</td>\n",
       "    </tr>\n",
       "  </tbody>\n",
       "</table>\n",
       "<p>61 rows × 3 columns</p>\n",
       "</div>"
      ],
      "text/plain": [
       "     Cliques  mes   ano\n",
       "51   186.000  mar  2017\n",
       "52   212.000  abr  2017\n",
       "53   262.000  NaN  2017\n",
       "54   332.000  jun  2017\n",
       "55   224.000  jul  2017\n",
       "..       ...  ...   ...\n",
       "107    1.182  nov  2021\n",
       "108    1.186  dez  2021\n",
       "109    1.114  jan  2022\n",
       "110    1.044  fev  2022\n",
       "111  594.000  mar  2022\n",
       "\n",
       "[61 rows x 3 columns]"
      ]
     },
     "execution_count": 11,
     "metadata": {},
     "output_type": "execute_result"
    }
   ],
   "source": [
    "df = df.drop(df[df.Cliques < 1].index)\n",
    "df"
   ]
  },
  {
   "cell_type": "code",
   "execution_count": 12,
   "id": "346aea28",
   "metadata": {},
   "outputs": [
    {
     "data": {
      "text/html": [
       "<div>\n",
       "<style scoped>\n",
       "    .dataframe tbody tr th:only-of-type {\n",
       "        vertical-align: middle;\n",
       "    }\n",
       "\n",
       "    .dataframe tbody tr th {\n",
       "        vertical-align: top;\n",
       "    }\n",
       "\n",
       "    .dataframe thead th {\n",
       "        text-align: right;\n",
       "    }\n",
       "</style>\n",
       "<table border=\"1\" class=\"dataframe\">\n",
       "  <thead>\n",
       "    <tr style=\"text-align: right;\">\n",
       "      <th></th>\n",
       "      <th>Cliques</th>\n",
       "      <th>mes</th>\n",
       "      <th>ano</th>\n",
       "    </tr>\n",
       "  </thead>\n",
       "  <tbody>\n",
       "    <tr>\n",
       "      <th>109</th>\n",
       "      <td>1.114</td>\n",
       "      <td>jan</td>\n",
       "      <td>2022</td>\n",
       "    </tr>\n",
       "    <tr>\n",
       "      <th>110</th>\n",
       "      <td>1.044</td>\n",
       "      <td>fev</td>\n",
       "      <td>2022</td>\n",
       "    </tr>\n",
       "    <tr>\n",
       "      <th>111</th>\n",
       "      <td>594.000</td>\n",
       "      <td>mar</td>\n",
       "      <td>2022</td>\n",
       "    </tr>\n",
       "  </tbody>\n",
       "</table>\n",
       "</div>"
      ],
      "text/plain": [
       "     Cliques  mes   ano\n",
       "109    1.114  jan  2022\n",
       "110    1.044  fev  2022\n",
       "111  594.000  mar  2022"
      ]
     },
     "execution_count": 12,
     "metadata": {},
     "output_type": "execute_result"
    }
   ],
   "source": [
    "df = df.drop(df[df.ano < 2022].index)\n",
    "df"
   ]
  },
  {
   "cell_type": "code",
   "execution_count": 13,
   "id": "3bae1207",
   "metadata": {},
   "outputs": [
    {
     "data": {
      "text/html": [
       "<div>\n",
       "<style scoped>\n",
       "    .dataframe tbody tr th:only-of-type {\n",
       "        vertical-align: middle;\n",
       "    }\n",
       "\n",
       "    .dataframe tbody tr th {\n",
       "        vertical-align: top;\n",
       "    }\n",
       "\n",
       "    .dataframe thead th {\n",
       "        text-align: right;\n",
       "    }\n",
       "</style>\n",
       "<table border=\"1\" class=\"dataframe\">\n",
       "  <thead>\n",
       "    <tr style=\"text-align: right;\">\n",
       "      <th></th>\n",
       "      <th>Cliques</th>\n",
       "      <th>mes</th>\n",
       "    </tr>\n",
       "  </thead>\n",
       "  <tbody>\n",
       "    <tr>\n",
       "      <th>109</th>\n",
       "      <td>1.114</td>\n",
       "      <td>jan</td>\n",
       "    </tr>\n",
       "    <tr>\n",
       "      <th>110</th>\n",
       "      <td>1.044</td>\n",
       "      <td>fev</td>\n",
       "    </tr>\n",
       "    <tr>\n",
       "      <th>111</th>\n",
       "      <td>594.000</td>\n",
       "      <td>mar</td>\n",
       "    </tr>\n",
       "  </tbody>\n",
       "</table>\n",
       "</div>"
      ],
      "text/plain": [
       "     Cliques  mes\n",
       "109    1.114  jan\n",
       "110    1.044  fev\n",
       "111  594.000  mar"
      ]
     },
     "execution_count": 13,
     "metadata": {},
     "output_type": "execute_result"
    }
   ],
   "source": [
    "#Apagando coluna ano por ser o mesmo valor sempre\n",
    "df.drop('ano', axis=1, inplace=True)\n",
    "df"
   ]
  },
  {
   "cell_type": "code",
   "execution_count": 14,
   "id": "2f82a674",
   "metadata": {},
   "outputs": [
    {
     "data": {
      "text/html": [
       "<div>\n",
       "<style scoped>\n",
       "    .dataframe tbody tr th:only-of-type {\n",
       "        vertical-align: middle;\n",
       "    }\n",
       "\n",
       "    .dataframe tbody tr th {\n",
       "        vertical-align: top;\n",
       "    }\n",
       "\n",
       "    .dataframe thead th {\n",
       "        text-align: right;\n",
       "    }\n",
       "</style>\n",
       "<table border=\"1\" class=\"dataframe\">\n",
       "  <thead>\n",
       "    <tr style=\"text-align: right;\">\n",
       "      <th></th>\n",
       "      <th>Total</th>\n",
       "      <th>month</th>\n",
       "    </tr>\n",
       "  </thead>\n",
       "  <tbody>\n",
       "    <tr>\n",
       "      <th>109</th>\n",
       "      <td>1.114</td>\n",
       "      <td>jan</td>\n",
       "    </tr>\n",
       "    <tr>\n",
       "      <th>110</th>\n",
       "      <td>1.044</td>\n",
       "      <td>fev</td>\n",
       "    </tr>\n",
       "    <tr>\n",
       "      <th>111</th>\n",
       "      <td>594.000</td>\n",
       "      <td>mar</td>\n",
       "    </tr>\n",
       "  </tbody>\n",
       "</table>\n",
       "</div>"
      ],
      "text/plain": [
       "       Total month\n",
       "109    1.114   jan\n",
       "110    1.044   fev\n",
       "111  594.000   mar"
      ]
     },
     "execution_count": 14,
     "metadata": {},
     "output_type": "execute_result"
    }
   ],
   "source": [
    "df = df.rename(columns={\"Cliques\":\"Total\", \"mes\":\"month\"})\n",
    "df"
   ]
  },
  {
   "cell_type": "code",
   "execution_count": 15,
   "id": "d3f6c8fd",
   "metadata": {},
   "outputs": [
    {
     "data": {
      "text/html": [
       "<div>\n",
       "<style scoped>\n",
       "    .dataframe tbody tr th:only-of-type {\n",
       "        vertical-align: middle;\n",
       "    }\n",
       "\n",
       "    .dataframe tbody tr th {\n",
       "        vertical-align: top;\n",
       "    }\n",
       "\n",
       "    .dataframe thead th {\n",
       "        text-align: right;\n",
       "    }\n",
       "</style>\n",
       "<table border=\"1\" class=\"dataframe\">\n",
       "  <thead>\n",
       "    <tr style=\"text-align: right;\">\n",
       "      <th></th>\n",
       "      <th>month</th>\n",
       "      <th>Total</th>\n",
       "    </tr>\n",
       "  </thead>\n",
       "  <tbody>\n",
       "    <tr>\n",
       "      <th>109</th>\n",
       "      <td>jan</td>\n",
       "      <td>1.114</td>\n",
       "    </tr>\n",
       "    <tr>\n",
       "      <th>110</th>\n",
       "      <td>fev</td>\n",
       "      <td>1.044</td>\n",
       "    </tr>\n",
       "    <tr>\n",
       "      <th>111</th>\n",
       "      <td>mar</td>\n",
       "      <td>594.000</td>\n",
       "    </tr>\n",
       "  </tbody>\n",
       "</table>\n",
       "</div>"
      ],
      "text/plain": [
       "    month    Total\n",
       "109   jan    1.114\n",
       "110   fev    1.044\n",
       "111   mar  594.000"
      ]
     },
     "execution_count": 15,
     "metadata": {},
     "output_type": "execute_result"
    }
   ],
   "source": [
    "df = df[['month', 'Total']]\n",
    "df.head()"
   ]
  },
  {
   "cell_type": "code",
   "execution_count": 16,
   "id": "29cc0eb0",
   "metadata": {},
   "outputs": [
    {
     "data": {
      "text/html": [
       "<div>\n",
       "<style scoped>\n",
       "    .dataframe tbody tr th:only-of-type {\n",
       "        vertical-align: middle;\n",
       "    }\n",
       "\n",
       "    .dataframe tbody tr th {\n",
       "        vertical-align: top;\n",
       "    }\n",
       "\n",
       "    .dataframe thead th {\n",
       "        text-align: right;\n",
       "    }\n",
       "</style>\n",
       "<table border=\"1\" class=\"dataframe\">\n",
       "  <thead>\n",
       "    <tr style=\"text-align: right;\">\n",
       "      <th></th>\n",
       "      <th>month</th>\n",
       "      <th>Total</th>\n",
       "    </tr>\n",
       "  </thead>\n",
       "  <tbody>\n",
       "    <tr>\n",
       "      <th>109</th>\n",
       "      <td>jan</td>\n",
       "      <td>1.114</td>\n",
       "    </tr>\n",
       "    <tr>\n",
       "      <th>110</th>\n",
       "      <td>fev</td>\n",
       "      <td>1.044</td>\n",
       "    </tr>\n",
       "    <tr>\n",
       "      <th>111</th>\n",
       "      <td>mar</td>\n",
       "      <td>594.000</td>\n",
       "    </tr>\n",
       "  </tbody>\n",
       "</table>\n",
       "</div>"
      ],
      "text/plain": [
       "    month    Total\n",
       "109   jan    1.114\n",
       "110   fev    1.044\n",
       "111   mar  594.000"
      ]
     },
     "execution_count": 16,
     "metadata": {},
     "output_type": "execute_result"
    }
   ],
   "source": [
    "df"
   ]
  },
  {
   "cell_type": "code",
   "execution_count": 17,
   "id": "0bf29cd7",
   "metadata": {},
   "outputs": [],
   "source": [
    "# df.to_csv(\"df_google_cliques_mes.csv\")"
   ]
  },
  {
   "cell_type": "markdown",
   "id": "f1a5f549",
   "metadata": {},
   "source": [
    "# Carregando e preparando arquivo HubSpot - Negócios Gerais em 2022"
   ]
  },
  {
   "cell_type": "code",
   "execution_count": 18,
   "id": "df3892e7",
   "metadata": {},
   "outputs": [
    {
     "data": {
      "text/html": [
       "<div>\n",
       "<style scoped>\n",
       "    .dataframe tbody tr th:only-of-type {\n",
       "        vertical-align: middle;\n",
       "    }\n",
       "\n",
       "    .dataframe tbody tr th {\n",
       "        vertical-align: top;\n",
       "    }\n",
       "\n",
       "    .dataframe thead th {\n",
       "        text-align: right;\n",
       "    }\n",
       "</style>\n",
       "<table border=\"1\" class=\"dataframe\">\n",
       "  <thead>\n",
       "    <tr style=\"text-align: right;\">\n",
       "      <th></th>\n",
       "      <th>Deal ID</th>\n",
       "      <th>Nome do negócio</th>\n",
       "      <th>Associated Contact</th>\n",
       "      <th>Associated Company</th>\n",
       "      <th>Último contato</th>\n",
       "      <th>Etapa do negócio</th>\n",
       "      <th>Data de fechamento</th>\n",
       "      <th>Proprietário do negócio</th>\n",
       "      <th>Valor</th>\n",
       "      <th>Data de criação</th>\n",
       "      <th>...</th>\n",
       "      <th>Motivo de fechamento perdido</th>\n",
       "      <th>Número de contatos associados</th>\n",
       "      <th>Número de atividades de vendas</th>\n",
       "      <th>Número de contatos efetuados</th>\n",
       "      <th>Origem do último agendamento na ferramenta de reuniões</th>\n",
       "      <th>Receita anual recorrente</th>\n",
       "      <th>Receita recorrente mensal</th>\n",
       "      <th>Tipo de negócio</th>\n",
       "      <th>Associated Contact IDs</th>\n",
       "      <th>Associated Company IDs</th>\n",
       "    </tr>\n",
       "  </thead>\n",
       "  <tbody>\n",
       "    <tr>\n",
       "      <th>0</th>\n",
       "      <td>8301562123</td>\n",
       "      <td>APP VISTORIA</td>\n",
       "      <td>NaN</td>\n",
       "      <td>Top Suites</td>\n",
       "      <td>NaN</td>\n",
       "      <td>Primeiro Contato</td>\n",
       "      <td>2022-03-31 11:11</td>\n",
       "      <td>Beatriz Zago</td>\n",
       "      <td>NaN</td>\n",
       "      <td>2022-03-21 11:11</td>\n",
       "      <td>...</td>\n",
       "      <td>NaN</td>\n",
       "      <td>0.0</td>\n",
       "      <td>NaN</td>\n",
       "      <td>NaN</td>\n",
       "      <td>NaN</td>\n",
       "      <td>NaN</td>\n",
       "      <td>NaN</td>\n",
       "      <td>NaN</td>\n",
       "      <td>NaN</td>\n",
       "      <td>8.275191e+09</td>\n",
       "    </tr>\n",
       "    <tr>\n",
       "      <th>1</th>\n",
       "      <td>8301472855</td>\n",
       "      <td>APP VISTORIA</td>\n",
       "      <td>Simone</td>\n",
       "      <td>Avancar Negocios Imobiliarios</td>\n",
       "      <td>2022-03-21 10:48</td>\n",
       "      <td>Primeiro Contato</td>\n",
       "      <td>2022-03-31 10:48</td>\n",
       "      <td>Beatriz Zago</td>\n",
       "      <td>NaN</td>\n",
       "      <td>2022-03-21 10:48</td>\n",
       "      <td>...</td>\n",
       "      <td>NaN</td>\n",
       "      <td>1.0</td>\n",
       "      <td>1.0</td>\n",
       "      <td>1.0</td>\n",
       "      <td>NaN</td>\n",
       "      <td>NaN</td>\n",
       "      <td>NaN</td>\n",
       "      <td>NaN</td>\n",
       "      <td>243651</td>\n",
       "      <td>8.275124e+09</td>\n",
       "    </tr>\n",
       "    <tr>\n",
       "      <th>2</th>\n",
       "      <td>8301393735</td>\n",
       "      <td>APP VISTORIA</td>\n",
       "      <td>NaN</td>\n",
       "      <td>Nogueira Corretores</td>\n",
       "      <td>2022-03-21 10:35</td>\n",
       "      <td>Primeiro Contato</td>\n",
       "      <td>2022-03-31 10:34</td>\n",
       "      <td>Beatriz Zago</td>\n",
       "      <td>NaN</td>\n",
       "      <td>2022-03-21 10:34</td>\n",
       "      <td>...</td>\n",
       "      <td>NaN</td>\n",
       "      <td>0.0</td>\n",
       "      <td>1.0</td>\n",
       "      <td>1.0</td>\n",
       "      <td>NaN</td>\n",
       "      <td>NaN</td>\n",
       "      <td>NaN</td>\n",
       "      <td>NaN</td>\n",
       "      <td>NaN</td>\n",
       "      <td>8.273818e+09</td>\n",
       "    </tr>\n",
       "    <tr>\n",
       "      <th>3</th>\n",
       "      <td>8301327722</td>\n",
       "      <td>APP VISTORIA</td>\n",
       "      <td>Demaria (classeape@claseaimoveispe.com.br)</td>\n",
       "      <td>Classe A Imóveis</td>\n",
       "      <td>2022-03-21 10:22</td>\n",
       "      <td>Primeiro Contato</td>\n",
       "      <td>2022-03-31 10:21</td>\n",
       "      <td>Beatriz Zago</td>\n",
       "      <td>NaN</td>\n",
       "      <td>2022-03-21 10:21</td>\n",
       "      <td>...</td>\n",
       "      <td>NaN</td>\n",
       "      <td>1.0</td>\n",
       "      <td>2.0</td>\n",
       "      <td>1.0</td>\n",
       "      <td>NaN</td>\n",
       "      <td>NaN</td>\n",
       "      <td>NaN</td>\n",
       "      <td>NaN</td>\n",
       "      <td>243601</td>\n",
       "      <td>8.273724e+09</td>\n",
       "    </tr>\n",
       "    <tr>\n",
       "      <th>4</th>\n",
       "      <td>8301259522</td>\n",
       "      <td>APP VISTORIA</td>\n",
       "      <td>Diacuy</td>\n",
       "      <td>JB Imóveis</td>\n",
       "      <td>2022-03-21 10:13</td>\n",
       "      <td>Primeiro Contato</td>\n",
       "      <td>2022-03-31 10:09</td>\n",
       "      <td>Beatriz Zago</td>\n",
       "      <td>NaN</td>\n",
       "      <td>2022-03-21 10:09</td>\n",
       "      <td>...</td>\n",
       "      <td>NaN</td>\n",
       "      <td>1.0</td>\n",
       "      <td>1.0</td>\n",
       "      <td>1.0</td>\n",
       "      <td>NaN</td>\n",
       "      <td>NaN</td>\n",
       "      <td>NaN</td>\n",
       "      <td>NaN</td>\n",
       "      <td>243551</td>\n",
       "      <td>8.273723e+09</td>\n",
       "    </tr>\n",
       "  </tbody>\n",
       "</table>\n",
       "<p>5 rows × 23 columns</p>\n",
       "</div>"
      ],
      "text/plain": [
       "      Deal ID Nome do negócio                          Associated Contact  \\\n",
       "0  8301562123    APP VISTORIA                                         NaN   \n",
       "1  8301472855    APP VISTORIA                                      Simone   \n",
       "2  8301393735    APP VISTORIA                                         NaN   \n",
       "3  8301327722    APP VISTORIA  Demaria (classeape@claseaimoveispe.com.br)   \n",
       "4  8301259522    APP VISTORIA                                      Diacuy   \n",
       "\n",
       "              Associated Company    Último contato  Etapa do negócio  \\\n",
       "0                     Top Suites               NaN  Primeiro Contato   \n",
       "1  Avancar Negocios Imobiliarios  2022-03-21 10:48  Primeiro Contato   \n",
       "2            Nogueira Corretores  2022-03-21 10:35  Primeiro Contato   \n",
       "3               Classe A Imóveis  2022-03-21 10:22  Primeiro Contato   \n",
       "4                     JB Imóveis  2022-03-21 10:13  Primeiro Contato   \n",
       "\n",
       "  Data de fechamento Proprietário do negócio  Valor   Data de criação  ...  \\\n",
       "0   2022-03-31 11:11            Beatriz Zago    NaN  2022-03-21 11:11  ...   \n",
       "1   2022-03-31 10:48            Beatriz Zago    NaN  2022-03-21 10:48  ...   \n",
       "2   2022-03-31 10:34            Beatriz Zago    NaN  2022-03-21 10:34  ...   \n",
       "3   2022-03-31 10:21            Beatriz Zago    NaN  2022-03-21 10:21  ...   \n",
       "4   2022-03-31 10:09            Beatriz Zago    NaN  2022-03-21 10:09  ...   \n",
       "\n",
       "  Motivo de fechamento perdido Número de contatos associados  \\\n",
       "0                          NaN                           0.0   \n",
       "1                          NaN                           1.0   \n",
       "2                          NaN                           0.0   \n",
       "3                          NaN                           1.0   \n",
       "4                          NaN                           1.0   \n",
       "\n",
       "   Número de atividades de vendas  Número de contatos efetuados  \\\n",
       "0                             NaN                           NaN   \n",
       "1                             1.0                           1.0   \n",
       "2                             1.0                           1.0   \n",
       "3                             2.0                           1.0   \n",
       "4                             1.0                           1.0   \n",
       "\n",
       "   Origem do último agendamento na ferramenta de reuniões  \\\n",
       "0                                                NaN        \n",
       "1                                                NaN        \n",
       "2                                                NaN        \n",
       "3                                                NaN        \n",
       "4                                                NaN        \n",
       "\n",
       "   Receita anual recorrente  Receita recorrente mensal  Tipo de negócio  \\\n",
       "0                       NaN                        NaN              NaN   \n",
       "1                       NaN                        NaN              NaN   \n",
       "2                       NaN                        NaN              NaN   \n",
       "3                       NaN                        NaN              NaN   \n",
       "4                       NaN                        NaN              NaN   \n",
       "\n",
       "   Associated Contact IDs  Associated Company IDs  \n",
       "0                     NaN            8.275191e+09  \n",
       "1                  243651            8.275124e+09  \n",
       "2                     NaN            8.273818e+09  \n",
       "3                  243601            8.273724e+09  \n",
       "4                  243551            8.273723e+09  \n",
       "\n",
       "[5 rows x 23 columns]"
      ]
     },
     "execution_count": 18,
     "metadata": {},
     "output_type": "execute_result"
    }
   ],
   "source": [
    "# Carregando e preparmydateparser = lambda x: pd.datetime.strptime(x, \"%d/%m/%Y %H:%M:%S\")\n",
    "dfh = pd.read_csv(\"../datasets/hubspot-2022.csv\", sep=',')\n",
    "dfh.head()"
   ]
  },
  {
   "cell_type": "code",
   "execution_count": 19,
   "id": "826c3336",
   "metadata": {},
   "outputs": [
    {
     "data": {
      "text/html": [
       "<div>\n",
       "<style scoped>\n",
       "    .dataframe tbody tr th:only-of-type {\n",
       "        vertical-align: middle;\n",
       "    }\n",
       "\n",
       "    .dataframe tbody tr th {\n",
       "        vertical-align: top;\n",
       "    }\n",
       "\n",
       "    .dataframe thead th {\n",
       "        text-align: right;\n",
       "    }\n",
       "</style>\n",
       "<table border=\"1\" class=\"dataframe\">\n",
       "  <thead>\n",
       "    <tr style=\"text-align: right;\">\n",
       "      <th></th>\n",
       "      <th>Associated Company</th>\n",
       "      <th>Data de criação</th>\n",
       "      <th>Proprietário do negócio</th>\n",
       "      <th>Etapa do negócio</th>\n",
       "      <th>Nome do negócio</th>\n",
       "    </tr>\n",
       "  </thead>\n",
       "  <tbody>\n",
       "    <tr>\n",
       "      <th>0</th>\n",
       "      <td>Top Suites</td>\n",
       "      <td>2022-03-21 11:11</td>\n",
       "      <td>Beatriz Zago</td>\n",
       "      <td>Primeiro Contato</td>\n",
       "      <td>APP VISTORIA</td>\n",
       "    </tr>\n",
       "    <tr>\n",
       "      <th>1</th>\n",
       "      <td>Avancar Negocios Imobiliarios</td>\n",
       "      <td>2022-03-21 10:48</td>\n",
       "      <td>Beatriz Zago</td>\n",
       "      <td>Primeiro Contato</td>\n",
       "      <td>APP VISTORIA</td>\n",
       "    </tr>\n",
       "    <tr>\n",
       "      <th>2</th>\n",
       "      <td>Nogueira Corretores</td>\n",
       "      <td>2022-03-21 10:34</td>\n",
       "      <td>Beatriz Zago</td>\n",
       "      <td>Primeiro Contato</td>\n",
       "      <td>APP VISTORIA</td>\n",
       "    </tr>\n",
       "    <tr>\n",
       "      <th>3</th>\n",
       "      <td>Classe A Imóveis</td>\n",
       "      <td>2022-03-21 10:21</td>\n",
       "      <td>Beatriz Zago</td>\n",
       "      <td>Primeiro Contato</td>\n",
       "      <td>APP VISTORIA</td>\n",
       "    </tr>\n",
       "    <tr>\n",
       "      <th>4</th>\n",
       "      <td>JB Imóveis</td>\n",
       "      <td>2022-03-21 10:09</td>\n",
       "      <td>Beatriz Zago</td>\n",
       "      <td>Primeiro Contato</td>\n",
       "      <td>APP VISTORIA</td>\n",
       "    </tr>\n",
       "    <tr>\n",
       "      <th>...</th>\n",
       "      <td>...</td>\n",
       "      <td>...</td>\n",
       "      <td>...</td>\n",
       "      <td>...</td>\n",
       "      <td>...</td>\n",
       "    </tr>\n",
       "    <tr>\n",
       "      <th>682</th>\n",
       "      <td>NaN</td>\n",
       "      <td>2022-01-03 13:44</td>\n",
       "      <td>Rafaela Comercial</td>\n",
       "      <td>Testando</td>\n",
       "      <td>APP VISTORIA</td>\n",
       "    </tr>\n",
       "    <tr>\n",
       "      <th>683</th>\n",
       "      <td>NaN</td>\n",
       "      <td>2022-01-03 13:35</td>\n",
       "      <td>Rafaela Comercial</td>\n",
       "      <td>Testando</td>\n",
       "      <td>APP VISTORIA</td>\n",
       "    </tr>\n",
       "    <tr>\n",
       "      <th>684</th>\n",
       "      <td>NaN</td>\n",
       "      <td>2022-01-03 13:31</td>\n",
       "      <td>Rafaela Comercial</td>\n",
       "      <td>Testando</td>\n",
       "      <td>FAST4SIGN</td>\n",
       "    </tr>\n",
       "    <tr>\n",
       "      <th>685</th>\n",
       "      <td>NaN</td>\n",
       "      <td>2022-01-03 11:53</td>\n",
       "      <td>Rafaela Comercial</td>\n",
       "      <td>Testando</td>\n",
       "      <td>APP VISTORIA</td>\n",
       "    </tr>\n",
       "    <tr>\n",
       "      <th>686</th>\n",
       "      <td>NaN</td>\n",
       "      <td>2022-01-03 06:50</td>\n",
       "      <td>Rafaela Comercial</td>\n",
       "      <td>Closed Won</td>\n",
       "      <td>FAST4SIGN</td>\n",
       "    </tr>\n",
       "  </tbody>\n",
       "</table>\n",
       "<p>687 rows × 5 columns</p>\n",
       "</div>"
      ],
      "text/plain": [
       "                Associated Company   Data de criação Proprietário do negócio  \\\n",
       "0                       Top Suites  2022-03-21 11:11            Beatriz Zago   \n",
       "1    Avancar Negocios Imobiliarios  2022-03-21 10:48            Beatriz Zago   \n",
       "2              Nogueira Corretores  2022-03-21 10:34            Beatriz Zago   \n",
       "3                 Classe A Imóveis  2022-03-21 10:21            Beatriz Zago   \n",
       "4                       JB Imóveis  2022-03-21 10:09            Beatriz Zago   \n",
       "..                             ...               ...                     ...   \n",
       "682                            NaN  2022-01-03 13:44       Rafaela Comercial   \n",
       "683                            NaN  2022-01-03 13:35       Rafaela Comercial   \n",
       "684                            NaN  2022-01-03 13:31       Rafaela Comercial   \n",
       "685                            NaN  2022-01-03 11:53       Rafaela Comercial   \n",
       "686                            NaN  2022-01-03 06:50       Rafaela Comercial   \n",
       "\n",
       "     Etapa do negócio Nome do negócio  \n",
       "0    Primeiro Contato    APP VISTORIA  \n",
       "1    Primeiro Contato    APP VISTORIA  \n",
       "2    Primeiro Contato    APP VISTORIA  \n",
       "3    Primeiro Contato    APP VISTORIA  \n",
       "4    Primeiro Contato    APP VISTORIA  \n",
       "..                ...             ...  \n",
       "682          Testando    APP VISTORIA  \n",
       "683          Testando    APP VISTORIA  \n",
       "684          Testando       FAST4SIGN  \n",
       "685          Testando    APP VISTORIA  \n",
       "686        Closed Won       FAST4SIGN  \n",
       "\n",
       "[687 rows x 5 columns]"
      ]
     },
     "execution_count": 19,
     "metadata": {},
     "output_type": "execute_result"
    }
   ],
   "source": [
    "#selecionando somente as colunas mais importantes\n",
    "dfh = dfh[['Associated Company','Data de criação','Proprietário do negócio','Etapa do negócio', 'Nome do negócio']]\n",
    "dfh"
   ]
  },
  {
   "cell_type": "code",
   "execution_count": 20,
   "id": "ae97e80b",
   "metadata": {},
   "outputs": [],
   "source": [
    "dfh['Data de criação'] = pd.to_datetime(dfh['Data de criação'])"
   ]
  },
  {
   "cell_type": "code",
   "execution_count": 21,
   "id": "c373530c",
   "metadata": {},
   "outputs": [
    {
     "name": "stdout",
     "output_type": "stream",
     "text": [
      "<class 'pandas.core.frame.DataFrame'>\n",
      "RangeIndex: 687 entries, 0 to 686\n",
      "Data columns (total 5 columns):\n",
      " #   Column                   Non-Null Count  Dtype         \n",
      "---  ------                   --------------  -----         \n",
      " 0   Associated Company       320 non-null    object        \n",
      " 1   Data de criação          687 non-null    datetime64[ns]\n",
      " 2   Proprietário do negócio  687 non-null    object        \n",
      " 3   Etapa do negócio         687 non-null    object        \n",
      " 4   Nome do negócio          687 non-null    object        \n",
      "dtypes: datetime64[ns](1), object(4)\n",
      "memory usage: 27.0+ KB\n"
     ]
    }
   ],
   "source": [
    "dfh.info()"
   ]
  },
  {
   "cell_type": "code",
   "execution_count": 22,
   "id": "05024321",
   "metadata": {},
   "outputs": [
    {
     "data": {
      "text/html": [
       "<div>\n",
       "<style scoped>\n",
       "    .dataframe tbody tr th:only-of-type {\n",
       "        vertical-align: middle;\n",
       "    }\n",
       "\n",
       "    .dataframe tbody tr th {\n",
       "        vertical-align: top;\n",
       "    }\n",
       "\n",
       "    .dataframe thead th {\n",
       "        text-align: right;\n",
       "    }\n",
       "</style>\n",
       "<table border=\"1\" class=\"dataframe\">\n",
       "  <thead>\n",
       "    <tr style=\"text-align: right;\">\n",
       "      <th></th>\n",
       "      <th>Associated Company</th>\n",
       "      <th>Data de criação</th>\n",
       "      <th>Proprietário do negócio</th>\n",
       "      <th>Etapa do negócio</th>\n",
       "      <th>Nome do negócio</th>\n",
       "      <th>mes</th>\n",
       "    </tr>\n",
       "  </thead>\n",
       "  <tbody>\n",
       "    <tr>\n",
       "      <th>0</th>\n",
       "      <td>Top Suites</td>\n",
       "      <td>2022-03-21 11:11:00</td>\n",
       "      <td>Beatriz Zago</td>\n",
       "      <td>Primeiro Contato</td>\n",
       "      <td>APP VISTORIA</td>\n",
       "      <td>3</td>\n",
       "    </tr>\n",
       "    <tr>\n",
       "      <th>1</th>\n",
       "      <td>Avancar Negocios Imobiliarios</td>\n",
       "      <td>2022-03-21 10:48:00</td>\n",
       "      <td>Beatriz Zago</td>\n",
       "      <td>Primeiro Contato</td>\n",
       "      <td>APP VISTORIA</td>\n",
       "      <td>3</td>\n",
       "    </tr>\n",
       "    <tr>\n",
       "      <th>2</th>\n",
       "      <td>Nogueira Corretores</td>\n",
       "      <td>2022-03-21 10:34:00</td>\n",
       "      <td>Beatriz Zago</td>\n",
       "      <td>Primeiro Contato</td>\n",
       "      <td>APP VISTORIA</td>\n",
       "      <td>3</td>\n",
       "    </tr>\n",
       "    <tr>\n",
       "      <th>3</th>\n",
       "      <td>Classe A Imóveis</td>\n",
       "      <td>2022-03-21 10:21:00</td>\n",
       "      <td>Beatriz Zago</td>\n",
       "      <td>Primeiro Contato</td>\n",
       "      <td>APP VISTORIA</td>\n",
       "      <td>3</td>\n",
       "    </tr>\n",
       "    <tr>\n",
       "      <th>4</th>\n",
       "      <td>JB Imóveis</td>\n",
       "      <td>2022-03-21 10:09:00</td>\n",
       "      <td>Beatriz Zago</td>\n",
       "      <td>Primeiro Contato</td>\n",
       "      <td>APP VISTORIA</td>\n",
       "      <td>3</td>\n",
       "    </tr>\n",
       "    <tr>\n",
       "      <th>...</th>\n",
       "      <td>...</td>\n",
       "      <td>...</td>\n",
       "      <td>...</td>\n",
       "      <td>...</td>\n",
       "      <td>...</td>\n",
       "      <td>...</td>\n",
       "    </tr>\n",
       "    <tr>\n",
       "      <th>682</th>\n",
       "      <td>NaN</td>\n",
       "      <td>2022-01-03 13:44:00</td>\n",
       "      <td>Rafaela Comercial</td>\n",
       "      <td>Testando</td>\n",
       "      <td>APP VISTORIA</td>\n",
       "      <td>1</td>\n",
       "    </tr>\n",
       "    <tr>\n",
       "      <th>683</th>\n",
       "      <td>NaN</td>\n",
       "      <td>2022-01-03 13:35:00</td>\n",
       "      <td>Rafaela Comercial</td>\n",
       "      <td>Testando</td>\n",
       "      <td>APP VISTORIA</td>\n",
       "      <td>1</td>\n",
       "    </tr>\n",
       "    <tr>\n",
       "      <th>684</th>\n",
       "      <td>NaN</td>\n",
       "      <td>2022-01-03 13:31:00</td>\n",
       "      <td>Rafaela Comercial</td>\n",
       "      <td>Testando</td>\n",
       "      <td>FAST4SIGN</td>\n",
       "      <td>1</td>\n",
       "    </tr>\n",
       "    <tr>\n",
       "      <th>685</th>\n",
       "      <td>NaN</td>\n",
       "      <td>2022-01-03 11:53:00</td>\n",
       "      <td>Rafaela Comercial</td>\n",
       "      <td>Testando</td>\n",
       "      <td>APP VISTORIA</td>\n",
       "      <td>1</td>\n",
       "    </tr>\n",
       "    <tr>\n",
       "      <th>686</th>\n",
       "      <td>NaN</td>\n",
       "      <td>2022-01-03 06:50:00</td>\n",
       "      <td>Rafaela Comercial</td>\n",
       "      <td>Closed Won</td>\n",
       "      <td>FAST4SIGN</td>\n",
       "      <td>1</td>\n",
       "    </tr>\n",
       "  </tbody>\n",
       "</table>\n",
       "<p>687 rows × 6 columns</p>\n",
       "</div>"
      ],
      "text/plain": [
       "                Associated Company     Data de criação  \\\n",
       "0                       Top Suites 2022-03-21 11:11:00   \n",
       "1    Avancar Negocios Imobiliarios 2022-03-21 10:48:00   \n",
       "2              Nogueira Corretores 2022-03-21 10:34:00   \n",
       "3                 Classe A Imóveis 2022-03-21 10:21:00   \n",
       "4                       JB Imóveis 2022-03-21 10:09:00   \n",
       "..                             ...                 ...   \n",
       "682                            NaN 2022-01-03 13:44:00   \n",
       "683                            NaN 2022-01-03 13:35:00   \n",
       "684                            NaN 2022-01-03 13:31:00   \n",
       "685                            NaN 2022-01-03 11:53:00   \n",
       "686                            NaN 2022-01-03 06:50:00   \n",
       "\n",
       "    Proprietário do negócio  Etapa do negócio Nome do negócio  mes  \n",
       "0              Beatriz Zago  Primeiro Contato    APP VISTORIA    3  \n",
       "1              Beatriz Zago  Primeiro Contato    APP VISTORIA    3  \n",
       "2              Beatriz Zago  Primeiro Contato    APP VISTORIA    3  \n",
       "3              Beatriz Zago  Primeiro Contato    APP VISTORIA    3  \n",
       "4              Beatriz Zago  Primeiro Contato    APP VISTORIA    3  \n",
       "..                      ...               ...             ...  ...  \n",
       "682       Rafaela Comercial          Testando    APP VISTORIA    1  \n",
       "683       Rafaela Comercial          Testando    APP VISTORIA    1  \n",
       "684       Rafaela Comercial          Testando       FAST4SIGN    1  \n",
       "685       Rafaela Comercial          Testando    APP VISTORIA    1  \n",
       "686       Rafaela Comercial        Closed Won       FAST4SIGN    1  \n",
       "\n",
       "[687 rows x 6 columns]"
      ]
     },
     "execution_count": 22,
     "metadata": {},
     "output_type": "execute_result"
    }
   ],
   "source": [
    "dfh['mes'] = pd.DatetimeIndex(dfh['Data de criação']).month\n",
    "dfh"
   ]
  },
  {
   "cell_type": "code",
   "execution_count": 23,
   "id": "a7c47701",
   "metadata": {},
   "outputs": [
    {
     "data": {
      "text/html": [
       "<div>\n",
       "<style scoped>\n",
       "    .dataframe tbody tr th:only-of-type {\n",
       "        vertical-align: middle;\n",
       "    }\n",
       "\n",
       "    .dataframe tbody tr th {\n",
       "        vertical-align: top;\n",
       "    }\n",
       "\n",
       "    .dataframe thead th {\n",
       "        text-align: right;\n",
       "    }\n",
       "</style>\n",
       "<table border=\"1\" class=\"dataframe\">\n",
       "  <thead>\n",
       "    <tr style=\"text-align: right;\">\n",
       "      <th></th>\n",
       "      <th>mes</th>\n",
       "      <th>Total</th>\n",
       "    </tr>\n",
       "  </thead>\n",
       "  <tbody>\n",
       "    <tr>\n",
       "      <th>0</th>\n",
       "      <td>1</td>\n",
       "      <td>176</td>\n",
       "    </tr>\n",
       "    <tr>\n",
       "      <th>1</th>\n",
       "      <td>2</td>\n",
       "      <td>262</td>\n",
       "    </tr>\n",
       "    <tr>\n",
       "      <th>2</th>\n",
       "      <td>3</td>\n",
       "      <td>249</td>\n",
       "    </tr>\n",
       "  </tbody>\n",
       "</table>\n",
       "</div>"
      ],
      "text/plain": [
       "   mes  Total\n",
       "0    1    176\n",
       "1    2    262\n",
       "2    3    249"
      ]
     },
     "execution_count": 23,
     "metadata": {},
     "output_type": "execute_result"
    }
   ],
   "source": [
    "#Agrupando os atendimentos de todas as vendedoras por mês\n",
    "dfh_gr = dfh.groupby(['mes']).size().reset_index(name='Total')\n",
    "dfh_gr"
   ]
  },
  {
   "cell_type": "code",
   "execution_count": 24,
   "id": "f9a6d7b3",
   "metadata": {},
   "outputs": [
    {
     "name": "stdout",
     "output_type": "stream",
     "text": [
      "['Jan', 'Feb', 'Mar']\n"
     ]
    }
   ],
   "source": [
    "import calendar\n",
    "result = []\n",
    "for i in dfh_gr['mes']:\n",
    "    result.append(calendar.month_abbr[i])\n",
    "dfh_gr['month'] = result\n",
    "print(result)"
   ]
  },
  {
   "cell_type": "code",
   "execution_count": 25,
   "id": "cbe6fb75",
   "metadata": {},
   "outputs": [],
   "source": [
    "#método para pegar valores missing\n",
    "def missing_zero_values_table(df):\n",
    "        zero_val = (df == 0.00).astype(int).sum(axis=0)\n",
    "        mis_val = df.isnull().sum()\n",
    "        mis_val_percent = 100 * df.isnull().sum() / len(df)\n",
    "        mz_table = pd.concat([zero_val, mis_val, mis_val_percent], axis=1)\n",
    "        mz_table = mz_table.rename(\n",
    "        columns = {0 : 'Zero Values', 1 : 'Missing Values', 2 : '% of Total Values'})\n",
    "        mz_table['Total Zero Missing Values'] = mz_table['Zero Values'] + mz_table['Missing Values']\n",
    "        mz_table['% Total Zero Missing Values'] = 100 * mz_table['Total Zero Missing Values'] / len(df)\n",
    "        mz_table['Data Type'] = df.dtypes\n",
    "        mz_table = mz_table[\n",
    "            mz_table.iloc[:,1] != 0].sort_values(\n",
    "        '% of Total Values', ascending=False).round(1)\n",
    "        print (\"Your selected dataframe has \" + str(df.shape[1]) + \" columns and \" + str(df.shape[0]) + \" Rows.\\n\"      \n",
    "            \"There are \" + str(mz_table.shape[0]) +\n",
    "              \" columns that have missing values.\")\n",
    "#         mz_table.to_excel('D:/sampledata/missing_and_zero_values.xlsx', freeze_panes=(1,0), index = False)\n",
    "        return mz_table"
   ]
  },
  {
   "cell_type": "code",
   "execution_count": 26,
   "id": "45dd9670",
   "metadata": {},
   "outputs": [
    {
     "name": "stdout",
     "output_type": "stream",
     "text": [
      "Your selected dataframe has 3 columns and 3 Rows.\n",
      "There are 0 columns that have missing values.\n"
     ]
    },
    {
     "data": {
      "text/html": [
       "<div>\n",
       "<style scoped>\n",
       "    .dataframe tbody tr th:only-of-type {\n",
       "        vertical-align: middle;\n",
       "    }\n",
       "\n",
       "    .dataframe tbody tr th {\n",
       "        vertical-align: top;\n",
       "    }\n",
       "\n",
       "    .dataframe thead th {\n",
       "        text-align: right;\n",
       "    }\n",
       "</style>\n",
       "<table border=\"1\" class=\"dataframe\">\n",
       "  <thead>\n",
       "    <tr style=\"text-align: right;\">\n",
       "      <th></th>\n",
       "      <th>Zero Values</th>\n",
       "      <th>Missing Values</th>\n",
       "      <th>% of Total Values</th>\n",
       "      <th>Total Zero Missing Values</th>\n",
       "      <th>% Total Zero Missing Values</th>\n",
       "      <th>Data Type</th>\n",
       "    </tr>\n",
       "  </thead>\n",
       "  <tbody>\n",
       "  </tbody>\n",
       "</table>\n",
       "</div>"
      ],
      "text/plain": [
       "Empty DataFrame\n",
       "Columns: [Zero Values, Missing Values, % of Total Values, Total Zero Missing Values, % Total Zero Missing Values, Data Type]\n",
       "Index: []"
      ]
     },
     "execution_count": 26,
     "metadata": {},
     "output_type": "execute_result"
    }
   ],
   "source": [
    "#verificando algum valor missing\n",
    "missing_zero_values_table(dfh_gr)"
   ]
  },
  {
   "cell_type": "code",
   "execution_count": 27,
   "id": "7d37c7de",
   "metadata": {},
   "outputs": [
    {
     "data": {
      "text/plain": [
       "(3, 3)"
      ]
     },
     "execution_count": 27,
     "metadata": {},
     "output_type": "execute_result"
    }
   ],
   "source": [
    "dfh_gr.shape"
   ]
  },
  {
   "cell_type": "code",
   "execution_count": 28,
   "id": "c26b7854",
   "metadata": {},
   "outputs": [
    {
     "data": {
      "text/html": [
       "<div>\n",
       "<style scoped>\n",
       "    .dataframe tbody tr th:only-of-type {\n",
       "        vertical-align: middle;\n",
       "    }\n",
       "\n",
       "    .dataframe tbody tr th {\n",
       "        vertical-align: top;\n",
       "    }\n",
       "\n",
       "    .dataframe thead th {\n",
       "        text-align: right;\n",
       "    }\n",
       "</style>\n",
       "<table border=\"1\" class=\"dataframe\">\n",
       "  <thead>\n",
       "    <tr style=\"text-align: right;\">\n",
       "      <th></th>\n",
       "      <th>mes</th>\n",
       "      <th>Total</th>\n",
       "      <th>month</th>\n",
       "    </tr>\n",
       "  </thead>\n",
       "  <tbody>\n",
       "    <tr>\n",
       "      <th>0</th>\n",
       "      <td>1</td>\n",
       "      <td>176</td>\n",
       "      <td>Jan</td>\n",
       "    </tr>\n",
       "    <tr>\n",
       "      <th>1</th>\n",
       "      <td>2</td>\n",
       "      <td>262</td>\n",
       "      <td>Feb</td>\n",
       "    </tr>\n",
       "    <tr>\n",
       "      <th>2</th>\n",
       "      <td>3</td>\n",
       "      <td>249</td>\n",
       "      <td>Mar</td>\n",
       "    </tr>\n",
       "  </tbody>\n",
       "</table>\n",
       "</div>"
      ],
      "text/plain": [
       "   mes  Total month\n",
       "0    1    176   Jan\n",
       "1    2    262   Feb\n",
       "2    3    249   Mar"
      ]
     },
     "execution_count": 28,
     "metadata": {},
     "output_type": "execute_result"
    }
   ],
   "source": [
    "dfh_gr"
   ]
  },
  {
   "cell_type": "code",
   "execution_count": 29,
   "id": "99aab334",
   "metadata": {},
   "outputs": [
    {
     "data": {
      "text/html": [
       "<div>\n",
       "<style scoped>\n",
       "    .dataframe tbody tr th:only-of-type {\n",
       "        vertical-align: middle;\n",
       "    }\n",
       "\n",
       "    .dataframe tbody tr th {\n",
       "        vertical-align: top;\n",
       "    }\n",
       "\n",
       "    .dataframe thead th {\n",
       "        text-align: right;\n",
       "    }\n",
       "</style>\n",
       "<table border=\"1\" class=\"dataframe\">\n",
       "  <thead>\n",
       "    <tr style=\"text-align: right;\">\n",
       "      <th></th>\n",
       "      <th>Total</th>\n",
       "      <th>month</th>\n",
       "    </tr>\n",
       "  </thead>\n",
       "  <tbody>\n",
       "    <tr>\n",
       "      <th>0</th>\n",
       "      <td>176</td>\n",
       "      <td>Jan</td>\n",
       "    </tr>\n",
       "    <tr>\n",
       "      <th>1</th>\n",
       "      <td>262</td>\n",
       "      <td>Feb</td>\n",
       "    </tr>\n",
       "    <tr>\n",
       "      <th>2</th>\n",
       "      <td>249</td>\n",
       "      <td>Mar</td>\n",
       "    </tr>\n",
       "  </tbody>\n",
       "</table>\n",
       "</div>"
      ],
      "text/plain": [
       "   Total month\n",
       "0    176   Jan\n",
       "1    262   Feb\n",
       "2    249   Mar"
      ]
     },
     "execution_count": 29,
     "metadata": {},
     "output_type": "execute_result"
    }
   ],
   "source": [
    "#limpando tabelas não importantes\n",
    "dfh_gr.drop('mes', axis=1, inplace=True)\n",
    "dfh_gr"
   ]
  },
  {
   "cell_type": "code",
   "execution_count": 30,
   "id": "891373aa",
   "metadata": {},
   "outputs": [
    {
     "data": {
      "text/html": [
       "<div>\n",
       "<style scoped>\n",
       "    .dataframe tbody tr th:only-of-type {\n",
       "        vertical-align: middle;\n",
       "    }\n",
       "\n",
       "    .dataframe tbody tr th {\n",
       "        vertical-align: top;\n",
       "    }\n",
       "\n",
       "    .dataframe thead th {\n",
       "        text-align: right;\n",
       "    }\n",
       "</style>\n",
       "<table border=\"1\" class=\"dataframe\">\n",
       "  <thead>\n",
       "    <tr style=\"text-align: right;\">\n",
       "      <th></th>\n",
       "      <th>month</th>\n",
       "      <th>Total</th>\n",
       "    </tr>\n",
       "  </thead>\n",
       "  <tbody>\n",
       "    <tr>\n",
       "      <th>0</th>\n",
       "      <td>Jan</td>\n",
       "      <td>176</td>\n",
       "    </tr>\n",
       "    <tr>\n",
       "      <th>1</th>\n",
       "      <td>Feb</td>\n",
       "      <td>262</td>\n",
       "    </tr>\n",
       "    <tr>\n",
       "      <th>2</th>\n",
       "      <td>Mar</td>\n",
       "      <td>249</td>\n",
       "    </tr>\n",
       "  </tbody>\n",
       "</table>\n",
       "</div>"
      ],
      "text/plain": [
       "  month  Total\n",
       "0   Jan    176\n",
       "1   Feb    262\n",
       "2   Mar    249"
      ]
     },
     "execution_count": 30,
     "metadata": {},
     "output_type": "execute_result"
    }
   ],
   "source": [
    "dfh_gr = dfh_gr[['month', 'Total']]\n",
    "dfh_gr.head()"
   ]
  },
  {
   "cell_type": "code",
   "execution_count": 31,
   "id": "540b09e7",
   "metadata": {},
   "outputs": [],
   "source": [
    "# dfh_gr.to_csv(\"hubspot_atendimentos_agrupado_mes_2022.csv\")"
   ]
  },
  {
   "cell_type": "markdown",
   "id": "59a35824",
   "metadata": {},
   "source": [
    "# Carregando e preparando arquivo Empresa - leads"
   ]
  },
  {
   "cell_type": "code",
   "execution_count": 32,
   "id": "b822cb06",
   "metadata": {},
   "outputs": [
    {
     "data": {
      "text/html": [
       "<div>\n",
       "<style scoped>\n",
       "    .dataframe tbody tr th:only-of-type {\n",
       "        vertical-align: middle;\n",
       "    }\n",
       "\n",
       "    .dataframe tbody tr th {\n",
       "        vertical-align: top;\n",
       "    }\n",
       "\n",
       "    .dataframe thead th {\n",
       "        text-align: right;\n",
       "    }\n",
       "</style>\n",
       "<table border=\"1\" class=\"dataframe\">\n",
       "  <thead>\n",
       "    <tr style=\"text-align: right;\">\n",
       "      <th></th>\n",
       "      <th>Nome</th>\n",
       "      <th>Email</th>\n",
       "      <th>Telefone</th>\n",
       "      <th>CPF/CNPJ</th>\n",
       "      <th>Data cadastro</th>\n",
       "      <th>Cidade</th>\n",
       "      <th>UF</th>\n",
       "      <th>Qtd vistoria</th>\n",
       "      <th>Qtd foto</th>\n",
       "      <th>Armazenamento</th>\n",
       "      <th>Situação</th>\n",
       "      <th>Data limite teste</th>\n",
       "      <th>Vencimento</th>\n",
       "      <th>Valor</th>\n",
       "      <th>Desconto</th>\n",
       "      <th>Valor vistoria adicional</th>\n",
       "      <th>Data compra</th>\n",
       "      <th>Data cancelamento</th>\n",
       "    </tr>\n",
       "  </thead>\n",
       "  <tbody>\n",
       "    <tr>\n",
       "      <th>0</th>\n",
       "      <td>07856446609</td>\n",
       "      <td>rod-queiroz@hotmail.com</td>\n",
       "      <td>(31) 99802-0349</td>\n",
       "      <td>078.564.466-09</td>\n",
       "      <td>21/12/2021</td>\n",
       "      <td>belo horizonte</td>\n",
       "      <td>MG</td>\n",
       "      <td>4</td>\n",
       "      <td>200</td>\n",
       "      <td>1</td>\n",
       "      <td>Gratuito</td>\n",
       "      <td>NaN</td>\n",
       "      <td>NaN</td>\n",
       "      <td>NaN</td>\n",
       "      <td>NaN</td>\n",
       "      <td>NaN</td>\n",
       "      <td>NaN</td>\n",
       "      <td>NaN</td>\n",
       "    </tr>\n",
       "    <tr>\n",
       "      <th>1</th>\n",
       "      <td>1 ponto imobiliario</td>\n",
       "      <td>NaN</td>\n",
       "      <td>(31) 999548491</td>\n",
       "      <td>17.149.156/0001-31</td>\n",
       "      <td>16/01/2021</td>\n",
       "      <td>Belo Horizonte</td>\n",
       "      <td>MG</td>\n",
       "      <td>20</td>\n",
       "      <td>999</td>\n",
       "      <td>1</td>\n",
       "      <td>Gratuito inativo</td>\n",
       "      <td>NaN</td>\n",
       "      <td>NaN</td>\n",
       "      <td>NaN</td>\n",
       "      <td>NaN</td>\n",
       "      <td>NaN</td>\n",
       "      <td>NaN</td>\n",
       "      <td>NaN</td>\n",
       "    </tr>\n",
       "    <tr>\n",
       "      <th>2</th>\n",
       "      <td>21 Soluções Imobiliárias</td>\n",
       "      <td>nilsoncardosoimoveis@gmail.com</td>\n",
       "      <td>(48) 99602-4343</td>\n",
       "      <td>34.162.884/0001-00</td>\n",
       "      <td>25/08/2021</td>\n",
       "      <td>Florianópolis</td>\n",
       "      <td>SC</td>\n",
       "      <td>4</td>\n",
       "      <td>200</td>\n",
       "      <td>1</td>\n",
       "      <td>Gratuito inativo</td>\n",
       "      <td>NaN</td>\n",
       "      <td>NaN</td>\n",
       "      <td>NaN</td>\n",
       "      <td>NaN</td>\n",
       "      <td>NaN</td>\n",
       "      <td>NaN</td>\n",
       "      <td>NaN</td>\n",
       "    </tr>\n",
       "    <tr>\n",
       "      <th>3</th>\n",
       "      <td>2F BRASIL CORRETORA DE SEGUROS E IMOVEIS LTDA.</td>\n",
       "      <td>NaN</td>\n",
       "      <td>(19) 999094009</td>\n",
       "      <td>20.453.418/0001-61</td>\n",
       "      <td>30/10/2019</td>\n",
       "      <td>SANTA BARBARA D'OESTE</td>\n",
       "      <td>SP</td>\n",
       "      <td>20</td>\n",
       "      <td>999</td>\n",
       "      <td>1</td>\n",
       "      <td>Gratuito inativo</td>\n",
       "      <td>NaN</td>\n",
       "      <td>NaN</td>\n",
       "      <td>NaN</td>\n",
       "      <td>NaN</td>\n",
       "      <td>NaN</td>\n",
       "      <td>NaN</td>\n",
       "      <td>NaN</td>\n",
       "    </tr>\n",
       "    <tr>\n",
       "      <th>4</th>\n",
       "      <td>2W MEIRA CORRETORA E EMPREENDIMENTOS IMÓBILIAR...</td>\n",
       "      <td>2wmeira@gmail.com</td>\n",
       "      <td>(66) 99929-5409</td>\n",
       "      <td>30.809.995/0001-05</td>\n",
       "      <td>05/02/2022</td>\n",
       "      <td>Sorriso</td>\n",
       "      <td>MT</td>\n",
       "      <td>30</td>\n",
       "      <td>999999</td>\n",
       "      <td>5</td>\n",
       "      <td>Ativa</td>\n",
       "      <td>NaN</td>\n",
       "      <td>8.0</td>\n",
       "      <td>159.0</td>\n",
       "      <td>NaN</td>\n",
       "      <td>3.5</td>\n",
       "      <td>08/02/2022</td>\n",
       "      <td>NaN</td>\n",
       "    </tr>\n",
       "  </tbody>\n",
       "</table>\n",
       "</div>"
      ],
      "text/plain": [
       "                                                Nome  \\\n",
       "0                                        07856446609   \n",
       "1                                1 ponto imobiliario   \n",
       "2                           21 Soluções Imobiliárias   \n",
       "3     2F BRASIL CORRETORA DE SEGUROS E IMOVEIS LTDA.   \n",
       "4  2W MEIRA CORRETORA E EMPREENDIMENTOS IMÓBILIAR...   \n",
       "\n",
       "                            Email         Telefone            CPF/CNPJ  \\\n",
       "0         rod-queiroz@hotmail.com  (31) 99802-0349      078.564.466-09   \n",
       "1                             NaN   (31) 999548491  17.149.156/0001-31   \n",
       "2  nilsoncardosoimoveis@gmail.com  (48) 99602-4343  34.162.884/0001-00   \n",
       "3                             NaN   (19) 999094009  20.453.418/0001-61   \n",
       "4               2wmeira@gmail.com  (66) 99929-5409  30.809.995/0001-05   \n",
       "\n",
       "  Data cadastro                 Cidade  UF  Qtd vistoria  Qtd foto  \\\n",
       "0    21/12/2021         belo horizonte  MG             4       200   \n",
       "1    16/01/2021         Belo Horizonte  MG            20       999   \n",
       "2    25/08/2021          Florianópolis  SC             4       200   \n",
       "3    30/10/2019  SANTA BARBARA D'OESTE  SP            20       999   \n",
       "4    05/02/2022                Sorriso  MT            30    999999   \n",
       "\n",
       "   Armazenamento          Situação Data limite teste  Vencimento  Valor  \\\n",
       "0              1          Gratuito               NaN         NaN    NaN   \n",
       "1              1  Gratuito inativo               NaN         NaN    NaN   \n",
       "2              1  Gratuito inativo               NaN         NaN    NaN   \n",
       "3              1  Gratuito inativo               NaN         NaN    NaN   \n",
       "4              5             Ativa               NaN         8.0  159.0   \n",
       "\n",
       "   Desconto  Valor vistoria adicional Data compra Data cancelamento  \n",
       "0       NaN                       NaN         NaN               NaN  \n",
       "1       NaN                       NaN         NaN               NaN  \n",
       "2       NaN                       NaN         NaN               NaN  \n",
       "3       NaN                       NaN         NaN               NaN  \n",
       "4       NaN                       3.5  08/02/2022               NaN  "
      ]
     },
     "execution_count": 32,
     "metadata": {},
     "output_type": "execute_result"
    }
   ],
   "source": [
    "df_emp = pd.read_csv(\"../datasets/empresas.csv\", sep=';')\n",
    "df_emp.head()"
   ]
  },
  {
   "cell_type": "code",
   "execution_count": 33,
   "id": "18759174",
   "metadata": {},
   "outputs": [
    {
     "data": {
      "text/html": [
       "<div>\n",
       "<style scoped>\n",
       "    .dataframe tbody tr th:only-of-type {\n",
       "        vertical-align: middle;\n",
       "    }\n",
       "\n",
       "    .dataframe tbody tr th {\n",
       "        vertical-align: top;\n",
       "    }\n",
       "\n",
       "    .dataframe thead th {\n",
       "        text-align: right;\n",
       "    }\n",
       "</style>\n",
       "<table border=\"1\" class=\"dataframe\">\n",
       "  <thead>\n",
       "    <tr style=\"text-align: right;\">\n",
       "      <th></th>\n",
       "      <th>Nome</th>\n",
       "      <th>Email</th>\n",
       "      <th>Telefone</th>\n",
       "      <th>CPF/CNPJ</th>\n",
       "      <th>Data cadastro</th>\n",
       "      <th>Cidade</th>\n",
       "      <th>UF</th>\n",
       "      <th>Qtd vistoria</th>\n",
       "      <th>Qtd foto</th>\n",
       "      <th>Armazenamento</th>\n",
       "      <th>Situação</th>\n",
       "      <th>Data limite teste</th>\n",
       "      <th>Vencimento</th>\n",
       "      <th>Valor</th>\n",
       "      <th>Desconto</th>\n",
       "      <th>Valor vistoria adicional</th>\n",
       "      <th>Data compra</th>\n",
       "      <th>Data cancelamento</th>\n",
       "    </tr>\n",
       "  </thead>\n",
       "  <tbody>\n",
       "    <tr>\n",
       "      <th>0</th>\n",
       "      <td>07856446609</td>\n",
       "      <td>rod-queiroz@hotmail.com</td>\n",
       "      <td>(31) 99802-0349</td>\n",
       "      <td>078.564.466-09</td>\n",
       "      <td>2021-12-21</td>\n",
       "      <td>belo horizonte</td>\n",
       "      <td>MG</td>\n",
       "      <td>4</td>\n",
       "      <td>200</td>\n",
       "      <td>1</td>\n",
       "      <td>Gratuito</td>\n",
       "      <td>NaN</td>\n",
       "      <td>NaN</td>\n",
       "      <td>NaN</td>\n",
       "      <td>NaN</td>\n",
       "      <td>NaN</td>\n",
       "      <td>NaT</td>\n",
       "      <td>NaT</td>\n",
       "    </tr>\n",
       "    <tr>\n",
       "      <th>1</th>\n",
       "      <td>1 ponto imobiliario</td>\n",
       "      <td>NaN</td>\n",
       "      <td>(31) 999548491</td>\n",
       "      <td>17.149.156/0001-31</td>\n",
       "      <td>2021-01-16</td>\n",
       "      <td>Belo Horizonte</td>\n",
       "      <td>MG</td>\n",
       "      <td>20</td>\n",
       "      <td>999</td>\n",
       "      <td>1</td>\n",
       "      <td>Gratuito inativo</td>\n",
       "      <td>NaN</td>\n",
       "      <td>NaN</td>\n",
       "      <td>NaN</td>\n",
       "      <td>NaN</td>\n",
       "      <td>NaN</td>\n",
       "      <td>NaT</td>\n",
       "      <td>NaT</td>\n",
       "    </tr>\n",
       "    <tr>\n",
       "      <th>2</th>\n",
       "      <td>21 Soluções Imobiliárias</td>\n",
       "      <td>nilsoncardosoimoveis@gmail.com</td>\n",
       "      <td>(48) 99602-4343</td>\n",
       "      <td>34.162.884/0001-00</td>\n",
       "      <td>2021-08-25</td>\n",
       "      <td>Florianópolis</td>\n",
       "      <td>SC</td>\n",
       "      <td>4</td>\n",
       "      <td>200</td>\n",
       "      <td>1</td>\n",
       "      <td>Gratuito inativo</td>\n",
       "      <td>NaN</td>\n",
       "      <td>NaN</td>\n",
       "      <td>NaN</td>\n",
       "      <td>NaN</td>\n",
       "      <td>NaN</td>\n",
       "      <td>NaT</td>\n",
       "      <td>NaT</td>\n",
       "    </tr>\n",
       "    <tr>\n",
       "      <th>3</th>\n",
       "      <td>2F BRASIL CORRETORA DE SEGUROS E IMOVEIS LTDA.</td>\n",
       "      <td>NaN</td>\n",
       "      <td>(19) 999094009</td>\n",
       "      <td>20.453.418/0001-61</td>\n",
       "      <td>2019-10-30</td>\n",
       "      <td>SANTA BARBARA D'OESTE</td>\n",
       "      <td>SP</td>\n",
       "      <td>20</td>\n",
       "      <td>999</td>\n",
       "      <td>1</td>\n",
       "      <td>Gratuito inativo</td>\n",
       "      <td>NaN</td>\n",
       "      <td>NaN</td>\n",
       "      <td>NaN</td>\n",
       "      <td>NaN</td>\n",
       "      <td>NaN</td>\n",
       "      <td>NaT</td>\n",
       "      <td>NaT</td>\n",
       "    </tr>\n",
       "    <tr>\n",
       "      <th>4</th>\n",
       "      <td>2W MEIRA CORRETORA E EMPREENDIMENTOS IMÓBILIAR...</td>\n",
       "      <td>2wmeira@gmail.com</td>\n",
       "      <td>(66) 99929-5409</td>\n",
       "      <td>30.809.995/0001-05</td>\n",
       "      <td>2022-02-05</td>\n",
       "      <td>Sorriso</td>\n",
       "      <td>MT</td>\n",
       "      <td>30</td>\n",
       "      <td>999999</td>\n",
       "      <td>5</td>\n",
       "      <td>Ativa</td>\n",
       "      <td>NaN</td>\n",
       "      <td>8.0</td>\n",
       "      <td>159.0</td>\n",
       "      <td>NaN</td>\n",
       "      <td>3.5</td>\n",
       "      <td>2022-02-08</td>\n",
       "      <td>NaT</td>\n",
       "    </tr>\n",
       "  </tbody>\n",
       "</table>\n",
       "</div>"
      ],
      "text/plain": [
       "                                                Nome  \\\n",
       "0                                        07856446609   \n",
       "1                                1 ponto imobiliario   \n",
       "2                           21 Soluções Imobiliárias   \n",
       "3     2F BRASIL CORRETORA DE SEGUROS E IMOVEIS LTDA.   \n",
       "4  2W MEIRA CORRETORA E EMPREENDIMENTOS IMÓBILIAR...   \n",
       "\n",
       "                            Email         Telefone            CPF/CNPJ  \\\n",
       "0         rod-queiroz@hotmail.com  (31) 99802-0349      078.564.466-09   \n",
       "1                             NaN   (31) 999548491  17.149.156/0001-31   \n",
       "2  nilsoncardosoimoveis@gmail.com  (48) 99602-4343  34.162.884/0001-00   \n",
       "3                             NaN   (19) 999094009  20.453.418/0001-61   \n",
       "4               2wmeira@gmail.com  (66) 99929-5409  30.809.995/0001-05   \n",
       "\n",
       "  Data cadastro                 Cidade  UF  Qtd vistoria  Qtd foto  \\\n",
       "0    2021-12-21         belo horizonte  MG             4       200   \n",
       "1    2021-01-16         Belo Horizonte  MG            20       999   \n",
       "2    2021-08-25          Florianópolis  SC             4       200   \n",
       "3    2019-10-30  SANTA BARBARA D'OESTE  SP            20       999   \n",
       "4    2022-02-05                Sorriso  MT            30    999999   \n",
       "\n",
       "   Armazenamento          Situação Data limite teste  Vencimento  Valor  \\\n",
       "0              1          Gratuito               NaN         NaN    NaN   \n",
       "1              1  Gratuito inativo               NaN         NaN    NaN   \n",
       "2              1  Gratuito inativo               NaN         NaN    NaN   \n",
       "3              1  Gratuito inativo               NaN         NaN    NaN   \n",
       "4              5             Ativa               NaN         8.0  159.0   \n",
       "\n",
       "   Desconto  Valor vistoria adicional Data compra Data cancelamento  \n",
       "0       NaN                       NaN         NaT               NaT  \n",
       "1       NaN                       NaN         NaT               NaT  \n",
       "2       NaN                       NaN         NaT               NaT  \n",
       "3       NaN                       NaN         NaT               NaT  \n",
       "4       NaN                       3.5  2022-02-08               NaT  "
      ]
     },
     "execution_count": 33,
     "metadata": {},
     "output_type": "execute_result"
    }
   ],
   "source": [
    "df_emp['Data compra'] = pd.to_datetime(df_emp['Data compra'], format='%d/%m/%Y')\n",
    "df_emp['Data cancelamento'] = pd.to_datetime(df_emp['Data cancelamento'], format='%d/%m/%Y')\n",
    "df_emp['Data cadastro'] = pd.to_datetime(df_emp['Data cadastro'], format='%d/%m/%Y')\n",
    "df_emp.head()"
   ]
  },
  {
   "cell_type": "code",
   "execution_count": 34,
   "id": "4081705e",
   "metadata": {},
   "outputs": [
    {
     "data": {
      "text/html": [
       "<div>\n",
       "<style scoped>\n",
       "    .dataframe tbody tr th:only-of-type {\n",
       "        vertical-align: middle;\n",
       "    }\n",
       "\n",
       "    .dataframe tbody tr th {\n",
       "        vertical-align: top;\n",
       "    }\n",
       "\n",
       "    .dataframe thead th {\n",
       "        text-align: right;\n",
       "    }\n",
       "</style>\n",
       "<table border=\"1\" class=\"dataframe\">\n",
       "  <thead>\n",
       "    <tr style=\"text-align: right;\">\n",
       "      <th></th>\n",
       "      <th>nome</th>\n",
       "      <th>email</th>\n",
       "      <th>telefone</th>\n",
       "      <th>CPF/CNPJ</th>\n",
       "      <th>dtcadastro</th>\n",
       "      <th>cidade</th>\n",
       "      <th>uf</th>\n",
       "      <th>qtdvistoria</th>\n",
       "      <th>qtdfoto</th>\n",
       "      <th>armazenamento</th>\n",
       "      <th>situacao</th>\n",
       "      <th>limiteteste</th>\n",
       "      <th>vencimento</th>\n",
       "      <th>valor</th>\n",
       "      <th>desconto</th>\n",
       "      <th>vistoriaadd</th>\n",
       "      <th>dtcompra</th>\n",
       "      <th>dtcancelamento</th>\n",
       "    </tr>\n",
       "  </thead>\n",
       "  <tbody>\n",
       "    <tr>\n",
       "      <th>0</th>\n",
       "      <td>07856446609</td>\n",
       "      <td>rod-queiroz@hotmail.com</td>\n",
       "      <td>(31) 99802-0349</td>\n",
       "      <td>078.564.466-09</td>\n",
       "      <td>2021-12-21</td>\n",
       "      <td>belo horizonte</td>\n",
       "      <td>MG</td>\n",
       "      <td>4</td>\n",
       "      <td>200</td>\n",
       "      <td>1</td>\n",
       "      <td>Gratuito</td>\n",
       "      <td>NaN</td>\n",
       "      <td>NaN</td>\n",
       "      <td>NaN</td>\n",
       "      <td>NaN</td>\n",
       "      <td>NaN</td>\n",
       "      <td>NaT</td>\n",
       "      <td>NaT</td>\n",
       "    </tr>\n",
       "    <tr>\n",
       "      <th>1</th>\n",
       "      <td>1 ponto imobiliario</td>\n",
       "      <td>NaN</td>\n",
       "      <td>(31) 999548491</td>\n",
       "      <td>17.149.156/0001-31</td>\n",
       "      <td>2021-01-16</td>\n",
       "      <td>Belo Horizonte</td>\n",
       "      <td>MG</td>\n",
       "      <td>20</td>\n",
       "      <td>999</td>\n",
       "      <td>1</td>\n",
       "      <td>Gratuito inativo</td>\n",
       "      <td>NaN</td>\n",
       "      <td>NaN</td>\n",
       "      <td>NaN</td>\n",
       "      <td>NaN</td>\n",
       "      <td>NaN</td>\n",
       "      <td>NaT</td>\n",
       "      <td>NaT</td>\n",
       "    </tr>\n",
       "    <tr>\n",
       "      <th>2</th>\n",
       "      <td>21 Soluções Imobiliárias</td>\n",
       "      <td>nilsoncardosoimoveis@gmail.com</td>\n",
       "      <td>(48) 99602-4343</td>\n",
       "      <td>34.162.884/0001-00</td>\n",
       "      <td>2021-08-25</td>\n",
       "      <td>Florianópolis</td>\n",
       "      <td>SC</td>\n",
       "      <td>4</td>\n",
       "      <td>200</td>\n",
       "      <td>1</td>\n",
       "      <td>Gratuito inativo</td>\n",
       "      <td>NaN</td>\n",
       "      <td>NaN</td>\n",
       "      <td>NaN</td>\n",
       "      <td>NaN</td>\n",
       "      <td>NaN</td>\n",
       "      <td>NaT</td>\n",
       "      <td>NaT</td>\n",
       "    </tr>\n",
       "    <tr>\n",
       "      <th>3</th>\n",
       "      <td>2F BRASIL CORRETORA DE SEGUROS E IMOVEIS LTDA.</td>\n",
       "      <td>NaN</td>\n",
       "      <td>(19) 999094009</td>\n",
       "      <td>20.453.418/0001-61</td>\n",
       "      <td>2019-10-30</td>\n",
       "      <td>SANTA BARBARA D'OESTE</td>\n",
       "      <td>SP</td>\n",
       "      <td>20</td>\n",
       "      <td>999</td>\n",
       "      <td>1</td>\n",
       "      <td>Gratuito inativo</td>\n",
       "      <td>NaN</td>\n",
       "      <td>NaN</td>\n",
       "      <td>NaN</td>\n",
       "      <td>NaN</td>\n",
       "      <td>NaN</td>\n",
       "      <td>NaT</td>\n",
       "      <td>NaT</td>\n",
       "    </tr>\n",
       "    <tr>\n",
       "      <th>4</th>\n",
       "      <td>2W MEIRA CORRETORA E EMPREENDIMENTOS IMÓBILIAR...</td>\n",
       "      <td>2wmeira@gmail.com</td>\n",
       "      <td>(66) 99929-5409</td>\n",
       "      <td>30.809.995/0001-05</td>\n",
       "      <td>2022-02-05</td>\n",
       "      <td>Sorriso</td>\n",
       "      <td>MT</td>\n",
       "      <td>30</td>\n",
       "      <td>999999</td>\n",
       "      <td>5</td>\n",
       "      <td>Ativa</td>\n",
       "      <td>NaN</td>\n",
       "      <td>8.0</td>\n",
       "      <td>159.0</td>\n",
       "      <td>NaN</td>\n",
       "      <td>3.5</td>\n",
       "      <td>2022-02-08</td>\n",
       "      <td>NaT</td>\n",
       "    </tr>\n",
       "  </tbody>\n",
       "</table>\n",
       "</div>"
      ],
      "text/plain": [
       "                                                nome  \\\n",
       "0                                        07856446609   \n",
       "1                                1 ponto imobiliario   \n",
       "2                           21 Soluções Imobiliárias   \n",
       "3     2F BRASIL CORRETORA DE SEGUROS E IMOVEIS LTDA.   \n",
       "4  2W MEIRA CORRETORA E EMPREENDIMENTOS IMÓBILIAR...   \n",
       "\n",
       "                            email         telefone            CPF/CNPJ  \\\n",
       "0         rod-queiroz@hotmail.com  (31) 99802-0349      078.564.466-09   \n",
       "1                             NaN   (31) 999548491  17.149.156/0001-31   \n",
       "2  nilsoncardosoimoveis@gmail.com  (48) 99602-4343  34.162.884/0001-00   \n",
       "3                             NaN   (19) 999094009  20.453.418/0001-61   \n",
       "4               2wmeira@gmail.com  (66) 99929-5409  30.809.995/0001-05   \n",
       "\n",
       "  dtcadastro                 cidade  uf  qtdvistoria  qtdfoto  armazenamento  \\\n",
       "0 2021-12-21         belo horizonte  MG            4      200              1   \n",
       "1 2021-01-16         Belo Horizonte  MG           20      999              1   \n",
       "2 2021-08-25          Florianópolis  SC            4      200              1   \n",
       "3 2019-10-30  SANTA BARBARA D'OESTE  SP           20      999              1   \n",
       "4 2022-02-05                Sorriso  MT           30   999999              5   \n",
       "\n",
       "           situacao limiteteste  vencimento  valor  desconto  vistoriaadd  \\\n",
       "0          Gratuito         NaN         NaN    NaN       NaN          NaN   \n",
       "1  Gratuito inativo         NaN         NaN    NaN       NaN          NaN   \n",
       "2  Gratuito inativo         NaN         NaN    NaN       NaN          NaN   \n",
       "3  Gratuito inativo         NaN         NaN    NaN       NaN          NaN   \n",
       "4             Ativa         NaN         8.0  159.0       NaN          3.5   \n",
       "\n",
       "    dtcompra dtcancelamento  \n",
       "0        NaT            NaT  \n",
       "1        NaT            NaT  \n",
       "2        NaT            NaT  \n",
       "3        NaT            NaT  \n",
       "4 2022-02-08            NaT  "
      ]
     },
     "execution_count": 34,
     "metadata": {},
     "output_type": "execute_result"
    }
   ],
   "source": [
    "colunas = {\"Nome\":\"nome\",\"Email\":\"email\",\"Telefone\":\"telefone\",\"CPF/CNPJ\":\"CPF/CNPJ\",\"Data cadastro\":\"dtcadastro\",\"Cidade\":\"cidade\",\"UF\":\"uf\",\"Qtd vistoria\":\"qtdvistoria\",\"Qtd foto\":\"qtdfoto\",\"Armazenamento\":\"armazenamento\",\n",
    "           \"Data limite teste\":\"limiteteste\",\"Vencimento\":\"vencimento\",\"Valor\":\"valor\",\n",
    "           \"Desconto\":\"desconto\",\"Valor vistoria adicional\":\"vistoriaadd\",\"Data compra\":\"dtcompra\",\"Data cancelamento\":\"dtcancelamento\",\"Data cancelamento\":\"dtcancelamento\",\"Situação\":\"situacao\"}\n",
    "df_emp.rename(columns=colunas, inplace=True)\n",
    "df_emp.head()"
   ]
  },
  {
   "cell_type": "code",
   "execution_count": 35,
   "id": "2682ed2c",
   "metadata": {},
   "outputs": [
    {
     "data": {
      "text/html": [
       "<div>\n",
       "<style scoped>\n",
       "    .dataframe tbody tr th:only-of-type {\n",
       "        vertical-align: middle;\n",
       "    }\n",
       "\n",
       "    .dataframe tbody tr th {\n",
       "        vertical-align: top;\n",
       "    }\n",
       "\n",
       "    .dataframe thead th {\n",
       "        text-align: right;\n",
       "    }\n",
       "</style>\n",
       "<table border=\"1\" class=\"dataframe\">\n",
       "  <thead>\n",
       "    <tr style=\"text-align: right;\">\n",
       "      <th></th>\n",
       "      <th>situacao</th>\n",
       "      <th>Total</th>\n",
       "    </tr>\n",
       "  </thead>\n",
       "  <tbody>\n",
       "    <tr>\n",
       "      <th>0</th>\n",
       "      <td>Ativa</td>\n",
       "      <td>500</td>\n",
       "    </tr>\n",
       "    <tr>\n",
       "      <th>1</th>\n",
       "      <td>Cancelada</td>\n",
       "      <td>414</td>\n",
       "    </tr>\n",
       "    <tr>\n",
       "      <th>2</th>\n",
       "      <td>Gratuito</td>\n",
       "      <td>435</td>\n",
       "    </tr>\n",
       "    <tr>\n",
       "      <th>3</th>\n",
       "      <td>Gratuito inativo</td>\n",
       "      <td>3268</td>\n",
       "    </tr>\n",
       "    <tr>\n",
       "      <th>4</th>\n",
       "      <td>Inativa por não pagamento</td>\n",
       "      <td>25</td>\n",
       "    </tr>\n",
       "    <tr>\n",
       "      <th>5</th>\n",
       "      <td>Teste</td>\n",
       "      <td>28</td>\n",
       "    </tr>\n",
       "  </tbody>\n",
       "</table>\n",
       "</div>"
      ],
      "text/plain": [
       "                    situacao  Total\n",
       "0                      Ativa    500\n",
       "1                  Cancelada    414\n",
       "2                   Gratuito    435\n",
       "3           Gratuito inativo   3268\n",
       "4  Inativa por não pagamento     25\n",
       "5                      Teste     28"
      ]
     },
     "execution_count": 35,
     "metadata": {},
     "output_type": "execute_result"
    }
   ],
   "source": [
    "df2 = df_emp.groupby(['situacao']).size().reset_index(name='Total')\n",
    "df2"
   ]
  },
  {
   "cell_type": "markdown",
   "id": "83617156",
   "metadata": {},
   "source": [
    "# Criando DF para quem está testando o sistema por mês"
   ]
  },
  {
   "cell_type": "code",
   "execution_count": 36,
   "id": "c02552e4",
   "metadata": {},
   "outputs": [
    {
     "data": {
      "text/html": [
       "<div>\n",
       "<style scoped>\n",
       "    .dataframe tbody tr th:only-of-type {\n",
       "        vertical-align: middle;\n",
       "    }\n",
       "\n",
       "    .dataframe tbody tr th {\n",
       "        vertical-align: top;\n",
       "    }\n",
       "\n",
       "    .dataframe thead th {\n",
       "        text-align: right;\n",
       "    }\n",
       "</style>\n",
       "<table border=\"1\" class=\"dataframe\">\n",
       "  <thead>\n",
       "    <tr style=\"text-align: right;\">\n",
       "      <th></th>\n",
       "      <th>nome</th>\n",
       "      <th>email</th>\n",
       "      <th>telefone</th>\n",
       "      <th>CPF/CNPJ</th>\n",
       "      <th>dtcadastro</th>\n",
       "      <th>cidade</th>\n",
       "      <th>uf</th>\n",
       "      <th>qtdvistoria</th>\n",
       "      <th>qtdfoto</th>\n",
       "      <th>armazenamento</th>\n",
       "      <th>situacao</th>\n",
       "      <th>limiteteste</th>\n",
       "      <th>vencimento</th>\n",
       "      <th>valor</th>\n",
       "      <th>desconto</th>\n",
       "      <th>vistoriaadd</th>\n",
       "      <th>dtcompra</th>\n",
       "      <th>dtcancelamento</th>\n",
       "    </tr>\n",
       "  </thead>\n",
       "  <tbody>\n",
       "    <tr>\n",
       "      <th>5</th>\n",
       "      <td>35950095847</td>\n",
       "      <td>ste_marcheti@hotmail.com</td>\n",
       "      <td>(11) 99874-1803</td>\n",
       "      <td>359.500.958-47</td>\n",
       "      <td>2022-03-09</td>\n",
       "      <td>Santana de parnaiba</td>\n",
       "      <td>SP</td>\n",
       "      <td>4</td>\n",
       "      <td>200</td>\n",
       "      <td>1</td>\n",
       "      <td>Gratuito</td>\n",
       "      <td>NaN</td>\n",
       "      <td>NaN</td>\n",
       "      <td>NaN</td>\n",
       "      <td>NaN</td>\n",
       "      <td>NaN</td>\n",
       "      <td>NaT</td>\n",
       "      <td>NaT</td>\n",
       "    </tr>\n",
       "    <tr>\n",
       "      <th>35</th>\n",
       "      <td>A Corretora Imobiliaria e serviços Ltda</td>\n",
       "      <td>ademar.imobiliaria@gmail.com</td>\n",
       "      <td>(73) 98846-3370</td>\n",
       "      <td>18.919.218/0001-00</td>\n",
       "      <td>2022-01-14</td>\n",
       "      <td>Itabuna</td>\n",
       "      <td>BA</td>\n",
       "      <td>4</td>\n",
       "      <td>200</td>\n",
       "      <td>1</td>\n",
       "      <td>Gratuito</td>\n",
       "      <td>NaN</td>\n",
       "      <td>NaN</td>\n",
       "      <td>NaN</td>\n",
       "      <td>NaN</td>\n",
       "      <td>NaN</td>\n",
       "      <td>NaT</td>\n",
       "      <td>NaT</td>\n",
       "    </tr>\n",
       "    <tr>\n",
       "      <th>37</th>\n",
       "      <td>Activa Consultoria Imobiliaria</td>\n",
       "      <td>alex@miguezimobiliaria.com.br</td>\n",
       "      <td>(21) 99593-6997</td>\n",
       "      <td>42.307.944/0001-56</td>\n",
       "      <td>2022-01-04</td>\n",
       "      <td>Rio de Janeiro</td>\n",
       "      <td>RJ</td>\n",
       "      <td>4</td>\n",
       "      <td>200</td>\n",
       "      <td>1</td>\n",
       "      <td>Gratuito</td>\n",
       "      <td>NaN</td>\n",
       "      <td>NaN</td>\n",
       "      <td>NaN</td>\n",
       "      <td>NaN</td>\n",
       "      <td>NaN</td>\n",
       "      <td>NaT</td>\n",
       "      <td>NaT</td>\n",
       "    </tr>\n",
       "    <tr>\n",
       "      <th>38</th>\n",
       "      <td>Adalto Quaresma Franco</td>\n",
       "      <td>dalton.engenheiro.civil@gmail.com</td>\n",
       "      <td>(34) 99988-7827</td>\n",
       "      <td>089.360.546-86</td>\n",
       "      <td>2022-01-19</td>\n",
       "      <td>Uberlândia</td>\n",
       "      <td>MG</td>\n",
       "      <td>4</td>\n",
       "      <td>200</td>\n",
       "      <td>1</td>\n",
       "      <td>Gratuito</td>\n",
       "      <td>NaN</td>\n",
       "      <td>NaN</td>\n",
       "      <td>NaN</td>\n",
       "      <td>NaN</td>\n",
       "      <td>NaN</td>\n",
       "      <td>NaT</td>\n",
       "      <td>NaT</td>\n",
       "    </tr>\n",
       "    <tr>\n",
       "      <th>42</th>\n",
       "      <td>adeildo manoel santos</td>\n",
       "      <td>adeildocazanova@gmail.com</td>\n",
       "      <td>(81) 99944-7392</td>\n",
       "      <td>414.800.584-91</td>\n",
       "      <td>2022-03-03</td>\n",
       "      <td>caruaru</td>\n",
       "      <td>PE</td>\n",
       "      <td>4</td>\n",
       "      <td>200</td>\n",
       "      <td>1</td>\n",
       "      <td>Gratuito</td>\n",
       "      <td>NaN</td>\n",
       "      <td>NaN</td>\n",
       "      <td>NaN</td>\n",
       "      <td>NaN</td>\n",
       "      <td>NaN</td>\n",
       "      <td>NaT</td>\n",
       "      <td>NaT</td>\n",
       "    </tr>\n",
       "    <tr>\n",
       "      <th>...</th>\n",
       "      <td>...</td>\n",
       "      <td>...</td>\n",
       "      <td>...</td>\n",
       "      <td>...</td>\n",
       "      <td>...</td>\n",
       "      <td>...</td>\n",
       "      <td>...</td>\n",
       "      <td>...</td>\n",
       "      <td>...</td>\n",
       "      <td>...</td>\n",
       "      <td>...</td>\n",
       "      <td>...</td>\n",
       "      <td>...</td>\n",
       "      <td>...</td>\n",
       "      <td>...</td>\n",
       "      <td>...</td>\n",
       "      <td>...</td>\n",
       "      <td>...</td>\n",
       "    </tr>\n",
       "    <tr>\n",
       "      <th>4614</th>\n",
       "      <td>wendelson</td>\n",
       "      <td>donaldowendelson@yahoo.com.br</td>\n",
       "      <td>(35) 99741-4750</td>\n",
       "      <td>056.077.056-17</td>\n",
       "      <td>2022-01-05</td>\n",
       "      <td>Ibituruna</td>\n",
       "      <td>MG</td>\n",
       "      <td>4</td>\n",
       "      <td>200</td>\n",
       "      <td>1</td>\n",
       "      <td>Gratuito</td>\n",
       "      <td>NaN</td>\n",
       "      <td>NaN</td>\n",
       "      <td>NaN</td>\n",
       "      <td>NaN</td>\n",
       "      <td>NaN</td>\n",
       "      <td>NaT</td>\n",
       "      <td>NaT</td>\n",
       "    </tr>\n",
       "    <tr>\n",
       "      <th>4647</th>\n",
       "      <td>Wust Imóveis Ltda</td>\n",
       "      <td>wi.imoveis@terra.com.br</td>\n",
       "      <td>(51) 3551-1212</td>\n",
       "      <td>07.219.091/0001-08</td>\n",
       "      <td>2022-02-02</td>\n",
       "      <td>Estância Velha</td>\n",
       "      <td>RS</td>\n",
       "      <td>4</td>\n",
       "      <td>200</td>\n",
       "      <td>1</td>\n",
       "      <td>Gratuito</td>\n",
       "      <td>NaN</td>\n",
       "      <td>NaN</td>\n",
       "      <td>NaN</td>\n",
       "      <td>NaN</td>\n",
       "      <td>NaN</td>\n",
       "      <td>NaT</td>\n",
       "      <td>NaT</td>\n",
       "    </tr>\n",
       "    <tr>\n",
       "      <th>4656</th>\n",
       "      <td>Yohana Bitencourt</td>\n",
       "      <td>pablobitencourt2004@gmail.com</td>\n",
       "      <td>(21) 98184-9131</td>\n",
       "      <td>126.791.807-12</td>\n",
       "      <td>2022-01-11</td>\n",
       "      <td>Niterói</td>\n",
       "      <td>RJ</td>\n",
       "      <td>4</td>\n",
       "      <td>200</td>\n",
       "      <td>1</td>\n",
       "      <td>Gratuito</td>\n",
       "      <td>NaN</td>\n",
       "      <td>NaN</td>\n",
       "      <td>NaN</td>\n",
       "      <td>NaN</td>\n",
       "      <td>NaN</td>\n",
       "      <td>NaT</td>\n",
       "      <td>NaT</td>\n",
       "    </tr>\n",
       "    <tr>\n",
       "      <th>4659</th>\n",
       "      <td>yuri zenichi kawabata</td>\n",
       "      <td>yuri@ivoimoveis.com</td>\n",
       "      <td>(11) 95225-4409</td>\n",
       "      <td>468.912.608-92</td>\n",
       "      <td>2022-01-21</td>\n",
       "      <td>sao paulo</td>\n",
       "      <td>SP</td>\n",
       "      <td>4</td>\n",
       "      <td>200</td>\n",
       "      <td>1</td>\n",
       "      <td>Gratuito</td>\n",
       "      <td>NaN</td>\n",
       "      <td>NaN</td>\n",
       "      <td>NaN</td>\n",
       "      <td>NaN</td>\n",
       "      <td>NaN</td>\n",
       "      <td>NaT</td>\n",
       "      <td>NaT</td>\n",
       "    </tr>\n",
       "    <tr>\n",
       "      <th>4665</th>\n",
       "      <td>zem cioccari negocios imobiliarios ltda</td>\n",
       "      <td>zemcioccari@gmail.com</td>\n",
       "      <td>(16) 99626-9888</td>\n",
       "      <td>40.795.190/0001-03</td>\n",
       "      <td>2022-03-14</td>\n",
       "      <td>RIBEIRÃO PRETO</td>\n",
       "      <td>SP</td>\n",
       "      <td>4</td>\n",
       "      <td>200</td>\n",
       "      <td>1</td>\n",
       "      <td>Teste</td>\n",
       "      <td>19/03/2022</td>\n",
       "      <td>NaN</td>\n",
       "      <td>NaN</td>\n",
       "      <td>NaN</td>\n",
       "      <td>NaN</td>\n",
       "      <td>NaT</td>\n",
       "      <td>NaT</td>\n",
       "    </tr>\n",
       "  </tbody>\n",
       "</table>\n",
       "<p>354 rows × 18 columns</p>\n",
       "</div>"
      ],
      "text/plain": [
       "                                         nome  \\\n",
       "5                                 35950095847   \n",
       "35    A Corretora Imobiliaria e serviços Ltda   \n",
       "37             Activa Consultoria Imobiliaria   \n",
       "38                     Adalto Quaresma Franco   \n",
       "42                      adeildo manoel santos   \n",
       "...                                       ...   \n",
       "4614                                wendelson   \n",
       "4647                        Wust Imóveis Ltda   \n",
       "4656                        Yohana Bitencourt   \n",
       "4659                    yuri zenichi kawabata   \n",
       "4665  zem cioccari negocios imobiliarios ltda   \n",
       "\n",
       "                                  email         telefone            CPF/CNPJ  \\\n",
       "5              ste_marcheti@hotmail.com  (11) 99874-1803      359.500.958-47   \n",
       "35         ademar.imobiliaria@gmail.com  (73) 98846-3370  18.919.218/0001-00   \n",
       "37        alex@miguezimobiliaria.com.br  (21) 99593-6997  42.307.944/0001-56   \n",
       "38    dalton.engenheiro.civil@gmail.com  (34) 99988-7827      089.360.546-86   \n",
       "42            adeildocazanova@gmail.com  (81) 99944-7392      414.800.584-91   \n",
       "...                                 ...              ...                 ...   \n",
       "4614      donaldowendelson@yahoo.com.br  (35) 99741-4750      056.077.056-17   \n",
       "4647            wi.imoveis@terra.com.br   (51) 3551-1212  07.219.091/0001-08   \n",
       "4656      pablobitencourt2004@gmail.com  (21) 98184-9131      126.791.807-12   \n",
       "4659                yuri@ivoimoveis.com  (11) 95225-4409      468.912.608-92   \n",
       "4665              zemcioccari@gmail.com  (16) 99626-9888  40.795.190/0001-03   \n",
       "\n",
       "     dtcadastro               cidade  uf  qtdvistoria  qtdfoto  armazenamento  \\\n",
       "5    2022-03-09  Santana de parnaiba  SP            4      200              1   \n",
       "35   2022-01-14              Itabuna  BA            4      200              1   \n",
       "37   2022-01-04       Rio de Janeiro  RJ            4      200              1   \n",
       "38   2022-01-19           Uberlândia  MG            4      200              1   \n",
       "42   2022-03-03              caruaru  PE            4      200              1   \n",
       "...         ...                  ...  ..          ...      ...            ...   \n",
       "4614 2022-01-05            Ibituruna  MG            4      200              1   \n",
       "4647 2022-02-02       Estância Velha  RS            4      200              1   \n",
       "4656 2022-01-11              Niterói  RJ            4      200              1   \n",
       "4659 2022-01-21            sao paulo  SP            4      200              1   \n",
       "4665 2022-03-14       RIBEIRÃO PRETO  SP            4      200              1   \n",
       "\n",
       "      situacao limiteteste  vencimento  valor  desconto  vistoriaadd dtcompra  \\\n",
       "5     Gratuito         NaN         NaN    NaN       NaN          NaN      NaT   \n",
       "35    Gratuito         NaN         NaN    NaN       NaN          NaN      NaT   \n",
       "37    Gratuito         NaN         NaN    NaN       NaN          NaN      NaT   \n",
       "38    Gratuito         NaN         NaN    NaN       NaN          NaN      NaT   \n",
       "42    Gratuito         NaN         NaN    NaN       NaN          NaN      NaT   \n",
       "...        ...         ...         ...    ...       ...          ...      ...   \n",
       "4614  Gratuito         NaN         NaN    NaN       NaN          NaN      NaT   \n",
       "4647  Gratuito         NaN         NaN    NaN       NaN          NaN      NaT   \n",
       "4656  Gratuito         NaN         NaN    NaN       NaN          NaN      NaT   \n",
       "4659  Gratuito         NaN         NaN    NaN       NaN          NaN      NaT   \n",
       "4665     Teste  19/03/2022         NaN    NaN       NaN          NaN      NaT   \n",
       "\n",
       "     dtcancelamento  \n",
       "5               NaT  \n",
       "35              NaT  \n",
       "37              NaT  \n",
       "38              NaT  \n",
       "42              NaT  \n",
       "...             ...  \n",
       "4614            NaT  \n",
       "4647            NaT  \n",
       "4656            NaT  \n",
       "4659            NaT  \n",
       "4665            NaT  \n",
       "\n",
       "[354 rows x 18 columns]"
      ]
     },
     "execution_count": 36,
     "metadata": {},
     "output_type": "execute_result"
    }
   ],
   "source": [
    "df_emp_testando = df_emp[((df_emp['situacao'] == 'Teste') | (df_emp['situacao'] == 'Gratuito')) & (df_emp['dtcadastro'] > '01/01/2022')]\n",
    "df_emp_testando"
   ]
  },
  {
   "cell_type": "code",
   "execution_count": 37,
   "id": "fe74c163",
   "metadata": {},
   "outputs": [],
   "source": [
    "# df_emp_gratuito = df_emp[((df_emp['situacao'] == 'Gratuito') | (df_emp['situacao'] == 'Gratuito inativo')) & (df_emp['dtcadastro'] > '01/01/2022')]\n",
    "# df_emp_gratuito"
   ]
  },
  {
   "cell_type": "markdown",
   "id": "790bcf6d",
   "metadata": {},
   "source": [
    "# Criando DF para quem assinou o sistema"
   ]
  },
  {
   "cell_type": "code",
   "execution_count": 38,
   "id": "c46b298f",
   "metadata": {},
   "outputs": [
    {
     "data": {
      "text/html": [
       "<div>\n",
       "<style scoped>\n",
       "    .dataframe tbody tr th:only-of-type {\n",
       "        vertical-align: middle;\n",
       "    }\n",
       "\n",
       "    .dataframe tbody tr th {\n",
       "        vertical-align: top;\n",
       "    }\n",
       "\n",
       "    .dataframe thead th {\n",
       "        text-align: right;\n",
       "    }\n",
       "</style>\n",
       "<table border=\"1\" class=\"dataframe\">\n",
       "  <thead>\n",
       "    <tr style=\"text-align: right;\">\n",
       "      <th></th>\n",
       "      <th>nome</th>\n",
       "      <th>email</th>\n",
       "      <th>telefone</th>\n",
       "      <th>CPF/CNPJ</th>\n",
       "      <th>dtcadastro</th>\n",
       "      <th>cidade</th>\n",
       "      <th>uf</th>\n",
       "      <th>qtdvistoria</th>\n",
       "      <th>qtdfoto</th>\n",
       "      <th>armazenamento</th>\n",
       "      <th>situacao</th>\n",
       "      <th>limiteteste</th>\n",
       "      <th>vencimento</th>\n",
       "      <th>valor</th>\n",
       "      <th>desconto</th>\n",
       "      <th>vistoriaadd</th>\n",
       "      <th>dtcompra</th>\n",
       "      <th>dtcancelamento</th>\n",
       "    </tr>\n",
       "  </thead>\n",
       "  <tbody>\n",
       "    <tr>\n",
       "      <th>4</th>\n",
       "      <td>2W MEIRA CORRETORA E EMPREENDIMENTOS IMÓBILIAR...</td>\n",
       "      <td>2wmeira@gmail.com</td>\n",
       "      <td>(66) 99929-5409</td>\n",
       "      <td>30.809.995/0001-05</td>\n",
       "      <td>2022-02-05</td>\n",
       "      <td>Sorriso</td>\n",
       "      <td>MT</td>\n",
       "      <td>30</td>\n",
       "      <td>999999</td>\n",
       "      <td>5</td>\n",
       "      <td>Ativa</td>\n",
       "      <td>NaN</td>\n",
       "      <td>8.0</td>\n",
       "      <td>159.0</td>\n",
       "      <td>NaN</td>\n",
       "      <td>3.5</td>\n",
       "      <td>2022-02-08</td>\n",
       "      <td>NaT</td>\n",
       "    </tr>\n",
       "    <tr>\n",
       "      <th>64</th>\n",
       "      <td>Administra</td>\n",
       "      <td>contato@administra.com.br</td>\n",
       "      <td>(61) 99695-0257</td>\n",
       "      <td>10.426.167/0001-72</td>\n",
       "      <td>2021-08-12</td>\n",
       "      <td>Brasília</td>\n",
       "      <td>DF</td>\n",
       "      <td>10</td>\n",
       "      <td>999999</td>\n",
       "      <td>1</td>\n",
       "      <td>Ativa</td>\n",
       "      <td>NaN</td>\n",
       "      <td>15.0</td>\n",
       "      <td>110.0</td>\n",
       "      <td>10.0</td>\n",
       "      <td>3.5</td>\n",
       "      <td>2022-02-02</td>\n",
       "      <td>NaT</td>\n",
       "    </tr>\n",
       "    <tr>\n",
       "      <th>195</th>\n",
       "      <td>ALIANCA CONSULTORIA DE IMOVEIS LTDA - ME</td>\n",
       "      <td>valdemar@aliancaimob.com</td>\n",
       "      <td>NaN</td>\n",
       "      <td>03.265.351/0001-12</td>\n",
       "      <td>2021-01-16</td>\n",
       "      <td>UBERLANDIA</td>\n",
       "      <td>MG</td>\n",
       "      <td>10</td>\n",
       "      <td>999999</td>\n",
       "      <td>1</td>\n",
       "      <td>Ativa</td>\n",
       "      <td>NaN</td>\n",
       "      <td>11.0</td>\n",
       "      <td>120.0</td>\n",
       "      <td>NaN</td>\n",
       "      <td>3.5</td>\n",
       "      <td>2022-01-11</td>\n",
       "      <td>NaT</td>\n",
       "    </tr>\n",
       "    <tr>\n",
       "      <th>291</th>\n",
       "      <td>Anderson de Arruda</td>\n",
       "      <td>andersonarruda@bol.com.br</td>\n",
       "      <td>(11) 96087-6858</td>\n",
       "      <td>261.953.878-51</td>\n",
       "      <td>2021-08-23</td>\n",
       "      <td>Sao Paulo</td>\n",
       "      <td>SP</td>\n",
       "      <td>10</td>\n",
       "      <td>999999</td>\n",
       "      <td>1</td>\n",
       "      <td>Ativa</td>\n",
       "      <td>NaN</td>\n",
       "      <td>5.0</td>\n",
       "      <td>120.0</td>\n",
       "      <td>NaN</td>\n",
       "      <td>3.5</td>\n",
       "      <td>2022-03-04</td>\n",
       "      <td>NaT</td>\n",
       "    </tr>\n",
       "    <tr>\n",
       "      <th>441</th>\n",
       "      <td>Atuale Empreendimentos Imobiliários Ltda</td>\n",
       "      <td>alessandro@atualeimobiliaria.com</td>\n",
       "      <td>(19) 97141-3361</td>\n",
       "      <td>19.217.904/0001-00</td>\n",
       "      <td>2022-01-03</td>\n",
       "      <td>Sumaré</td>\n",
       "      <td>SP</td>\n",
       "      <td>30</td>\n",
       "      <td>999999</td>\n",
       "      <td>5</td>\n",
       "      <td>Ativa</td>\n",
       "      <td>NaN</td>\n",
       "      <td>13.0</td>\n",
       "      <td>175.0</td>\n",
       "      <td>NaN</td>\n",
       "      <td>3.5</td>\n",
       "      <td>2022-01-13</td>\n",
       "      <td>NaT</td>\n",
       "    </tr>\n",
       "    <tr>\n",
       "      <th>479</th>\n",
       "      <td>Barbagallo Imóveis LTDA</td>\n",
       "      <td>adm.barbagallo@gmail.com</td>\n",
       "      <td>(11) 94724-0992</td>\n",
       "      <td>22.800.025/0001-02</td>\n",
       "      <td>2022-01-26</td>\n",
       "      <td>São Bernardo do Campo</td>\n",
       "      <td>SP</td>\n",
       "      <td>10</td>\n",
       "      <td>999999</td>\n",
       "      <td>1</td>\n",
       "      <td>Ativa</td>\n",
       "      <td>NaN</td>\n",
       "      <td>26.0</td>\n",
       "      <td>110.0</td>\n",
       "      <td>NaN</td>\n",
       "      <td>3.5</td>\n",
       "      <td>2022-01-29</td>\n",
       "      <td>NaT</td>\n",
       "    </tr>\n",
       "    <tr>\n",
       "      <th>522</th>\n",
       "      <td>BESTLAR NEGOCIOS IMOBILIARIOS LTDA</td>\n",
       "      <td>fabio.valle@bestlar.com.br</td>\n",
       "      <td>(11) 989884001</td>\n",
       "      <td>10.783.341/0001-34</td>\n",
       "      <td>2020-07-27</td>\n",
       "      <td>Cotia</td>\n",
       "      <td>SP</td>\n",
       "      <td>10</td>\n",
       "      <td>999999</td>\n",
       "      <td>1</td>\n",
       "      <td>Ativa</td>\n",
       "      <td>NaN</td>\n",
       "      <td>7.0</td>\n",
       "      <td>110.0</td>\n",
       "      <td>10.0</td>\n",
       "      <td>3.5</td>\n",
       "      <td>2022-03-07</td>\n",
       "      <td>NaT</td>\n",
       "    </tr>\n",
       "    <tr>\n",
       "      <th>536</th>\n",
       "      <td>Block Imóveis LTDA</td>\n",
       "      <td>wallace@blockimoveis.com.br</td>\n",
       "      <td>(21) 98556-3825</td>\n",
       "      <td>26.475.689/0001-02</td>\n",
       "      <td>2022-02-16</td>\n",
       "      <td>Rio de Janeiro</td>\n",
       "      <td>RJ</td>\n",
       "      <td>30</td>\n",
       "      <td>999999</td>\n",
       "      <td>15</td>\n",
       "      <td>Ativa</td>\n",
       "      <td>NaN</td>\n",
       "      <td>5.0</td>\n",
       "      <td>179.0</td>\n",
       "      <td>NaN</td>\n",
       "      <td>3.5</td>\n",
       "      <td>2022-03-03</td>\n",
       "      <td>NaT</td>\n",
       "    </tr>\n",
       "    <tr>\n",
       "      <th>553</th>\n",
       "      <td>Botelho empreendimentos imobiliaria Ltda</td>\n",
       "      <td>annabotelho@lokatell.com.br</td>\n",
       "      <td>(45) 99821-9991</td>\n",
       "      <td>72.218.993/0001-83</td>\n",
       "      <td>2020-08-18</td>\n",
       "      <td>Cascavel</td>\n",
       "      <td>PR</td>\n",
       "      <td>80</td>\n",
       "      <td>999999</td>\n",
       "      <td>20</td>\n",
       "      <td>Ativa</td>\n",
       "      <td>NaN</td>\n",
       "      <td>9.0</td>\n",
       "      <td>305.0</td>\n",
       "      <td>NaN</td>\n",
       "      <td>3.5</td>\n",
       "      <td>2022-03-09</td>\n",
       "      <td>NaT</td>\n",
       "    </tr>\n",
       "    <tr>\n",
       "      <th>811</th>\n",
       "      <td>Cirag Imobiliária LTDA</td>\n",
       "      <td>vistorias@cirag.com.br</td>\n",
       "      <td>(11) 938015594</td>\n",
       "      <td>13.750.503/0001-26</td>\n",
       "      <td>2021-01-16</td>\n",
       "      <td>São Paulo</td>\n",
       "      <td>SP</td>\n",
       "      <td>10</td>\n",
       "      <td>999999</td>\n",
       "      <td>1</td>\n",
       "      <td>Ativa</td>\n",
       "      <td>NaN</td>\n",
       "      <td>25.0</td>\n",
       "      <td>120.0</td>\n",
       "      <td>NaN</td>\n",
       "      <td>3.5</td>\n",
       "      <td>2022-02-25</td>\n",
       "      <td>NaT</td>\n",
       "    </tr>\n",
       "    <tr>\n",
       "      <th>1026</th>\n",
       "      <td>Dc Imoveis</td>\n",
       "      <td>daiana@dcimoveissc.com.br</td>\n",
       "      <td>(47) 3345-0324</td>\n",
       "      <td>26.529.193/0001-66</td>\n",
       "      <td>2021-11-09</td>\n",
       "      <td>Penha</td>\n",
       "      <td>SC</td>\n",
       "      <td>5</td>\n",
       "      <td>999999</td>\n",
       "      <td>1</td>\n",
       "      <td>Ativa</td>\n",
       "      <td>NaN</td>\n",
       "      <td>6.0</td>\n",
       "      <td>89.0</td>\n",
       "      <td>NaN</td>\n",
       "      <td>3.5</td>\n",
       "      <td>2022-01-06</td>\n",
       "      <td>NaT</td>\n",
       "    </tr>\n",
       "    <tr>\n",
       "      <th>1072</th>\n",
       "      <td>DHG Consultoria</td>\n",
       "      <td>diogohgarcia@gmail.com</td>\n",
       "      <td>(12) 99776-0926</td>\n",
       "      <td>320.575.968-00</td>\n",
       "      <td>2022-03-04</td>\n",
       "      <td>Caçapava</td>\n",
       "      <td>SP</td>\n",
       "      <td>20</td>\n",
       "      <td>999999</td>\n",
       "      <td>3</td>\n",
       "      <td>Ativa</td>\n",
       "      <td>NaN</td>\n",
       "      <td>8.0</td>\n",
       "      <td>140.0</td>\n",
       "      <td>NaN</td>\n",
       "      <td>3.5</td>\n",
       "      <td>2022-03-08</td>\n",
       "      <td>NaT</td>\n",
       "    </tr>\n",
       "    <tr>\n",
       "      <th>1250</th>\n",
       "      <td>Elite corretagem e Administração de imóveis ltda</td>\n",
       "      <td>eliteimobiliariarj@gmail.com</td>\n",
       "      <td>(21) 96834-4451</td>\n",
       "      <td>41.853.954/0001-24</td>\n",
       "      <td>2021-09-12</td>\n",
       "      <td>Nova iguacu</td>\n",
       "      <td>RJ</td>\n",
       "      <td>10</td>\n",
       "      <td>999999</td>\n",
       "      <td>1</td>\n",
       "      <td>Ativa</td>\n",
       "      <td>NaN</td>\n",
       "      <td>24.0</td>\n",
       "      <td>120.0</td>\n",
       "      <td>NaN</td>\n",
       "      <td>3.5</td>\n",
       "      <td>2022-02-24</td>\n",
       "      <td>NaT</td>\n",
       "    </tr>\n",
       "    <tr>\n",
       "      <th>1366</th>\n",
       "      <td>Everton Tavares Vilela</td>\n",
       "      <td>everton_vilela@yahoo.com.br</td>\n",
       "      <td>(24) 98808-5221</td>\n",
       "      <td>028.331.617-94</td>\n",
       "      <td>2022-02-20</td>\n",
       "      <td>Miguel Pereira</td>\n",
       "      <td>RJ</td>\n",
       "      <td>20</td>\n",
       "      <td>999999</td>\n",
       "      <td>1</td>\n",
       "      <td>Ativa</td>\n",
       "      <td>NaN</td>\n",
       "      <td>5.0</td>\n",
       "      <td>155.0</td>\n",
       "      <td>50.0</td>\n",
       "      <td>3.5</td>\n",
       "      <td>2022-03-03</td>\n",
       "      <td>NaT</td>\n",
       "    </tr>\n",
       "    <tr>\n",
       "      <th>1372</th>\n",
       "      <td>Exacto Imoveis</td>\n",
       "      <td>administrativo@exactoimoveis.com.br</td>\n",
       "      <td>(19) 99346-7044</td>\n",
       "      <td>22.961.776/0001-00</td>\n",
       "      <td>2022-01-12</td>\n",
       "      <td>Campinas</td>\n",
       "      <td>SP</td>\n",
       "      <td>10</td>\n",
       "      <td>999999</td>\n",
       "      <td>1</td>\n",
       "      <td>Ativa</td>\n",
       "      <td>NaN</td>\n",
       "      <td>7.0</td>\n",
       "      <td>120.0</td>\n",
       "      <td>50.0</td>\n",
       "      <td>3.5</td>\n",
       "      <td>2022-03-07</td>\n",
       "      <td>NaT</td>\n",
       "    </tr>\n",
       "    <tr>\n",
       "      <th>1396</th>\n",
       "      <td>Fabiano souza</td>\n",
       "      <td>fabianoreferencia@gmail.com</td>\n",
       "      <td>(31) 99904-9267</td>\n",
       "      <td>048.421.016-52</td>\n",
       "      <td>2021-03-17</td>\n",
       "      <td>Barão de cocais</td>\n",
       "      <td>MG</td>\n",
       "      <td>10</td>\n",
       "      <td>999999</td>\n",
       "      <td>1</td>\n",
       "      <td>Ativa</td>\n",
       "      <td>NaN</td>\n",
       "      <td>16.0</td>\n",
       "      <td>120.0</td>\n",
       "      <td>NaN</td>\n",
       "      <td>3.5</td>\n",
       "      <td>2022-02-16</td>\n",
       "      <td>NaT</td>\n",
       "    </tr>\n",
       "    <tr>\n",
       "      <th>1448</th>\n",
       "      <td>FELGUS ENGENHARIA LTDA.</td>\n",
       "      <td>cezarernani@terra.com.br</td>\n",
       "      <td>(11) 97616-4366</td>\n",
       "      <td>09.243.976/0001-60</td>\n",
       "      <td>2021-11-01</td>\n",
       "      <td>São Paulo</td>\n",
       "      <td>SP</td>\n",
       "      <td>80</td>\n",
       "      <td>999999</td>\n",
       "      <td>20</td>\n",
       "      <td>Ativa</td>\n",
       "      <td>NaN</td>\n",
       "      <td>12.0</td>\n",
       "      <td>305.0</td>\n",
       "      <td>NaN</td>\n",
       "      <td>3.5</td>\n",
       "      <td>2022-01-12</td>\n",
       "      <td>NaT</td>\n",
       "    </tr>\n",
       "    <tr>\n",
       "      <th>1797</th>\n",
       "      <td>Habitar Soluções Imobiliárias</td>\n",
       "      <td>fabianadebastiani@gmail.com</td>\n",
       "      <td>(66) 9224-6722</td>\n",
       "      <td>39.815.102/0001-09</td>\n",
       "      <td>2021-05-26</td>\n",
       "      <td>Sorriso</td>\n",
       "      <td>MT</td>\n",
       "      <td>10</td>\n",
       "      <td>999999</td>\n",
       "      <td>1</td>\n",
       "      <td>Ativa</td>\n",
       "      <td>NaN</td>\n",
       "      <td>20.0</td>\n",
       "      <td>120.0</td>\n",
       "      <td>NaN</td>\n",
       "      <td>3.5</td>\n",
       "      <td>2022-01-20</td>\n",
       "      <td>NaT</td>\n",
       "    </tr>\n",
       "    <tr>\n",
       "      <th>1921</th>\n",
       "      <td>Imobiliária Altreiter LTDA</td>\n",
       "      <td>atendimento@altreiterimoveis.com.br</td>\n",
       "      <td>(54) 99171-2001</td>\n",
       "      <td>08.955.741/0001-38</td>\n",
       "      <td>2022-02-14</td>\n",
       "      <td>Gramado</td>\n",
       "      <td>RS</td>\n",
       "      <td>10</td>\n",
       "      <td>999999</td>\n",
       "      <td>1</td>\n",
       "      <td>Ativa</td>\n",
       "      <td>NaN</td>\n",
       "      <td>18.0</td>\n",
       "      <td>110.0</td>\n",
       "      <td>NaN</td>\n",
       "      <td>3.5</td>\n",
       "      <td>2022-02-18</td>\n",
       "      <td>NaT</td>\n",
       "    </tr>\n",
       "    <tr>\n",
       "      <th>1925</th>\n",
       "      <td>Imobiliária Aquino eireli</td>\n",
       "      <td>denio@denioaquino.com.br</td>\n",
       "      <td>(62) 3943-2151</td>\n",
       "      <td>16.926.967/0001-39</td>\n",
       "      <td>2021-10-04</td>\n",
       "      <td>ANAPOLIS</td>\n",
       "      <td>GO</td>\n",
       "      <td>20</td>\n",
       "      <td>999999</td>\n",
       "      <td>3</td>\n",
       "      <td>Ativa</td>\n",
       "      <td>NaN</td>\n",
       "      <td>18.0</td>\n",
       "      <td>140.0</td>\n",
       "      <td>NaN</td>\n",
       "      <td>3.5</td>\n",
       "      <td>2022-02-18</td>\n",
       "      <td>NaT</td>\n",
       "    </tr>\n",
       "    <tr>\n",
       "      <th>1973</th>\n",
       "      <td>Imobiliária Immig</td>\n",
       "      <td>imobiliariaimmig@gmail.com</td>\n",
       "      <td>(51) 98030-9520</td>\n",
       "      <td>44.270.107/0001-25</td>\n",
       "      <td>2022-01-04</td>\n",
       "      <td>Estância Velha</td>\n",
       "      <td>RS</td>\n",
       "      <td>30</td>\n",
       "      <td>999999</td>\n",
       "      <td>5</td>\n",
       "      <td>Ativa</td>\n",
       "      <td>NaN</td>\n",
       "      <td>8.0</td>\n",
       "      <td>159.0</td>\n",
       "      <td>NaN</td>\n",
       "      <td>3.5</td>\n",
       "      <td>2022-01-08</td>\n",
       "      <td>NaT</td>\n",
       "    </tr>\n",
       "    <tr>\n",
       "      <th>2198</th>\n",
       "      <td>JDIAS CONSULTORIA IMOBILIÁRIA</td>\n",
       "      <td>admjdias.imb@gmail.com</td>\n",
       "      <td>(16) 99795-5687</td>\n",
       "      <td>40.588.313/0001-27</td>\n",
       "      <td>2022-02-01</td>\n",
       "      <td>Jaboticabal</td>\n",
       "      <td>SP</td>\n",
       "      <td>10</td>\n",
       "      <td>999999</td>\n",
       "      <td>1</td>\n",
       "      <td>Ativa</td>\n",
       "      <td>NaN</td>\n",
       "      <td>5.0</td>\n",
       "      <td>120.0</td>\n",
       "      <td>NaN</td>\n",
       "      <td>3.5</td>\n",
       "      <td>2022-02-02</td>\n",
       "      <td>NaT</td>\n",
       "    </tr>\n",
       "    <tr>\n",
       "      <th>2419</th>\n",
       "      <td>Júlio César dos Santos Messias</td>\n",
       "      <td>jcesarsmessias@gmail.com</td>\n",
       "      <td>(31) 99499-2597</td>\n",
       "      <td>111.181.866-56</td>\n",
       "      <td>2022-02-03</td>\n",
       "      <td>Santa Barbara</td>\n",
       "      <td>MG</td>\n",
       "      <td>10</td>\n",
       "      <td>999999</td>\n",
       "      <td>1</td>\n",
       "      <td>Ativa</td>\n",
       "      <td>NaN</td>\n",
       "      <td>10.0</td>\n",
       "      <td>120.0</td>\n",
       "      <td>NaN</td>\n",
       "      <td>3.5</td>\n",
       "      <td>2022-03-10</td>\n",
       "      <td>NaT</td>\n",
       "    </tr>\n",
       "    <tr>\n",
       "      <th>2667</th>\n",
       "      <td>LL ADMINISTRAÇÃO DE IMÓVEIS LTDA</td>\n",
       "      <td>luciana@decisaoimoveis.com.br</td>\n",
       "      <td>(31) 3048-4455</td>\n",
       "      <td>14.624.228/0001-67</td>\n",
       "      <td>2021-01-15</td>\n",
       "      <td>Belo Horizonte</td>\n",
       "      <td>MG</td>\n",
       "      <td>10</td>\n",
       "      <td>999999</td>\n",
       "      <td>1</td>\n",
       "      <td>Ativa</td>\n",
       "      <td>NaN</td>\n",
       "      <td>15.0</td>\n",
       "      <td>120.0</td>\n",
       "      <td>NaN</td>\n",
       "      <td>3.5</td>\n",
       "      <td>2022-02-15</td>\n",
       "      <td>NaT</td>\n",
       "    </tr>\n",
       "    <tr>\n",
       "      <th>2758</th>\n",
       "      <td>LUCILENE INTERMEDIÇOES IMOBILIARIA</td>\n",
       "      <td>boletos@lucilenepereira.com.br</td>\n",
       "      <td>(67) 999244646</td>\n",
       "      <td>10.582.320/0001-50</td>\n",
       "      <td>2020-09-21</td>\n",
       "      <td>CAMPO GRANDE</td>\n",
       "      <td>MS</td>\n",
       "      <td>30</td>\n",
       "      <td>999999</td>\n",
       "      <td>15</td>\n",
       "      <td>Ativa</td>\n",
       "      <td>NaN</td>\n",
       "      <td>24.0</td>\n",
       "      <td>188.9</td>\n",
       "      <td>NaN</td>\n",
       "      <td>3.5</td>\n",
       "      <td>2022-02-24</td>\n",
       "      <td>NaT</td>\n",
       "    </tr>\n",
       "    <tr>\n",
       "      <th>2957</th>\n",
       "      <td>Marcos Antônio Moraes</td>\n",
       "      <td>mmvistorias@mmvistorias.com.br</td>\n",
       "      <td>(31) 98443-7621</td>\n",
       "      <td>044.243.406-51</td>\n",
       "      <td>2022-01-23</td>\n",
       "      <td>Betim</td>\n",
       "      <td>MG</td>\n",
       "      <td>10</td>\n",
       "      <td>999999</td>\n",
       "      <td>1</td>\n",
       "      <td>Ativa</td>\n",
       "      <td>NaN</td>\n",
       "      <td>26.0</td>\n",
       "      <td>120.0</td>\n",
       "      <td>NaN</td>\n",
       "      <td>3.5</td>\n",
       "      <td>2022-01-31</td>\n",
       "      <td>NaT</td>\n",
       "    </tr>\n",
       "    <tr>\n",
       "      <th>2979</th>\n",
       "      <td>MARCUS ALLAN MASTROPASQUA SOUTO</td>\n",
       "      <td>marcusmastropasqua@hotmail.com</td>\n",
       "      <td>(48) 99916-0998</td>\n",
       "      <td>080.737.379-65</td>\n",
       "      <td>2021-11-28</td>\n",
       "      <td>São José</td>\n",
       "      <td>SC</td>\n",
       "      <td>10</td>\n",
       "      <td>999999</td>\n",
       "      <td>1</td>\n",
       "      <td>Ativa</td>\n",
       "      <td>NaN</td>\n",
       "      <td>14.0</td>\n",
       "      <td>120.0</td>\n",
       "      <td>NaN</td>\n",
       "      <td>3.5</td>\n",
       "      <td>2022-03-14</td>\n",
       "      <td>NaT</td>\n",
       "    </tr>\n",
       "    <tr>\n",
       "      <th>3004</th>\n",
       "      <td>Maria de Fatima Itaparica Nascimento Zucco</td>\n",
       "      <td>faitaitaparica@gmail.com</td>\n",
       "      <td>(71) 98506-9279</td>\n",
       "      <td>105.015.095-34</td>\n",
       "      <td>2022-03-01</td>\n",
       "      <td>Salvador</td>\n",
       "      <td>BA</td>\n",
       "      <td>10</td>\n",
       "      <td>999999</td>\n",
       "      <td>1</td>\n",
       "      <td>Ativa</td>\n",
       "      <td>NaN</td>\n",
       "      <td>5.0</td>\n",
       "      <td>110.0</td>\n",
       "      <td>NaN</td>\n",
       "      <td>3.5</td>\n",
       "      <td>2022-03-03</td>\n",
       "      <td>NaT</td>\n",
       "    </tr>\n",
       "    <tr>\n",
       "      <th>3076</th>\n",
       "      <td>MATSUMOTO IMOVEIS</td>\n",
       "      <td>contato@matsumotocorretora.com.br</td>\n",
       "      <td>(67) 999795062</td>\n",
       "      <td>11.349.494/0001-30</td>\n",
       "      <td>2020-07-08</td>\n",
       "      <td>TRES LAGOAS</td>\n",
       "      <td>MS</td>\n",
       "      <td>10</td>\n",
       "      <td>999999</td>\n",
       "      <td>1</td>\n",
       "      <td>Ativa</td>\n",
       "      <td>NaN</td>\n",
       "      <td>25.0</td>\n",
       "      <td>110.0</td>\n",
       "      <td>NaN</td>\n",
       "      <td>3.5</td>\n",
       "      <td>2022-01-25</td>\n",
       "      <td>NaT</td>\n",
       "    </tr>\n",
       "    <tr>\n",
       "      <th>3164</th>\n",
       "      <td>Mil casa imóveis Eireli</td>\n",
       "      <td>marceloomb100@gmail.com</td>\n",
       "      <td>(31) 988809973</td>\n",
       "      <td>003.400.946-99</td>\n",
       "      <td>2020-11-24</td>\n",
       "      <td>São Joaquim de Bicas</td>\n",
       "      <td>MG</td>\n",
       "      <td>5</td>\n",
       "      <td>999999</td>\n",
       "      <td>1</td>\n",
       "      <td>Ativa</td>\n",
       "      <td>NaN</td>\n",
       "      <td>24.0</td>\n",
       "      <td>79.0</td>\n",
       "      <td>NaN</td>\n",
       "      <td>3.5</td>\n",
       "      <td>2022-02-24</td>\n",
       "      <td>NaT</td>\n",
       "    </tr>\n",
       "    <tr>\n",
       "      <th>3376</th>\n",
       "      <td>OPX Imóveis Ltda</td>\n",
       "      <td>contato@opx.imb.br</td>\n",
       "      <td>(47) 99105-0022</td>\n",
       "      <td>22.439.170/0001-00</td>\n",
       "      <td>2021-12-01</td>\n",
       "      <td>Balneário Piçarras</td>\n",
       "      <td>SC</td>\n",
       "      <td>30</td>\n",
       "      <td>999999</td>\n",
       "      <td>5</td>\n",
       "      <td>Ativa</td>\n",
       "      <td>NaN</td>\n",
       "      <td>10.0</td>\n",
       "      <td>175.0</td>\n",
       "      <td>NaN</td>\n",
       "      <td>3.5</td>\n",
       "      <td>2022-02-10</td>\n",
       "      <td>NaT</td>\n",
       "    </tr>\n",
       "    <tr>\n",
       "      <th>3464</th>\n",
       "      <td>Paulo Dias Corretor de Imóveis</td>\n",
       "      <td>comercial@paulodiascorretorhp.com.br</td>\n",
       "      <td>(47) 99666-5971</td>\n",
       "      <td>34.595.951/0001-72</td>\n",
       "      <td>2022-01-07</td>\n",
       "      <td>Balneário Camboriu</td>\n",
       "      <td>SC</td>\n",
       "      <td>10</td>\n",
       "      <td>999999</td>\n",
       "      <td>1</td>\n",
       "      <td>Ativa</td>\n",
       "      <td>NaN</td>\n",
       "      <td>21.0</td>\n",
       "      <td>120.0</td>\n",
       "      <td>NaN</td>\n",
       "      <td>3.5</td>\n",
       "      <td>2022-01-21</td>\n",
       "      <td>NaT</td>\n",
       "    </tr>\n",
       "    <tr>\n",
       "      <th>3580</th>\n",
       "      <td>Porto Seguro Imoveis Ltda</td>\n",
       "      <td>financeiro@portosegimoveis.com.br</td>\n",
       "      <td>(19) 34758444</td>\n",
       "      <td>54.015.755/0001-99</td>\n",
       "      <td>2021-01-16</td>\n",
       "      <td>Americana</td>\n",
       "      <td>SP</td>\n",
       "      <td>10</td>\n",
       "      <td>999999</td>\n",
       "      <td>1</td>\n",
       "      <td>Ativa</td>\n",
       "      <td>NaN</td>\n",
       "      <td>15.0</td>\n",
       "      <td>120.0</td>\n",
       "      <td>NaN</td>\n",
       "      <td>3.5</td>\n",
       "      <td>2022-03-15</td>\n",
       "      <td>NaT</td>\n",
       "    </tr>\n",
       "    <tr>\n",
       "      <th>3605</th>\n",
       "      <td>Prime Imóveis Ltda</td>\n",
       "      <td>contato@primeimoveispg.com.br</td>\n",
       "      <td>(13) 99197-7365</td>\n",
       "      <td>16.876.752/0001-50</td>\n",
       "      <td>2022-02-02</td>\n",
       "      <td>Praia Grande</td>\n",
       "      <td>SP</td>\n",
       "      <td>10</td>\n",
       "      <td>999999</td>\n",
       "      <td>1</td>\n",
       "      <td>Ativa</td>\n",
       "      <td>NaN</td>\n",
       "      <td>5.0</td>\n",
       "      <td>120.0</td>\n",
       "      <td>NaN</td>\n",
       "      <td>3.5</td>\n",
       "      <td>2022-02-04</td>\n",
       "      <td>NaT</td>\n",
       "    </tr>\n",
       "    <tr>\n",
       "      <th>3608</th>\n",
       "      <td>Princal - Administração, Agricultura e Imóveis...</td>\n",
       "      <td>financeiro@princal.com.br</td>\n",
       "      <td>(11) 97414-1587</td>\n",
       "      <td>60.859.550/0001-92</td>\n",
       "      <td>2021-12-15</td>\n",
       "      <td>São Paulo</td>\n",
       "      <td>SP</td>\n",
       "      <td>10</td>\n",
       "      <td>999999</td>\n",
       "      <td>1</td>\n",
       "      <td>Ativa</td>\n",
       "      <td>NaN</td>\n",
       "      <td>18.0</td>\n",
       "      <td>120.0</td>\n",
       "      <td>NaN</td>\n",
       "      <td>3.5</td>\n",
       "      <td>2022-02-18</td>\n",
       "      <td>NaT</td>\n",
       "    </tr>\n",
       "    <tr>\n",
       "      <th>3850</th>\n",
       "      <td>RICARLOS MACIEL ARAUJO EIRELI</td>\n",
       "      <td>rmaraujo.mao@gmail.com</td>\n",
       "      <td>(92) 99181-2646</td>\n",
       "      <td>36.039.111/0001-59</td>\n",
       "      <td>2021-01-30</td>\n",
       "      <td>MANAUS</td>\n",
       "      <td>AM</td>\n",
       "      <td>10</td>\n",
       "      <td>999999</td>\n",
       "      <td>1</td>\n",
       "      <td>Ativa</td>\n",
       "      <td>NaN</td>\n",
       "      <td>10.0</td>\n",
       "      <td>104.5</td>\n",
       "      <td>NaN</td>\n",
       "      <td>3.5</td>\n",
       "      <td>2022-03-10</td>\n",
       "      <td>NaT</td>\n",
       "    </tr>\n",
       "    <tr>\n",
       "      <th>3973</th>\n",
       "      <td>Rozinardo serafim da luz</td>\n",
       "      <td>tekoserafim@gmail.com</td>\n",
       "      <td>(47) 99233-2255</td>\n",
       "      <td>206.677.418-95</td>\n",
       "      <td>2022-01-04</td>\n",
       "      <td>Blumenau</td>\n",
       "      <td>SC</td>\n",
       "      <td>10</td>\n",
       "      <td>999999</td>\n",
       "      <td>1</td>\n",
       "      <td>Ativa</td>\n",
       "      <td>NaN</td>\n",
       "      <td>11.0</td>\n",
       "      <td>120.0</td>\n",
       "      <td>NaN</td>\n",
       "      <td>3.5</td>\n",
       "      <td>2022-01-11</td>\n",
       "      <td>NaT</td>\n",
       "    </tr>\n",
       "    <tr>\n",
       "      <th>4088</th>\n",
       "      <td>Shirley Soares</td>\n",
       "      <td>shirleyamd1@hotmail.com</td>\n",
       "      <td>(31) 99191-1698</td>\n",
       "      <td>073.246.306-85</td>\n",
       "      <td>2021-10-19</td>\n",
       "      <td>Ribeirão das Neves</td>\n",
       "      <td>MG</td>\n",
       "      <td>10</td>\n",
       "      <td>999999</td>\n",
       "      <td>1</td>\n",
       "      <td>Ativa</td>\n",
       "      <td>NaN</td>\n",
       "      <td>15.0</td>\n",
       "      <td>120.0</td>\n",
       "      <td>NaN</td>\n",
       "      <td>3.5</td>\n",
       "      <td>2022-01-15</td>\n",
       "      <td>NaT</td>\n",
       "    </tr>\n",
       "    <tr>\n",
       "      <th>4167</th>\n",
       "      <td>Solução Imobiliária Ltda</td>\n",
       "      <td>vistoria@solucaoimobiliaria.com</td>\n",
       "      <td>(33) 3276-8949</td>\n",
       "      <td>15.656.797/0001-57</td>\n",
       "      <td>2022-02-11</td>\n",
       "      <td>Governador Valadares</td>\n",
       "      <td>MG</td>\n",
       "      <td>10</td>\n",
       "      <td>999999</td>\n",
       "      <td>1</td>\n",
       "      <td>Ativa</td>\n",
       "      <td>NaN</td>\n",
       "      <td>14.0</td>\n",
       "      <td>110.0</td>\n",
       "      <td>NaN</td>\n",
       "      <td>3.5</td>\n",
       "      <td>2022-02-14</td>\n",
       "      <td>NaT</td>\n",
       "    </tr>\n",
       "    <tr>\n",
       "      <th>4381</th>\n",
       "      <td>Ugara Felipe Ferreira</td>\n",
       "      <td>ugarafelipe@gmail.com</td>\n",
       "      <td>(31) 99282-5681</td>\n",
       "      <td>36.227.554/0001-73</td>\n",
       "      <td>2022-01-05</td>\n",
       "      <td>Belo Horizonte</td>\n",
       "      <td>MG</td>\n",
       "      <td>10</td>\n",
       "      <td>999999</td>\n",
       "      <td>1</td>\n",
       "      <td>Ativa</td>\n",
       "      <td>NaN</td>\n",
       "      <td>8.0</td>\n",
       "      <td>120.0</td>\n",
       "      <td>NaN</td>\n",
       "      <td>3.5</td>\n",
       "      <td>2022-01-08</td>\n",
       "      <td>NaT</td>\n",
       "    </tr>\n",
       "    <tr>\n",
       "      <th>4439</th>\n",
       "      <td>Vanessa Macção Camilo e Castro</td>\n",
       "      <td>vanessacamilotti2014@gmail.com</td>\n",
       "      <td>(21) 96720-2054</td>\n",
       "      <td>111.947.727-14</td>\n",
       "      <td>2021-05-24</td>\n",
       "      <td>Rio de Janeiro</td>\n",
       "      <td>RJ</td>\n",
       "      <td>10</td>\n",
       "      <td>999999</td>\n",
       "      <td>1</td>\n",
       "      <td>Ativa</td>\n",
       "      <td>NaN</td>\n",
       "      <td>14.0</td>\n",
       "      <td>120.0</td>\n",
       "      <td>NaN</td>\n",
       "      <td>3.5</td>\n",
       "      <td>2022-02-14</td>\n",
       "      <td>NaT</td>\n",
       "    </tr>\n",
       "    <tr>\n",
       "      <th>4479</th>\n",
       "      <td>VIGS NEGÓCIOS IMOBILIÁRIOS LTDA ME</td>\n",
       "      <td>amanda@vigs.com.br</td>\n",
       "      <td>(11) 42493110</td>\n",
       "      <td>25.176.783/0001-90</td>\n",
       "      <td>2021-01-16</td>\n",
       "      <td>Santo André</td>\n",
       "      <td>SP</td>\n",
       "      <td>10</td>\n",
       "      <td>999999</td>\n",
       "      <td>1</td>\n",
       "      <td>Ativa</td>\n",
       "      <td>NaN</td>\n",
       "      <td>15.0</td>\n",
       "      <td>110.0</td>\n",
       "      <td>NaN</td>\n",
       "      <td>3.5</td>\n",
       "      <td>2022-03-15</td>\n",
       "      <td>NaT</td>\n",
       "    </tr>\n",
       "    <tr>\n",
       "      <th>4580</th>\n",
       "      <td>WAGNER PEREIRA CLAUDIO 01389186601</td>\n",
       "      <td>vaguinho01@hotmail.com</td>\n",
       "      <td>(31) 99331-4823</td>\n",
       "      <td>32.321.600/0001-48</td>\n",
       "      <td>2020-01-28</td>\n",
       "      <td>BETIM</td>\n",
       "      <td>MG</td>\n",
       "      <td>20</td>\n",
       "      <td>999999</td>\n",
       "      <td>3</td>\n",
       "      <td>Ativa</td>\n",
       "      <td>NaN</td>\n",
       "      <td>5.0</td>\n",
       "      <td>155.0</td>\n",
       "      <td>NaN</td>\n",
       "      <td>3.5</td>\n",
       "      <td>2022-02-03</td>\n",
       "      <td>NaT</td>\n",
       "    </tr>\n",
       "    <tr>\n",
       "      <th>4629</th>\n",
       "      <td>William Ferreira</td>\n",
       "      <td>williamfms20@gmail.com</td>\n",
       "      <td>(11) 987745948</td>\n",
       "      <td>489.192.368-79</td>\n",
       "      <td>2020-07-09</td>\n",
       "      <td>São Paulo</td>\n",
       "      <td>SP</td>\n",
       "      <td>10</td>\n",
       "      <td>999999</td>\n",
       "      <td>11</td>\n",
       "      <td>Ativa</td>\n",
       "      <td>NaN</td>\n",
       "      <td>5.0</td>\n",
       "      <td>140.0</td>\n",
       "      <td>NaN</td>\n",
       "      <td>3.5</td>\n",
       "      <td>2022-01-05</td>\n",
       "      <td>NaT</td>\n",
       "    </tr>\n",
       "    <tr>\n",
       "      <th>4638</th>\n",
       "      <td>Willians Meda Empreendimentos Imobiliários LTDA</td>\n",
       "      <td>anamaria.abud@hotmail.com</td>\n",
       "      <td>(11) 2441-4141</td>\n",
       "      <td>08.974.648/0001-70</td>\n",
       "      <td>2021-01-22</td>\n",
       "      <td>Guarulhos</td>\n",
       "      <td>SP</td>\n",
       "      <td>10</td>\n",
       "      <td>999999</td>\n",
       "      <td>1</td>\n",
       "      <td>Ativa</td>\n",
       "      <td>NaN</td>\n",
       "      <td>17.0</td>\n",
       "      <td>120.0</td>\n",
       "      <td>NaN</td>\n",
       "      <td>3.5</td>\n",
       "      <td>2022-02-17</td>\n",
       "      <td>NaT</td>\n",
       "    </tr>\n",
       "  </tbody>\n",
       "</table>\n",
       "</div>"
      ],
      "text/plain": [
       "                                                   nome  \\\n",
       "4     2W MEIRA CORRETORA E EMPREENDIMENTOS IMÓBILIAR...   \n",
       "64                                           Administra   \n",
       "195           ALIANCA CONSULTORIA DE IMOVEIS LTDA - ME    \n",
       "291                                  Anderson de Arruda   \n",
       "441            Atuale Empreendimentos Imobiliários Ltda   \n",
       "479                             Barbagallo Imóveis LTDA   \n",
       "522                 BESTLAR NEGOCIOS IMOBILIARIOS LTDA    \n",
       "536                                  Block Imóveis LTDA   \n",
       "553            Botelho empreendimentos imobiliaria Ltda   \n",
       "811                              Cirag Imobiliária LTDA   \n",
       "1026                                         Dc Imoveis   \n",
       "1072                                    DHG Consultoria   \n",
       "1250   Elite corretagem e Administração de imóveis ltda   \n",
       "1366                             Everton Tavares Vilela   \n",
       "1372                                     Exacto Imoveis   \n",
       "1396                                      Fabiano souza   \n",
       "1448                            FELGUS ENGENHARIA LTDA.   \n",
       "1797                     Habitar Soluções Imobiliárias    \n",
       "1921                         Imobiliária Altreiter LTDA   \n",
       "1925                          Imobiliária Aquino eireli   \n",
       "1973                                  Imobiliária Immig   \n",
       "2198                      JDIAS CONSULTORIA IMOBILIÁRIA   \n",
       "2419                    Júlio César dos Santos Messias    \n",
       "2667                   LL ADMINISTRAÇÃO DE IMÓVEIS LTDA   \n",
       "2758                 LUCILENE INTERMEDIÇOES IMOBILIARIA   \n",
       "2957                             Marcos Antônio Moraes    \n",
       "2979                   MARCUS ALLAN MASTROPASQUA SOUTO    \n",
       "3004         Maria de Fatima Itaparica Nascimento Zucco   \n",
       "3076                                  MATSUMOTO IMOVEIS   \n",
       "3164                            Mil casa imóveis Eireli   \n",
       "3376                                   OPX Imóveis Ltda   \n",
       "3464                     Paulo Dias Corretor de Imóveis   \n",
       "3580                          Porto Seguro Imoveis Ltda   \n",
       "3605                                 Prime Imóveis Ltda   \n",
       "3608  Princal - Administração, Agricultura e Imóveis...   \n",
       "3850                      RICARLOS MACIEL ARAUJO EIRELI   \n",
       "3973                           Rozinardo serafim da luz   \n",
       "4088                                     Shirley Soares   \n",
       "4167                           Solução Imobiliária Ltda   \n",
       "4381                              Ugara Felipe Ferreira   \n",
       "4439                     Vanessa Macção Camilo e Castro   \n",
       "4479                 VIGS NEGÓCIOS IMOBILIÁRIOS LTDA ME   \n",
       "4580                 WAGNER PEREIRA CLAUDIO 01389186601   \n",
       "4629                                  William Ferreira    \n",
       "4638    Willians Meda Empreendimentos Imobiliários LTDA   \n",
       "\n",
       "                                     email         telefone  \\\n",
       "4                        2wmeira@gmail.com  (66) 99929-5409   \n",
       "64               contato@administra.com.br  (61) 99695-0257   \n",
       "195               valdemar@aliancaimob.com              NaN   \n",
       "291              andersonarruda@bol.com.br  (11) 96087-6858   \n",
       "441       alessandro@atualeimobiliaria.com  (19) 97141-3361   \n",
       "479               adm.barbagallo@gmail.com  (11) 94724-0992   \n",
       "522             fabio.valle@bestlar.com.br   (11) 989884001   \n",
       "536            wallace@blockimoveis.com.br  (21) 98556-3825   \n",
       "553            annabotelho@lokatell.com.br  (45) 99821-9991   \n",
       "811                 vistorias@cirag.com.br   (11) 938015594   \n",
       "1026             daiana@dcimoveissc.com.br   (47) 3345-0324   \n",
       "1072                diogohgarcia@gmail.com  (12) 99776-0926   \n",
       "1250          eliteimobiliariarj@gmail.com  (21) 96834-4451   \n",
       "1366           everton_vilela@yahoo.com.br  (24) 98808-5221   \n",
       "1372   administrativo@exactoimoveis.com.br  (19) 99346-7044   \n",
       "1396           fabianoreferencia@gmail.com  (31) 99904-9267   \n",
       "1448              cezarernani@terra.com.br  (11) 97616-4366   \n",
       "1797           fabianadebastiani@gmail.com   (66) 9224-6722   \n",
       "1921   atendimento@altreiterimoveis.com.br  (54) 99171-2001   \n",
       "1925              denio@denioaquino.com.br   (62) 3943-2151   \n",
       "1973            imobiliariaimmig@gmail.com  (51) 98030-9520   \n",
       "2198                admjdias.imb@gmail.com  (16) 99795-5687   \n",
       "2419              jcesarsmessias@gmail.com  (31) 99499-2597   \n",
       "2667         luciana@decisaoimoveis.com.br   (31) 3048-4455   \n",
       "2758        boletos@lucilenepereira.com.br   (67) 999244646   \n",
       "2957        mmvistorias@mmvistorias.com.br  (31) 98443-7621   \n",
       "2979        marcusmastropasqua@hotmail.com  (48) 99916-0998   \n",
       "3004              faitaitaparica@gmail.com  (71) 98506-9279   \n",
       "3076     contato@matsumotocorretora.com.br   (67) 999795062   \n",
       "3164               marceloomb100@gmail.com   (31) 988809973   \n",
       "3376                    contato@opx.imb.br  (47) 99105-0022   \n",
       "3464  comercial@paulodiascorretorhp.com.br  (47) 99666-5971   \n",
       "3580     financeiro@portosegimoveis.com.br    (19) 34758444   \n",
       "3605         contato@primeimoveispg.com.br  (13) 99197-7365   \n",
       "3608             financeiro@princal.com.br  (11) 97414-1587   \n",
       "3850                rmaraujo.mao@gmail.com  (92) 99181-2646   \n",
       "3973                 tekoserafim@gmail.com  (47) 99233-2255   \n",
       "4088               shirleyamd1@hotmail.com  (31) 99191-1698   \n",
       "4167       vistoria@solucaoimobiliaria.com   (33) 3276-8949   \n",
       "4381                 ugarafelipe@gmail.com  (31) 99282-5681   \n",
       "4439        vanessacamilotti2014@gmail.com  (21) 96720-2054   \n",
       "4479                    amanda@vigs.com.br    (11) 42493110   \n",
       "4580                vaguinho01@hotmail.com  (31) 99331-4823   \n",
       "4629                williamfms20@gmail.com   (11) 987745948   \n",
       "4638             anamaria.abud@hotmail.com   (11) 2441-4141   \n",
       "\n",
       "                CPF/CNPJ dtcadastro                 cidade  uf  qtdvistoria  \\\n",
       "4     30.809.995/0001-05 2022-02-05                Sorriso  MT           30   \n",
       "64    10.426.167/0001-72 2021-08-12              Brasília   DF           10   \n",
       "195   03.265.351/0001-12 2021-01-16            UBERLANDIA   MG           10   \n",
       "291       261.953.878-51 2021-08-23              Sao Paulo  SP           10   \n",
       "441   19.217.904/0001-00 2022-01-03                 Sumaré  SP           30   \n",
       "479   22.800.025/0001-02 2022-01-26  São Bernardo do Campo  SP           10   \n",
       "522   10.783.341/0001-34 2020-07-27                  Cotia  SP           10   \n",
       "536   26.475.689/0001-02 2022-02-16         Rio de Janeiro  RJ           30   \n",
       "553   72.218.993/0001-83 2020-08-18              Cascavel   PR           80   \n",
       "811   13.750.503/0001-26 2021-01-16              São Paulo  SP           10   \n",
       "1026  26.529.193/0001-66 2021-11-09                  Penha  SC            5   \n",
       "1072      320.575.968-00 2022-03-04               Caçapava  SP           20   \n",
       "1250  41.853.954/0001-24 2021-09-12            Nova iguacu  RJ           10   \n",
       "1366      028.331.617-94 2022-02-20         Miguel Pereira  RJ           20   \n",
       "1372  22.961.776/0001-00 2022-01-12               Campinas  SP           10   \n",
       "1396      048.421.016-52 2021-03-17        Barão de cocais  MG           10   \n",
       "1448  09.243.976/0001-60 2021-11-01              São Paulo  SP           80   \n",
       "1797  39.815.102/0001-09 2021-05-26               Sorriso   MT           10   \n",
       "1921  08.955.741/0001-38 2022-02-14                Gramado  RS           10   \n",
       "1925  16.926.967/0001-39 2021-10-04               ANAPOLIS  GO           20   \n",
       "1973  44.270.107/0001-25 2022-01-04         Estância Velha  RS           30   \n",
       "2198  40.588.313/0001-27 2022-02-01            Jaboticabal  SP           10   \n",
       "2419      111.181.866-56 2022-02-03         Santa Barbara   MG           10   \n",
       "2667  14.624.228/0001-67 2021-01-15         Belo Horizonte  MG           10   \n",
       "2758  10.582.320/0001-50 2020-09-21          CAMPO GRANDE   MS           30   \n",
       "2957      044.243.406-51 2022-01-23                 Betim   MG           10   \n",
       "2979      080.737.379-65 2021-11-28              São José   SC           10   \n",
       "3004      105.015.095-34 2022-03-01               Salvador  BA           10   \n",
       "3076  11.349.494/0001-30 2020-07-08            TRES LAGOAS  MS           10   \n",
       "3164      003.400.946-99 2020-11-24   São Joaquim de Bicas  MG            5   \n",
       "3376  22.439.170/0001-00 2021-12-01     Balneário Piçarras  SC           30   \n",
       "3464  34.595.951/0001-72 2022-01-07     Balneário Camboriu  SC           10   \n",
       "3580  54.015.755/0001-99 2021-01-16              Americana  SP           10   \n",
       "3605  16.876.752/0001-50 2022-02-02           Praia Grande  SP           10   \n",
       "3608  60.859.550/0001-92 2021-12-15              São Paulo  SP           10   \n",
       "3850  36.039.111/0001-59 2021-01-30                 MANAUS  AM           10   \n",
       "3973      206.677.418-95 2022-01-04               Blumenau  SC           10   \n",
       "4088      073.246.306-85 2021-10-19     Ribeirão das Neves  MG           10   \n",
       "4167  15.656.797/0001-57 2022-02-11   Governador Valadares  MG           10   \n",
       "4381  36.227.554/0001-73 2022-01-05         Belo Horizonte  MG           10   \n",
       "4439      111.947.727-14 2021-05-24         Rio de Janeiro  RJ           10   \n",
       "4479  25.176.783/0001-90 2021-01-16            Santo André  SP           10   \n",
       "4580  32.321.600/0001-48 2020-01-28                  BETIM  MG           20   \n",
       "4629      489.192.368-79 2020-07-09             São Paulo   SP           10   \n",
       "4638  08.974.648/0001-70 2021-01-22              Guarulhos  SP           10   \n",
       "\n",
       "      qtdfoto  armazenamento situacao limiteteste  vencimento  valor  \\\n",
       "4      999999              5    Ativa         NaN         8.0  159.0   \n",
       "64     999999              1    Ativa         NaN        15.0  110.0   \n",
       "195    999999              1    Ativa         NaN        11.0  120.0   \n",
       "291    999999              1    Ativa         NaN         5.0  120.0   \n",
       "441    999999              5    Ativa         NaN        13.0  175.0   \n",
       "479    999999              1    Ativa         NaN        26.0  110.0   \n",
       "522    999999              1    Ativa         NaN         7.0  110.0   \n",
       "536    999999             15    Ativa         NaN         5.0  179.0   \n",
       "553    999999             20    Ativa         NaN         9.0  305.0   \n",
       "811    999999              1    Ativa         NaN        25.0  120.0   \n",
       "1026   999999              1    Ativa         NaN         6.0   89.0   \n",
       "1072   999999              3    Ativa         NaN         8.0  140.0   \n",
       "1250   999999              1    Ativa         NaN        24.0  120.0   \n",
       "1366   999999              1    Ativa         NaN         5.0  155.0   \n",
       "1372   999999              1    Ativa         NaN         7.0  120.0   \n",
       "1396   999999              1    Ativa         NaN        16.0  120.0   \n",
       "1448   999999             20    Ativa         NaN        12.0  305.0   \n",
       "1797   999999              1    Ativa         NaN        20.0  120.0   \n",
       "1921   999999              1    Ativa         NaN        18.0  110.0   \n",
       "1925   999999              3    Ativa         NaN        18.0  140.0   \n",
       "1973   999999              5    Ativa         NaN         8.0  159.0   \n",
       "2198   999999              1    Ativa         NaN         5.0  120.0   \n",
       "2419   999999              1    Ativa         NaN        10.0  120.0   \n",
       "2667   999999              1    Ativa         NaN        15.0  120.0   \n",
       "2758   999999             15    Ativa         NaN        24.0  188.9   \n",
       "2957   999999              1    Ativa         NaN        26.0  120.0   \n",
       "2979   999999              1    Ativa         NaN        14.0  120.0   \n",
       "3004   999999              1    Ativa         NaN         5.0  110.0   \n",
       "3076   999999              1    Ativa         NaN        25.0  110.0   \n",
       "3164   999999              1    Ativa         NaN        24.0   79.0   \n",
       "3376   999999              5    Ativa         NaN        10.0  175.0   \n",
       "3464   999999              1    Ativa         NaN        21.0  120.0   \n",
       "3580   999999              1    Ativa         NaN        15.0  120.0   \n",
       "3605   999999              1    Ativa         NaN         5.0  120.0   \n",
       "3608   999999              1    Ativa         NaN        18.0  120.0   \n",
       "3850   999999              1    Ativa         NaN        10.0  104.5   \n",
       "3973   999999              1    Ativa         NaN        11.0  120.0   \n",
       "4088   999999              1    Ativa         NaN        15.0  120.0   \n",
       "4167   999999              1    Ativa         NaN        14.0  110.0   \n",
       "4381   999999              1    Ativa         NaN         8.0  120.0   \n",
       "4439   999999              1    Ativa         NaN        14.0  120.0   \n",
       "4479   999999              1    Ativa         NaN        15.0  110.0   \n",
       "4580   999999              3    Ativa         NaN         5.0  155.0   \n",
       "4629   999999             11    Ativa         NaN         5.0  140.0   \n",
       "4638   999999              1    Ativa         NaN        17.0  120.0   \n",
       "\n",
       "      desconto  vistoriaadd   dtcompra dtcancelamento  \n",
       "4          NaN          3.5 2022-02-08            NaT  \n",
       "64        10.0          3.5 2022-02-02            NaT  \n",
       "195        NaN          3.5 2022-01-11            NaT  \n",
       "291        NaN          3.5 2022-03-04            NaT  \n",
       "441        NaN          3.5 2022-01-13            NaT  \n",
       "479        NaN          3.5 2022-01-29            NaT  \n",
       "522       10.0          3.5 2022-03-07            NaT  \n",
       "536        NaN          3.5 2022-03-03            NaT  \n",
       "553        NaN          3.5 2022-03-09            NaT  \n",
       "811        NaN          3.5 2022-02-25            NaT  \n",
       "1026       NaN          3.5 2022-01-06            NaT  \n",
       "1072       NaN          3.5 2022-03-08            NaT  \n",
       "1250       NaN          3.5 2022-02-24            NaT  \n",
       "1366      50.0          3.5 2022-03-03            NaT  \n",
       "1372      50.0          3.5 2022-03-07            NaT  \n",
       "1396       NaN          3.5 2022-02-16            NaT  \n",
       "1448       NaN          3.5 2022-01-12            NaT  \n",
       "1797       NaN          3.5 2022-01-20            NaT  \n",
       "1921       NaN          3.5 2022-02-18            NaT  \n",
       "1925       NaN          3.5 2022-02-18            NaT  \n",
       "1973       NaN          3.5 2022-01-08            NaT  \n",
       "2198       NaN          3.5 2022-02-02            NaT  \n",
       "2419       NaN          3.5 2022-03-10            NaT  \n",
       "2667       NaN          3.5 2022-02-15            NaT  \n",
       "2758       NaN          3.5 2022-02-24            NaT  \n",
       "2957       NaN          3.5 2022-01-31            NaT  \n",
       "2979       NaN          3.5 2022-03-14            NaT  \n",
       "3004       NaN          3.5 2022-03-03            NaT  \n",
       "3076       NaN          3.5 2022-01-25            NaT  \n",
       "3164       NaN          3.5 2022-02-24            NaT  \n",
       "3376       NaN          3.5 2022-02-10            NaT  \n",
       "3464       NaN          3.5 2022-01-21            NaT  \n",
       "3580       NaN          3.5 2022-03-15            NaT  \n",
       "3605       NaN          3.5 2022-02-04            NaT  \n",
       "3608       NaN          3.5 2022-02-18            NaT  \n",
       "3850       NaN          3.5 2022-03-10            NaT  \n",
       "3973       NaN          3.5 2022-01-11            NaT  \n",
       "4088       NaN          3.5 2022-01-15            NaT  \n",
       "4167       NaN          3.5 2022-02-14            NaT  \n",
       "4381       NaN          3.5 2022-01-08            NaT  \n",
       "4439       NaN          3.5 2022-02-14            NaT  \n",
       "4479       NaN          3.5 2022-03-15            NaT  \n",
       "4580       NaN          3.5 2022-02-03            NaT  \n",
       "4629       NaN          3.5 2022-01-05            NaT  \n",
       "4638       NaN          3.5 2022-02-17            NaT  "
      ]
     },
     "execution_count": 38,
     "metadata": {},
     "output_type": "execute_result"
    }
   ],
   "source": [
    "df_emp_ativo = df_emp[(df_emp['situacao'] == 'Ativa') & (df_emp['dtcompra'] > '01/01/2022')]\n",
    "df_emp_ativo"
   ]
  },
  {
   "cell_type": "markdown",
   "id": "f30bdf19",
   "metadata": {},
   "source": [
    "Criando a columa Mês em cada DF"
   ]
  },
  {
   "cell_type": "code",
   "execution_count": 39,
   "id": "c3ed12b7",
   "metadata": {},
   "outputs": [],
   "source": [
    "df_emp_testando['mes'] = pd.DatetimeIndex(df_emp_testando['dtcadastro']).month\n",
    "# df_emp_gratuito['mes'] = pd.DatetimeIndex(df_emp_gratuito['dtcadastro']).month\n",
    "df_emp_ativo['mes'] = pd.DatetimeIndex(df_emp_ativo['dtcompra']).month"
   ]
  },
  {
   "cell_type": "markdown",
   "id": "78c5c136",
   "metadata": {},
   "source": [
    "# Convertendo o número do mês em string (Ex: 01 em Jan)"
   ]
  },
  {
   "cell_type": "code",
   "execution_count": 40,
   "id": "1e852a46",
   "metadata": {},
   "outputs": [],
   "source": [
    "# import calendar\n",
    "# result_gratis = []\n",
    "# for i in df_emp_gratuito['mes']:\n",
    "#     result_gratis.append(calendar.month_abbr[i])\n",
    "# df_emp_gratuito['month'] = result_gratis\n",
    "# print(result_gratis)"
   ]
  },
  {
   "cell_type": "code",
   "execution_count": 41,
   "id": "76db39dd",
   "metadata": {},
   "outputs": [
    {
     "name": "stdout",
     "output_type": "stream",
     "text": [
      "['Mar', 'Jan', 'Jan', 'Jan', 'Mar', 'Jan', 'Feb', 'Jan', 'Feb', 'Mar', 'Mar', 'Mar', 'Feb', 'Jan', 'Jan', 'Feb', 'Feb', 'Feb', 'Feb', 'Jan', 'Mar', 'Jan', 'Feb', 'Feb', 'Jan', 'Jan', 'Jan', 'Feb', 'Jan', 'Feb', 'Feb', 'Mar', 'Feb', 'Feb', 'Mar', 'Jan', 'Mar', 'Jan', 'Feb', 'Feb', 'Feb', 'Mar', 'Feb', 'Mar', 'Feb', 'Jan', 'Jan', 'Feb', 'Jan', 'Jan', 'Feb', 'Jan', 'Jan', 'Feb', 'Jan', 'Jan', 'Mar', 'Jan', 'Feb', 'Jan', 'Jan', 'Jan', 'Jan', 'Jan', 'Jan', 'Mar', 'Jan', 'Feb', 'Feb', 'Mar', 'Feb', 'Feb', 'Mar', 'Feb', 'Jan', 'Feb', 'Mar', 'Jan', 'Feb', 'Jan', 'Jan', 'Jan', 'Jan', 'Jan', 'Mar', 'Mar', 'Jan', 'Feb', 'Mar', 'Feb', 'Jan', 'Jan', 'Mar', 'Jan', 'Feb', 'Feb', 'Mar', 'Feb', 'Jan', 'Feb', 'Feb', 'Feb', 'Jan', 'Feb', 'Jan', 'Mar', 'Mar', 'Jan', 'Jan', 'Jan', 'Jan', 'Jan', 'Mar', 'Mar', 'Feb', 'Mar', 'Jan', 'Jan', 'Mar', 'Jan', 'Jan', 'Jan', 'Jan', 'Feb', 'Mar', 'Feb', 'Feb', 'Mar', 'Jan', 'Feb', 'Mar', 'Feb', 'Feb', 'Jan', 'Jan', 'Jan', 'Jan', 'Feb', 'Jan', 'Feb', 'Jan', 'Mar', 'Mar', 'Feb', 'Feb', 'Jan', 'Feb', 'Feb', 'Feb', 'Mar', 'Jan', 'Mar', 'Jan', 'Jan', 'Feb', 'Mar', 'Mar', 'Mar', 'Jan', 'Mar', 'Jan', 'Feb', 'Feb', 'Feb', 'Feb', 'Jan', 'Jan', 'Feb', 'Feb', 'Jan', 'Jan', 'Feb', 'Feb', 'Jan', 'Feb', 'Feb', 'Feb', 'Jan', 'Jan', 'Feb', 'Feb', 'Jan', 'Mar', 'Feb', 'Jan', 'Jan', 'Jan', 'Jan', 'Feb', 'Feb', 'Jan', 'Mar', 'Jan', 'Jan', 'Jan', 'Feb', 'Jan', 'Jan', 'Feb', 'Feb', 'Mar', 'Jan', 'Jan', 'Feb', 'Feb', 'Feb', 'Jan', 'Feb', 'Jan', 'Jan', 'Mar', 'Feb', 'Mar', 'Jan', 'Jan', 'Jan', 'Feb', 'Jan', 'Jan', 'Feb', 'Feb', 'Jan', 'Jan', 'Jan', 'Feb', 'Feb', 'Feb', 'Feb', 'Jan', 'Jan', 'Jan', 'Jan', 'Jan', 'Jan', 'Jan', 'Jan', 'Feb', 'Mar', 'Mar', 'Mar', 'Jan', 'Jan', 'Jan', 'Mar', 'Mar', 'Jan', 'Jan', 'Feb', 'Mar', 'Mar', 'Mar', 'Feb', 'Jan', 'Mar', 'Jan', 'Mar', 'Feb', 'Jan', 'Feb', 'Mar', 'Jan', 'Feb', 'Feb', 'Jan', 'Feb', 'Jan', 'Jan', 'Feb', 'Mar', 'Feb', 'Feb', 'Feb', 'Jan', 'Jan', 'Jan', 'Mar', 'Jan', 'Jan', 'Jan', 'Feb', 'Jan', 'Jan', 'Jan', 'Feb', 'Jan', 'Feb', 'Mar', 'Feb', 'Jan', 'Jan', 'Jan', 'Mar', 'Jan', 'Jan', 'Feb', 'Jan', 'Mar', 'Mar', 'Feb', 'Feb', 'Jan', 'Jan', 'Feb', 'Feb', 'Jan', 'Feb', 'Jan', 'Jan', 'Jan', 'Jan', 'Feb', 'Jan', 'Feb', 'Mar', 'Feb', 'Jan', 'Jan', 'Feb', 'Feb', 'Feb', 'Feb', 'Mar', 'Feb', 'Mar', 'Jan', 'Jan', 'Jan', 'Jan', 'Feb', 'Jan', 'Feb', 'Jan', 'Feb', 'Jan', 'Feb', 'Feb', 'Feb', 'Mar', 'Mar', 'Feb', 'Jan', 'Feb', 'Jan', 'Jan', 'Mar', 'Jan', 'Mar', 'Feb', 'Jan', 'Jan', 'Feb', 'Jan', 'Jan', 'Mar']\n"
     ]
    }
   ],
   "source": [
    "import calendar\n",
    "result_test = []\n",
    "for i in df_emp_testando['mes']:\n",
    "    result_test.append(calendar.month_abbr[i])\n",
    "df_emp_testando['month'] = result_test\n",
    "print(result_test)"
   ]
  },
  {
   "cell_type": "code",
   "execution_count": 42,
   "id": "42ac6eaf",
   "metadata": {},
   "outputs": [
    {
     "name": "stdout",
     "output_type": "stream",
     "text": [
      "['Feb', 'Feb', 'Jan', 'Mar', 'Jan', 'Jan', 'Mar', 'Mar', 'Mar', 'Feb', 'Jan', 'Mar', 'Feb', 'Mar', 'Mar', 'Feb', 'Jan', 'Jan', 'Feb', 'Feb', 'Jan', 'Feb', 'Mar', 'Feb', 'Feb', 'Jan', 'Mar', 'Mar', 'Jan', 'Feb', 'Feb', 'Jan', 'Mar', 'Feb', 'Feb', 'Mar', 'Jan', 'Jan', 'Feb', 'Jan', 'Feb', 'Mar', 'Feb', 'Jan', 'Feb']\n"
     ]
    }
   ],
   "source": [
    "import calendar\n",
    "result_ativo = []\n",
    "for i in df_emp_ativo['mes']:\n",
    "    result_ativo.append(calendar.month_abbr[i])\n",
    "df_emp_ativo['month'] = result_ativo\n",
    "print(result_ativo)"
   ]
  },
  {
   "cell_type": "code",
   "execution_count": 43,
   "id": "6b1162b1",
   "metadata": {},
   "outputs": [],
   "source": [
    "#apagando coluna de mês antiga\n",
    "df_emp_testando.drop('mes', axis=1, inplace=True)\n",
    "# df_emp_gratuito.drop('mes', axis=1, inplace=True)\n",
    "df_emp_ativo.drop('mes', axis=1, inplace=True)"
   ]
  },
  {
   "cell_type": "markdown",
   "id": "51cd2078",
   "metadata": {},
   "source": [
    "# Deixando todos os dados na ordem de mês corretamente"
   ]
  },
  {
   "cell_type": "code",
   "execution_count": 44,
   "id": "19fd2c5f",
   "metadata": {},
   "outputs": [
    {
     "data": {
      "text/html": [
       "<div>\n",
       "<style scoped>\n",
       "    .dataframe tbody tr th:only-of-type {\n",
       "        vertical-align: middle;\n",
       "    }\n",
       "\n",
       "    .dataframe tbody tr th {\n",
       "        vertical-align: top;\n",
       "    }\n",
       "\n",
       "    .dataframe thead th {\n",
       "        text-align: right;\n",
       "    }\n",
       "</style>\n",
       "<table border=\"1\" class=\"dataframe\">\n",
       "  <thead>\n",
       "    <tr style=\"text-align: right;\">\n",
       "      <th></th>\n",
       "      <th>month</th>\n",
       "      <th>Total</th>\n",
       "    </tr>\n",
       "  </thead>\n",
       "  <tbody>\n",
       "    <tr>\n",
       "      <th>0</th>\n",
       "      <td>Feb</td>\n",
       "      <td>125</td>\n",
       "    </tr>\n",
       "    <tr>\n",
       "      <th>1</th>\n",
       "      <td>Jan</td>\n",
       "      <td>161</td>\n",
       "    </tr>\n",
       "    <tr>\n",
       "      <th>2</th>\n",
       "      <td>Mar</td>\n",
       "      <td>68</td>\n",
       "    </tr>\n",
       "  </tbody>\n",
       "</table>\n",
       "</div>"
      ],
      "text/plain": [
       "  month  Total\n",
       "0   Feb    125\n",
       "1   Jan    161\n",
       "2   Mar     68"
      ]
     },
     "execution_count": 44,
     "metadata": {},
     "output_type": "execute_result"
    }
   ],
   "source": [
    "df_emp_testando_gr = df_emp_testando.groupby(['month']).size().reset_index(name='Total')\n",
    "df_emp_testando_gr"
   ]
  },
  {
   "cell_type": "code",
   "execution_count": 45,
   "id": "b25ebae9",
   "metadata": {},
   "outputs": [
    {
     "data": {
      "text/html": [
       "<div>\n",
       "<style scoped>\n",
       "    .dataframe tbody tr th:only-of-type {\n",
       "        vertical-align: middle;\n",
       "    }\n",
       "\n",
       "    .dataframe tbody tr th {\n",
       "        vertical-align: top;\n",
       "    }\n",
       "\n",
       "    .dataframe thead th {\n",
       "        text-align: right;\n",
       "    }\n",
       "</style>\n",
       "<table border=\"1\" class=\"dataframe\">\n",
       "  <thead>\n",
       "    <tr style=\"text-align: right;\">\n",
       "      <th></th>\n",
       "      <th>month</th>\n",
       "      <th>Total</th>\n",
       "    </tr>\n",
       "  </thead>\n",
       "  <tbody>\n",
       "    <tr>\n",
       "      <th>0</th>\n",
       "      <td>Feb</td>\n",
       "      <td>18</td>\n",
       "    </tr>\n",
       "    <tr>\n",
       "      <th>1</th>\n",
       "      <td>Jan</td>\n",
       "      <td>14</td>\n",
       "    </tr>\n",
       "    <tr>\n",
       "      <th>2</th>\n",
       "      <td>Mar</td>\n",
       "      <td>13</td>\n",
       "    </tr>\n",
       "  </tbody>\n",
       "</table>\n",
       "</div>"
      ],
      "text/plain": [
       "  month  Total\n",
       "0   Feb     18\n",
       "1   Jan     14\n",
       "2   Mar     13"
      ]
     },
     "execution_count": 45,
     "metadata": {},
     "output_type": "execute_result"
    }
   ],
   "source": [
    "df_emp_ativo_gr = df_emp_ativo.groupby(['month']).size().reset_index(name='Total')\n",
    "df_emp_ativo_gr"
   ]
  },
  {
   "cell_type": "code",
   "execution_count": 46,
   "id": "370139e6",
   "metadata": {},
   "outputs": [
    {
     "data": {
      "text/html": [
       "<div>\n",
       "<style scoped>\n",
       "    .dataframe tbody tr th:only-of-type {\n",
       "        vertical-align: middle;\n",
       "    }\n",
       "\n",
       "    .dataframe tbody tr th {\n",
       "        vertical-align: top;\n",
       "    }\n",
       "\n",
       "    .dataframe thead th {\n",
       "        text-align: right;\n",
       "    }\n",
       "</style>\n",
       "<table border=\"1\" class=\"dataframe\">\n",
       "  <thead>\n",
       "    <tr style=\"text-align: right;\">\n",
       "      <th></th>\n",
       "      <th>month</th>\n",
       "      <th>Total</th>\n",
       "    </tr>\n",
       "  </thead>\n",
       "  <tbody>\n",
       "    <tr>\n",
       "      <th>109</th>\n",
       "      <td>jan</td>\n",
       "      <td>1.114</td>\n",
       "    </tr>\n",
       "    <tr>\n",
       "      <th>110</th>\n",
       "      <td>fev</td>\n",
       "      <td>1.044</td>\n",
       "    </tr>\n",
       "    <tr>\n",
       "      <th>111</th>\n",
       "      <td>mar</td>\n",
       "      <td>594.000</td>\n",
       "    </tr>\n",
       "  </tbody>\n",
       "</table>\n",
       "</div>"
      ],
      "text/plain": [
       "    month    Total\n",
       "109   jan    1.114\n",
       "110   fev    1.044\n",
       "111   mar  594.000"
      ]
     },
     "execution_count": 46,
     "metadata": {},
     "output_type": "execute_result"
    }
   ],
   "source": [
    "df"
   ]
  },
  {
   "cell_type": "code",
   "execution_count": 47,
   "id": "12546e99",
   "metadata": {},
   "outputs": [
    {
     "data": {
      "text/html": [
       "<div>\n",
       "<style scoped>\n",
       "    .dataframe tbody tr th:only-of-type {\n",
       "        vertical-align: middle;\n",
       "    }\n",
       "\n",
       "    .dataframe tbody tr th {\n",
       "        vertical-align: top;\n",
       "    }\n",
       "\n",
       "    .dataframe thead th {\n",
       "        text-align: right;\n",
       "    }\n",
       "</style>\n",
       "<table border=\"1\" class=\"dataframe\">\n",
       "  <thead>\n",
       "    <tr style=\"text-align: right;\">\n",
       "      <th></th>\n",
       "      <th>month</th>\n",
       "      <th>Total</th>\n",
       "    </tr>\n",
       "  </thead>\n",
       "  <tbody>\n",
       "    <tr>\n",
       "      <th>1</th>\n",
       "      <td>Jan</td>\n",
       "      <td>161</td>\n",
       "    </tr>\n",
       "    <tr>\n",
       "      <th>0</th>\n",
       "      <td>Feb</td>\n",
       "      <td>125</td>\n",
       "    </tr>\n",
       "    <tr>\n",
       "      <th>2</th>\n",
       "      <td>Mar</td>\n",
       "      <td>68</td>\n",
       "    </tr>\n",
       "  </tbody>\n",
       "</table>\n",
       "</div>"
      ],
      "text/plain": [
       "  month  Total\n",
       "1   Jan    161\n",
       "0   Feb    125\n",
       "2   Mar     68"
      ]
     },
     "execution_count": 47,
     "metadata": {},
     "output_type": "execute_result"
    }
   ],
   "source": [
    "#ordenando os meses corretamente usando Categorical\n",
    "months = [\"Jan\",\"Feb\", \"Mar\"]\n",
    "df_emp_testando_gr['month'] = pd.Categorical(df_emp_testando_gr['month'], categories=months, ordered=True)\n",
    "df_emp_testando_gr.sort_values(by='month', ascending = True, inplace=True)\n",
    "\n",
    "df_emp_testando_gr"
   ]
  },
  {
   "cell_type": "code",
   "execution_count": 55,
   "id": "00aefec1",
   "metadata": {},
   "outputs": [
    {
     "name": "stdout",
     "output_type": "stream",
     "text": [
      "596.158\n"
     ]
    }
   ],
   "source": [
    "print(df['Total'].sum())"
   ]
  },
  {
   "cell_type": "markdown",
   "id": "9640a93e",
   "metadata": {},
   "source": [
    "# Preparando DF para o funil"
   ]
  },
  {
   "cell_type": "code",
   "execution_count": 57,
   "id": "c35f9479",
   "metadata": {},
   "outputs": [],
   "source": [
    "data_table = [['etapas', 'Values'],\n",
    "               ['leads', df['Total'].sum()],\n",
    "               ['testando', df_emp_testando_gr['Total'].sum()],\n",
    "               ['assinado', df_emp_ativo_gr['Total'].sum()]]"
   ]
  },
  {
   "cell_type": "code",
   "execution_count": 58,
   "id": "d457b78a",
   "metadata": {},
   "outputs": [
    {
     "data": {
      "text/plain": [
       "[['etapas', 'Values'], ['leads', 596.158], ['testando', 354], ['assinado', 45]]"
      ]
     },
     "execution_count": 58,
     "metadata": {},
     "output_type": "execute_result"
    }
   ],
   "source": [
    "#verificando tabela criada\n",
    "data_table"
   ]
  },
  {
   "cell_type": "code",
   "execution_count": 59,
   "id": "8175494e",
   "metadata": {},
   "outputs": [
    {
     "data": {
      "application/vnd.plotly.v1+json": {
       "config": {
        "linkText": "Export to plot.ly",
        "plotlyServerURL": "https://plot.ly",
        "showLink": false
       },
       "data": [
        {
         "colorscale": [
          [
           0,
           "#00083e"
          ],
          [
           0.5,
           "#ededee"
          ],
          [
           1,
           "#ffffff"
          ]
         ],
         "hoverinfo": "none",
         "opacity": 0.75,
         "showscale": false,
         "type": "heatmap",
         "z": [
          [
           0,
           0
          ],
          [
           0.5,
           0.5
          ],
          [
           1,
           1
          ],
          [
           0.5,
           0.5
          ]
         ]
        }
       ],
       "layout": {
        "annotations": [
         {
          "align": "left",
          "font": {
           "color": "#ffffff"
          },
          "showarrow": false,
          "text": "<b>etapas</b>",
          "x": -0.45,
          "xanchor": "left",
          "xref": "x",
          "y": 0,
          "yref": "y"
         },
         {
          "align": "left",
          "font": {
           "color": "#ffffff"
          },
          "showarrow": false,
          "text": "<b>Values</b>",
          "x": 0.55,
          "xanchor": "left",
          "xref": "x",
          "y": 0,
          "yref": "y"
         },
         {
          "align": "left",
          "font": {
           "color": "#000000"
          },
          "showarrow": false,
          "text": "leads",
          "x": -0.45,
          "xanchor": "left",
          "xref": "x",
          "y": 1,
          "yref": "y"
         },
         {
          "align": "left",
          "font": {
           "color": "#000000"
          },
          "showarrow": false,
          "text": "596.158",
          "x": 0.55,
          "xanchor": "left",
          "xref": "x",
          "y": 1,
          "yref": "y"
         },
         {
          "align": "left",
          "font": {
           "color": "#000000"
          },
          "showarrow": false,
          "text": "testando",
          "x": -0.45,
          "xanchor": "left",
          "xref": "x",
          "y": 2,
          "yref": "y"
         },
         {
          "align": "left",
          "font": {
           "color": "#000000"
          },
          "showarrow": false,
          "text": "354",
          "x": 0.55,
          "xanchor": "left",
          "xref": "x",
          "y": 2,
          "yref": "y"
         },
         {
          "align": "left",
          "font": {
           "color": "#000000"
          },
          "showarrow": false,
          "text": "assinado",
          "x": -0.45,
          "xanchor": "left",
          "xref": "x",
          "y": 3,
          "yref": "y"
         },
         {
          "align": "left",
          "font": {
           "color": "#000000"
          },
          "showarrow": false,
          "text": "45",
          "x": 0.55,
          "xanchor": "left",
          "xref": "x",
          "y": 3,
          "yref": "y"
         }
        ],
        "height": 170,
        "margin": {
         "b": 0,
         "l": 0,
         "r": 0,
         "t": 0
        },
        "template": {
         "data": {
          "bar": [
           {
            "error_x": {
             "color": "#2a3f5f"
            },
            "error_y": {
             "color": "#2a3f5f"
            },
            "marker": {
             "line": {
              "color": "#E5ECF6",
              "width": 0.5
             },
             "pattern": {
              "fillmode": "overlay",
              "size": 10,
              "solidity": 0.2
             }
            },
            "type": "bar"
           }
          ],
          "barpolar": [
           {
            "marker": {
             "line": {
              "color": "#E5ECF6",
              "width": 0.5
             },
             "pattern": {
              "fillmode": "overlay",
              "size": 10,
              "solidity": 0.2
             }
            },
            "type": "barpolar"
           }
          ],
          "carpet": [
           {
            "aaxis": {
             "endlinecolor": "#2a3f5f",
             "gridcolor": "white",
             "linecolor": "white",
             "minorgridcolor": "white",
             "startlinecolor": "#2a3f5f"
            },
            "baxis": {
             "endlinecolor": "#2a3f5f",
             "gridcolor": "white",
             "linecolor": "white",
             "minorgridcolor": "white",
             "startlinecolor": "#2a3f5f"
            },
            "type": "carpet"
           }
          ],
          "choropleth": [
           {
            "colorbar": {
             "outlinewidth": 0,
             "ticks": ""
            },
            "type": "choropleth"
           }
          ],
          "contour": [
           {
            "colorbar": {
             "outlinewidth": 0,
             "ticks": ""
            },
            "colorscale": [
             [
              0,
              "#0d0887"
             ],
             [
              0.1111111111111111,
              "#46039f"
             ],
             [
              0.2222222222222222,
              "#7201a8"
             ],
             [
              0.3333333333333333,
              "#9c179e"
             ],
             [
              0.4444444444444444,
              "#bd3786"
             ],
             [
              0.5555555555555556,
              "#d8576b"
             ],
             [
              0.6666666666666666,
              "#ed7953"
             ],
             [
              0.7777777777777778,
              "#fb9f3a"
             ],
             [
              0.8888888888888888,
              "#fdca26"
             ],
             [
              1,
              "#f0f921"
             ]
            ],
            "type": "contour"
           }
          ],
          "contourcarpet": [
           {
            "colorbar": {
             "outlinewidth": 0,
             "ticks": ""
            },
            "type": "contourcarpet"
           }
          ],
          "heatmap": [
           {
            "colorbar": {
             "outlinewidth": 0,
             "ticks": ""
            },
            "colorscale": [
             [
              0,
              "#0d0887"
             ],
             [
              0.1111111111111111,
              "#46039f"
             ],
             [
              0.2222222222222222,
              "#7201a8"
             ],
             [
              0.3333333333333333,
              "#9c179e"
             ],
             [
              0.4444444444444444,
              "#bd3786"
             ],
             [
              0.5555555555555556,
              "#d8576b"
             ],
             [
              0.6666666666666666,
              "#ed7953"
             ],
             [
              0.7777777777777778,
              "#fb9f3a"
             ],
             [
              0.8888888888888888,
              "#fdca26"
             ],
             [
              1,
              "#f0f921"
             ]
            ],
            "type": "heatmap"
           }
          ],
          "heatmapgl": [
           {
            "colorbar": {
             "outlinewidth": 0,
             "ticks": ""
            },
            "colorscale": [
             [
              0,
              "#0d0887"
             ],
             [
              0.1111111111111111,
              "#46039f"
             ],
             [
              0.2222222222222222,
              "#7201a8"
             ],
             [
              0.3333333333333333,
              "#9c179e"
             ],
             [
              0.4444444444444444,
              "#bd3786"
             ],
             [
              0.5555555555555556,
              "#d8576b"
             ],
             [
              0.6666666666666666,
              "#ed7953"
             ],
             [
              0.7777777777777778,
              "#fb9f3a"
             ],
             [
              0.8888888888888888,
              "#fdca26"
             ],
             [
              1,
              "#f0f921"
             ]
            ],
            "type": "heatmapgl"
           }
          ],
          "histogram": [
           {
            "marker": {
             "pattern": {
              "fillmode": "overlay",
              "size": 10,
              "solidity": 0.2
             }
            },
            "type": "histogram"
           }
          ],
          "histogram2d": [
           {
            "colorbar": {
             "outlinewidth": 0,
             "ticks": ""
            },
            "colorscale": [
             [
              0,
              "#0d0887"
             ],
             [
              0.1111111111111111,
              "#46039f"
             ],
             [
              0.2222222222222222,
              "#7201a8"
             ],
             [
              0.3333333333333333,
              "#9c179e"
             ],
             [
              0.4444444444444444,
              "#bd3786"
             ],
             [
              0.5555555555555556,
              "#d8576b"
             ],
             [
              0.6666666666666666,
              "#ed7953"
             ],
             [
              0.7777777777777778,
              "#fb9f3a"
             ],
             [
              0.8888888888888888,
              "#fdca26"
             ],
             [
              1,
              "#f0f921"
             ]
            ],
            "type": "histogram2d"
           }
          ],
          "histogram2dcontour": [
           {
            "colorbar": {
             "outlinewidth": 0,
             "ticks": ""
            },
            "colorscale": [
             [
              0,
              "#0d0887"
             ],
             [
              0.1111111111111111,
              "#46039f"
             ],
             [
              0.2222222222222222,
              "#7201a8"
             ],
             [
              0.3333333333333333,
              "#9c179e"
             ],
             [
              0.4444444444444444,
              "#bd3786"
             ],
             [
              0.5555555555555556,
              "#d8576b"
             ],
             [
              0.6666666666666666,
              "#ed7953"
             ],
             [
              0.7777777777777778,
              "#fb9f3a"
             ],
             [
              0.8888888888888888,
              "#fdca26"
             ],
             [
              1,
              "#f0f921"
             ]
            ],
            "type": "histogram2dcontour"
           }
          ],
          "mesh3d": [
           {
            "colorbar": {
             "outlinewidth": 0,
             "ticks": ""
            },
            "type": "mesh3d"
           }
          ],
          "parcoords": [
           {
            "line": {
             "colorbar": {
              "outlinewidth": 0,
              "ticks": ""
             }
            },
            "type": "parcoords"
           }
          ],
          "pie": [
           {
            "automargin": true,
            "type": "pie"
           }
          ],
          "scatter": [
           {
            "marker": {
             "colorbar": {
              "outlinewidth": 0,
              "ticks": ""
             }
            },
            "type": "scatter"
           }
          ],
          "scatter3d": [
           {
            "line": {
             "colorbar": {
              "outlinewidth": 0,
              "ticks": ""
             }
            },
            "marker": {
             "colorbar": {
              "outlinewidth": 0,
              "ticks": ""
             }
            },
            "type": "scatter3d"
           }
          ],
          "scattercarpet": [
           {
            "marker": {
             "colorbar": {
              "outlinewidth": 0,
              "ticks": ""
             }
            },
            "type": "scattercarpet"
           }
          ],
          "scattergeo": [
           {
            "marker": {
             "colorbar": {
              "outlinewidth": 0,
              "ticks": ""
             }
            },
            "type": "scattergeo"
           }
          ],
          "scattergl": [
           {
            "marker": {
             "colorbar": {
              "outlinewidth": 0,
              "ticks": ""
             }
            },
            "type": "scattergl"
           }
          ],
          "scattermapbox": [
           {
            "marker": {
             "colorbar": {
              "outlinewidth": 0,
              "ticks": ""
             }
            },
            "type": "scattermapbox"
           }
          ],
          "scatterpolar": [
           {
            "marker": {
             "colorbar": {
              "outlinewidth": 0,
              "ticks": ""
             }
            },
            "type": "scatterpolar"
           }
          ],
          "scatterpolargl": [
           {
            "marker": {
             "colorbar": {
              "outlinewidth": 0,
              "ticks": ""
             }
            },
            "type": "scatterpolargl"
           }
          ],
          "scatterternary": [
           {
            "marker": {
             "colorbar": {
              "outlinewidth": 0,
              "ticks": ""
             }
            },
            "type": "scatterternary"
           }
          ],
          "surface": [
           {
            "colorbar": {
             "outlinewidth": 0,
             "ticks": ""
            },
            "colorscale": [
             [
              0,
              "#0d0887"
             ],
             [
              0.1111111111111111,
              "#46039f"
             ],
             [
              0.2222222222222222,
              "#7201a8"
             ],
             [
              0.3333333333333333,
              "#9c179e"
             ],
             [
              0.4444444444444444,
              "#bd3786"
             ],
             [
              0.5555555555555556,
              "#d8576b"
             ],
             [
              0.6666666666666666,
              "#ed7953"
             ],
             [
              0.7777777777777778,
              "#fb9f3a"
             ],
             [
              0.8888888888888888,
              "#fdca26"
             ],
             [
              1,
              "#f0f921"
             ]
            ],
            "type": "surface"
           }
          ],
          "table": [
           {
            "cells": {
             "fill": {
              "color": "#EBF0F8"
             },
             "line": {
              "color": "white"
             }
            },
            "header": {
             "fill": {
              "color": "#C8D4E3"
             },
             "line": {
              "color": "white"
             }
            },
            "type": "table"
           }
          ]
         },
         "layout": {
          "annotationdefaults": {
           "arrowcolor": "#2a3f5f",
           "arrowhead": 0,
           "arrowwidth": 1
          },
          "autotypenumbers": "strict",
          "coloraxis": {
           "colorbar": {
            "outlinewidth": 0,
            "ticks": ""
           }
          },
          "colorscale": {
           "diverging": [
            [
             0,
             "#8e0152"
            ],
            [
             0.1,
             "#c51b7d"
            ],
            [
             0.2,
             "#de77ae"
            ],
            [
             0.3,
             "#f1b6da"
            ],
            [
             0.4,
             "#fde0ef"
            ],
            [
             0.5,
             "#f7f7f7"
            ],
            [
             0.6,
             "#e6f5d0"
            ],
            [
             0.7,
             "#b8e186"
            ],
            [
             0.8,
             "#7fbc41"
            ],
            [
             0.9,
             "#4d9221"
            ],
            [
             1,
             "#276419"
            ]
           ],
           "sequential": [
            [
             0,
             "#0d0887"
            ],
            [
             0.1111111111111111,
             "#46039f"
            ],
            [
             0.2222222222222222,
             "#7201a8"
            ],
            [
             0.3333333333333333,
             "#9c179e"
            ],
            [
             0.4444444444444444,
             "#bd3786"
            ],
            [
             0.5555555555555556,
             "#d8576b"
            ],
            [
             0.6666666666666666,
             "#ed7953"
            ],
            [
             0.7777777777777778,
             "#fb9f3a"
            ],
            [
             0.8888888888888888,
             "#fdca26"
            ],
            [
             1,
             "#f0f921"
            ]
           ],
           "sequentialminus": [
            [
             0,
             "#0d0887"
            ],
            [
             0.1111111111111111,
             "#46039f"
            ],
            [
             0.2222222222222222,
             "#7201a8"
            ],
            [
             0.3333333333333333,
             "#9c179e"
            ],
            [
             0.4444444444444444,
             "#bd3786"
            ],
            [
             0.5555555555555556,
             "#d8576b"
            ],
            [
             0.6666666666666666,
             "#ed7953"
            ],
            [
             0.7777777777777778,
             "#fb9f3a"
            ],
            [
             0.8888888888888888,
             "#fdca26"
            ],
            [
             1,
             "#f0f921"
            ]
           ]
          },
          "colorway": [
           "#636efa",
           "#EF553B",
           "#00cc96",
           "#ab63fa",
           "#FFA15A",
           "#19d3f3",
           "#FF6692",
           "#B6E880",
           "#FF97FF",
           "#FECB52"
          ],
          "font": {
           "color": "#2a3f5f"
          },
          "geo": {
           "bgcolor": "white",
           "lakecolor": "white",
           "landcolor": "#E5ECF6",
           "showlakes": true,
           "showland": true,
           "subunitcolor": "white"
          },
          "hoverlabel": {
           "align": "left"
          },
          "hovermode": "closest",
          "mapbox": {
           "style": "light"
          },
          "paper_bgcolor": "white",
          "plot_bgcolor": "#E5ECF6",
          "polar": {
           "angularaxis": {
            "gridcolor": "white",
            "linecolor": "white",
            "ticks": ""
           },
           "bgcolor": "#E5ECF6",
           "radialaxis": {
            "gridcolor": "white",
            "linecolor": "white",
            "ticks": ""
           }
          },
          "scene": {
           "xaxis": {
            "backgroundcolor": "#E5ECF6",
            "gridcolor": "white",
            "gridwidth": 2,
            "linecolor": "white",
            "showbackground": true,
            "ticks": "",
            "zerolinecolor": "white"
           },
           "yaxis": {
            "backgroundcolor": "#E5ECF6",
            "gridcolor": "white",
            "gridwidth": 2,
            "linecolor": "white",
            "showbackground": true,
            "ticks": "",
            "zerolinecolor": "white"
           },
           "zaxis": {
            "backgroundcolor": "#E5ECF6",
            "gridcolor": "white",
            "gridwidth": 2,
            "linecolor": "white",
            "showbackground": true,
            "ticks": "",
            "zerolinecolor": "white"
           }
          },
          "shapedefaults": {
           "line": {
            "color": "#2a3f5f"
           }
          },
          "ternary": {
           "aaxis": {
            "gridcolor": "white",
            "linecolor": "white",
            "ticks": ""
           },
           "baxis": {
            "gridcolor": "white",
            "linecolor": "white",
            "ticks": ""
           },
           "bgcolor": "#E5ECF6",
           "caxis": {
            "gridcolor": "white",
            "linecolor": "white",
            "ticks": ""
           }
          },
          "title": {
           "x": 0.05
          },
          "xaxis": {
           "automargin": true,
           "gridcolor": "white",
           "linecolor": "white",
           "ticks": "",
           "title": {
            "standoff": 15
           },
           "zerolinecolor": "white",
           "zerolinewidth": 2
          },
          "yaxis": {
           "automargin": true,
           "gridcolor": "white",
           "linecolor": "white",
           "ticks": "",
           "title": {
            "standoff": 15
           },
           "zerolinecolor": "white",
           "zerolinewidth": 2
          }
         }
        },
        "xaxis": {
         "dtick": 1,
         "gridwidth": 2,
         "showticklabels": false,
         "tick0": -0.5,
         "ticks": "",
         "zeroline": false
        },
        "yaxis": {
         "autorange": "reversed",
         "dtick": 1,
         "gridwidth": 2,
         "showticklabels": false,
         "tick0": 0.5,
         "ticks": "",
         "zeroline": false
        }
       }
      },
      "text/html": [
       "<div>                            <div id=\"14871604-dc97-4d20-9e8d-9838db3ca42c\" class=\"plotly-graph-div\" style=\"height:170px; width:100%;\"></div>            <script type=\"text/javascript\">                require([\"plotly\"], function(Plotly) {                    window.PLOTLYENV=window.PLOTLYENV || {};                                    if (document.getElementById(\"14871604-dc97-4d20-9e8d-9838db3ca42c\")) {                    Plotly.newPlot(                        \"14871604-dc97-4d20-9e8d-9838db3ca42c\",                        [{\"colorscale\":[[0,\"#00083e\"],[0.5,\"#ededee\"],[1,\"#ffffff\"]],\"hoverinfo\":\"none\",\"opacity\":0.75,\"showscale\":false,\"z\":[[0,0],[0.5,0.5],[1,1],[0.5,0.5]],\"type\":\"heatmap\"}],                        {\"annotations\":[{\"align\":\"left\",\"font\":{\"color\":\"#ffffff\"},\"showarrow\":false,\"text\":\"<b>etapas</b>\",\"x\":-0.45,\"xanchor\":\"left\",\"xref\":\"x\",\"y\":0,\"yref\":\"y\"},{\"align\":\"left\",\"font\":{\"color\":\"#ffffff\"},\"showarrow\":false,\"text\":\"<b>Values</b>\",\"x\":0.55,\"xanchor\":\"left\",\"xref\":\"x\",\"y\":0,\"yref\":\"y\"},{\"align\":\"left\",\"font\":{\"color\":\"#000000\"},\"showarrow\":false,\"text\":\"leads\",\"x\":-0.45,\"xanchor\":\"left\",\"xref\":\"x\",\"y\":1,\"yref\":\"y\"},{\"align\":\"left\",\"font\":{\"color\":\"#000000\"},\"showarrow\":false,\"text\":\"596.158\",\"x\":0.55,\"xanchor\":\"left\",\"xref\":\"x\",\"y\":1,\"yref\":\"y\"},{\"align\":\"left\",\"font\":{\"color\":\"#000000\"},\"showarrow\":false,\"text\":\"testando\",\"x\":-0.45,\"xanchor\":\"left\",\"xref\":\"x\",\"y\":2,\"yref\":\"y\"},{\"align\":\"left\",\"font\":{\"color\":\"#000000\"},\"showarrow\":false,\"text\":\"354\",\"x\":0.55,\"xanchor\":\"left\",\"xref\":\"x\",\"y\":2,\"yref\":\"y\"},{\"align\":\"left\",\"font\":{\"color\":\"#000000\"},\"showarrow\":false,\"text\":\"assinado\",\"x\":-0.45,\"xanchor\":\"left\",\"xref\":\"x\",\"y\":3,\"yref\":\"y\"},{\"align\":\"left\",\"font\":{\"color\":\"#000000\"},\"showarrow\":false,\"text\":\"45\",\"x\":0.55,\"xanchor\":\"left\",\"xref\":\"x\",\"y\":3,\"yref\":\"y\"}],\"height\":170,\"margin\":{\"b\":0,\"l\":0,\"r\":0,\"t\":0},\"template\":{\"data\":{\"barpolar\":[{\"marker\":{\"line\":{\"color\":\"#E5ECF6\",\"width\":0.5},\"pattern\":{\"fillmode\":\"overlay\",\"size\":10,\"solidity\":0.2}},\"type\":\"barpolar\"}],\"bar\":[{\"error_x\":{\"color\":\"#2a3f5f\"},\"error_y\":{\"color\":\"#2a3f5f\"},\"marker\":{\"line\":{\"color\":\"#E5ECF6\",\"width\":0.5},\"pattern\":{\"fillmode\":\"overlay\",\"size\":10,\"solidity\":0.2}},\"type\":\"bar\"}],\"carpet\":[{\"aaxis\":{\"endlinecolor\":\"#2a3f5f\",\"gridcolor\":\"white\",\"linecolor\":\"white\",\"minorgridcolor\":\"white\",\"startlinecolor\":\"#2a3f5f\"},\"baxis\":{\"endlinecolor\":\"#2a3f5f\",\"gridcolor\":\"white\",\"linecolor\":\"white\",\"minorgridcolor\":\"white\",\"startlinecolor\":\"#2a3f5f\"},\"type\":\"carpet\"}],\"choropleth\":[{\"colorbar\":{\"outlinewidth\":0,\"ticks\":\"\"},\"type\":\"choropleth\"}],\"contourcarpet\":[{\"colorbar\":{\"outlinewidth\":0,\"ticks\":\"\"},\"type\":\"contourcarpet\"}],\"contour\":[{\"colorbar\":{\"outlinewidth\":0,\"ticks\":\"\"},\"colorscale\":[[0.0,\"#0d0887\"],[0.1111111111111111,\"#46039f\"],[0.2222222222222222,\"#7201a8\"],[0.3333333333333333,\"#9c179e\"],[0.4444444444444444,\"#bd3786\"],[0.5555555555555556,\"#d8576b\"],[0.6666666666666666,\"#ed7953\"],[0.7777777777777778,\"#fb9f3a\"],[0.8888888888888888,\"#fdca26\"],[1.0,\"#f0f921\"]],\"type\":\"contour\"}],\"heatmapgl\":[{\"colorbar\":{\"outlinewidth\":0,\"ticks\":\"\"},\"colorscale\":[[0.0,\"#0d0887\"],[0.1111111111111111,\"#46039f\"],[0.2222222222222222,\"#7201a8\"],[0.3333333333333333,\"#9c179e\"],[0.4444444444444444,\"#bd3786\"],[0.5555555555555556,\"#d8576b\"],[0.6666666666666666,\"#ed7953\"],[0.7777777777777778,\"#fb9f3a\"],[0.8888888888888888,\"#fdca26\"],[1.0,\"#f0f921\"]],\"type\":\"heatmapgl\"}],\"heatmap\":[{\"colorbar\":{\"outlinewidth\":0,\"ticks\":\"\"},\"colorscale\":[[0.0,\"#0d0887\"],[0.1111111111111111,\"#46039f\"],[0.2222222222222222,\"#7201a8\"],[0.3333333333333333,\"#9c179e\"],[0.4444444444444444,\"#bd3786\"],[0.5555555555555556,\"#d8576b\"],[0.6666666666666666,\"#ed7953\"],[0.7777777777777778,\"#fb9f3a\"],[0.8888888888888888,\"#fdca26\"],[1.0,\"#f0f921\"]],\"type\":\"heatmap\"}],\"histogram2dcontour\":[{\"colorbar\":{\"outlinewidth\":0,\"ticks\":\"\"},\"colorscale\":[[0.0,\"#0d0887\"],[0.1111111111111111,\"#46039f\"],[0.2222222222222222,\"#7201a8\"],[0.3333333333333333,\"#9c179e\"],[0.4444444444444444,\"#bd3786\"],[0.5555555555555556,\"#d8576b\"],[0.6666666666666666,\"#ed7953\"],[0.7777777777777778,\"#fb9f3a\"],[0.8888888888888888,\"#fdca26\"],[1.0,\"#f0f921\"]],\"type\":\"histogram2dcontour\"}],\"histogram2d\":[{\"colorbar\":{\"outlinewidth\":0,\"ticks\":\"\"},\"colorscale\":[[0.0,\"#0d0887\"],[0.1111111111111111,\"#46039f\"],[0.2222222222222222,\"#7201a8\"],[0.3333333333333333,\"#9c179e\"],[0.4444444444444444,\"#bd3786\"],[0.5555555555555556,\"#d8576b\"],[0.6666666666666666,\"#ed7953\"],[0.7777777777777778,\"#fb9f3a\"],[0.8888888888888888,\"#fdca26\"],[1.0,\"#f0f921\"]],\"type\":\"histogram2d\"}],\"histogram\":[{\"marker\":{\"pattern\":{\"fillmode\":\"overlay\",\"size\":10,\"solidity\":0.2}},\"type\":\"histogram\"}],\"mesh3d\":[{\"colorbar\":{\"outlinewidth\":0,\"ticks\":\"\"},\"type\":\"mesh3d\"}],\"parcoords\":[{\"line\":{\"colorbar\":{\"outlinewidth\":0,\"ticks\":\"\"}},\"type\":\"parcoords\"}],\"pie\":[{\"automargin\":true,\"type\":\"pie\"}],\"scatter3d\":[{\"line\":{\"colorbar\":{\"outlinewidth\":0,\"ticks\":\"\"}},\"marker\":{\"colorbar\":{\"outlinewidth\":0,\"ticks\":\"\"}},\"type\":\"scatter3d\"}],\"scattercarpet\":[{\"marker\":{\"colorbar\":{\"outlinewidth\":0,\"ticks\":\"\"}},\"type\":\"scattercarpet\"}],\"scattergeo\":[{\"marker\":{\"colorbar\":{\"outlinewidth\":0,\"ticks\":\"\"}},\"type\":\"scattergeo\"}],\"scattergl\":[{\"marker\":{\"colorbar\":{\"outlinewidth\":0,\"ticks\":\"\"}},\"type\":\"scattergl\"}],\"scattermapbox\":[{\"marker\":{\"colorbar\":{\"outlinewidth\":0,\"ticks\":\"\"}},\"type\":\"scattermapbox\"}],\"scatterpolargl\":[{\"marker\":{\"colorbar\":{\"outlinewidth\":0,\"ticks\":\"\"}},\"type\":\"scatterpolargl\"}],\"scatterpolar\":[{\"marker\":{\"colorbar\":{\"outlinewidth\":0,\"ticks\":\"\"}},\"type\":\"scatterpolar\"}],\"scatter\":[{\"marker\":{\"colorbar\":{\"outlinewidth\":0,\"ticks\":\"\"}},\"type\":\"scatter\"}],\"scatterternary\":[{\"marker\":{\"colorbar\":{\"outlinewidth\":0,\"ticks\":\"\"}},\"type\":\"scatterternary\"}],\"surface\":[{\"colorbar\":{\"outlinewidth\":0,\"ticks\":\"\"},\"colorscale\":[[0.0,\"#0d0887\"],[0.1111111111111111,\"#46039f\"],[0.2222222222222222,\"#7201a8\"],[0.3333333333333333,\"#9c179e\"],[0.4444444444444444,\"#bd3786\"],[0.5555555555555556,\"#d8576b\"],[0.6666666666666666,\"#ed7953\"],[0.7777777777777778,\"#fb9f3a\"],[0.8888888888888888,\"#fdca26\"],[1.0,\"#f0f921\"]],\"type\":\"surface\"}],\"table\":[{\"cells\":{\"fill\":{\"color\":\"#EBF0F8\"},\"line\":{\"color\":\"white\"}},\"header\":{\"fill\":{\"color\":\"#C8D4E3\"},\"line\":{\"color\":\"white\"}},\"type\":\"table\"}]},\"layout\":{\"annotationdefaults\":{\"arrowcolor\":\"#2a3f5f\",\"arrowhead\":0,\"arrowwidth\":1},\"autotypenumbers\":\"strict\",\"coloraxis\":{\"colorbar\":{\"outlinewidth\":0,\"ticks\":\"\"}},\"colorscale\":{\"diverging\":[[0,\"#8e0152\"],[0.1,\"#c51b7d\"],[0.2,\"#de77ae\"],[0.3,\"#f1b6da\"],[0.4,\"#fde0ef\"],[0.5,\"#f7f7f7\"],[0.6,\"#e6f5d0\"],[0.7,\"#b8e186\"],[0.8,\"#7fbc41\"],[0.9,\"#4d9221\"],[1,\"#276419\"]],\"sequential\":[[0.0,\"#0d0887\"],[0.1111111111111111,\"#46039f\"],[0.2222222222222222,\"#7201a8\"],[0.3333333333333333,\"#9c179e\"],[0.4444444444444444,\"#bd3786\"],[0.5555555555555556,\"#d8576b\"],[0.6666666666666666,\"#ed7953\"],[0.7777777777777778,\"#fb9f3a\"],[0.8888888888888888,\"#fdca26\"],[1.0,\"#f0f921\"]],\"sequentialminus\":[[0.0,\"#0d0887\"],[0.1111111111111111,\"#46039f\"],[0.2222222222222222,\"#7201a8\"],[0.3333333333333333,\"#9c179e\"],[0.4444444444444444,\"#bd3786\"],[0.5555555555555556,\"#d8576b\"],[0.6666666666666666,\"#ed7953\"],[0.7777777777777778,\"#fb9f3a\"],[0.8888888888888888,\"#fdca26\"],[1.0,\"#f0f921\"]]},\"colorway\":[\"#636efa\",\"#EF553B\",\"#00cc96\",\"#ab63fa\",\"#FFA15A\",\"#19d3f3\",\"#FF6692\",\"#B6E880\",\"#FF97FF\",\"#FECB52\"],\"font\":{\"color\":\"#2a3f5f\"},\"geo\":{\"bgcolor\":\"white\",\"lakecolor\":\"white\",\"landcolor\":\"#E5ECF6\",\"showlakes\":true,\"showland\":true,\"subunitcolor\":\"white\"},\"hoverlabel\":{\"align\":\"left\"},\"hovermode\":\"closest\",\"mapbox\":{\"style\":\"light\"},\"paper_bgcolor\":\"white\",\"plot_bgcolor\":\"#E5ECF6\",\"polar\":{\"angularaxis\":{\"gridcolor\":\"white\",\"linecolor\":\"white\",\"ticks\":\"\"},\"bgcolor\":\"#E5ECF6\",\"radialaxis\":{\"gridcolor\":\"white\",\"linecolor\":\"white\",\"ticks\":\"\"}},\"scene\":{\"xaxis\":{\"backgroundcolor\":\"#E5ECF6\",\"gridcolor\":\"white\",\"gridwidth\":2,\"linecolor\":\"white\",\"showbackground\":true,\"ticks\":\"\",\"zerolinecolor\":\"white\"},\"yaxis\":{\"backgroundcolor\":\"#E5ECF6\",\"gridcolor\":\"white\",\"gridwidth\":2,\"linecolor\":\"white\",\"showbackground\":true,\"ticks\":\"\",\"zerolinecolor\":\"white\"},\"zaxis\":{\"backgroundcolor\":\"#E5ECF6\",\"gridcolor\":\"white\",\"gridwidth\":2,\"linecolor\":\"white\",\"showbackground\":true,\"ticks\":\"\",\"zerolinecolor\":\"white\"}},\"shapedefaults\":{\"line\":{\"color\":\"#2a3f5f\"}},\"ternary\":{\"aaxis\":{\"gridcolor\":\"white\",\"linecolor\":\"white\",\"ticks\":\"\"},\"baxis\":{\"gridcolor\":\"white\",\"linecolor\":\"white\",\"ticks\":\"\"},\"bgcolor\":\"#E5ECF6\",\"caxis\":{\"gridcolor\":\"white\",\"linecolor\":\"white\",\"ticks\":\"\"}},\"title\":{\"x\":0.05},\"xaxis\":{\"automargin\":true,\"gridcolor\":\"white\",\"linecolor\":\"white\",\"ticks\":\"\",\"title\":{\"standoff\":15},\"zerolinecolor\":\"white\",\"zerolinewidth\":2},\"yaxis\":{\"automargin\":true,\"gridcolor\":\"white\",\"linecolor\":\"white\",\"ticks\":\"\",\"title\":{\"standoff\":15},\"zerolinecolor\":\"white\",\"zerolinewidth\":2}}},\"xaxis\":{\"dtick\":1,\"gridwidth\":2,\"showticklabels\":false,\"tick0\":-0.5,\"ticks\":\"\",\"zeroline\":false},\"yaxis\":{\"autorange\":\"reversed\",\"dtick\":1,\"gridwidth\":2,\"showticklabels\":false,\"tick0\":0.5,\"ticks\":\"\",\"zeroline\":false}},                        {\"responsive\": true}                    ).then(function(){\n",
       "                            \n",
       "var gd = document.getElementById('14871604-dc97-4d20-9e8d-9838db3ca42c');\n",
       "var x = new MutationObserver(function (mutations, observer) {{\n",
       "        var display = window.getComputedStyle(gd).display;\n",
       "        if (!display || display === 'none') {{\n",
       "            console.log([gd, 'removed!']);\n",
       "            Plotly.purge(gd);\n",
       "            observer.disconnect();\n",
       "        }}\n",
       "}});\n",
       "\n",
       "// Listen for the removal of the full notebook cells\n",
       "var notebookContainer = gd.closest('#notebook-container');\n",
       "if (notebookContainer) {{\n",
       "    x.observe(notebookContainer, {childList: true});\n",
       "}}\n",
       "\n",
       "// Listen for the clearing of the current output cell\n",
       "var outputEl = gd.closest('.output');\n",
       "if (outputEl) {{\n",
       "    x.observe(outputEl, {childList: true});\n",
       "}}\n",
       "\n",
       "                        })                };                });            </script>        </div>"
      ]
     },
     "metadata": {},
     "output_type": "display_data"
    }
   ],
   "source": [
    "#visualização melhor\n",
    "table = ff.create_table(data_table)\n",
    "iplot(table)"
   ]
  },
  {
   "cell_type": "code",
   "execution_count": 97,
   "id": "c8435109",
   "metadata": {},
   "outputs": [
    {
     "data": {
      "text/html": [
       "<div>\n",
       "<style scoped>\n",
       "    .dataframe tbody tr th:only-of-type {\n",
       "        vertical-align: middle;\n",
       "    }\n",
       "\n",
       "    .dataframe tbody tr th {\n",
       "        vertical-align: top;\n",
       "    }\n",
       "\n",
       "    .dataframe thead th {\n",
       "        text-align: right;\n",
       "    }\n",
       "</style>\n",
       "<table border=\"1\" class=\"dataframe\">\n",
       "  <thead>\n",
       "    <tr style=\"text-align: right;\">\n",
       "      <th></th>\n",
       "      <th>0</th>\n",
       "      <th>1</th>\n",
       "    </tr>\n",
       "  </thead>\n",
       "  <tbody>\n",
       "    <tr>\n",
       "      <th>0</th>\n",
       "      <td>etapas</td>\n",
       "      <td>Values</td>\n",
       "    </tr>\n",
       "    <tr>\n",
       "      <th>1</th>\n",
       "      <td>leads</td>\n",
       "      <td>596.158</td>\n",
       "    </tr>\n",
       "    <tr>\n",
       "      <th>2</th>\n",
       "      <td>testando</td>\n",
       "      <td>354</td>\n",
       "    </tr>\n",
       "    <tr>\n",
       "      <th>3</th>\n",
       "      <td>assinado</td>\n",
       "      <td>45</td>\n",
       "    </tr>\n",
       "  </tbody>\n",
       "</table>\n",
       "</div>"
      ],
      "text/plain": [
       "          0        1\n",
       "0    etapas   Values\n",
       "1     leads  596.158\n",
       "2  testando      354\n",
       "3  assinado       45"
      ]
     },
     "execution_count": 97,
     "metadata": {},
     "output_type": "execute_result"
    }
   ],
   "source": [
    "#criando um dataframe da tabela criada acima\n",
    "df_tb = pd.DataFrame(data_table)\n",
    "df_tb"
   ]
  },
  {
   "cell_type": "code",
   "execution_count": 98,
   "id": "a4056751",
   "metadata": {},
   "outputs": [
    {
     "data": {
      "text/html": [
       "<div>\n",
       "<style scoped>\n",
       "    .dataframe tbody tr th:only-of-type {\n",
       "        vertical-align: middle;\n",
       "    }\n",
       "\n",
       "    .dataframe tbody tr th {\n",
       "        vertical-align: top;\n",
       "    }\n",
       "\n",
       "    .dataframe thead th {\n",
       "        text-align: right;\n",
       "    }\n",
       "</style>\n",
       "<table border=\"1\" class=\"dataframe\">\n",
       "  <thead>\n",
       "    <tr style=\"text-align: right;\">\n",
       "      <th></th>\n",
       "      <th>etapas</th>\n",
       "      <th>Values</th>\n",
       "    </tr>\n",
       "  </thead>\n",
       "  <tbody>\n",
       "    <tr>\n",
       "      <th>1</th>\n",
       "      <td>leads</td>\n",
       "      <td>596.158</td>\n",
       "    </tr>\n",
       "    <tr>\n",
       "      <th>2</th>\n",
       "      <td>testando</td>\n",
       "      <td>354</td>\n",
       "    </tr>\n",
       "    <tr>\n",
       "      <th>3</th>\n",
       "      <td>assinado</td>\n",
       "      <td>45</td>\n",
       "    </tr>\n",
       "  </tbody>\n",
       "</table>\n",
       "</div>"
      ],
      "text/plain": [
       "0    etapas   Values\n",
       "1     leads  596.158\n",
       "2  testando      354\n",
       "3  assinado       45"
      ]
     },
     "execution_count": 98,
     "metadata": {},
     "output_type": "execute_result"
    }
   ],
   "source": [
    "#Transformando a primeira linha em header\n",
    "new_header = df_tb.iloc[0] #grab the first row for the header\n",
    "df_tb = df_tb[1:] #take the data less the header row\n",
    "df_tb.columns = new_header #set the header row as the df header\n",
    "df_tb"
   ]
  },
  {
   "cell_type": "code",
   "execution_count": 122,
   "id": "2e7ed4a7",
   "metadata": {},
   "outputs": [
    {
     "data": {
      "text/plain": [
       "(3, 2)"
      ]
     },
     "execution_count": 122,
     "metadata": {},
     "output_type": "execute_result"
    }
   ],
   "source": [
    "df_tb.shape"
   ]
  },
  {
   "cell_type": "code",
   "execution_count": 99,
   "id": "08506171",
   "metadata": {},
   "outputs": [
    {
     "data": {
      "text/plain": [
       "Index(['etapas', 'Values'], dtype='object', name=0)"
      ]
     },
     "execution_count": 99,
     "metadata": {},
     "output_type": "execute_result"
    }
   ],
   "source": [
    "df_tb.columns"
   ]
  },
  {
   "cell_type": "code",
   "execution_count": 100,
   "id": "61b70b6d",
   "metadata": {},
   "outputs": [
    {
     "data": {
      "text/plain": [
       "array([['leads', 596.158],\n",
       "       ['testando', 354],\n",
       "       ['assinado', 45]], dtype=object)"
      ]
     },
     "execution_count": 100,
     "metadata": {},
     "output_type": "execute_result"
    }
   ],
   "source": [
    "df_tb.values"
   ]
  },
  {
   "cell_type": "code",
   "execution_count": 101,
   "id": "3c26e254",
   "metadata": {},
   "outputs": [
    {
     "data": {
      "text/plain": [
       "(3, 2)"
      ]
     },
     "execution_count": 101,
     "metadata": {},
     "output_type": "execute_result"
    }
   ],
   "source": [
    "df_tb.shape"
   ]
  },
  {
   "cell_type": "code",
   "execution_count": 127,
   "id": "a9753090",
   "metadata": {},
   "outputs": [
    {
     "data": {
      "text/plain": [
       "[1    596.158\n",
       " 2        354\n",
       " 3         45\n",
       " Name: Values, dtype: object]"
      ]
     },
     "execution_count": 127,
     "metadata": {},
     "output_type": "execute_result"
    }
   ],
   "source": [
    "[df_tb['Values']]"
   ]
  },
  {
   "cell_type": "code",
   "execution_count": 131,
   "id": "3de6578f",
   "metadata": {},
   "outputs": [
    {
     "data": {
      "text/plain": [
       "[1       leads\n",
       " 2    testando\n",
       " 3    assinado\n",
       " Name: etapas, dtype: object]"
      ]
     },
     "execution_count": 131,
     "metadata": {},
     "output_type": "execute_result"
    }
   ],
   "source": [
    "[df_tb['etapas']]"
   ]
  },
  {
   "cell_type": "code",
   "execution_count": 157,
   "id": "90a4ba55",
   "metadata": {},
   "outputs": [],
   "source": [
    "df_tb.to_csv('../datasets/funil_trimestral.csv')"
   ]
  },
  {
   "cell_type": "markdown",
   "id": "1b7403b3",
   "metadata": {},
   "source": [
    "# Testando a visualização do funil"
   ]
  },
  {
   "cell_type": "code",
   "execution_count": 155,
   "id": "e3b1f165",
   "metadata": {},
   "outputs": [
    {
     "data": {
      "application/vnd.plotly.v1+json": {
       "config": {
        "plotlyServerURL": "https://plot.ly"
       },
       "data": [
        {
         "type": "funnel",
         "x": [
          596.158,
          354,
          45
         ],
         "y": [
          "leads",
          "testando",
          "assinado"
         ]
        }
       ],
       "layout": {
        "template": {
         "data": {
          "bar": [
           {
            "error_x": {
             "color": "#2a3f5f"
            },
            "error_y": {
             "color": "#2a3f5f"
            },
            "marker": {
             "line": {
              "color": "#E5ECF6",
              "width": 0.5
             },
             "pattern": {
              "fillmode": "overlay",
              "size": 10,
              "solidity": 0.2
             }
            },
            "type": "bar"
           }
          ],
          "barpolar": [
           {
            "marker": {
             "line": {
              "color": "#E5ECF6",
              "width": 0.5
             },
             "pattern": {
              "fillmode": "overlay",
              "size": 10,
              "solidity": 0.2
             }
            },
            "type": "barpolar"
           }
          ],
          "carpet": [
           {
            "aaxis": {
             "endlinecolor": "#2a3f5f",
             "gridcolor": "white",
             "linecolor": "white",
             "minorgridcolor": "white",
             "startlinecolor": "#2a3f5f"
            },
            "baxis": {
             "endlinecolor": "#2a3f5f",
             "gridcolor": "white",
             "linecolor": "white",
             "minorgridcolor": "white",
             "startlinecolor": "#2a3f5f"
            },
            "type": "carpet"
           }
          ],
          "choropleth": [
           {
            "colorbar": {
             "outlinewidth": 0,
             "ticks": ""
            },
            "type": "choropleth"
           }
          ],
          "contour": [
           {
            "colorbar": {
             "outlinewidth": 0,
             "ticks": ""
            },
            "colorscale": [
             [
              0,
              "#0d0887"
             ],
             [
              0.1111111111111111,
              "#46039f"
             ],
             [
              0.2222222222222222,
              "#7201a8"
             ],
             [
              0.3333333333333333,
              "#9c179e"
             ],
             [
              0.4444444444444444,
              "#bd3786"
             ],
             [
              0.5555555555555556,
              "#d8576b"
             ],
             [
              0.6666666666666666,
              "#ed7953"
             ],
             [
              0.7777777777777778,
              "#fb9f3a"
             ],
             [
              0.8888888888888888,
              "#fdca26"
             ],
             [
              1,
              "#f0f921"
             ]
            ],
            "type": "contour"
           }
          ],
          "contourcarpet": [
           {
            "colorbar": {
             "outlinewidth": 0,
             "ticks": ""
            },
            "type": "contourcarpet"
           }
          ],
          "heatmap": [
           {
            "colorbar": {
             "outlinewidth": 0,
             "ticks": ""
            },
            "colorscale": [
             [
              0,
              "#0d0887"
             ],
             [
              0.1111111111111111,
              "#46039f"
             ],
             [
              0.2222222222222222,
              "#7201a8"
             ],
             [
              0.3333333333333333,
              "#9c179e"
             ],
             [
              0.4444444444444444,
              "#bd3786"
             ],
             [
              0.5555555555555556,
              "#d8576b"
             ],
             [
              0.6666666666666666,
              "#ed7953"
             ],
             [
              0.7777777777777778,
              "#fb9f3a"
             ],
             [
              0.8888888888888888,
              "#fdca26"
             ],
             [
              1,
              "#f0f921"
             ]
            ],
            "type": "heatmap"
           }
          ],
          "heatmapgl": [
           {
            "colorbar": {
             "outlinewidth": 0,
             "ticks": ""
            },
            "colorscale": [
             [
              0,
              "#0d0887"
             ],
             [
              0.1111111111111111,
              "#46039f"
             ],
             [
              0.2222222222222222,
              "#7201a8"
             ],
             [
              0.3333333333333333,
              "#9c179e"
             ],
             [
              0.4444444444444444,
              "#bd3786"
             ],
             [
              0.5555555555555556,
              "#d8576b"
             ],
             [
              0.6666666666666666,
              "#ed7953"
             ],
             [
              0.7777777777777778,
              "#fb9f3a"
             ],
             [
              0.8888888888888888,
              "#fdca26"
             ],
             [
              1,
              "#f0f921"
             ]
            ],
            "type": "heatmapgl"
           }
          ],
          "histogram": [
           {
            "marker": {
             "pattern": {
              "fillmode": "overlay",
              "size": 10,
              "solidity": 0.2
             }
            },
            "type": "histogram"
           }
          ],
          "histogram2d": [
           {
            "colorbar": {
             "outlinewidth": 0,
             "ticks": ""
            },
            "colorscale": [
             [
              0,
              "#0d0887"
             ],
             [
              0.1111111111111111,
              "#46039f"
             ],
             [
              0.2222222222222222,
              "#7201a8"
             ],
             [
              0.3333333333333333,
              "#9c179e"
             ],
             [
              0.4444444444444444,
              "#bd3786"
             ],
             [
              0.5555555555555556,
              "#d8576b"
             ],
             [
              0.6666666666666666,
              "#ed7953"
             ],
             [
              0.7777777777777778,
              "#fb9f3a"
             ],
             [
              0.8888888888888888,
              "#fdca26"
             ],
             [
              1,
              "#f0f921"
             ]
            ],
            "type": "histogram2d"
           }
          ],
          "histogram2dcontour": [
           {
            "colorbar": {
             "outlinewidth": 0,
             "ticks": ""
            },
            "colorscale": [
             [
              0,
              "#0d0887"
             ],
             [
              0.1111111111111111,
              "#46039f"
             ],
             [
              0.2222222222222222,
              "#7201a8"
             ],
             [
              0.3333333333333333,
              "#9c179e"
             ],
             [
              0.4444444444444444,
              "#bd3786"
             ],
             [
              0.5555555555555556,
              "#d8576b"
             ],
             [
              0.6666666666666666,
              "#ed7953"
             ],
             [
              0.7777777777777778,
              "#fb9f3a"
             ],
             [
              0.8888888888888888,
              "#fdca26"
             ],
             [
              1,
              "#f0f921"
             ]
            ],
            "type": "histogram2dcontour"
           }
          ],
          "mesh3d": [
           {
            "colorbar": {
             "outlinewidth": 0,
             "ticks": ""
            },
            "type": "mesh3d"
           }
          ],
          "parcoords": [
           {
            "line": {
             "colorbar": {
              "outlinewidth": 0,
              "ticks": ""
             }
            },
            "type": "parcoords"
           }
          ],
          "pie": [
           {
            "automargin": true,
            "type": "pie"
           }
          ],
          "scatter": [
           {
            "marker": {
             "colorbar": {
              "outlinewidth": 0,
              "ticks": ""
             }
            },
            "type": "scatter"
           }
          ],
          "scatter3d": [
           {
            "line": {
             "colorbar": {
              "outlinewidth": 0,
              "ticks": ""
             }
            },
            "marker": {
             "colorbar": {
              "outlinewidth": 0,
              "ticks": ""
             }
            },
            "type": "scatter3d"
           }
          ],
          "scattercarpet": [
           {
            "marker": {
             "colorbar": {
              "outlinewidth": 0,
              "ticks": ""
             }
            },
            "type": "scattercarpet"
           }
          ],
          "scattergeo": [
           {
            "marker": {
             "colorbar": {
              "outlinewidth": 0,
              "ticks": ""
             }
            },
            "type": "scattergeo"
           }
          ],
          "scattergl": [
           {
            "marker": {
             "colorbar": {
              "outlinewidth": 0,
              "ticks": ""
             }
            },
            "type": "scattergl"
           }
          ],
          "scattermapbox": [
           {
            "marker": {
             "colorbar": {
              "outlinewidth": 0,
              "ticks": ""
             }
            },
            "type": "scattermapbox"
           }
          ],
          "scatterpolar": [
           {
            "marker": {
             "colorbar": {
              "outlinewidth": 0,
              "ticks": ""
             }
            },
            "type": "scatterpolar"
           }
          ],
          "scatterpolargl": [
           {
            "marker": {
             "colorbar": {
              "outlinewidth": 0,
              "ticks": ""
             }
            },
            "type": "scatterpolargl"
           }
          ],
          "scatterternary": [
           {
            "marker": {
             "colorbar": {
              "outlinewidth": 0,
              "ticks": ""
             }
            },
            "type": "scatterternary"
           }
          ],
          "surface": [
           {
            "colorbar": {
             "outlinewidth": 0,
             "ticks": ""
            },
            "colorscale": [
             [
              0,
              "#0d0887"
             ],
             [
              0.1111111111111111,
              "#46039f"
             ],
             [
              0.2222222222222222,
              "#7201a8"
             ],
             [
              0.3333333333333333,
              "#9c179e"
             ],
             [
              0.4444444444444444,
              "#bd3786"
             ],
             [
              0.5555555555555556,
              "#d8576b"
             ],
             [
              0.6666666666666666,
              "#ed7953"
             ],
             [
              0.7777777777777778,
              "#fb9f3a"
             ],
             [
              0.8888888888888888,
              "#fdca26"
             ],
             [
              1,
              "#f0f921"
             ]
            ],
            "type": "surface"
           }
          ],
          "table": [
           {
            "cells": {
             "fill": {
              "color": "#EBF0F8"
             },
             "line": {
              "color": "white"
             }
            },
            "header": {
             "fill": {
              "color": "#C8D4E3"
             },
             "line": {
              "color": "white"
             }
            },
            "type": "table"
           }
          ]
         },
         "layout": {
          "annotationdefaults": {
           "arrowcolor": "#2a3f5f",
           "arrowhead": 0,
           "arrowwidth": 1
          },
          "autotypenumbers": "strict",
          "coloraxis": {
           "colorbar": {
            "outlinewidth": 0,
            "ticks": ""
           }
          },
          "colorscale": {
           "diverging": [
            [
             0,
             "#8e0152"
            ],
            [
             0.1,
             "#c51b7d"
            ],
            [
             0.2,
             "#de77ae"
            ],
            [
             0.3,
             "#f1b6da"
            ],
            [
             0.4,
             "#fde0ef"
            ],
            [
             0.5,
             "#f7f7f7"
            ],
            [
             0.6,
             "#e6f5d0"
            ],
            [
             0.7,
             "#b8e186"
            ],
            [
             0.8,
             "#7fbc41"
            ],
            [
             0.9,
             "#4d9221"
            ],
            [
             1,
             "#276419"
            ]
           ],
           "sequential": [
            [
             0,
             "#0d0887"
            ],
            [
             0.1111111111111111,
             "#46039f"
            ],
            [
             0.2222222222222222,
             "#7201a8"
            ],
            [
             0.3333333333333333,
             "#9c179e"
            ],
            [
             0.4444444444444444,
             "#bd3786"
            ],
            [
             0.5555555555555556,
             "#d8576b"
            ],
            [
             0.6666666666666666,
             "#ed7953"
            ],
            [
             0.7777777777777778,
             "#fb9f3a"
            ],
            [
             0.8888888888888888,
             "#fdca26"
            ],
            [
             1,
             "#f0f921"
            ]
           ],
           "sequentialminus": [
            [
             0,
             "#0d0887"
            ],
            [
             0.1111111111111111,
             "#46039f"
            ],
            [
             0.2222222222222222,
             "#7201a8"
            ],
            [
             0.3333333333333333,
             "#9c179e"
            ],
            [
             0.4444444444444444,
             "#bd3786"
            ],
            [
             0.5555555555555556,
             "#d8576b"
            ],
            [
             0.6666666666666666,
             "#ed7953"
            ],
            [
             0.7777777777777778,
             "#fb9f3a"
            ],
            [
             0.8888888888888888,
             "#fdca26"
            ],
            [
             1,
             "#f0f921"
            ]
           ]
          },
          "colorway": [
           "#636efa",
           "#EF553B",
           "#00cc96",
           "#ab63fa",
           "#FFA15A",
           "#19d3f3",
           "#FF6692",
           "#B6E880",
           "#FF97FF",
           "#FECB52"
          ],
          "font": {
           "color": "#2a3f5f"
          },
          "geo": {
           "bgcolor": "white",
           "lakecolor": "white",
           "landcolor": "#E5ECF6",
           "showlakes": true,
           "showland": true,
           "subunitcolor": "white"
          },
          "hoverlabel": {
           "align": "left"
          },
          "hovermode": "closest",
          "mapbox": {
           "style": "light"
          },
          "paper_bgcolor": "white",
          "plot_bgcolor": "#E5ECF6",
          "polar": {
           "angularaxis": {
            "gridcolor": "white",
            "linecolor": "white",
            "ticks": ""
           },
           "bgcolor": "#E5ECF6",
           "radialaxis": {
            "gridcolor": "white",
            "linecolor": "white",
            "ticks": ""
           }
          },
          "scene": {
           "xaxis": {
            "backgroundcolor": "#E5ECF6",
            "gridcolor": "white",
            "gridwidth": 2,
            "linecolor": "white",
            "showbackground": true,
            "ticks": "",
            "zerolinecolor": "white"
           },
           "yaxis": {
            "backgroundcolor": "#E5ECF6",
            "gridcolor": "white",
            "gridwidth": 2,
            "linecolor": "white",
            "showbackground": true,
            "ticks": "",
            "zerolinecolor": "white"
           },
           "zaxis": {
            "backgroundcolor": "#E5ECF6",
            "gridcolor": "white",
            "gridwidth": 2,
            "linecolor": "white",
            "showbackground": true,
            "ticks": "",
            "zerolinecolor": "white"
           }
          },
          "shapedefaults": {
           "line": {
            "color": "#2a3f5f"
           }
          },
          "ternary": {
           "aaxis": {
            "gridcolor": "white",
            "linecolor": "white",
            "ticks": ""
           },
           "baxis": {
            "gridcolor": "white",
            "linecolor": "white",
            "ticks": ""
           },
           "bgcolor": "#E5ECF6",
           "caxis": {
            "gridcolor": "white",
            "linecolor": "white",
            "ticks": ""
           }
          },
          "title": {
           "x": 0.05
          },
          "xaxis": {
           "automargin": true,
           "gridcolor": "white",
           "linecolor": "white",
           "ticks": "",
           "title": {
            "standoff": 15
           },
           "zerolinecolor": "white",
           "zerolinewidth": 2
          },
          "yaxis": {
           "automargin": true,
           "gridcolor": "white",
           "linecolor": "white",
           "ticks": "",
           "title": {
            "standoff": 15
           },
           "zerolinecolor": "white",
           "zerolinewidth": 2
          }
         }
        }
       }
      },
      "text/html": [
       "<div>                            <div id=\"06a76b30-9076-417e-8ac6-3a65a17a7dff\" class=\"plotly-graph-div\" style=\"height:525px; width:100%;\"></div>            <script type=\"text/javascript\">                require([\"plotly\"], function(Plotly) {                    window.PLOTLYENV=window.PLOTLYENV || {};                                    if (document.getElementById(\"06a76b30-9076-417e-8ac6-3a65a17a7dff\")) {                    Plotly.newPlot(                        \"06a76b30-9076-417e-8ac6-3a65a17a7dff\",                        [{\"x\":[596.158,354,45],\"y\":[\"leads\",\"testando\",\"assinado\"],\"type\":\"funnel\"}],                        {\"template\":{\"data\":{\"bar\":[{\"error_x\":{\"color\":\"#2a3f5f\"},\"error_y\":{\"color\":\"#2a3f5f\"},\"marker\":{\"line\":{\"color\":\"#E5ECF6\",\"width\":0.5},\"pattern\":{\"fillmode\":\"overlay\",\"size\":10,\"solidity\":0.2}},\"type\":\"bar\"}],\"barpolar\":[{\"marker\":{\"line\":{\"color\":\"#E5ECF6\",\"width\":0.5},\"pattern\":{\"fillmode\":\"overlay\",\"size\":10,\"solidity\":0.2}},\"type\":\"barpolar\"}],\"carpet\":[{\"aaxis\":{\"endlinecolor\":\"#2a3f5f\",\"gridcolor\":\"white\",\"linecolor\":\"white\",\"minorgridcolor\":\"white\",\"startlinecolor\":\"#2a3f5f\"},\"baxis\":{\"endlinecolor\":\"#2a3f5f\",\"gridcolor\":\"white\",\"linecolor\":\"white\",\"minorgridcolor\":\"white\",\"startlinecolor\":\"#2a3f5f\"},\"type\":\"carpet\"}],\"choropleth\":[{\"colorbar\":{\"outlinewidth\":0,\"ticks\":\"\"},\"type\":\"choropleth\"}],\"contour\":[{\"colorbar\":{\"outlinewidth\":0,\"ticks\":\"\"},\"colorscale\":[[0.0,\"#0d0887\"],[0.1111111111111111,\"#46039f\"],[0.2222222222222222,\"#7201a8\"],[0.3333333333333333,\"#9c179e\"],[0.4444444444444444,\"#bd3786\"],[0.5555555555555556,\"#d8576b\"],[0.6666666666666666,\"#ed7953\"],[0.7777777777777778,\"#fb9f3a\"],[0.8888888888888888,\"#fdca26\"],[1.0,\"#f0f921\"]],\"type\":\"contour\"}],\"contourcarpet\":[{\"colorbar\":{\"outlinewidth\":0,\"ticks\":\"\"},\"type\":\"contourcarpet\"}],\"heatmap\":[{\"colorbar\":{\"outlinewidth\":0,\"ticks\":\"\"},\"colorscale\":[[0.0,\"#0d0887\"],[0.1111111111111111,\"#46039f\"],[0.2222222222222222,\"#7201a8\"],[0.3333333333333333,\"#9c179e\"],[0.4444444444444444,\"#bd3786\"],[0.5555555555555556,\"#d8576b\"],[0.6666666666666666,\"#ed7953\"],[0.7777777777777778,\"#fb9f3a\"],[0.8888888888888888,\"#fdca26\"],[1.0,\"#f0f921\"]],\"type\":\"heatmap\"}],\"heatmapgl\":[{\"colorbar\":{\"outlinewidth\":0,\"ticks\":\"\"},\"colorscale\":[[0.0,\"#0d0887\"],[0.1111111111111111,\"#46039f\"],[0.2222222222222222,\"#7201a8\"],[0.3333333333333333,\"#9c179e\"],[0.4444444444444444,\"#bd3786\"],[0.5555555555555556,\"#d8576b\"],[0.6666666666666666,\"#ed7953\"],[0.7777777777777778,\"#fb9f3a\"],[0.8888888888888888,\"#fdca26\"],[1.0,\"#f0f921\"]],\"type\":\"heatmapgl\"}],\"histogram\":[{\"marker\":{\"pattern\":{\"fillmode\":\"overlay\",\"size\":10,\"solidity\":0.2}},\"type\":\"histogram\"}],\"histogram2d\":[{\"colorbar\":{\"outlinewidth\":0,\"ticks\":\"\"},\"colorscale\":[[0.0,\"#0d0887\"],[0.1111111111111111,\"#46039f\"],[0.2222222222222222,\"#7201a8\"],[0.3333333333333333,\"#9c179e\"],[0.4444444444444444,\"#bd3786\"],[0.5555555555555556,\"#d8576b\"],[0.6666666666666666,\"#ed7953\"],[0.7777777777777778,\"#fb9f3a\"],[0.8888888888888888,\"#fdca26\"],[1.0,\"#f0f921\"]],\"type\":\"histogram2d\"}],\"histogram2dcontour\":[{\"colorbar\":{\"outlinewidth\":0,\"ticks\":\"\"},\"colorscale\":[[0.0,\"#0d0887\"],[0.1111111111111111,\"#46039f\"],[0.2222222222222222,\"#7201a8\"],[0.3333333333333333,\"#9c179e\"],[0.4444444444444444,\"#bd3786\"],[0.5555555555555556,\"#d8576b\"],[0.6666666666666666,\"#ed7953\"],[0.7777777777777778,\"#fb9f3a\"],[0.8888888888888888,\"#fdca26\"],[1.0,\"#f0f921\"]],\"type\":\"histogram2dcontour\"}],\"mesh3d\":[{\"colorbar\":{\"outlinewidth\":0,\"ticks\":\"\"},\"type\":\"mesh3d\"}],\"parcoords\":[{\"line\":{\"colorbar\":{\"outlinewidth\":0,\"ticks\":\"\"}},\"type\":\"parcoords\"}],\"pie\":[{\"automargin\":true,\"type\":\"pie\"}],\"scatter\":[{\"marker\":{\"colorbar\":{\"outlinewidth\":0,\"ticks\":\"\"}},\"type\":\"scatter\"}],\"scatter3d\":[{\"line\":{\"colorbar\":{\"outlinewidth\":0,\"ticks\":\"\"}},\"marker\":{\"colorbar\":{\"outlinewidth\":0,\"ticks\":\"\"}},\"type\":\"scatter3d\"}],\"scattercarpet\":[{\"marker\":{\"colorbar\":{\"outlinewidth\":0,\"ticks\":\"\"}},\"type\":\"scattercarpet\"}],\"scattergeo\":[{\"marker\":{\"colorbar\":{\"outlinewidth\":0,\"ticks\":\"\"}},\"type\":\"scattergeo\"}],\"scattergl\":[{\"marker\":{\"colorbar\":{\"outlinewidth\":0,\"ticks\":\"\"}},\"type\":\"scattergl\"}],\"scattermapbox\":[{\"marker\":{\"colorbar\":{\"outlinewidth\":0,\"ticks\":\"\"}},\"type\":\"scattermapbox\"}],\"scatterpolar\":[{\"marker\":{\"colorbar\":{\"outlinewidth\":0,\"ticks\":\"\"}},\"type\":\"scatterpolar\"}],\"scatterpolargl\":[{\"marker\":{\"colorbar\":{\"outlinewidth\":0,\"ticks\":\"\"}},\"type\":\"scatterpolargl\"}],\"scatterternary\":[{\"marker\":{\"colorbar\":{\"outlinewidth\":0,\"ticks\":\"\"}},\"type\":\"scatterternary\"}],\"surface\":[{\"colorbar\":{\"outlinewidth\":0,\"ticks\":\"\"},\"colorscale\":[[0.0,\"#0d0887\"],[0.1111111111111111,\"#46039f\"],[0.2222222222222222,\"#7201a8\"],[0.3333333333333333,\"#9c179e\"],[0.4444444444444444,\"#bd3786\"],[0.5555555555555556,\"#d8576b\"],[0.6666666666666666,\"#ed7953\"],[0.7777777777777778,\"#fb9f3a\"],[0.8888888888888888,\"#fdca26\"],[1.0,\"#f0f921\"]],\"type\":\"surface\"}],\"table\":[{\"cells\":{\"fill\":{\"color\":\"#EBF0F8\"},\"line\":{\"color\":\"white\"}},\"header\":{\"fill\":{\"color\":\"#C8D4E3\"},\"line\":{\"color\":\"white\"}},\"type\":\"table\"}]},\"layout\":{\"annotationdefaults\":{\"arrowcolor\":\"#2a3f5f\",\"arrowhead\":0,\"arrowwidth\":1},\"autotypenumbers\":\"strict\",\"coloraxis\":{\"colorbar\":{\"outlinewidth\":0,\"ticks\":\"\"}},\"colorscale\":{\"diverging\":[[0,\"#8e0152\"],[0.1,\"#c51b7d\"],[0.2,\"#de77ae\"],[0.3,\"#f1b6da\"],[0.4,\"#fde0ef\"],[0.5,\"#f7f7f7\"],[0.6,\"#e6f5d0\"],[0.7,\"#b8e186\"],[0.8,\"#7fbc41\"],[0.9,\"#4d9221\"],[1,\"#276419\"]],\"sequential\":[[0.0,\"#0d0887\"],[0.1111111111111111,\"#46039f\"],[0.2222222222222222,\"#7201a8\"],[0.3333333333333333,\"#9c179e\"],[0.4444444444444444,\"#bd3786\"],[0.5555555555555556,\"#d8576b\"],[0.6666666666666666,\"#ed7953\"],[0.7777777777777778,\"#fb9f3a\"],[0.8888888888888888,\"#fdca26\"],[1.0,\"#f0f921\"]],\"sequentialminus\":[[0.0,\"#0d0887\"],[0.1111111111111111,\"#46039f\"],[0.2222222222222222,\"#7201a8\"],[0.3333333333333333,\"#9c179e\"],[0.4444444444444444,\"#bd3786\"],[0.5555555555555556,\"#d8576b\"],[0.6666666666666666,\"#ed7953\"],[0.7777777777777778,\"#fb9f3a\"],[0.8888888888888888,\"#fdca26\"],[1.0,\"#f0f921\"]]},\"colorway\":[\"#636efa\",\"#EF553B\",\"#00cc96\",\"#ab63fa\",\"#FFA15A\",\"#19d3f3\",\"#FF6692\",\"#B6E880\",\"#FF97FF\",\"#FECB52\"],\"font\":{\"color\":\"#2a3f5f\"},\"geo\":{\"bgcolor\":\"white\",\"lakecolor\":\"white\",\"landcolor\":\"#E5ECF6\",\"showlakes\":true,\"showland\":true,\"subunitcolor\":\"white\"},\"hoverlabel\":{\"align\":\"left\"},\"hovermode\":\"closest\",\"mapbox\":{\"style\":\"light\"},\"paper_bgcolor\":\"white\",\"plot_bgcolor\":\"#E5ECF6\",\"polar\":{\"angularaxis\":{\"gridcolor\":\"white\",\"linecolor\":\"white\",\"ticks\":\"\"},\"bgcolor\":\"#E5ECF6\",\"radialaxis\":{\"gridcolor\":\"white\",\"linecolor\":\"white\",\"ticks\":\"\"}},\"scene\":{\"xaxis\":{\"backgroundcolor\":\"#E5ECF6\",\"gridcolor\":\"white\",\"gridwidth\":2,\"linecolor\":\"white\",\"showbackground\":true,\"ticks\":\"\",\"zerolinecolor\":\"white\"},\"yaxis\":{\"backgroundcolor\":\"#E5ECF6\",\"gridcolor\":\"white\",\"gridwidth\":2,\"linecolor\":\"white\",\"showbackground\":true,\"ticks\":\"\",\"zerolinecolor\":\"white\"},\"zaxis\":{\"backgroundcolor\":\"#E5ECF6\",\"gridcolor\":\"white\",\"gridwidth\":2,\"linecolor\":\"white\",\"showbackground\":true,\"ticks\":\"\",\"zerolinecolor\":\"white\"}},\"shapedefaults\":{\"line\":{\"color\":\"#2a3f5f\"}},\"ternary\":{\"aaxis\":{\"gridcolor\":\"white\",\"linecolor\":\"white\",\"ticks\":\"\"},\"baxis\":{\"gridcolor\":\"white\",\"linecolor\":\"white\",\"ticks\":\"\"},\"bgcolor\":\"#E5ECF6\",\"caxis\":{\"gridcolor\":\"white\",\"linecolor\":\"white\",\"ticks\":\"\"}},\"title\":{\"x\":0.05},\"xaxis\":{\"automargin\":true,\"gridcolor\":\"white\",\"linecolor\":\"white\",\"ticks\":\"\",\"title\":{\"standoff\":15},\"zerolinecolor\":\"white\",\"zerolinewidth\":2},\"yaxis\":{\"automargin\":true,\"gridcolor\":\"white\",\"linecolor\":\"white\",\"ticks\":\"\",\"title\":{\"standoff\":15},\"zerolinecolor\":\"white\",\"zerolinewidth\":2}}}},                        {\"responsive\": true}                    ).then(function(){\n",
       "                            \n",
       "var gd = document.getElementById('06a76b30-9076-417e-8ac6-3a65a17a7dff');\n",
       "var x = new MutationObserver(function (mutations, observer) {{\n",
       "        var display = window.getComputedStyle(gd).display;\n",
       "        if (!display || display === 'none') {{\n",
       "            console.log([gd, 'removed!']);\n",
       "            Plotly.purge(gd);\n",
       "            observer.disconnect();\n",
       "        }}\n",
       "}});\n",
       "\n",
       "// Listen for the removal of the full notebook cells\n",
       "var notebookContainer = gd.closest('#notebook-container');\n",
       "if (notebookContainer) {{\n",
       "    x.observe(notebookContainer, {childList: true});\n",
       "}}\n",
       "\n",
       "// Listen for the clearing of the current output cell\n",
       "var outputEl = gd.closest('.output');\n",
       "if (outputEl) {{\n",
       "    x.observe(outputEl, {childList: true});\n",
       "}}\n",
       "\n",
       "                        })                };                });            </script>        </div>"
      ]
     },
     "metadata": {},
     "output_type": "display_data"
    }
   ],
   "source": [
    "from plotly import graph_objects as go\n",
    "\n",
    "fig = go.Figure(go.Funnel(\n",
    "    y = df_tb['etapas'],\n",
    "    x = df_tb['Values']))\n",
    "\n",
    "fig.show()"
   ]
  },
  {
   "cell_type": "code",
   "execution_count": 156,
   "id": "d8fbf2c4",
   "metadata": {},
   "outputs": [
    {
     "data": {
      "application/vnd.plotly.v1+json": {
       "config": {
        "plotlyServerURL": "https://plot.ly"
       },
       "data": [
        {
         "domain": {
          "x": [
           0,
           1
          ],
          "y": [
           0,
           1
          ]
         },
         "hovertemplate": "label=%{label}<br>value=%{value}<extra></extra>",
         "labels": [
          "leads",
          "testando",
          "assinado"
         ],
         "legendgroup": "",
         "name": "",
         "showlegend": true,
         "type": "funnelarea",
         "values": [
          596.158,
          354,
          45
         ]
        }
       ],
       "layout": {
        "legend": {
         "tracegroupgap": 0
        },
        "margin": {
         "t": 60
        },
        "template": {
         "data": {
          "bar": [
           {
            "error_x": {
             "color": "#2a3f5f"
            },
            "error_y": {
             "color": "#2a3f5f"
            },
            "marker": {
             "line": {
              "color": "#E5ECF6",
              "width": 0.5
             },
             "pattern": {
              "fillmode": "overlay",
              "size": 10,
              "solidity": 0.2
             }
            },
            "type": "bar"
           }
          ],
          "barpolar": [
           {
            "marker": {
             "line": {
              "color": "#E5ECF6",
              "width": 0.5
             },
             "pattern": {
              "fillmode": "overlay",
              "size": 10,
              "solidity": 0.2
             }
            },
            "type": "barpolar"
           }
          ],
          "carpet": [
           {
            "aaxis": {
             "endlinecolor": "#2a3f5f",
             "gridcolor": "white",
             "linecolor": "white",
             "minorgridcolor": "white",
             "startlinecolor": "#2a3f5f"
            },
            "baxis": {
             "endlinecolor": "#2a3f5f",
             "gridcolor": "white",
             "linecolor": "white",
             "minorgridcolor": "white",
             "startlinecolor": "#2a3f5f"
            },
            "type": "carpet"
           }
          ],
          "choropleth": [
           {
            "colorbar": {
             "outlinewidth": 0,
             "ticks": ""
            },
            "type": "choropleth"
           }
          ],
          "contour": [
           {
            "colorbar": {
             "outlinewidth": 0,
             "ticks": ""
            },
            "colorscale": [
             [
              0,
              "#0d0887"
             ],
             [
              0.1111111111111111,
              "#46039f"
             ],
             [
              0.2222222222222222,
              "#7201a8"
             ],
             [
              0.3333333333333333,
              "#9c179e"
             ],
             [
              0.4444444444444444,
              "#bd3786"
             ],
             [
              0.5555555555555556,
              "#d8576b"
             ],
             [
              0.6666666666666666,
              "#ed7953"
             ],
             [
              0.7777777777777778,
              "#fb9f3a"
             ],
             [
              0.8888888888888888,
              "#fdca26"
             ],
             [
              1,
              "#f0f921"
             ]
            ],
            "type": "contour"
           }
          ],
          "contourcarpet": [
           {
            "colorbar": {
             "outlinewidth": 0,
             "ticks": ""
            },
            "type": "contourcarpet"
           }
          ],
          "heatmap": [
           {
            "colorbar": {
             "outlinewidth": 0,
             "ticks": ""
            },
            "colorscale": [
             [
              0,
              "#0d0887"
             ],
             [
              0.1111111111111111,
              "#46039f"
             ],
             [
              0.2222222222222222,
              "#7201a8"
             ],
             [
              0.3333333333333333,
              "#9c179e"
             ],
             [
              0.4444444444444444,
              "#bd3786"
             ],
             [
              0.5555555555555556,
              "#d8576b"
             ],
             [
              0.6666666666666666,
              "#ed7953"
             ],
             [
              0.7777777777777778,
              "#fb9f3a"
             ],
             [
              0.8888888888888888,
              "#fdca26"
             ],
             [
              1,
              "#f0f921"
             ]
            ],
            "type": "heatmap"
           }
          ],
          "heatmapgl": [
           {
            "colorbar": {
             "outlinewidth": 0,
             "ticks": ""
            },
            "colorscale": [
             [
              0,
              "#0d0887"
             ],
             [
              0.1111111111111111,
              "#46039f"
             ],
             [
              0.2222222222222222,
              "#7201a8"
             ],
             [
              0.3333333333333333,
              "#9c179e"
             ],
             [
              0.4444444444444444,
              "#bd3786"
             ],
             [
              0.5555555555555556,
              "#d8576b"
             ],
             [
              0.6666666666666666,
              "#ed7953"
             ],
             [
              0.7777777777777778,
              "#fb9f3a"
             ],
             [
              0.8888888888888888,
              "#fdca26"
             ],
             [
              1,
              "#f0f921"
             ]
            ],
            "type": "heatmapgl"
           }
          ],
          "histogram": [
           {
            "marker": {
             "pattern": {
              "fillmode": "overlay",
              "size": 10,
              "solidity": 0.2
             }
            },
            "type": "histogram"
           }
          ],
          "histogram2d": [
           {
            "colorbar": {
             "outlinewidth": 0,
             "ticks": ""
            },
            "colorscale": [
             [
              0,
              "#0d0887"
             ],
             [
              0.1111111111111111,
              "#46039f"
             ],
             [
              0.2222222222222222,
              "#7201a8"
             ],
             [
              0.3333333333333333,
              "#9c179e"
             ],
             [
              0.4444444444444444,
              "#bd3786"
             ],
             [
              0.5555555555555556,
              "#d8576b"
             ],
             [
              0.6666666666666666,
              "#ed7953"
             ],
             [
              0.7777777777777778,
              "#fb9f3a"
             ],
             [
              0.8888888888888888,
              "#fdca26"
             ],
             [
              1,
              "#f0f921"
             ]
            ],
            "type": "histogram2d"
           }
          ],
          "histogram2dcontour": [
           {
            "colorbar": {
             "outlinewidth": 0,
             "ticks": ""
            },
            "colorscale": [
             [
              0,
              "#0d0887"
             ],
             [
              0.1111111111111111,
              "#46039f"
             ],
             [
              0.2222222222222222,
              "#7201a8"
             ],
             [
              0.3333333333333333,
              "#9c179e"
             ],
             [
              0.4444444444444444,
              "#bd3786"
             ],
             [
              0.5555555555555556,
              "#d8576b"
             ],
             [
              0.6666666666666666,
              "#ed7953"
             ],
             [
              0.7777777777777778,
              "#fb9f3a"
             ],
             [
              0.8888888888888888,
              "#fdca26"
             ],
             [
              1,
              "#f0f921"
             ]
            ],
            "type": "histogram2dcontour"
           }
          ],
          "mesh3d": [
           {
            "colorbar": {
             "outlinewidth": 0,
             "ticks": ""
            },
            "type": "mesh3d"
           }
          ],
          "parcoords": [
           {
            "line": {
             "colorbar": {
              "outlinewidth": 0,
              "ticks": ""
             }
            },
            "type": "parcoords"
           }
          ],
          "pie": [
           {
            "automargin": true,
            "type": "pie"
           }
          ],
          "scatter": [
           {
            "marker": {
             "colorbar": {
              "outlinewidth": 0,
              "ticks": ""
             }
            },
            "type": "scatter"
           }
          ],
          "scatter3d": [
           {
            "line": {
             "colorbar": {
              "outlinewidth": 0,
              "ticks": ""
             }
            },
            "marker": {
             "colorbar": {
              "outlinewidth": 0,
              "ticks": ""
             }
            },
            "type": "scatter3d"
           }
          ],
          "scattercarpet": [
           {
            "marker": {
             "colorbar": {
              "outlinewidth": 0,
              "ticks": ""
             }
            },
            "type": "scattercarpet"
           }
          ],
          "scattergeo": [
           {
            "marker": {
             "colorbar": {
              "outlinewidth": 0,
              "ticks": ""
             }
            },
            "type": "scattergeo"
           }
          ],
          "scattergl": [
           {
            "marker": {
             "colorbar": {
              "outlinewidth": 0,
              "ticks": ""
             }
            },
            "type": "scattergl"
           }
          ],
          "scattermapbox": [
           {
            "marker": {
             "colorbar": {
              "outlinewidth": 0,
              "ticks": ""
             }
            },
            "type": "scattermapbox"
           }
          ],
          "scatterpolar": [
           {
            "marker": {
             "colorbar": {
              "outlinewidth": 0,
              "ticks": ""
             }
            },
            "type": "scatterpolar"
           }
          ],
          "scatterpolargl": [
           {
            "marker": {
             "colorbar": {
              "outlinewidth": 0,
              "ticks": ""
             }
            },
            "type": "scatterpolargl"
           }
          ],
          "scatterternary": [
           {
            "marker": {
             "colorbar": {
              "outlinewidth": 0,
              "ticks": ""
             }
            },
            "type": "scatterternary"
           }
          ],
          "surface": [
           {
            "colorbar": {
             "outlinewidth": 0,
             "ticks": ""
            },
            "colorscale": [
             [
              0,
              "#0d0887"
             ],
             [
              0.1111111111111111,
              "#46039f"
             ],
             [
              0.2222222222222222,
              "#7201a8"
             ],
             [
              0.3333333333333333,
              "#9c179e"
             ],
             [
              0.4444444444444444,
              "#bd3786"
             ],
             [
              0.5555555555555556,
              "#d8576b"
             ],
             [
              0.6666666666666666,
              "#ed7953"
             ],
             [
              0.7777777777777778,
              "#fb9f3a"
             ],
             [
              0.8888888888888888,
              "#fdca26"
             ],
             [
              1,
              "#f0f921"
             ]
            ],
            "type": "surface"
           }
          ],
          "table": [
           {
            "cells": {
             "fill": {
              "color": "#EBF0F8"
             },
             "line": {
              "color": "white"
             }
            },
            "header": {
             "fill": {
              "color": "#C8D4E3"
             },
             "line": {
              "color": "white"
             }
            },
            "type": "table"
           }
          ]
         },
         "layout": {
          "annotationdefaults": {
           "arrowcolor": "#2a3f5f",
           "arrowhead": 0,
           "arrowwidth": 1
          },
          "autotypenumbers": "strict",
          "coloraxis": {
           "colorbar": {
            "outlinewidth": 0,
            "ticks": ""
           }
          },
          "colorscale": {
           "diverging": [
            [
             0,
             "#8e0152"
            ],
            [
             0.1,
             "#c51b7d"
            ],
            [
             0.2,
             "#de77ae"
            ],
            [
             0.3,
             "#f1b6da"
            ],
            [
             0.4,
             "#fde0ef"
            ],
            [
             0.5,
             "#f7f7f7"
            ],
            [
             0.6,
             "#e6f5d0"
            ],
            [
             0.7,
             "#b8e186"
            ],
            [
             0.8,
             "#7fbc41"
            ],
            [
             0.9,
             "#4d9221"
            ],
            [
             1,
             "#276419"
            ]
           ],
           "sequential": [
            [
             0,
             "#0d0887"
            ],
            [
             0.1111111111111111,
             "#46039f"
            ],
            [
             0.2222222222222222,
             "#7201a8"
            ],
            [
             0.3333333333333333,
             "#9c179e"
            ],
            [
             0.4444444444444444,
             "#bd3786"
            ],
            [
             0.5555555555555556,
             "#d8576b"
            ],
            [
             0.6666666666666666,
             "#ed7953"
            ],
            [
             0.7777777777777778,
             "#fb9f3a"
            ],
            [
             0.8888888888888888,
             "#fdca26"
            ],
            [
             1,
             "#f0f921"
            ]
           ],
           "sequentialminus": [
            [
             0,
             "#0d0887"
            ],
            [
             0.1111111111111111,
             "#46039f"
            ],
            [
             0.2222222222222222,
             "#7201a8"
            ],
            [
             0.3333333333333333,
             "#9c179e"
            ],
            [
             0.4444444444444444,
             "#bd3786"
            ],
            [
             0.5555555555555556,
             "#d8576b"
            ],
            [
             0.6666666666666666,
             "#ed7953"
            ],
            [
             0.7777777777777778,
             "#fb9f3a"
            ],
            [
             0.8888888888888888,
             "#fdca26"
            ],
            [
             1,
             "#f0f921"
            ]
           ]
          },
          "colorway": [
           "#636efa",
           "#EF553B",
           "#00cc96",
           "#ab63fa",
           "#FFA15A",
           "#19d3f3",
           "#FF6692",
           "#B6E880",
           "#FF97FF",
           "#FECB52"
          ],
          "font": {
           "color": "#2a3f5f"
          },
          "geo": {
           "bgcolor": "white",
           "lakecolor": "white",
           "landcolor": "#E5ECF6",
           "showlakes": true,
           "showland": true,
           "subunitcolor": "white"
          },
          "hoverlabel": {
           "align": "left"
          },
          "hovermode": "closest",
          "mapbox": {
           "style": "light"
          },
          "paper_bgcolor": "white",
          "plot_bgcolor": "#E5ECF6",
          "polar": {
           "angularaxis": {
            "gridcolor": "white",
            "linecolor": "white",
            "ticks": ""
           },
           "bgcolor": "#E5ECF6",
           "radialaxis": {
            "gridcolor": "white",
            "linecolor": "white",
            "ticks": ""
           }
          },
          "scene": {
           "xaxis": {
            "backgroundcolor": "#E5ECF6",
            "gridcolor": "white",
            "gridwidth": 2,
            "linecolor": "white",
            "showbackground": true,
            "ticks": "",
            "zerolinecolor": "white"
           },
           "yaxis": {
            "backgroundcolor": "#E5ECF6",
            "gridcolor": "white",
            "gridwidth": 2,
            "linecolor": "white",
            "showbackground": true,
            "ticks": "",
            "zerolinecolor": "white"
           },
           "zaxis": {
            "backgroundcolor": "#E5ECF6",
            "gridcolor": "white",
            "gridwidth": 2,
            "linecolor": "white",
            "showbackground": true,
            "ticks": "",
            "zerolinecolor": "white"
           }
          },
          "shapedefaults": {
           "line": {
            "color": "#2a3f5f"
           }
          },
          "ternary": {
           "aaxis": {
            "gridcolor": "white",
            "linecolor": "white",
            "ticks": ""
           },
           "baxis": {
            "gridcolor": "white",
            "linecolor": "white",
            "ticks": ""
           },
           "bgcolor": "#E5ECF6",
           "caxis": {
            "gridcolor": "white",
            "linecolor": "white",
            "ticks": ""
           }
          },
          "title": {
           "x": 0.05
          },
          "xaxis": {
           "automargin": true,
           "gridcolor": "white",
           "linecolor": "white",
           "ticks": "",
           "title": {
            "standoff": 15
           },
           "zerolinecolor": "white",
           "zerolinewidth": 2
          },
          "yaxis": {
           "automargin": true,
           "gridcolor": "white",
           "linecolor": "white",
           "ticks": "",
           "title": {
            "standoff": 15
           },
           "zerolinecolor": "white",
           "zerolinewidth": 2
          }
         }
        }
       }
      },
      "text/html": [
       "<div>                            <div id=\"d3668c82-b647-4fef-906d-a1ca3754dcca\" class=\"plotly-graph-div\" style=\"height:525px; width:100%;\"></div>            <script type=\"text/javascript\">                require([\"plotly\"], function(Plotly) {                    window.PLOTLYENV=window.PLOTLYENV || {};                                    if (document.getElementById(\"d3668c82-b647-4fef-906d-a1ca3754dcca\")) {                    Plotly.newPlot(                        \"d3668c82-b647-4fef-906d-a1ca3754dcca\",                        [{\"domain\":{\"x\":[0.0,1.0],\"y\":[0.0,1.0]},\"hovertemplate\":\"label=%{label}<br>value=%{value}<extra></extra>\",\"labels\":[\"leads\",\"testando\",\"assinado\"],\"legendgroup\":\"\",\"name\":\"\",\"showlegend\":true,\"values\":[596.158,354,45],\"type\":\"funnelarea\"}],                        {\"template\":{\"data\":{\"bar\":[{\"error_x\":{\"color\":\"#2a3f5f\"},\"error_y\":{\"color\":\"#2a3f5f\"},\"marker\":{\"line\":{\"color\":\"#E5ECF6\",\"width\":0.5},\"pattern\":{\"fillmode\":\"overlay\",\"size\":10,\"solidity\":0.2}},\"type\":\"bar\"}],\"barpolar\":[{\"marker\":{\"line\":{\"color\":\"#E5ECF6\",\"width\":0.5},\"pattern\":{\"fillmode\":\"overlay\",\"size\":10,\"solidity\":0.2}},\"type\":\"barpolar\"}],\"carpet\":[{\"aaxis\":{\"endlinecolor\":\"#2a3f5f\",\"gridcolor\":\"white\",\"linecolor\":\"white\",\"minorgridcolor\":\"white\",\"startlinecolor\":\"#2a3f5f\"},\"baxis\":{\"endlinecolor\":\"#2a3f5f\",\"gridcolor\":\"white\",\"linecolor\":\"white\",\"minorgridcolor\":\"white\",\"startlinecolor\":\"#2a3f5f\"},\"type\":\"carpet\"}],\"choropleth\":[{\"colorbar\":{\"outlinewidth\":0,\"ticks\":\"\"},\"type\":\"choropleth\"}],\"contour\":[{\"colorbar\":{\"outlinewidth\":0,\"ticks\":\"\"},\"colorscale\":[[0.0,\"#0d0887\"],[0.1111111111111111,\"#46039f\"],[0.2222222222222222,\"#7201a8\"],[0.3333333333333333,\"#9c179e\"],[0.4444444444444444,\"#bd3786\"],[0.5555555555555556,\"#d8576b\"],[0.6666666666666666,\"#ed7953\"],[0.7777777777777778,\"#fb9f3a\"],[0.8888888888888888,\"#fdca26\"],[1.0,\"#f0f921\"]],\"type\":\"contour\"}],\"contourcarpet\":[{\"colorbar\":{\"outlinewidth\":0,\"ticks\":\"\"},\"type\":\"contourcarpet\"}],\"heatmap\":[{\"colorbar\":{\"outlinewidth\":0,\"ticks\":\"\"},\"colorscale\":[[0.0,\"#0d0887\"],[0.1111111111111111,\"#46039f\"],[0.2222222222222222,\"#7201a8\"],[0.3333333333333333,\"#9c179e\"],[0.4444444444444444,\"#bd3786\"],[0.5555555555555556,\"#d8576b\"],[0.6666666666666666,\"#ed7953\"],[0.7777777777777778,\"#fb9f3a\"],[0.8888888888888888,\"#fdca26\"],[1.0,\"#f0f921\"]],\"type\":\"heatmap\"}],\"heatmapgl\":[{\"colorbar\":{\"outlinewidth\":0,\"ticks\":\"\"},\"colorscale\":[[0.0,\"#0d0887\"],[0.1111111111111111,\"#46039f\"],[0.2222222222222222,\"#7201a8\"],[0.3333333333333333,\"#9c179e\"],[0.4444444444444444,\"#bd3786\"],[0.5555555555555556,\"#d8576b\"],[0.6666666666666666,\"#ed7953\"],[0.7777777777777778,\"#fb9f3a\"],[0.8888888888888888,\"#fdca26\"],[1.0,\"#f0f921\"]],\"type\":\"heatmapgl\"}],\"histogram\":[{\"marker\":{\"pattern\":{\"fillmode\":\"overlay\",\"size\":10,\"solidity\":0.2}},\"type\":\"histogram\"}],\"histogram2d\":[{\"colorbar\":{\"outlinewidth\":0,\"ticks\":\"\"},\"colorscale\":[[0.0,\"#0d0887\"],[0.1111111111111111,\"#46039f\"],[0.2222222222222222,\"#7201a8\"],[0.3333333333333333,\"#9c179e\"],[0.4444444444444444,\"#bd3786\"],[0.5555555555555556,\"#d8576b\"],[0.6666666666666666,\"#ed7953\"],[0.7777777777777778,\"#fb9f3a\"],[0.8888888888888888,\"#fdca26\"],[1.0,\"#f0f921\"]],\"type\":\"histogram2d\"}],\"histogram2dcontour\":[{\"colorbar\":{\"outlinewidth\":0,\"ticks\":\"\"},\"colorscale\":[[0.0,\"#0d0887\"],[0.1111111111111111,\"#46039f\"],[0.2222222222222222,\"#7201a8\"],[0.3333333333333333,\"#9c179e\"],[0.4444444444444444,\"#bd3786\"],[0.5555555555555556,\"#d8576b\"],[0.6666666666666666,\"#ed7953\"],[0.7777777777777778,\"#fb9f3a\"],[0.8888888888888888,\"#fdca26\"],[1.0,\"#f0f921\"]],\"type\":\"histogram2dcontour\"}],\"mesh3d\":[{\"colorbar\":{\"outlinewidth\":0,\"ticks\":\"\"},\"type\":\"mesh3d\"}],\"parcoords\":[{\"line\":{\"colorbar\":{\"outlinewidth\":0,\"ticks\":\"\"}},\"type\":\"parcoords\"}],\"pie\":[{\"automargin\":true,\"type\":\"pie\"}],\"scatter\":[{\"marker\":{\"colorbar\":{\"outlinewidth\":0,\"ticks\":\"\"}},\"type\":\"scatter\"}],\"scatter3d\":[{\"line\":{\"colorbar\":{\"outlinewidth\":0,\"ticks\":\"\"}},\"marker\":{\"colorbar\":{\"outlinewidth\":0,\"ticks\":\"\"}},\"type\":\"scatter3d\"}],\"scattercarpet\":[{\"marker\":{\"colorbar\":{\"outlinewidth\":0,\"ticks\":\"\"}},\"type\":\"scattercarpet\"}],\"scattergeo\":[{\"marker\":{\"colorbar\":{\"outlinewidth\":0,\"ticks\":\"\"}},\"type\":\"scattergeo\"}],\"scattergl\":[{\"marker\":{\"colorbar\":{\"outlinewidth\":0,\"ticks\":\"\"}},\"type\":\"scattergl\"}],\"scattermapbox\":[{\"marker\":{\"colorbar\":{\"outlinewidth\":0,\"ticks\":\"\"}},\"type\":\"scattermapbox\"}],\"scatterpolar\":[{\"marker\":{\"colorbar\":{\"outlinewidth\":0,\"ticks\":\"\"}},\"type\":\"scatterpolar\"}],\"scatterpolargl\":[{\"marker\":{\"colorbar\":{\"outlinewidth\":0,\"ticks\":\"\"}},\"type\":\"scatterpolargl\"}],\"scatterternary\":[{\"marker\":{\"colorbar\":{\"outlinewidth\":0,\"ticks\":\"\"}},\"type\":\"scatterternary\"}],\"surface\":[{\"colorbar\":{\"outlinewidth\":0,\"ticks\":\"\"},\"colorscale\":[[0.0,\"#0d0887\"],[0.1111111111111111,\"#46039f\"],[0.2222222222222222,\"#7201a8\"],[0.3333333333333333,\"#9c179e\"],[0.4444444444444444,\"#bd3786\"],[0.5555555555555556,\"#d8576b\"],[0.6666666666666666,\"#ed7953\"],[0.7777777777777778,\"#fb9f3a\"],[0.8888888888888888,\"#fdca26\"],[1.0,\"#f0f921\"]],\"type\":\"surface\"}],\"table\":[{\"cells\":{\"fill\":{\"color\":\"#EBF0F8\"},\"line\":{\"color\":\"white\"}},\"header\":{\"fill\":{\"color\":\"#C8D4E3\"},\"line\":{\"color\":\"white\"}},\"type\":\"table\"}]},\"layout\":{\"annotationdefaults\":{\"arrowcolor\":\"#2a3f5f\",\"arrowhead\":0,\"arrowwidth\":1},\"autotypenumbers\":\"strict\",\"coloraxis\":{\"colorbar\":{\"outlinewidth\":0,\"ticks\":\"\"}},\"colorscale\":{\"diverging\":[[0,\"#8e0152\"],[0.1,\"#c51b7d\"],[0.2,\"#de77ae\"],[0.3,\"#f1b6da\"],[0.4,\"#fde0ef\"],[0.5,\"#f7f7f7\"],[0.6,\"#e6f5d0\"],[0.7,\"#b8e186\"],[0.8,\"#7fbc41\"],[0.9,\"#4d9221\"],[1,\"#276419\"]],\"sequential\":[[0.0,\"#0d0887\"],[0.1111111111111111,\"#46039f\"],[0.2222222222222222,\"#7201a8\"],[0.3333333333333333,\"#9c179e\"],[0.4444444444444444,\"#bd3786\"],[0.5555555555555556,\"#d8576b\"],[0.6666666666666666,\"#ed7953\"],[0.7777777777777778,\"#fb9f3a\"],[0.8888888888888888,\"#fdca26\"],[1.0,\"#f0f921\"]],\"sequentialminus\":[[0.0,\"#0d0887\"],[0.1111111111111111,\"#46039f\"],[0.2222222222222222,\"#7201a8\"],[0.3333333333333333,\"#9c179e\"],[0.4444444444444444,\"#bd3786\"],[0.5555555555555556,\"#d8576b\"],[0.6666666666666666,\"#ed7953\"],[0.7777777777777778,\"#fb9f3a\"],[0.8888888888888888,\"#fdca26\"],[1.0,\"#f0f921\"]]},\"colorway\":[\"#636efa\",\"#EF553B\",\"#00cc96\",\"#ab63fa\",\"#FFA15A\",\"#19d3f3\",\"#FF6692\",\"#B6E880\",\"#FF97FF\",\"#FECB52\"],\"font\":{\"color\":\"#2a3f5f\"},\"geo\":{\"bgcolor\":\"white\",\"lakecolor\":\"white\",\"landcolor\":\"#E5ECF6\",\"showlakes\":true,\"showland\":true,\"subunitcolor\":\"white\"},\"hoverlabel\":{\"align\":\"left\"},\"hovermode\":\"closest\",\"mapbox\":{\"style\":\"light\"},\"paper_bgcolor\":\"white\",\"plot_bgcolor\":\"#E5ECF6\",\"polar\":{\"angularaxis\":{\"gridcolor\":\"white\",\"linecolor\":\"white\",\"ticks\":\"\"},\"bgcolor\":\"#E5ECF6\",\"radialaxis\":{\"gridcolor\":\"white\",\"linecolor\":\"white\",\"ticks\":\"\"}},\"scene\":{\"xaxis\":{\"backgroundcolor\":\"#E5ECF6\",\"gridcolor\":\"white\",\"gridwidth\":2,\"linecolor\":\"white\",\"showbackground\":true,\"ticks\":\"\",\"zerolinecolor\":\"white\"},\"yaxis\":{\"backgroundcolor\":\"#E5ECF6\",\"gridcolor\":\"white\",\"gridwidth\":2,\"linecolor\":\"white\",\"showbackground\":true,\"ticks\":\"\",\"zerolinecolor\":\"white\"},\"zaxis\":{\"backgroundcolor\":\"#E5ECF6\",\"gridcolor\":\"white\",\"gridwidth\":2,\"linecolor\":\"white\",\"showbackground\":true,\"ticks\":\"\",\"zerolinecolor\":\"white\"}},\"shapedefaults\":{\"line\":{\"color\":\"#2a3f5f\"}},\"ternary\":{\"aaxis\":{\"gridcolor\":\"white\",\"linecolor\":\"white\",\"ticks\":\"\"},\"baxis\":{\"gridcolor\":\"white\",\"linecolor\":\"white\",\"ticks\":\"\"},\"bgcolor\":\"#E5ECF6\",\"caxis\":{\"gridcolor\":\"white\",\"linecolor\":\"white\",\"ticks\":\"\"}},\"title\":{\"x\":0.05},\"xaxis\":{\"automargin\":true,\"gridcolor\":\"white\",\"linecolor\":\"white\",\"ticks\":\"\",\"title\":{\"standoff\":15},\"zerolinecolor\":\"white\",\"zerolinewidth\":2},\"yaxis\":{\"automargin\":true,\"gridcolor\":\"white\",\"linecolor\":\"white\",\"ticks\":\"\",\"title\":{\"standoff\":15},\"zerolinecolor\":\"white\",\"zerolinewidth\":2}}},\"legend\":{\"tracegroupgap\":0},\"margin\":{\"t\":60}},                        {\"responsive\": true}                    ).then(function(){\n",
       "                            \n",
       "var gd = document.getElementById('d3668c82-b647-4fef-906d-a1ca3754dcca');\n",
       "var x = new MutationObserver(function (mutations, observer) {{\n",
       "        var display = window.getComputedStyle(gd).display;\n",
       "        if (!display || display === 'none') {{\n",
       "            console.log([gd, 'removed!']);\n",
       "            Plotly.purge(gd);\n",
       "            observer.disconnect();\n",
       "        }}\n",
       "}});\n",
       "\n",
       "// Listen for the removal of the full notebook cells\n",
       "var notebookContainer = gd.closest('#notebook-container');\n",
       "if (notebookContainer) {{\n",
       "    x.observe(notebookContainer, {childList: true});\n",
       "}}\n",
       "\n",
       "// Listen for the clearing of the current output cell\n",
       "var outputEl = gd.closest('.output');\n",
       "if (outputEl) {{\n",
       "    x.observe(outputEl, {childList: true});\n",
       "}}\n",
       "\n",
       "                        })                };                });            </script>        </div>"
      ]
     },
     "metadata": {},
     "output_type": "display_data"
    }
   ],
   "source": [
    "import plotly.express as px\n",
    "fig = px.funnel_area(names=df_tb['etapas'],\n",
    "                    values=df_tb['Values'])\n",
    "fig.show()"
   ]
  },
  {
   "cell_type": "code",
   "execution_count": 48,
   "id": "a0eef1f4",
   "metadata": {},
   "outputs": [
    {
     "data": {
      "text/html": [
       "<div>\n",
       "<style scoped>\n",
       "    .dataframe tbody tr th:only-of-type {\n",
       "        vertical-align: middle;\n",
       "    }\n",
       "\n",
       "    .dataframe tbody tr th {\n",
       "        vertical-align: top;\n",
       "    }\n",
       "\n",
       "    .dataframe thead th {\n",
       "        text-align: right;\n",
       "    }\n",
       "</style>\n",
       "<table border=\"1\" class=\"dataframe\">\n",
       "  <thead>\n",
       "    <tr style=\"text-align: right;\">\n",
       "      <th></th>\n",
       "      <th>month</th>\n",
       "      <th>Total</th>\n",
       "    </tr>\n",
       "  </thead>\n",
       "  <tbody>\n",
       "    <tr>\n",
       "      <th>1</th>\n",
       "      <td>Jan</td>\n",
       "      <td>14</td>\n",
       "    </tr>\n",
       "    <tr>\n",
       "      <th>0</th>\n",
       "      <td>Feb</td>\n",
       "      <td>18</td>\n",
       "    </tr>\n",
       "    <tr>\n",
       "      <th>2</th>\n",
       "      <td>Mar</td>\n",
       "      <td>13</td>\n",
       "    </tr>\n",
       "  </tbody>\n",
       "</table>\n",
       "</div>"
      ],
      "text/plain": [
       "  month  Total\n",
       "1   Jan     14\n",
       "0   Feb     18\n",
       "2   Mar     13"
      ]
     },
     "execution_count": 48,
     "metadata": {},
     "output_type": "execute_result"
    }
   ],
   "source": [
    "months = [\"Jan\",\"Feb\", \"Mar\"]\n",
    "df_emp_ativo_gr['month'] = pd.Categorical(df_emp_ativo_gr['month'], categories=months, ordered=True)\n",
    "df_emp_ativo_gr.sort_values(by='month', ascending = True, inplace=True)\n",
    "\n",
    "df_emp_ativo_gr"
   ]
  },
  {
   "cell_type": "markdown",
   "id": "a8afd900",
   "metadata": {},
   "source": [
    "# Fazendo o merge dos três DFs"
   ]
  },
  {
   "cell_type": "code",
   "execution_count": 49,
   "id": "a559a535",
   "metadata": {},
   "outputs": [
    {
     "data": {
      "text/html": [
       "<div>\n",
       "<style scoped>\n",
       "    .dataframe tbody tr th:only-of-type {\n",
       "        vertical-align: middle;\n",
       "    }\n",
       "\n",
       "    .dataframe tbody tr th {\n",
       "        vertical-align: top;\n",
       "    }\n",
       "\n",
       "    .dataframe thead th {\n",
       "        text-align: right;\n",
       "    }\n",
       "</style>\n",
       "<table border=\"1\" class=\"dataframe\">\n",
       "  <thead>\n",
       "    <tr style=\"text-align: right;\">\n",
       "      <th></th>\n",
       "      <th>month</th>\n",
       "      <th>Total</th>\n",
       "    </tr>\n",
       "  </thead>\n",
       "  <tbody>\n",
       "    <tr>\n",
       "      <th>111</th>\n",
       "      <td>mar</td>\n",
       "      <td>594.0</td>\n",
       "    </tr>\n",
       "  </tbody>\n",
       "</table>\n",
       "</div>"
      ],
      "text/plain": [
       "    month  Total\n",
       "111   mar  594.0"
      ]
     },
     "execution_count": 49,
     "metadata": {},
     "output_type": "execute_result"
    }
   ],
   "source": [
    "#pegando apenas o mês de março\n",
    "df_leads = df.copy()\n",
    "df_leads = df_leads[(df_leads['month'] == 'mar')]\n",
    "df_leads.head()"
   ]
  },
  {
   "cell_type": "code",
   "execution_count": 50,
   "id": "947d5af3",
   "metadata": {},
   "outputs": [
    {
     "data": {
      "text/html": [
       "<div>\n",
       "<style scoped>\n",
       "    .dataframe tbody tr th:only-of-type {\n",
       "        vertical-align: middle;\n",
       "    }\n",
       "\n",
       "    .dataframe tbody tr th {\n",
       "        vertical-align: top;\n",
       "    }\n",
       "\n",
       "    .dataframe thead th {\n",
       "        text-align: right;\n",
       "    }\n",
       "</style>\n",
       "<table border=\"1\" class=\"dataframe\">\n",
       "  <thead>\n",
       "    <tr style=\"text-align: right;\">\n",
       "      <th></th>\n",
       "      <th>month</th>\n",
       "      <th>Total</th>\n",
       "    </tr>\n",
       "  </thead>\n",
       "  <tbody>\n",
       "    <tr>\n",
       "      <th>111</th>\n",
       "      <td>Mar</td>\n",
       "      <td>594.0</td>\n",
       "    </tr>\n",
       "  </tbody>\n",
       "</table>\n",
       "</div>"
      ],
      "text/plain": [
       "    month  Total\n",
       "111   Mar  594.0"
      ]
     },
     "execution_count": 50,
     "metadata": {},
     "output_type": "execute_result"
    }
   ],
   "source": [
    "df_leads['month'] = df['month'].str.capitalize()\n",
    "df_leads"
   ]
  },
  {
   "cell_type": "code",
   "execution_count": 51,
   "id": "828f3f39",
   "metadata": {},
   "outputs": [
    {
     "data": {
      "text/html": [
       "<div>\n",
       "<style scoped>\n",
       "    .dataframe tbody tr th:only-of-type {\n",
       "        vertical-align: middle;\n",
       "    }\n",
       "\n",
       "    .dataframe tbody tr th {\n",
       "        vertical-align: top;\n",
       "    }\n",
       "\n",
       "    .dataframe thead th {\n",
       "        text-align: right;\n",
       "    }\n",
       "</style>\n",
       "<table border=\"1\" class=\"dataframe\">\n",
       "  <thead>\n",
       "    <tr style=\"text-align: right;\">\n",
       "      <th></th>\n",
       "      <th>month</th>\n",
       "      <th>Total</th>\n",
       "    </tr>\n",
       "  </thead>\n",
       "  <tbody>\n",
       "    <tr>\n",
       "      <th>2</th>\n",
       "      <td>Mar</td>\n",
       "      <td>68</td>\n",
       "    </tr>\n",
       "  </tbody>\n",
       "</table>\n",
       "</div>"
      ],
      "text/plain": [
       "  month  Total\n",
       "2   Mar     68"
      ]
     },
     "execution_count": 51,
     "metadata": {},
     "output_type": "execute_result"
    }
   ],
   "source": [
    "df_teste = df_emp_testando_gr.copy()\n",
    "df_teste = df_teste[(df_teste['month'] == 'Mar')]\n",
    "df_teste"
   ]
  },
  {
   "cell_type": "code",
   "execution_count": 52,
   "id": "8c867fbf",
   "metadata": {},
   "outputs": [
    {
     "data": {
      "text/html": [
       "<div>\n",
       "<style scoped>\n",
       "    .dataframe tbody tr th:only-of-type {\n",
       "        vertical-align: middle;\n",
       "    }\n",
       "\n",
       "    .dataframe tbody tr th {\n",
       "        vertical-align: top;\n",
       "    }\n",
       "\n",
       "    .dataframe thead th {\n",
       "        text-align: right;\n",
       "    }\n",
       "</style>\n",
       "<table border=\"1\" class=\"dataframe\">\n",
       "  <thead>\n",
       "    <tr style=\"text-align: right;\">\n",
       "      <th></th>\n",
       "      <th>month</th>\n",
       "      <th>Total</th>\n",
       "    </tr>\n",
       "  </thead>\n",
       "  <tbody>\n",
       "    <tr>\n",
       "      <th>2</th>\n",
       "      <td>Mar</td>\n",
       "      <td>13</td>\n",
       "    </tr>\n",
       "  </tbody>\n",
       "</table>\n",
       "</div>"
      ],
      "text/plain": [
       "  month  Total\n",
       "2   Mar     13"
      ]
     },
     "execution_count": 52,
     "metadata": {},
     "output_type": "execute_result"
    }
   ],
   "source": [
    "df_ativo = df_emp_ativo_gr.copy()\n",
    "df_ativo = df_ativo[(df_ativo['month'] == 'Mar')]\n",
    "df_ativo"
   ]
  },
  {
   "cell_type": "code",
   "execution_count": 53,
   "id": "eebb3e82",
   "metadata": {},
   "outputs": [],
   "source": [
    "def mergefiles(dfs=[], on=''):\n",
    "    \"\"\"Merge a list of files based on one column\"\"\"\n",
    "    if len(dfs) == 1:\n",
    "         return \"List only have one element.\"\n",
    "\n",
    "    elif len(dfs) == 2:\n",
    "        df1 = dfs[0]\n",
    "        df2 = dfs[1]\n",
    "        df = df1.merge(df2, on=on)\n",
    "        return df\n",
    "\n",
    "    # Merge the first and second datafranes into new dataframe\n",
    "    df1 = dfs[0]\n",
    "    df2 = dfs[1]\n",
    "    df = dfs[0].merge(dfs[1], on=on)\n",
    "\n",
    "    # Create new list with merged dataframe\n",
    "    dfl = []\n",
    "    dfl.append(df)\n",
    "\n",
    "    # Join lists\n",
    "    dfl = dfl + dfs[2:] \n",
    "    dfm = mergefiles(dfl, on)\n",
    "    return dfm"
   ]
  },
  {
   "cell_type": "code",
   "execution_count": 416,
   "id": "ab309398",
   "metadata": {},
   "outputs": [
    {
     "data": {
      "text/html": [
       "<div>\n",
       "<style scoped>\n",
       "    .dataframe tbody tr th:only-of-type {\n",
       "        vertical-align: middle;\n",
       "    }\n",
       "\n",
       "    .dataframe tbody tr th {\n",
       "        vertical-align: top;\n",
       "    }\n",
       "\n",
       "    .dataframe thead th {\n",
       "        text-align: right;\n",
       "    }\n",
       "</style>\n",
       "<table border=\"1\" class=\"dataframe\">\n",
       "  <thead>\n",
       "    <tr style=\"text-align: right;\">\n",
       "      <th></th>\n",
       "      <th>0</th>\n",
       "      <th>1</th>\n",
       "      <th>2</th>\n",
       "      <th>3</th>\n",
       "      <th>4</th>\n",
       "      <th>5</th>\n",
       "    </tr>\n",
       "  </thead>\n",
       "  <tbody>\n",
       "    <tr>\n",
       "      <th>2</th>\n",
       "      <td>NaN</td>\n",
       "      <td>NaN</td>\n",
       "      <td>Mar</td>\n",
       "      <td>68.0</td>\n",
       "      <td>Mar</td>\n",
       "      <td>13.0</td>\n",
       "    </tr>\n",
       "    <tr>\n",
       "      <th>111</th>\n",
       "      <td>Mar</td>\n",
       "      <td>594.0</td>\n",
       "      <td>NaN</td>\n",
       "      <td>NaN</td>\n",
       "      <td>NaN</td>\n",
       "      <td>NaN</td>\n",
       "    </tr>\n",
       "  </tbody>\n",
       "</table>\n",
       "</div>"
      ],
      "text/plain": [
       "       0      1    2     3    4     5\n",
       "2    NaN    NaN  Mar  68.0  Mar  13.0\n",
       "111  Mar  594.0  NaN   NaN  NaN   NaN"
      ]
     },
     "execution_count": 416,
     "metadata": {},
     "output_type": "execute_result"
    }
   ],
   "source": [
    "result = pd.concat([df_leads, df_teste, df_ativo],ignore_index=True, axis=1)\n",
    "result"
   ]
  },
  {
   "cell_type": "code",
   "execution_count": 418,
   "id": "60693fe4",
   "metadata": {},
   "outputs": [
    {
     "data": {
      "text/html": [
       "<div>\n",
       "<style scoped>\n",
       "    .dataframe tbody tr th:only-of-type {\n",
       "        vertical-align: middle;\n",
       "    }\n",
       "\n",
       "    .dataframe tbody tr th {\n",
       "        vertical-align: top;\n",
       "    }\n",
       "\n",
       "    .dataframe thead th {\n",
       "        text-align: right;\n",
       "    }\n",
       "</style>\n",
       "<table border=\"1\" class=\"dataframe\">\n",
       "  <thead>\n",
       "    <tr style=\"text-align: right;\">\n",
       "      <th></th>\n",
       "      <th>month</th>\n",
       "      <th>Total_x</th>\n",
       "      <th>Total_y</th>\n",
       "      <th>Total</th>\n",
       "    </tr>\n",
       "  </thead>\n",
       "  <tbody>\n",
       "    <tr>\n",
       "      <th>0</th>\n",
       "      <td>Mar</td>\n",
       "      <td>594.0</td>\n",
       "      <td>68</td>\n",
       "      <td>13</td>\n",
       "    </tr>\n",
       "  </tbody>\n",
       "</table>\n",
       "</div>"
      ],
      "text/plain": [
       "  month  Total_x  Total_y  Total\n",
       "0   Mar    594.0       68     13"
      ]
     },
     "execution_count": 418,
     "metadata": {},
     "output_type": "execute_result"
    }
   ],
   "source": [
    "# df_merge_col = pd.merge(df_leads, df_teste, df_ativo, on='month')\n",
    "df_merge_col = df_leads.merge(df_teste, on=\"month\").merge(df_ativo, on=\"month\")\n",
    "df_merge_col"
   ]
  },
  {
   "cell_type": "code",
   "execution_count": 453,
   "id": "c6836110",
   "metadata": {},
   "outputs": [
    {
     "data": {
      "text/html": [
       "<div>\n",
       "<style scoped>\n",
       "    .dataframe tbody tr th:only-of-type {\n",
       "        vertical-align: middle;\n",
       "    }\n",
       "\n",
       "    .dataframe tbody tr th {\n",
       "        vertical-align: top;\n",
       "    }\n",
       "\n",
       "    .dataframe thead th {\n",
       "        text-align: right;\n",
       "    }\n",
       "</style>\n",
       "<table border=\"1\" class=\"dataframe\">\n",
       "  <thead>\n",
       "    <tr style=\"text-align: right;\">\n",
       "      <th></th>\n",
       "      <th>Total_x</th>\n",
       "      <th>Total_y</th>\n",
       "      <th>Total</th>\n",
       "    </tr>\n",
       "  </thead>\n",
       "  <tbody>\n",
       "    <tr>\n",
       "      <th>0</th>\n",
       "      <td>594.0</td>\n",
       "      <td>68</td>\n",
       "      <td>13</td>\n",
       "    </tr>\n",
       "  </tbody>\n",
       "</table>\n",
       "</div>"
      ],
      "text/plain": [
       "   Total_x  Total_y  Total\n",
       "0    594.0       68     13"
      ]
     },
     "execution_count": 453,
     "metadata": {},
     "output_type": "execute_result"
    }
   ],
   "source": [
    "df_merge_col1 = df_merge_col[['Total_x','Total_y', 'Total']]\n",
    "df_merge_col1"
   ]
  },
  {
   "cell_type": "code",
   "execution_count": 454,
   "id": "8b148c9d",
   "metadata": {},
   "outputs": [
    {
     "name": "stdout",
     "output_type": "stream",
     "text": [
      "DataFrame as a dictionary(List orientation): {'Total_x': [594.0], 'Total_y': [68], 'Total': [13]}\n"
     ]
    }
   ],
   "source": [
    "dictionaryInstance = df_merge_col1.to_dict(orient=\"list\");\n",
    "\n",
    "print(\"DataFrame as a dictionary(List orientation):\",dictionaryInstance);"
   ]
  },
  {
   "cell_type": "code",
   "execution_count": 135,
   "id": "d523033f",
   "metadata": {},
   "outputs": [],
   "source": [
    "dfemp_gr_month.to_csv('empresas_devolus_agrupadas_por_situacao_mes.csv')"
   ]
  },
  {
   "cell_type": "code",
   "execution_count": 110,
   "id": "c5166a22",
   "metadata": {},
   "outputs": [],
   "source": [
    "df_emp_testando_gr.to_csv(\"empresas_cadastros_2021.csv\")"
   ]
  },
  {
   "cell_type": "code",
   "execution_count": null,
   "id": "d3cb8d6e",
   "metadata": {},
   "outputs": [],
   "source": [
    "df_rec_dep = df_rec['Department Name'].value_counts().rename_axis('Stage').reset_index(name='Counts')"
   ]
  },
  {
   "cell_type": "code",
   "execution_count": 456,
   "id": "221b9a49",
   "metadata": {},
   "outputs": [
    {
     "ename": "ValueError",
     "evalue": "Value of 'x' is not the name of a column in 'data_frame'. Expected one of ['Total_x', 'Total_y', 'Total'] but received: Total_X",
     "output_type": "error",
     "traceback": [
      "\u001b[0;31m---------------------------------------------------------------------------\u001b[0m",
      "\u001b[0;31mValueError\u001b[0m                                Traceback (most recent call last)",
      "\u001b[0;32m/var/folders/cq/9zm9cz053nn98gw_1z7xgyhm0000gn/T/ipykernel_31396/226960046.py\u001b[0m in \u001b[0;36m<module>\u001b[0;34m\u001b[0m\n\u001b[1;32m      3\u001b[0m     \u001b[0mnumber\u001b[0m\u001b[0;34m=\u001b[0m\u001b[0;34m[\u001b[0m\u001b[0;36m39\u001b[0m\u001b[0;34m,\u001b[0m \u001b[0;36m27.4\u001b[0m\u001b[0;34m,\u001b[0m \u001b[0;36m20.6\u001b[0m\u001b[0;34m,\u001b[0m \u001b[0;36m11\u001b[0m\u001b[0;34m,\u001b[0m \u001b[0;36m2\u001b[0m\u001b[0;34m]\u001b[0m\u001b[0;34m,\u001b[0m\u001b[0;34m\u001b[0m\u001b[0;34m\u001b[0m\u001b[0m\n\u001b[1;32m      4\u001b[0m     stage=[\"Website visit\", \"Downloads\", \"Potential customers\", \"Requested price\", \"invoice sent\"])\n\u001b[0;32m----> 5\u001b[0;31m \u001b[0mfig\u001b[0m \u001b[0;34m=\u001b[0m \u001b[0mpx\u001b[0m\u001b[0;34m.\u001b[0m\u001b[0mfunnel\u001b[0m\u001b[0;34m(\u001b[0m\u001b[0mdictionaryInstance\u001b[0m\u001b[0;34m,\u001b[0m \u001b[0mx\u001b[0m\u001b[0;34m=\u001b[0m\u001b[0;34m'Total_X'\u001b[0m\u001b[0;34m,\u001b[0m \u001b[0my\u001b[0m\u001b[0;34m=\u001b[0m\u001b[0;34m'stage'\u001b[0m\u001b[0;34m)\u001b[0m\u001b[0;34m\u001b[0m\u001b[0;34m\u001b[0m\u001b[0m\n\u001b[0m\u001b[1;32m      6\u001b[0m \u001b[0mfig\u001b[0m\u001b[0;34m.\u001b[0m\u001b[0mshow\u001b[0m\u001b[0;34m(\u001b[0m\u001b[0;34m)\u001b[0m\u001b[0;34m\u001b[0m\u001b[0;34m\u001b[0m\u001b[0m\n",
      "\u001b[0;32m~/opt/anaconda3/envs/dashdevolusprod/lib/python3.7/site-packages/plotly/express/_chart_types.py\u001b[0m in \u001b[0;36mfunnel\u001b[0;34m(data_frame, x, y, color, facet_row, facet_col, facet_col_wrap, facet_row_spacing, facet_col_spacing, hover_name, hover_data, custom_data, text, animation_frame, animation_group, category_orders, labels, color_discrete_sequence, color_discrete_map, opacity, orientation, log_x, log_y, range_x, range_y, title, template, width, height)\u001b[0m\n\u001b[1;32m   1665\u001b[0m     \u001b[0mrectangular\u001b[0m \u001b[0msector\u001b[0m \u001b[0mof\u001b[0m \u001b[0ma\u001b[0m \u001b[0mfunnel\u001b[0m\u001b[0;34m.\u001b[0m\u001b[0;34m\u001b[0m\u001b[0;34m\u001b[0m\u001b[0m\n\u001b[1;32m   1666\u001b[0m     \"\"\"\n\u001b[0;32m-> 1667\u001b[0;31m     \u001b[0;32mreturn\u001b[0m \u001b[0mmake_figure\u001b[0m\u001b[0;34m(\u001b[0m\u001b[0margs\u001b[0m\u001b[0;34m=\u001b[0m\u001b[0mlocals\u001b[0m\u001b[0;34m(\u001b[0m\u001b[0;34m)\u001b[0m\u001b[0;34m,\u001b[0m \u001b[0mconstructor\u001b[0m\u001b[0;34m=\u001b[0m\u001b[0mgo\u001b[0m\u001b[0;34m.\u001b[0m\u001b[0mFunnel\u001b[0m\u001b[0;34m)\u001b[0m\u001b[0;34m\u001b[0m\u001b[0;34m\u001b[0m\u001b[0m\n\u001b[0m\u001b[1;32m   1668\u001b[0m \u001b[0;34m\u001b[0m\u001b[0m\n\u001b[1;32m   1669\u001b[0m \u001b[0;34m\u001b[0m\u001b[0m\n",
      "\u001b[0;32m~/opt/anaconda3/envs/dashdevolusprod/lib/python3.7/site-packages/plotly/express/_core.py\u001b[0m in \u001b[0;36mmake_figure\u001b[0;34m(args, constructor, trace_patch, layout_patch)\u001b[0m\n\u001b[1;32m   1943\u001b[0m     \u001b[0mapply_default_cascade\u001b[0m\u001b[0;34m(\u001b[0m\u001b[0margs\u001b[0m\u001b[0;34m)\u001b[0m\u001b[0;34m\u001b[0m\u001b[0;34m\u001b[0m\u001b[0m\n\u001b[1;32m   1944\u001b[0m \u001b[0;34m\u001b[0m\u001b[0m\n\u001b[0;32m-> 1945\u001b[0;31m     \u001b[0margs\u001b[0m \u001b[0;34m=\u001b[0m \u001b[0mbuild_dataframe\u001b[0m\u001b[0;34m(\u001b[0m\u001b[0margs\u001b[0m\u001b[0;34m,\u001b[0m \u001b[0mconstructor\u001b[0m\u001b[0;34m)\u001b[0m\u001b[0;34m\u001b[0m\u001b[0;34m\u001b[0m\u001b[0m\n\u001b[0m\u001b[1;32m   1946\u001b[0m     \u001b[0;32mif\u001b[0m \u001b[0mconstructor\u001b[0m \u001b[0;32min\u001b[0m \u001b[0;34m[\u001b[0m\u001b[0mgo\u001b[0m\u001b[0;34m.\u001b[0m\u001b[0mTreemap\u001b[0m\u001b[0;34m,\u001b[0m \u001b[0mgo\u001b[0m\u001b[0;34m.\u001b[0m\u001b[0mSunburst\u001b[0m\u001b[0;34m,\u001b[0m \u001b[0mgo\u001b[0m\u001b[0;34m.\u001b[0m\u001b[0mIcicle\u001b[0m\u001b[0;34m]\u001b[0m \u001b[0;32mand\u001b[0m \u001b[0margs\u001b[0m\u001b[0;34m[\u001b[0m\u001b[0;34m\"path\"\u001b[0m\u001b[0;34m]\u001b[0m \u001b[0;32mis\u001b[0m \u001b[0;32mnot\u001b[0m \u001b[0;32mNone\u001b[0m\u001b[0;34m:\u001b[0m\u001b[0;34m\u001b[0m\u001b[0;34m\u001b[0m\u001b[0m\n\u001b[1;32m   1947\u001b[0m         \u001b[0margs\u001b[0m \u001b[0;34m=\u001b[0m \u001b[0mprocess_dataframe_hierarchy\u001b[0m\u001b[0;34m(\u001b[0m\u001b[0margs\u001b[0m\u001b[0;34m)\u001b[0m\u001b[0;34m\u001b[0m\u001b[0;34m\u001b[0m\u001b[0m\n",
      "\u001b[0;32m~/opt/anaconda3/envs/dashdevolusprod/lib/python3.7/site-packages/plotly/express/_core.py\u001b[0m in \u001b[0;36mbuild_dataframe\u001b[0;34m(args, constructor)\u001b[0m\n\u001b[1;32m   1404\u001b[0m \u001b[0;34m\u001b[0m\u001b[0m\n\u001b[1;32m   1405\u001b[0m     df_output, wide_id_vars = process_args_into_dataframe(\n\u001b[0;32m-> 1406\u001b[0;31m         \u001b[0margs\u001b[0m\u001b[0;34m,\u001b[0m \u001b[0mwide_mode\u001b[0m\u001b[0;34m,\u001b[0m \u001b[0mvar_name\u001b[0m\u001b[0;34m,\u001b[0m \u001b[0mvalue_name\u001b[0m\u001b[0;34m\u001b[0m\u001b[0;34m\u001b[0m\u001b[0m\n\u001b[0m\u001b[1;32m   1407\u001b[0m     )\n\u001b[1;32m   1408\u001b[0m \u001b[0;34m\u001b[0m\u001b[0m\n",
      "\u001b[0;32m~/opt/anaconda3/envs/dashdevolusprod/lib/python3.7/site-packages/plotly/express/_core.py\u001b[0m in \u001b[0;36mprocess_args_into_dataframe\u001b[0;34m(args, wide_mode, var_name, value_name)\u001b[0m\n\u001b[1;32m   1205\u001b[0m                         \u001b[0;32mif\u001b[0m \u001b[0margument\u001b[0m \u001b[0;34m==\u001b[0m \u001b[0;34m\"index\"\u001b[0m\u001b[0;34m:\u001b[0m\u001b[0;34m\u001b[0m\u001b[0;34m\u001b[0m\u001b[0m\n\u001b[1;32m   1206\u001b[0m                             \u001b[0merr_msg\u001b[0m \u001b[0;34m+=\u001b[0m \u001b[0;34m\"\\n To use the index, pass it in directly as `df.index`.\"\u001b[0m\u001b[0;34m\u001b[0m\u001b[0;34m\u001b[0m\u001b[0m\n\u001b[0;32m-> 1207\u001b[0;31m                         \u001b[0;32mraise\u001b[0m \u001b[0mValueError\u001b[0m\u001b[0;34m(\u001b[0m\u001b[0merr_msg\u001b[0m\u001b[0;34m)\u001b[0m\u001b[0;34m\u001b[0m\u001b[0;34m\u001b[0m\u001b[0m\n\u001b[0m\u001b[1;32m   1208\u001b[0m                 \u001b[0;32melif\u001b[0m \u001b[0mlength\u001b[0m \u001b[0;32mand\u001b[0m \u001b[0mlen\u001b[0m\u001b[0;34m(\u001b[0m\u001b[0mdf_input\u001b[0m\u001b[0;34m[\u001b[0m\u001b[0margument\u001b[0m\u001b[0;34m]\u001b[0m\u001b[0;34m)\u001b[0m \u001b[0;34m!=\u001b[0m \u001b[0mlength\u001b[0m\u001b[0;34m:\u001b[0m\u001b[0;34m\u001b[0m\u001b[0;34m\u001b[0m\u001b[0m\n\u001b[1;32m   1209\u001b[0m                     raise ValueError(\n",
      "\u001b[0;31mValueError\u001b[0m: Value of 'x' is not the name of a column in 'data_frame'. Expected one of ['Total_x', 'Total_y', 'Total'] but received: Total_X"
     ]
    }
   ],
   "source": [
    "import plotly.express as px\n",
    "data = dict(\n",
    "    number=[39, 27.4, 20.6, 11, 2],\n",
    "    stage=[\"Website visit\", \"Downloads\", \"Potential customers\", \"Requested price\", \"invoice sent\"])\n",
    "fig = px.funnel(dictionaryInstance, x='Total', y='stage')\n",
    "fig.show()"
   ]
  },
  {
   "cell_type": "code",
   "execution_count": null,
   "id": "adeeb81c",
   "metadata": {},
   "outputs": [],
   "source": [
    "import plotly.express as px\n",
    "# ------------------------------ DEPARTMENT NAME---------------------------------------\n",
    "df_rec = df[df['Recommended IND'] == 'Recommended'][['Recommended IND', 'Department Name']]\n",
    "df_rec_dep = df_rec['Department Name'].value_counts().rename_axis('Stage').reset_index(name='Counts')\n",
    "df_rec_dep['Recommended IND'] = 'Recommended'\n",
    "\n",
    "df_not_rec = df[df['Recommended IND'] == 'Not Recommended'][['Recommended IND', 'Department Name']]\n",
    "df_not_rec_dep = df_not_rec['Department Name'].value_counts().rename_axis('Stage').reset_index(name='Counts')\n",
    "df_not_rec_dep['Recommended IND'] = 'Not Recommended'\n",
    "\n",
    "dff = pd.concat([df_rec_dep, df_not_rec_dep], axis=0)\n",
    "department = px.funnel(dff, x='Counts', y='Stage', color='Recommended IND',\n",
    "                       height=300, title='Recommended IND by department Name',\n",
    "                       category_orders={'Recommended IND': ['Recommended', 'Not Recommended']},\n",
    "                       color_discrete_sequence=['#DB6574', '#03DAC5'],\n",
    "                       )\n",
    "department.update_traces(textposition='auto', textfont=dict(color='#fff'))\n",
    "department.update_layout(autosize=True,\n",
    "                         margin=dict(t=110, b=50, l=70, r=40),\n",
    "                         xaxis_title=' ', yaxis_title=\" \",\n",
    "                         plot_bgcolor='#2d3035', paper_bgcolor='#2d3035',\n",
    "                         title_font=dict(size=25, color='#a5a7ab', family=\"Muli, sans-serif\"),\n",
    "                         font=dict(color='#8a8d93'),\n",
    "                         legend=dict(orientation=\"h\", yanchor=\"bottom\", y=1.02, xanchor=\"right\", x=1)\n",
    "                        )"
   ]
  },
  {
   "cell_type": "code",
   "execution_count": null,
   "id": "8d3025dc",
   "metadata": {},
   "outputs": [],
   "source": []
  }
 ],
 "metadata": {
  "kernelspec": {
   "display_name": "Python 3 (ipykernel)",
   "language": "python",
   "name": "python3"
  },
  "language_info": {
   "codemirror_mode": {
    "name": "ipython",
    "version": 3
   },
   "file_extension": ".py",
   "mimetype": "text/x-python",
   "name": "python",
   "nbconvert_exporter": "python",
   "pygments_lexer": "ipython3",
   "version": "3.7.11"
  }
 },
 "nbformat": 4,
 "nbformat_minor": 5
}
