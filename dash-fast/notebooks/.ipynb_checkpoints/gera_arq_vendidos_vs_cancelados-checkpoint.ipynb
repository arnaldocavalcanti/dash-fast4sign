{
 "cells": [
  {
   "cell_type": "code",
   "execution_count": 1,
   "id": "56cc1057",
   "metadata": {},
   "outputs": [
    {
     "data": {
      "text/html": [
       "        <script type=\"text/javascript\">\n",
       "        window.PlotlyConfig = {MathJaxConfig: 'local'};\n",
       "        if (window.MathJax) {MathJax.Hub.Config({SVG: {font: \"STIX-Web\"}});}\n",
       "        if (typeof require !== 'undefined') {\n",
       "        require.undef(\"plotly\");\n",
       "        requirejs.config({\n",
       "            paths: {\n",
       "                'plotly': ['https://cdn.plot.ly/plotly-2.8.3.min']\n",
       "            }\n",
       "        });\n",
       "        require(['plotly'], function(Plotly) {\n",
       "            window._Plotly = Plotly;\n",
       "        });\n",
       "        }\n",
       "        </script>\n",
       "        "
      ]
     },
     "metadata": {},
     "output_type": "display_data"
    }
   ],
   "source": [
    "#basic imports\n",
    "import pandas as pd\n",
    "import numpy as np\n",
    "import matplotlib as mpl\n",
    "import json\n",
    "\n",
    "%matplotlib inline\n",
    "import warnings\n",
    "import datetime as dt\n",
    "\n",
    "# for visualizations\n",
    "import matplotlib.pyplot as plt\n",
    "import seaborn as sns\n",
    "\n",
    "\n",
    "# for interactive visualizations\n",
    "import plotly.offline as py\n",
    "from plotly.offline import init_notebook_mode, iplot\n",
    "import plotly.graph_objs as go\n",
    "from plotly import tools\n",
    "init_notebook_mode(connected = True)\n",
    "import plotly.figure_factory as ff\n",
    "\n",
    "warnings.filterwarnings(\"ignore\")"
   ]
  },
  {
   "cell_type": "code",
   "execution_count": 2,
   "id": "8e7efcc9",
   "metadata": {},
   "outputs": [
    {
     "ename": "FileNotFoundError",
     "evalue": "[Errno 2] No such file or directory: 'empresas.csv'",
     "output_type": "error",
     "traceback": [
      "\u001b[0;31m---------------------------------------------------------------------------\u001b[0m",
      "\u001b[0;31mFileNotFoundError\u001b[0m                         Traceback (most recent call last)",
      "\u001b[0;32m/var/folders/cq/9zm9cz053nn98gw_1z7xgyhm0000gn/T/ipykernel_20345/2837921146.py\u001b[0m in \u001b[0;36m<module>\u001b[0;34m\u001b[0m\n\u001b[1;32m      1\u001b[0m \u001b[0;31m#mydateparser = lambda x: pd.datetime.strptime(x, \"%d/%m/%Y \")\u001b[0m\u001b[0;34m\u001b[0m\u001b[0;34m\u001b[0m\u001b[0;34m\u001b[0m\u001b[0m\n\u001b[0;32m----> 2\u001b[0;31m \u001b[0mdf\u001b[0m \u001b[0;34m=\u001b[0m \u001b[0mpd\u001b[0m\u001b[0;34m.\u001b[0m\u001b[0mread_csv\u001b[0m\u001b[0;34m(\u001b[0m\u001b[0;34m\"empresas.csv\"\u001b[0m\u001b[0;34m,\u001b[0m \u001b[0msep\u001b[0m\u001b[0;34m=\u001b[0m\u001b[0;34m';'\u001b[0m\u001b[0;34m)\u001b[0m\u001b[0;34m\u001b[0m\u001b[0;34m\u001b[0m\u001b[0m\n\u001b[0m\u001b[1;32m      3\u001b[0m \u001b[0mdf\u001b[0m\u001b[0;34m.\u001b[0m\u001b[0mhead\u001b[0m\u001b[0;34m(\u001b[0m\u001b[0;34m)\u001b[0m\u001b[0;34m\u001b[0m\u001b[0;34m\u001b[0m\u001b[0m\n",
      "\u001b[0;32m~/opt/anaconda3/envs/dashdevolusprod/lib/python3.7/site-packages/pandas/util/_decorators.py\u001b[0m in \u001b[0;36mwrapper\u001b[0;34m(*args, **kwargs)\u001b[0m\n\u001b[1;32m    309\u001b[0m                     \u001b[0mstacklevel\u001b[0m\u001b[0;34m=\u001b[0m\u001b[0mstacklevel\u001b[0m\u001b[0;34m,\u001b[0m\u001b[0;34m\u001b[0m\u001b[0;34m\u001b[0m\u001b[0m\n\u001b[1;32m    310\u001b[0m                 )\n\u001b[0;32m--> 311\u001b[0;31m             \u001b[0;32mreturn\u001b[0m \u001b[0mfunc\u001b[0m\u001b[0;34m(\u001b[0m\u001b[0;34m*\u001b[0m\u001b[0margs\u001b[0m\u001b[0;34m,\u001b[0m \u001b[0;34m**\u001b[0m\u001b[0mkwargs\u001b[0m\u001b[0;34m)\u001b[0m\u001b[0;34m\u001b[0m\u001b[0;34m\u001b[0m\u001b[0m\n\u001b[0m\u001b[1;32m    312\u001b[0m \u001b[0;34m\u001b[0m\u001b[0m\n\u001b[1;32m    313\u001b[0m         \u001b[0;32mreturn\u001b[0m \u001b[0mwrapper\u001b[0m\u001b[0;34m\u001b[0m\u001b[0;34m\u001b[0m\u001b[0m\n",
      "\u001b[0;32m~/opt/anaconda3/envs/dashdevolusprod/lib/python3.7/site-packages/pandas/io/parsers/readers.py\u001b[0m in \u001b[0;36mread_csv\u001b[0;34m(filepath_or_buffer, sep, delimiter, header, names, index_col, usecols, squeeze, prefix, mangle_dupe_cols, dtype, engine, converters, true_values, false_values, skipinitialspace, skiprows, skipfooter, nrows, na_values, keep_default_na, na_filter, verbose, skip_blank_lines, parse_dates, infer_datetime_format, keep_date_col, date_parser, dayfirst, cache_dates, iterator, chunksize, compression, thousands, decimal, lineterminator, quotechar, quoting, doublequote, escapechar, comment, encoding, encoding_errors, dialect, error_bad_lines, warn_bad_lines, on_bad_lines, delim_whitespace, low_memory, memory_map, float_precision, storage_options)\u001b[0m\n\u001b[1;32m    584\u001b[0m     \u001b[0mkwds\u001b[0m\u001b[0;34m.\u001b[0m\u001b[0mupdate\u001b[0m\u001b[0;34m(\u001b[0m\u001b[0mkwds_defaults\u001b[0m\u001b[0;34m)\u001b[0m\u001b[0;34m\u001b[0m\u001b[0;34m\u001b[0m\u001b[0m\n\u001b[1;32m    585\u001b[0m \u001b[0;34m\u001b[0m\u001b[0m\n\u001b[0;32m--> 586\u001b[0;31m     \u001b[0;32mreturn\u001b[0m \u001b[0m_read\u001b[0m\u001b[0;34m(\u001b[0m\u001b[0mfilepath_or_buffer\u001b[0m\u001b[0;34m,\u001b[0m \u001b[0mkwds\u001b[0m\u001b[0;34m)\u001b[0m\u001b[0;34m\u001b[0m\u001b[0;34m\u001b[0m\u001b[0m\n\u001b[0m\u001b[1;32m    587\u001b[0m \u001b[0;34m\u001b[0m\u001b[0m\n\u001b[1;32m    588\u001b[0m \u001b[0;34m\u001b[0m\u001b[0m\n",
      "\u001b[0;32m~/opt/anaconda3/envs/dashdevolusprod/lib/python3.7/site-packages/pandas/io/parsers/readers.py\u001b[0m in \u001b[0;36m_read\u001b[0;34m(filepath_or_buffer, kwds)\u001b[0m\n\u001b[1;32m    480\u001b[0m \u001b[0;34m\u001b[0m\u001b[0m\n\u001b[1;32m    481\u001b[0m     \u001b[0;31m# Create the parser.\u001b[0m\u001b[0;34m\u001b[0m\u001b[0;34m\u001b[0m\u001b[0;34m\u001b[0m\u001b[0m\n\u001b[0;32m--> 482\u001b[0;31m     \u001b[0mparser\u001b[0m \u001b[0;34m=\u001b[0m \u001b[0mTextFileReader\u001b[0m\u001b[0;34m(\u001b[0m\u001b[0mfilepath_or_buffer\u001b[0m\u001b[0;34m,\u001b[0m \u001b[0;34m**\u001b[0m\u001b[0mkwds\u001b[0m\u001b[0;34m)\u001b[0m\u001b[0;34m\u001b[0m\u001b[0;34m\u001b[0m\u001b[0m\n\u001b[0m\u001b[1;32m    483\u001b[0m \u001b[0;34m\u001b[0m\u001b[0m\n\u001b[1;32m    484\u001b[0m     \u001b[0;32mif\u001b[0m \u001b[0mchunksize\u001b[0m \u001b[0;32mor\u001b[0m \u001b[0miterator\u001b[0m\u001b[0;34m:\u001b[0m\u001b[0;34m\u001b[0m\u001b[0;34m\u001b[0m\u001b[0m\n",
      "\u001b[0;32m~/opt/anaconda3/envs/dashdevolusprod/lib/python3.7/site-packages/pandas/io/parsers/readers.py\u001b[0m in \u001b[0;36m__init__\u001b[0;34m(self, f, engine, **kwds)\u001b[0m\n\u001b[1;32m    809\u001b[0m             \u001b[0mself\u001b[0m\u001b[0;34m.\u001b[0m\u001b[0moptions\u001b[0m\u001b[0;34m[\u001b[0m\u001b[0;34m\"has_index_names\"\u001b[0m\u001b[0;34m]\u001b[0m \u001b[0;34m=\u001b[0m \u001b[0mkwds\u001b[0m\u001b[0;34m[\u001b[0m\u001b[0;34m\"has_index_names\"\u001b[0m\u001b[0;34m]\u001b[0m\u001b[0;34m\u001b[0m\u001b[0;34m\u001b[0m\u001b[0m\n\u001b[1;32m    810\u001b[0m \u001b[0;34m\u001b[0m\u001b[0m\n\u001b[0;32m--> 811\u001b[0;31m         \u001b[0mself\u001b[0m\u001b[0;34m.\u001b[0m\u001b[0m_engine\u001b[0m \u001b[0;34m=\u001b[0m \u001b[0mself\u001b[0m\u001b[0;34m.\u001b[0m\u001b[0m_make_engine\u001b[0m\u001b[0;34m(\u001b[0m\u001b[0mself\u001b[0m\u001b[0;34m.\u001b[0m\u001b[0mengine\u001b[0m\u001b[0;34m)\u001b[0m\u001b[0;34m\u001b[0m\u001b[0;34m\u001b[0m\u001b[0m\n\u001b[0m\u001b[1;32m    812\u001b[0m \u001b[0;34m\u001b[0m\u001b[0m\n\u001b[1;32m    813\u001b[0m     \u001b[0;32mdef\u001b[0m \u001b[0mclose\u001b[0m\u001b[0;34m(\u001b[0m\u001b[0mself\u001b[0m\u001b[0;34m)\u001b[0m\u001b[0;34m:\u001b[0m\u001b[0;34m\u001b[0m\u001b[0;34m\u001b[0m\u001b[0m\n",
      "\u001b[0;32m~/opt/anaconda3/envs/dashdevolusprod/lib/python3.7/site-packages/pandas/io/parsers/readers.py\u001b[0m in \u001b[0;36m_make_engine\u001b[0;34m(self, engine)\u001b[0m\n\u001b[1;32m   1038\u001b[0m             )\n\u001b[1;32m   1039\u001b[0m         \u001b[0;31m# error: Too many arguments for \"ParserBase\"\u001b[0m\u001b[0;34m\u001b[0m\u001b[0;34m\u001b[0m\u001b[0;34m\u001b[0m\u001b[0m\n\u001b[0;32m-> 1040\u001b[0;31m         \u001b[0;32mreturn\u001b[0m \u001b[0mmapping\u001b[0m\u001b[0;34m[\u001b[0m\u001b[0mengine\u001b[0m\u001b[0;34m]\u001b[0m\u001b[0;34m(\u001b[0m\u001b[0mself\u001b[0m\u001b[0;34m.\u001b[0m\u001b[0mf\u001b[0m\u001b[0;34m,\u001b[0m \u001b[0;34m**\u001b[0m\u001b[0mself\u001b[0m\u001b[0;34m.\u001b[0m\u001b[0moptions\u001b[0m\u001b[0;34m)\u001b[0m  \u001b[0;31m# type: ignore[call-arg]\u001b[0m\u001b[0;34m\u001b[0m\u001b[0;34m\u001b[0m\u001b[0m\n\u001b[0m\u001b[1;32m   1041\u001b[0m \u001b[0;34m\u001b[0m\u001b[0m\n\u001b[1;32m   1042\u001b[0m     \u001b[0;32mdef\u001b[0m \u001b[0m_failover_to_python\u001b[0m\u001b[0;34m(\u001b[0m\u001b[0mself\u001b[0m\u001b[0;34m)\u001b[0m\u001b[0;34m:\u001b[0m\u001b[0;34m\u001b[0m\u001b[0;34m\u001b[0m\u001b[0m\n",
      "\u001b[0;32m~/opt/anaconda3/envs/dashdevolusprod/lib/python3.7/site-packages/pandas/io/parsers/c_parser_wrapper.py\u001b[0m in \u001b[0;36m__init__\u001b[0;34m(self, src, **kwds)\u001b[0m\n\u001b[1;32m     49\u001b[0m \u001b[0;34m\u001b[0m\u001b[0m\n\u001b[1;32m     50\u001b[0m         \u001b[0;31m# open handles\u001b[0m\u001b[0;34m\u001b[0m\u001b[0;34m\u001b[0m\u001b[0;34m\u001b[0m\u001b[0m\n\u001b[0;32m---> 51\u001b[0;31m         \u001b[0mself\u001b[0m\u001b[0;34m.\u001b[0m\u001b[0m_open_handles\u001b[0m\u001b[0;34m(\u001b[0m\u001b[0msrc\u001b[0m\u001b[0;34m,\u001b[0m \u001b[0mkwds\u001b[0m\u001b[0;34m)\u001b[0m\u001b[0;34m\u001b[0m\u001b[0;34m\u001b[0m\u001b[0m\n\u001b[0m\u001b[1;32m     52\u001b[0m         \u001b[0;32massert\u001b[0m \u001b[0mself\u001b[0m\u001b[0;34m.\u001b[0m\u001b[0mhandles\u001b[0m \u001b[0;32mis\u001b[0m \u001b[0;32mnot\u001b[0m \u001b[0;32mNone\u001b[0m\u001b[0;34m\u001b[0m\u001b[0;34m\u001b[0m\u001b[0m\n\u001b[1;32m     53\u001b[0m \u001b[0;34m\u001b[0m\u001b[0m\n",
      "\u001b[0;32m~/opt/anaconda3/envs/dashdevolusprod/lib/python3.7/site-packages/pandas/io/parsers/base_parser.py\u001b[0m in \u001b[0;36m_open_handles\u001b[0;34m(self, src, kwds)\u001b[0m\n\u001b[1;32m    227\u001b[0m             \u001b[0mmemory_map\u001b[0m\u001b[0;34m=\u001b[0m\u001b[0mkwds\u001b[0m\u001b[0;34m.\u001b[0m\u001b[0mget\u001b[0m\u001b[0;34m(\u001b[0m\u001b[0;34m\"memory_map\"\u001b[0m\u001b[0;34m,\u001b[0m \u001b[0;32mFalse\u001b[0m\u001b[0;34m)\u001b[0m\u001b[0;34m,\u001b[0m\u001b[0;34m\u001b[0m\u001b[0;34m\u001b[0m\u001b[0m\n\u001b[1;32m    228\u001b[0m             \u001b[0mstorage_options\u001b[0m\u001b[0;34m=\u001b[0m\u001b[0mkwds\u001b[0m\u001b[0;34m.\u001b[0m\u001b[0mget\u001b[0m\u001b[0;34m(\u001b[0m\u001b[0;34m\"storage_options\"\u001b[0m\u001b[0;34m,\u001b[0m \u001b[0;32mNone\u001b[0m\u001b[0;34m)\u001b[0m\u001b[0;34m,\u001b[0m\u001b[0;34m\u001b[0m\u001b[0;34m\u001b[0m\u001b[0m\n\u001b[0;32m--> 229\u001b[0;31m             \u001b[0merrors\u001b[0m\u001b[0;34m=\u001b[0m\u001b[0mkwds\u001b[0m\u001b[0;34m.\u001b[0m\u001b[0mget\u001b[0m\u001b[0;34m(\u001b[0m\u001b[0;34m\"encoding_errors\"\u001b[0m\u001b[0;34m,\u001b[0m \u001b[0;34m\"strict\"\u001b[0m\u001b[0;34m)\u001b[0m\u001b[0;34m,\u001b[0m\u001b[0;34m\u001b[0m\u001b[0;34m\u001b[0m\u001b[0m\n\u001b[0m\u001b[1;32m    230\u001b[0m         )\n\u001b[1;32m    231\u001b[0m \u001b[0;34m\u001b[0m\u001b[0m\n",
      "\u001b[0;32m~/opt/anaconda3/envs/dashdevolusprod/lib/python3.7/site-packages/pandas/io/common.py\u001b[0m in \u001b[0;36mget_handle\u001b[0;34m(path_or_buf, mode, encoding, compression, memory_map, is_text, errors, storage_options)\u001b[0m\n\u001b[1;32m    705\u001b[0m                 \u001b[0mencoding\u001b[0m\u001b[0;34m=\u001b[0m\u001b[0mioargs\u001b[0m\u001b[0;34m.\u001b[0m\u001b[0mencoding\u001b[0m\u001b[0;34m,\u001b[0m\u001b[0;34m\u001b[0m\u001b[0;34m\u001b[0m\u001b[0m\n\u001b[1;32m    706\u001b[0m                 \u001b[0merrors\u001b[0m\u001b[0;34m=\u001b[0m\u001b[0merrors\u001b[0m\u001b[0;34m,\u001b[0m\u001b[0;34m\u001b[0m\u001b[0;34m\u001b[0m\u001b[0m\n\u001b[0;32m--> 707\u001b[0;31m                 \u001b[0mnewline\u001b[0m\u001b[0;34m=\u001b[0m\u001b[0;34m\"\"\u001b[0m\u001b[0;34m,\u001b[0m\u001b[0;34m\u001b[0m\u001b[0;34m\u001b[0m\u001b[0m\n\u001b[0m\u001b[1;32m    708\u001b[0m             )\n\u001b[1;32m    709\u001b[0m         \u001b[0;32melse\u001b[0m\u001b[0;34m:\u001b[0m\u001b[0;34m\u001b[0m\u001b[0;34m\u001b[0m\u001b[0m\n",
      "\u001b[0;31mFileNotFoundError\u001b[0m: [Errno 2] No such file or directory: 'empresas.csv'"
     ]
    }
   ],
   "source": [
    "#mydateparser = lambda x: pd.datetime.strptime(x, \"%d/%m/%Y \")\n",
    "df = pd.read_csv(\"../datasets/empresas.csv\", sep=';')\n",
    "df.head()"
   ]
  },
  {
   "cell_type": "code",
   "execution_count": null,
   "id": "6ebfaa34",
   "metadata": {},
   "outputs": [],
   "source": [
    "df['Data compra'] = pd.to_datetime(df['Data compra'], format='%d/%m/%Y')\n",
    "df['Data cancelamento'] = pd.to_datetime(df['Data cancelamento'], format='%d/%m/%Y')\n",
    "df['Data cadastro'] = pd.to_datetime(df['Data cadastro'], format='%d/%m/%Y')\n",
    "df.head()"
   ]
  },
  {
   "cell_type": "code",
   "execution_count": null,
   "id": "ede22743",
   "metadata": {},
   "outputs": [],
   "source": [
    "colunas = {\"Nome\":\"nome\",\"Email\":\"email\",\"Telefone\":\"telefone\",\"CPF/CNPJ\":\"CPF/CNPJ\",\"Data cadastro\":\"dtcadastro\",\"Cidade\":\"cidade\",\"UF\":\"uf\",\"Qtd vistoria\":\"qtdvistoria\",\"Qtd foto\":\"qtdfoto\",\"Armazenamento\":\"armazenamento\",\n",
    "           \"Data limite teste\":\"limiteteste\",\"Vencimento\":\"vencimento\",\"Valor\":\"valor\",\n",
    "           \"Desconto\":\"desconto\",\"Valor vistoria adicional\":\"vistoriaadd\",\"Data compra\":\"dtcompra\",\"Data cancelamento\":\"dtcancelamento\",\"Data cancelamento\":\"dtcancelamento\",\"Situação\":\"situacao\"}\n",
    "df.rename(columns=colunas, inplace=True)\n",
    "df.head()"
   ]
  },
  {
   "cell_type": "code",
   "execution_count": null,
   "id": "bb545a8a",
   "metadata": {},
   "outputs": [],
   "source": [
    "df_canc = df[(df['dtcancelamento'] >= '2021-12-01') & (df['situacao'] != 'Ativa')]\n",
    "df_canc.head()\n"
   ]
  },
  {
   "cell_type": "code",
   "execution_count": null,
   "id": "671a0051",
   "metadata": {},
   "outputs": [],
   "source": [
    "df_compr = df[(df['dtcompra'] >= '2021-12-01') & (df['situacao'] != 'Cancelada')]\n",
    "df_compr.head()"
   ]
  },
  {
   "cell_type": "code",
   "execution_count": null,
   "id": "70c8a39f",
   "metadata": {},
   "outputs": [],
   "source": [
    "# #testando\n",
    "# df_test = df_compr[(df_compr['dtcompra'] >= '2022-02-01') & (df_compr['dtcompra'] <= '2022-02-28')]\n",
    "# df_test['valor'].sum()"
   ]
  },
  {
   "cell_type": "code",
   "execution_count": null,
   "id": "eb4d12b8",
   "metadata": {},
   "outputs": [],
   "source": [
    "df_canc['mes'] = pd.DatetimeIndex(df_canc['dtcancelamento']).month\n",
    "# df['mes_canc'] = df['mes_canc'].astype(int, errors='ignore')\n",
    "df_canc['mes'] = df_canc['mes'].fillna(0).astype(int)\n",
    "\n",
    "df_canc.head()"
   ]
  },
  {
   "cell_type": "code",
   "execution_count": null,
   "id": "45cac4bd",
   "metadata": {},
   "outputs": [],
   "source": [
    "df_compr['mes'] = pd.DatetimeIndex(df_compr['dtcompra']).month\n",
    "# df['mes_canc'] = df['mes_canc'].astype(int, errors='ignore')\n",
    "df_compr['mes'] = df_compr['mes'].fillna(0).astype(int)\n",
    "\n",
    "df_compr.head()"
   ]
  },
  {
   "cell_type": "code",
   "execution_count": null,
   "id": "3490add4",
   "metadata": {},
   "outputs": [],
   "source": [
    "# df['mes_compr'] = pd.DatetimeIndex(df['dtcompra']).month\n",
    "# df['mes_compr'] = df['mes_compr'].fillna(0).astype(int)\n",
    "# df.head()"
   ]
  },
  {
   "cell_type": "code",
   "execution_count": null,
   "id": "4a50e14b",
   "metadata": {},
   "outputs": [],
   "source": [
    "import calendar\n",
    "result = []\n",
    "for i in df_canc['mes']:\n",
    "    result.append(calendar.month_abbr[i])\n",
    "df_canc['month'] = result\n",
    "print(result)"
   ]
  },
  {
   "cell_type": "code",
   "execution_count": null,
   "id": "7969e848",
   "metadata": {},
   "outputs": [],
   "source": [
    "import calendar\n",
    "result = []\n",
    "for i in df_compr['mes']:\n",
    "    result.append(calendar.month_abbr[i])\n",
    "df_compr['month'] = result\n",
    "print(result)"
   ]
  },
  {
   "cell_type": "code",
   "execution_count": null,
   "id": "33996c98",
   "metadata": {},
   "outputs": [],
   "source": [
    "df_canc.sort_values(\"mes\")\n",
    "df_compr.sort_values(\"mes\")"
   ]
  },
  {
   "cell_type": "markdown",
   "id": "cbd38002",
   "metadata": {},
   "source": [
    "# Preparando os cancelados"
   ]
  },
  {
   "cell_type": "code",
   "execution_count": null,
   "id": "265f4ff8",
   "metadata": {},
   "outputs": [],
   "source": [
    "df_canc"
   ]
  },
  {
   "cell_type": "code",
   "execution_count": null,
   "id": "45c57361",
   "metadata": {},
   "outputs": [],
   "source": [
    "df_canc2 = df_canc[['mes','valor']]\n",
    "df_canc2"
   ]
  },
  {
   "cell_type": "code",
   "execution_count": null,
   "id": "de877dfd",
   "metadata": {},
   "outputs": [],
   "source": [
    "df_canc_total = (df_canc2.groupby(['mes'])['valor'].agg(['sum']).sort_values(by='sum', ascending=False).reset_index())\n",
    "df_canc_total"
   ]
  },
  {
   "cell_type": "code",
   "execution_count": null,
   "id": "34f3fa6a",
   "metadata": {},
   "outputs": [],
   "source": [
    "\n",
    "# df_canc_gr = df_canc.groupby(\n",
    "#      ['situacao','mes','valor']\n",
    "#  ).agg(\n",
    "#      total_canc = ('valor','sum'),\n",
    "# #      total_compr  = ('mes_compr','sum'),\n",
    "#  ).reset_index()\n",
    "\n",
    "# df_canc_gr"
   ]
  },
  {
   "cell_type": "code",
   "execution_count": null,
   "id": "68833b90",
   "metadata": {},
   "outputs": [],
   "source": [
    "import calendar\n",
    "result = []\n",
    "for i in df_canc_total['mes']:\n",
    "    result.append(calendar.month_abbr[i])\n",
    "df_canc_total['month'] = result\n",
    "print(result)"
   ]
  },
  {
   "cell_type": "code",
   "execution_count": null,
   "id": "fb37f142",
   "metadata": {},
   "outputs": [],
   "source": [
    "df_canc_total.drop('mes', axis=1, inplace=True)\n",
    "df_canc_total"
   ]
  },
  {
   "cell_type": "code",
   "execution_count": null,
   "id": "f88d9002",
   "metadata": {},
   "outputs": [],
   "source": [
    "# df_canc_gr2 = (df_canc_total.groupby(['situacao','month'])['valor'].agg(['sum']).sort_values(by='sum', ascending=False).reset_index())\n",
    "# df_canc_gr2"
   ]
  },
  {
   "cell_type": "code",
   "execution_count": null,
   "id": "538db44a",
   "metadata": {},
   "outputs": [],
   "source": [
    "months = [\"Dec\", \"Jan\", \n",
    "          \"Feb\", \"Mar\"]\n",
    "df_canc_total['month'] = pd.Categorical(df_canc_total['month'], categories=months, ordered=True)\n",
    "df_canc_total.sort_values(by='month', ascending = True, inplace=True)\n",
    "\n",
    "df_canc_total"
   ]
  },
  {
   "cell_type": "code",
   "execution_count": null,
   "id": "1a73d2ff",
   "metadata": {},
   "outputs": [],
   "source": [
    "# groupby_canc = (df_canc_gr2.groupby(['month','situacao'])['sum'].agg(['sum']).sort_values(by='sum', ascending=False).reset_index().drop_duplicates('month', keep='first'))\n",
    "# groupby_canc.head()"
   ]
  },
  {
   "cell_type": "code",
   "execution_count": null,
   "id": "889d1c17",
   "metadata": {},
   "outputs": [],
   "source": [
    "df_canc_gr2 = df_canc_total.copy()\n",
    "df_canc_gr2.sort_values(\"month\")"
   ]
  },
  {
   "cell_type": "code",
   "execution_count": null,
   "id": "25a6a3ca",
   "metadata": {},
   "outputs": [],
   "source": [
    "# df_canc_gr2.to_csv(\"df_cancelados_por_mes.csv\")"
   ]
  },
  {
   "cell_type": "markdown",
   "id": "f38a69a8",
   "metadata": {},
   "source": [
    "# Preparando Ativos"
   ]
  },
  {
   "cell_type": "code",
   "execution_count": null,
   "id": "4b4d1c0a",
   "metadata": {},
   "outputs": [],
   "source": [
    "df_compr2 = df_compr[['situacao','mes','valor']]\n",
    "df_compr2"
   ]
  },
  {
   "cell_type": "code",
   "execution_count": null,
   "id": "dcfb2f49",
   "metadata": {},
   "outputs": [],
   "source": [
    "# df_compr_gr = df_compr.groupby(\n",
    "#      ['situacao', 'mes','valor']\n",
    "#  ).agg(\n",
    "#      total_canc = ('valor','sum'),\n",
    "# #      total_compr  = ('mes_compr','sum'),\n",
    "#  ).reset_index()\n",
    "\n",
    "# df_compr_gr"
   ]
  },
  {
   "cell_type": "code",
   "execution_count": null,
   "id": "848672be",
   "metadata": {},
   "outputs": [],
   "source": [
    "import calendar\n",
    "result = []\n",
    "for i in df_compr2['mes']:\n",
    "    result.append(calendar.month_abbr[i])\n",
    "df_compr2['month'] = result\n",
    "print(result)"
   ]
  },
  {
   "cell_type": "code",
   "execution_count": null,
   "id": "addddb48",
   "metadata": {},
   "outputs": [],
   "source": [
    "df_compr2.drop('mes', axis=1, inplace=True)\n",
    "df_compr2.drop('situacao', axis=1, inplace=True)\n",
    "df_compr2"
   ]
  },
  {
   "cell_type": "code",
   "execution_count": null,
   "id": "5424a1a3",
   "metadata": {},
   "outputs": [],
   "source": [
    "df_compr_gr2 = (df_compr2.groupby(['month'])['valor'].agg(['sum']).sort_values(by='sum', ascending=False).reset_index())\n",
    "df_compr_gr2"
   ]
  },
  {
   "cell_type": "code",
   "execution_count": null,
   "id": "b917ed4b",
   "metadata": {},
   "outputs": [],
   "source": [
    "months = [\"Dec\", \"Jan\", \n",
    "          \"Feb\", \"Mar\"]\n",
    "df_compr_gr2['month'] = pd.Categorical(df_compr_gr2['month'], categories=months, ordered=True)\n",
    "df_compr_gr2.sort_values(by='month', ascending = True, inplace=True)\n",
    "\n",
    "df_compr_gr2"
   ]
  },
  {
   "cell_type": "code",
   "execution_count": null,
   "id": "fe63f046",
   "metadata": {},
   "outputs": [],
   "source": [
    "months = [\"Dec\", \"Jan\", \"Feb\", \"Mar\"]\n",
    "df_compr_gr2['month'] = pd.Categorical(df_compr_gr2['month'], categories=months, ordered=True)\n",
    "df_compr_gr2.sort_values(by='month', ascending = True, inplace=True)\n",
    "df_compr_gr2"
   ]
  },
  {
   "cell_type": "code",
   "execution_count": null,
   "id": "76b1be45",
   "metadata": {},
   "outputs": [],
   "source": [
    "# groupby_compr = (df_compr_gr2.groupby(['month','situacao'])['sum'].agg(['sum']).sort_values(by='sum', ascending=False).reset_index().drop_duplicates('month', keep='first'))\n",
    "# groupby_compr.head()"
   ]
  },
  {
   "cell_type": "code",
   "execution_count": null,
   "id": "1c6fbe4c",
   "metadata": {},
   "outputs": [],
   "source": [
    "df_compr_gr2.sort_values(\"month\")"
   ]
  },
  {
   "cell_type": "code",
   "execution_count": null,
   "id": "714112e2",
   "metadata": {},
   "outputs": [],
   "source": [
    "df_compr_gr2"
   ]
  },
  {
   "cell_type": "code",
   "execution_count": null,
   "id": "ceb4bd86",
   "metadata": {},
   "outputs": [],
   "source": [
    "#inverte ordem coluna\n",
    "df_canc_gr2 = df_canc_gr2[['month','sum']]\n",
    "df_canc_gr2"
   ]
  },
  {
   "cell_type": "markdown",
   "id": "e67fc238",
   "metadata": {},
   "source": [
    "# Merge Data Frames"
   ]
  },
  {
   "cell_type": "code",
   "execution_count": null,
   "id": "a22ad602",
   "metadata": {},
   "outputs": [],
   "source": [
    "df_merge_col = pd.merge(df_compr_gr2, df_canc_gr2, on='month')\n",
    "\n",
    "df_merge_col"
   ]
  },
  {
   "cell_type": "code",
   "execution_count": null,
   "id": "394592ad",
   "metadata": {},
   "outputs": [],
   "source": [
    "months = [\"Dec\", \"Jan\", \"Feb\", \"Mar\"]\n",
    "df_merge_col['month'] = pd.Categorical(df_merge_col['month'], categories=months, ordered=True)\n",
    "df_merge_col.sort_values(by='month', ascending = True, inplace=True)\n",
    "df_merge_col"
   ]
  },
  {
   "cell_type": "code",
   "execution_count": null,
   "id": "cb57aff9",
   "metadata": {},
   "outputs": [],
   "source": [
    "df_merge_col.to_csv(\"../datasets/df_cancelados_e_vendidos_por_mes.csv\")"
   ]
  },
  {
   "cell_type": "code",
   "execution_count": null,
   "id": "362186aa",
   "metadata": {},
   "outputs": [],
   "source": []
  }
 ],
 "metadata": {
  "kernelspec": {
   "display_name": "Python 3 (ipykernel)",
   "language": "python",
   "name": "python3"
  },
  "language_info": {
   "codemirror_mode": {
    "name": "ipython",
    "version": 3
   },
   "file_extension": ".py",
   "mimetype": "text/x-python",
   "name": "python",
   "nbconvert_exporter": "python",
   "pygments_lexer": "ipython3",
   "version": "3.7.11"
  }
 },
 "nbformat": 4,
 "nbformat_minor": 5
}
