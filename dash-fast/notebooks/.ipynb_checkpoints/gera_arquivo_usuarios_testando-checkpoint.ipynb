{
 "cells": [
  {
   "cell_type": "markdown",
   "metadata": {},
   "source": [
    "# EDA - Usuários Testando"
   ]
  },
  {
   "cell_type": "code",
   "execution_count": 4,
   "metadata": {},
   "outputs": [
    {
     "data": {
      "text/html": [
       "        <script type=\"text/javascript\">\n",
       "        window.PlotlyConfig = {MathJaxConfig: 'local'};\n",
       "        if (window.MathJax) {MathJax.Hub.Config({SVG: {font: \"STIX-Web\"}});}\n",
       "        if (typeof require !== 'undefined') {\n",
       "        require.undef(\"plotly\");\n",
       "        requirejs.config({\n",
       "            paths: {\n",
       "                'plotly': ['https://cdn.plot.ly/plotly-2.8.3.min']\n",
       "            }\n",
       "        });\n",
       "        require(['plotly'], function(Plotly) {\n",
       "            window._Plotly = Plotly;\n",
       "        });\n",
       "        }\n",
       "        </script>\n",
       "        "
      ]
     },
     "metadata": {},
     "output_type": "display_data"
    }
   ],
   "source": [
    "#basic imports\n",
    "import pandas as pd\n",
    "import numpy as np\n",
    "import matplotlib as mpl\n",
    "import json\n",
    "\n",
    "%matplotlib inline\n",
    "import warnings\n",
    "import datetime as dt\n",
    "\n",
    "# for visualizations\n",
    "import matplotlib.pyplot as plt\n",
    "import seaborn as sns\n",
    "\n",
    "\n",
    "# for interactive visualizations\n",
    "import plotly.offline as py\n",
    "from plotly.offline import init_notebook_mode, iplot\n",
    "import plotly.graph_objs as go\n",
    "from plotly import tools\n",
    "init_notebook_mode(connected = True)\n",
    "import plotly.figure_factory as ff\n",
    "\n",
    "\n",
    "warnings.filterwarnings(\"ignore\")"
   ]
  },
  {
   "cell_type": "code",
   "execution_count": 5,
   "metadata": {},
   "outputs": [],
   "source": [
    "# file = \"../datasets/empresas.csv\"\n",
    "# import chardet\n",
    "# with open(file, 'rb') as rawdata:\n",
    "#     result = chardet.detect(rawdata.read(100000))\n",
    "# result"
   ]
  },
  {
   "cell_type": "code",
   "execution_count": 11,
   "metadata": {},
   "outputs": [
    {
     "data": {
      "text/html": [
       "<div>\n",
       "<style scoped>\n",
       "    .dataframe tbody tr th:only-of-type {\n",
       "        vertical-align: middle;\n",
       "    }\n",
       "\n",
       "    .dataframe tbody tr th {\n",
       "        vertical-align: top;\n",
       "    }\n",
       "\n",
       "    .dataframe thead th {\n",
       "        text-align: right;\n",
       "    }\n",
       "</style>\n",
       "<table border=\"1\" class=\"dataframe\">\n",
       "  <thead>\n",
       "    <tr style=\"text-align: right;\">\n",
       "      <th></th>\n",
       "      <th>Nome</th>\n",
       "      <th>Email</th>\n",
       "      <th>Plano</th>\n",
       "      <th>Situação</th>\n",
       "      <th>Data de Cadastro</th>\n",
       "      <th>Data de Adesão</th>\n",
       "      <th>Data de Carência</th>\n",
       "      <th>Data de Cancelamento</th>\n",
       "    </tr>\n",
       "  </thead>\n",
       "  <tbody>\n",
       "    <tr>\n",
       "      <th>0</th>\n",
       "      <td>amanda vilela de almeida</td>\n",
       "      <td>amandavilelaalmeida@gmail.com</td>\n",
       "      <td>R$ 0.00 / 5 Docs. / 1Gb</td>\n",
       "      <td>TESTE</td>\n",
       "      <td>2022-05-12 20:20:37</td>\n",
       "      <td>NaN</td>\n",
       "      <td>2022-05-26 20:20:37</td>\n",
       "      <td>NaN</td>\n",
       "    </tr>\n",
       "    <tr>\n",
       "      <th>1</th>\n",
       "      <td>Gedson da Silva</td>\n",
       "      <td>gedson2012_@hotmail.com</td>\n",
       "      <td>R$ 0.00 / 5 Docs. / 1Gb</td>\n",
       "      <td>TESTE</td>\n",
       "      <td>2022-05-12 14:22:21</td>\n",
       "      <td>NaN</td>\n",
       "      <td>2022-05-26 00:00:00</td>\n",
       "      <td>NaN</td>\n",
       "    </tr>\n",
       "    <tr>\n",
       "      <th>2</th>\n",
       "      <td>Financeiro XVII ENGEP</td>\n",
       "      <td>financeiroengep2022@gmail.com</td>\n",
       "      <td>R$ 0.00 / 5 Docs. / 1Gb</td>\n",
       "      <td>TESTE</td>\n",
       "      <td>2022-05-12 10:32:45</td>\n",
       "      <td>NaN</td>\n",
       "      <td>2022-05-26 10:32:45</td>\n",
       "      <td>NaN</td>\n",
       "    </tr>\n",
       "    <tr>\n",
       "      <th>3</th>\n",
       "      <td>Audenice da Silva dos Santos</td>\n",
       "      <td>silvasantosaudenice@gmail.com</td>\n",
       "      <td>R$ 0.00 / 5 Docs. / 1Gb</td>\n",
       "      <td>TESTE</td>\n",
       "      <td>2022-05-11 21:54:51</td>\n",
       "      <td>NaN</td>\n",
       "      <td>2022-05-25 00:00:00</td>\n",
       "      <td>NaN</td>\n",
       "    </tr>\n",
       "    <tr>\n",
       "      <th>4</th>\n",
       "      <td>Teste etttt</td>\n",
       "      <td>yortitalte@vusra.com</td>\n",
       "      <td>R$ 0.00 / 5 Docs. / 1Gb</td>\n",
       "      <td>TESTE</td>\n",
       "      <td>2022-05-11 16:49:52</td>\n",
       "      <td>NaN</td>\n",
       "      <td>2022-05-25 16:49:52</td>\n",
       "      <td>NaN</td>\n",
       "    </tr>\n",
       "  </tbody>\n",
       "</table>\n",
       "</div>"
      ],
      "text/plain": [
       "                           Nome                          Email  \\\n",
       "0      amanda vilela de almeida  amandavilelaalmeida@gmail.com   \n",
       "1               Gedson da Silva        gedson2012_@hotmail.com   \n",
       "2         Financeiro XVII ENGEP  financeiroengep2022@gmail.com   \n",
       "3  Audenice da Silva dos Santos  silvasantosaudenice@gmail.com   \n",
       "4                   Teste etttt           yortitalte@vusra.com   \n",
       "\n",
       "                     Plano Situação     Data de Cadastro Data de Adesão  \\\n",
       "0  R$ 0.00 / 5 Docs. / 1Gb    TESTE  2022-05-12 20:20:37            NaN   \n",
       "1  R$ 0.00 / 5 Docs. / 1Gb    TESTE  2022-05-12 14:22:21            NaN   \n",
       "2  R$ 0.00 / 5 Docs. / 1Gb    TESTE  2022-05-12 10:32:45            NaN   \n",
       "3  R$ 0.00 / 5 Docs. / 1Gb    TESTE  2022-05-11 21:54:51            NaN   \n",
       "4  R$ 0.00 / 5 Docs. / 1Gb    TESTE  2022-05-11 16:49:52            NaN   \n",
       "\n",
       "      Data de Carência Data de Cancelamento  \n",
       "0  2022-05-26 20:20:37                  NaN  \n",
       "1  2022-05-26 00:00:00                  NaN  \n",
       "2  2022-05-26 10:32:45                  NaN  \n",
       "3  2022-05-25 00:00:00                  NaN  \n",
       "4  2022-05-25 16:49:52                  NaN  "
      ]
     },
     "execution_count": 11,
     "metadata": {},
     "output_type": "execute_result"
    }
   ],
   "source": [
    "#mydateparser = lambda x: pd.datetime.strptime(x, \"%d/%m/%Y \")\n",
    "df = pd.read_csv(\"../datasets/usuarios_assinantes.csv\", sep=';', encoding = 'Windows-1252')\n",
    "df.head()"
   ]
  },
  {
   "cell_type": "code",
   "execution_count": 12,
   "metadata": {},
   "outputs": [
    {
     "data": {
      "text/html": [
       "<div>\n",
       "<style scoped>\n",
       "    .dataframe tbody tr th:only-of-type {\n",
       "        vertical-align: middle;\n",
       "    }\n",
       "\n",
       "    .dataframe tbody tr th {\n",
       "        vertical-align: top;\n",
       "    }\n",
       "\n",
       "    .dataframe thead th {\n",
       "        text-align: right;\n",
       "    }\n",
       "</style>\n",
       "<table border=\"1\" class=\"dataframe\">\n",
       "  <thead>\n",
       "    <tr style=\"text-align: right;\">\n",
       "      <th></th>\n",
       "      <th>Nome</th>\n",
       "      <th>Email</th>\n",
       "      <th>Plano</th>\n",
       "      <th>Situação</th>\n",
       "      <th>Data de Cadastro</th>\n",
       "      <th>Data de Adesão</th>\n",
       "      <th>Data de Carência</th>\n",
       "      <th>Data de Cancelamento</th>\n",
       "    </tr>\n",
       "  </thead>\n",
       "  <tbody>\n",
       "    <tr>\n",
       "      <th>0</th>\n",
       "      <td>amanda vilela de almeida</td>\n",
       "      <td>amandavilelaalmeida@gmail.com</td>\n",
       "      <td>R$ 0.00 / 5 Docs. / 1Gb</td>\n",
       "      <td>TESTE</td>\n",
       "      <td>2022-05-12 20:20:37</td>\n",
       "      <td>NaN</td>\n",
       "      <td>2022-05-26 20:20:37</td>\n",
       "      <td>NaT</td>\n",
       "    </tr>\n",
       "    <tr>\n",
       "      <th>1</th>\n",
       "      <td>Gedson da Silva</td>\n",
       "      <td>gedson2012_@hotmail.com</td>\n",
       "      <td>R$ 0.00 / 5 Docs. / 1Gb</td>\n",
       "      <td>TESTE</td>\n",
       "      <td>2022-05-12 14:22:21</td>\n",
       "      <td>NaN</td>\n",
       "      <td>2022-05-26 00:00:00</td>\n",
       "      <td>NaT</td>\n",
       "    </tr>\n",
       "    <tr>\n",
       "      <th>2</th>\n",
       "      <td>Financeiro XVII ENGEP</td>\n",
       "      <td>financeiroengep2022@gmail.com</td>\n",
       "      <td>R$ 0.00 / 5 Docs. / 1Gb</td>\n",
       "      <td>TESTE</td>\n",
       "      <td>2022-05-12 10:32:45</td>\n",
       "      <td>NaN</td>\n",
       "      <td>2022-05-26 10:32:45</td>\n",
       "      <td>NaT</td>\n",
       "    </tr>\n",
       "    <tr>\n",
       "      <th>3</th>\n",
       "      <td>Audenice da Silva dos Santos</td>\n",
       "      <td>silvasantosaudenice@gmail.com</td>\n",
       "      <td>R$ 0.00 / 5 Docs. / 1Gb</td>\n",
       "      <td>TESTE</td>\n",
       "      <td>2022-05-11 21:54:51</td>\n",
       "      <td>NaN</td>\n",
       "      <td>2022-05-25 00:00:00</td>\n",
       "      <td>NaT</td>\n",
       "    </tr>\n",
       "    <tr>\n",
       "      <th>4</th>\n",
       "      <td>Teste etttt</td>\n",
       "      <td>yortitalte@vusra.com</td>\n",
       "      <td>R$ 0.00 / 5 Docs. / 1Gb</td>\n",
       "      <td>TESTE</td>\n",
       "      <td>2022-05-11 16:49:52</td>\n",
       "      <td>NaN</td>\n",
       "      <td>2022-05-25 16:49:52</td>\n",
       "      <td>NaT</td>\n",
       "    </tr>\n",
       "  </tbody>\n",
       "</table>\n",
       "</div>"
      ],
      "text/plain": [
       "                           Nome                          Email  \\\n",
       "0      amanda vilela de almeida  amandavilelaalmeida@gmail.com   \n",
       "1               Gedson da Silva        gedson2012_@hotmail.com   \n",
       "2         Financeiro XVII ENGEP  financeiroengep2022@gmail.com   \n",
       "3  Audenice da Silva dos Santos  silvasantosaudenice@gmail.com   \n",
       "4                   Teste etttt           yortitalte@vusra.com   \n",
       "\n",
       "                     Plano Situação    Data de Cadastro Data de Adesão  \\\n",
       "0  R$ 0.00 / 5 Docs. / 1Gb    TESTE 2022-05-12 20:20:37            NaN   \n",
       "1  R$ 0.00 / 5 Docs. / 1Gb    TESTE 2022-05-12 14:22:21            NaN   \n",
       "2  R$ 0.00 / 5 Docs. / 1Gb    TESTE 2022-05-12 10:32:45            NaN   \n",
       "3  R$ 0.00 / 5 Docs. / 1Gb    TESTE 2022-05-11 21:54:51            NaN   \n",
       "4  R$ 0.00 / 5 Docs. / 1Gb    TESTE 2022-05-11 16:49:52            NaN   \n",
       "\n",
       "     Data de Carência Data de Cancelamento  \n",
       "0 2022-05-26 20:20:37                  NaT  \n",
       "1 2022-05-26 00:00:00                  NaT  \n",
       "2 2022-05-26 10:32:45                  NaT  \n",
       "3 2022-05-25 00:00:00                  NaT  \n",
       "4 2022-05-25 16:49:52                  NaT  "
      ]
     },
     "execution_count": 12,
     "metadata": {},
     "output_type": "execute_result"
    }
   ],
   "source": [
    "df['Data de Cadastro'] = pd.to_datetime(df['Data de Cadastro'], format='%Y-%m-%d %H:%M:%S')\n",
    "df['Data de Carência'] = pd.to_datetime(df['Data de Carência'], format='%Y-%m-%d %H:%M:%S')\n",
    "df['Data de Cancelamento'] = pd.to_datetime(df['Data de Cancelamento'], format='%Y-%m-%d %H:%M:%S')\n",
    "df.head()"
   ]
  },
  {
   "cell_type": "code",
   "execution_count": 13,
   "metadata": {},
   "outputs": [
    {
     "data": {
      "text/html": [
       "<div>\n",
       "<style scoped>\n",
       "    .dataframe tbody tr th:only-of-type {\n",
       "        vertical-align: middle;\n",
       "    }\n",
       "\n",
       "    .dataframe tbody tr th {\n",
       "        vertical-align: top;\n",
       "    }\n",
       "\n",
       "    .dataframe thead th {\n",
       "        text-align: right;\n",
       "    }\n",
       "</style>\n",
       "<table border=\"1\" class=\"dataframe\">\n",
       "  <thead>\n",
       "    <tr style=\"text-align: right;\">\n",
       "      <th></th>\n",
       "      <th>Nome</th>\n",
       "      <th>Email</th>\n",
       "      <th>Plano</th>\n",
       "      <th>Situação</th>\n",
       "      <th>Data de Cadastro</th>\n",
       "      <th>Data de Adesão</th>\n",
       "      <th>Data de Carência</th>\n",
       "      <th>Data de Cancelamento</th>\n",
       "    </tr>\n",
       "  </thead>\n",
       "  <tbody>\n",
       "    <tr>\n",
       "      <th>0</th>\n",
       "      <td>amanda vilela de almeida</td>\n",
       "      <td>amandavilelaalmeida@gmail.com</td>\n",
       "      <td>R$ 0.00 / 5 Docs. / 1Gb</td>\n",
       "      <td>TESTE</td>\n",
       "      <td>2022-05-12 20:20:37</td>\n",
       "      <td>NaN</td>\n",
       "      <td>2022-05-26 20:20:37</td>\n",
       "      <td>NaT</td>\n",
       "    </tr>\n",
       "    <tr>\n",
       "      <th>1</th>\n",
       "      <td>Gedson da Silva</td>\n",
       "      <td>gedson2012_@hotmail.com</td>\n",
       "      <td>R$ 0.00 / 5 Docs. / 1Gb</td>\n",
       "      <td>TESTE</td>\n",
       "      <td>2022-05-12 14:22:21</td>\n",
       "      <td>NaN</td>\n",
       "      <td>2022-05-26 00:00:00</td>\n",
       "      <td>NaT</td>\n",
       "    </tr>\n",
       "    <tr>\n",
       "      <th>2</th>\n",
       "      <td>Financeiro XVII ENGEP</td>\n",
       "      <td>financeiroengep2022@gmail.com</td>\n",
       "      <td>R$ 0.00 / 5 Docs. / 1Gb</td>\n",
       "      <td>TESTE</td>\n",
       "      <td>2022-05-12 10:32:45</td>\n",
       "      <td>NaN</td>\n",
       "      <td>2022-05-26 10:32:45</td>\n",
       "      <td>NaT</td>\n",
       "    </tr>\n",
       "    <tr>\n",
       "      <th>3</th>\n",
       "      <td>Audenice da Silva dos Santos</td>\n",
       "      <td>silvasantosaudenice@gmail.com</td>\n",
       "      <td>R$ 0.00 / 5 Docs. / 1Gb</td>\n",
       "      <td>TESTE</td>\n",
       "      <td>2022-05-11 21:54:51</td>\n",
       "      <td>NaN</td>\n",
       "      <td>2022-05-25 00:00:00</td>\n",
       "      <td>NaT</td>\n",
       "    </tr>\n",
       "    <tr>\n",
       "      <th>4</th>\n",
       "      <td>Teste etttt</td>\n",
       "      <td>yortitalte@vusra.com</td>\n",
       "      <td>R$ 0.00 / 5 Docs. / 1Gb</td>\n",
       "      <td>TESTE</td>\n",
       "      <td>2022-05-11 16:49:52</td>\n",
       "      <td>NaN</td>\n",
       "      <td>2022-05-25 16:49:52</td>\n",
       "      <td>NaT</td>\n",
       "    </tr>\n",
       "  </tbody>\n",
       "</table>\n",
       "</div>"
      ],
      "text/plain": [
       "                           Nome                          Email  \\\n",
       "0      amanda vilela de almeida  amandavilelaalmeida@gmail.com   \n",
       "1               Gedson da Silva        gedson2012_@hotmail.com   \n",
       "2         Financeiro XVII ENGEP  financeiroengep2022@gmail.com   \n",
       "3  Audenice da Silva dos Santos  silvasantosaudenice@gmail.com   \n",
       "4                   Teste etttt           yortitalte@vusra.com   \n",
       "\n",
       "                     Plano Situação    Data de Cadastro Data de Adesão  \\\n",
       "0  R$ 0.00 / 5 Docs. / 1Gb    TESTE 2022-05-12 20:20:37            NaN   \n",
       "1  R$ 0.00 / 5 Docs. / 1Gb    TESTE 2022-05-12 14:22:21            NaN   \n",
       "2  R$ 0.00 / 5 Docs. / 1Gb    TESTE 2022-05-12 10:32:45            NaN   \n",
       "3  R$ 0.00 / 5 Docs. / 1Gb    TESTE 2022-05-11 21:54:51            NaN   \n",
       "4  R$ 0.00 / 5 Docs. / 1Gb    TESTE 2022-05-11 16:49:52            NaN   \n",
       "\n",
       "     Data de Carência Data de Cancelamento  \n",
       "0 2022-05-26 20:20:37                  NaT  \n",
       "1 2022-05-26 00:00:00                  NaT  \n",
       "2 2022-05-26 10:32:45                  NaT  \n",
       "3 2022-05-25 00:00:00                  NaT  \n",
       "4 2022-05-25 16:49:52                  NaT  "
      ]
     },
     "execution_count": 13,
     "metadata": {},
     "output_type": "execute_result"
    }
   ],
   "source": [
    "# #df = df[(df['situacao'] == 'Ativa') & (df['situacao'] != 'Gratuito') & (df['situacao'] != 'Gratuito inativo') & (df['situacao'] != 'Cancelada')]\n",
    "df = df[(df['Situação'] == 'TESTE') & (df['Data de Cadastro'] >= '2022-01-01')]\n",
    "df.head()"
   ]
  },
  {
   "cell_type": "code",
   "execution_count": 14,
   "metadata": {},
   "outputs": [
    {
     "data": {
      "text/plain": [
       "(73, 8)"
      ]
     },
     "execution_count": 14,
     "metadata": {},
     "output_type": "execute_result"
    }
   ],
   "source": [
    "df.shape"
   ]
  },
  {
   "cell_type": "code",
   "execution_count": 15,
   "metadata": {},
   "outputs": [
    {
     "data": {
      "text/html": [
       "<div>\n",
       "<style scoped>\n",
       "    .dataframe tbody tr th:only-of-type {\n",
       "        vertical-align: middle;\n",
       "    }\n",
       "\n",
       "    .dataframe tbody tr th {\n",
       "        vertical-align: top;\n",
       "    }\n",
       "\n",
       "    .dataframe thead th {\n",
       "        text-align: right;\n",
       "    }\n",
       "</style>\n",
       "<table border=\"1\" class=\"dataframe\">\n",
       "  <thead>\n",
       "    <tr style=\"text-align: right;\">\n",
       "      <th></th>\n",
       "      <th>Nome</th>\n",
       "      <th>Email</th>\n",
       "      <th>Plano</th>\n",
       "      <th>Situação</th>\n",
       "      <th>Data de Cadastro</th>\n",
       "      <th>Data de Adesão</th>\n",
       "      <th>Data de Carência</th>\n",
       "      <th>Data de Cancelamento</th>\n",
       "      <th>mes</th>\n",
       "    </tr>\n",
       "  </thead>\n",
       "  <tbody>\n",
       "    <tr>\n",
       "      <th>0</th>\n",
       "      <td>amanda vilela de almeida</td>\n",
       "      <td>amandavilelaalmeida@gmail.com</td>\n",
       "      <td>R$ 0.00 / 5 Docs. / 1Gb</td>\n",
       "      <td>TESTE</td>\n",
       "      <td>2022-05-12 20:20:37</td>\n",
       "      <td>NaN</td>\n",
       "      <td>2022-05-26 20:20:37</td>\n",
       "      <td>NaT</td>\n",
       "      <td>5</td>\n",
       "    </tr>\n",
       "    <tr>\n",
       "      <th>1</th>\n",
       "      <td>Gedson da Silva</td>\n",
       "      <td>gedson2012_@hotmail.com</td>\n",
       "      <td>R$ 0.00 / 5 Docs. / 1Gb</td>\n",
       "      <td>TESTE</td>\n",
       "      <td>2022-05-12 14:22:21</td>\n",
       "      <td>NaN</td>\n",
       "      <td>2022-05-26 00:00:00</td>\n",
       "      <td>NaT</td>\n",
       "      <td>5</td>\n",
       "    </tr>\n",
       "    <tr>\n",
       "      <th>2</th>\n",
       "      <td>Financeiro XVII ENGEP</td>\n",
       "      <td>financeiroengep2022@gmail.com</td>\n",
       "      <td>R$ 0.00 / 5 Docs. / 1Gb</td>\n",
       "      <td>TESTE</td>\n",
       "      <td>2022-05-12 10:32:45</td>\n",
       "      <td>NaN</td>\n",
       "      <td>2022-05-26 10:32:45</td>\n",
       "      <td>NaT</td>\n",
       "      <td>5</td>\n",
       "    </tr>\n",
       "    <tr>\n",
       "      <th>3</th>\n",
       "      <td>Audenice da Silva dos Santos</td>\n",
       "      <td>silvasantosaudenice@gmail.com</td>\n",
       "      <td>R$ 0.00 / 5 Docs. / 1Gb</td>\n",
       "      <td>TESTE</td>\n",
       "      <td>2022-05-11 21:54:51</td>\n",
       "      <td>NaN</td>\n",
       "      <td>2022-05-25 00:00:00</td>\n",
       "      <td>NaT</td>\n",
       "      <td>5</td>\n",
       "    </tr>\n",
       "    <tr>\n",
       "      <th>4</th>\n",
       "      <td>Teste etttt</td>\n",
       "      <td>yortitalte@vusra.com</td>\n",
       "      <td>R$ 0.00 / 5 Docs. / 1Gb</td>\n",
       "      <td>TESTE</td>\n",
       "      <td>2022-05-11 16:49:52</td>\n",
       "      <td>NaN</td>\n",
       "      <td>2022-05-25 16:49:52</td>\n",
       "      <td>NaT</td>\n",
       "      <td>5</td>\n",
       "    </tr>\n",
       "  </tbody>\n",
       "</table>\n",
       "</div>"
      ],
      "text/plain": [
       "                           Nome                          Email  \\\n",
       "0      amanda vilela de almeida  amandavilelaalmeida@gmail.com   \n",
       "1               Gedson da Silva        gedson2012_@hotmail.com   \n",
       "2         Financeiro XVII ENGEP  financeiroengep2022@gmail.com   \n",
       "3  Audenice da Silva dos Santos  silvasantosaudenice@gmail.com   \n",
       "4                   Teste etttt           yortitalte@vusra.com   \n",
       "\n",
       "                     Plano Situação    Data de Cadastro Data de Adesão  \\\n",
       "0  R$ 0.00 / 5 Docs. / 1Gb    TESTE 2022-05-12 20:20:37            NaN   \n",
       "1  R$ 0.00 / 5 Docs. / 1Gb    TESTE 2022-05-12 14:22:21            NaN   \n",
       "2  R$ 0.00 / 5 Docs. / 1Gb    TESTE 2022-05-12 10:32:45            NaN   \n",
       "3  R$ 0.00 / 5 Docs. / 1Gb    TESTE 2022-05-11 21:54:51            NaN   \n",
       "4  R$ 0.00 / 5 Docs. / 1Gb    TESTE 2022-05-11 16:49:52            NaN   \n",
       "\n",
       "     Data de Carência Data de Cancelamento  mes  \n",
       "0 2022-05-26 20:20:37                  NaT    5  \n",
       "1 2022-05-26 00:00:00                  NaT    5  \n",
       "2 2022-05-26 10:32:45                  NaT    5  \n",
       "3 2022-05-25 00:00:00                  NaT    5  \n",
       "4 2022-05-25 16:49:52                  NaT    5  "
      ]
     },
     "execution_count": 15,
     "metadata": {},
     "output_type": "execute_result"
    }
   ],
   "source": [
    "df1 = df.copy()\n",
    "df1['mes'] = pd.DatetimeIndex(df1['Data de Cadastro']).month\n",
    "df1.head()"
   ]
  },
  {
   "cell_type": "code",
   "execution_count": 16,
   "metadata": {},
   "outputs": [
    {
     "name": "stdout",
     "output_type": "stream",
     "text": [
      "<class 'pandas.core.frame.DataFrame'>\n",
      "Int64Index: 73 entries, 0 to 129\n",
      "Data columns (total 9 columns):\n",
      " #   Column                Non-Null Count  Dtype         \n",
      "---  ------                --------------  -----         \n",
      " 0   Nome                  73 non-null     object        \n",
      " 1   Email                 73 non-null     object        \n",
      " 2   Plano                 73 non-null     object        \n",
      " 3   Situação              73 non-null     object        \n",
      " 4   Data de Cadastro      73 non-null     datetime64[ns]\n",
      " 5   Data de Adesão        0 non-null      object        \n",
      " 6   Data de Carência      72 non-null     datetime64[ns]\n",
      " 7   Data de Cancelamento  0 non-null      datetime64[ns]\n",
      " 8   mes                   73 non-null     int64         \n",
      "dtypes: datetime64[ns](3), int64(1), object(5)\n",
      "memory usage: 5.7+ KB\n"
     ]
    }
   ],
   "source": [
    "df1['mes'] = pd.to_numeric(df1['mes'])\n",
    "df1.info()"
   ]
  },
  {
   "cell_type": "markdown",
   "metadata": {},
   "source": [
    "# preparando arquivo usuários TESTANDO"
   ]
  },
  {
   "cell_type": "code",
   "execution_count": 17,
   "metadata": {},
   "outputs": [],
   "source": [
    "#criando dataset para o mapa com as colunas necessárias\n",
    "dfass = df1[[\"mes\"]]"
   ]
  },
  {
   "cell_type": "code",
   "execution_count": 18,
   "metadata": {},
   "outputs": [
    {
     "data": {
      "text/html": [
       "<div>\n",
       "<style scoped>\n",
       "    .dataframe tbody tr th:only-of-type {\n",
       "        vertical-align: middle;\n",
       "    }\n",
       "\n",
       "    .dataframe tbody tr th {\n",
       "        vertical-align: top;\n",
       "    }\n",
       "\n",
       "    .dataframe thead th {\n",
       "        text-align: right;\n",
       "    }\n",
       "</style>\n",
       "<table border=\"1\" class=\"dataframe\">\n",
       "  <thead>\n",
       "    <tr style=\"text-align: right;\">\n",
       "      <th></th>\n",
       "      <th>mes</th>\n",
       "    </tr>\n",
       "  </thead>\n",
       "  <tbody>\n",
       "    <tr>\n",
       "      <th>0</th>\n",
       "      <td>5</td>\n",
       "    </tr>\n",
       "    <tr>\n",
       "      <th>1</th>\n",
       "      <td>5</td>\n",
       "    </tr>\n",
       "    <tr>\n",
       "      <th>2</th>\n",
       "      <td>5</td>\n",
       "    </tr>\n",
       "    <tr>\n",
       "      <th>3</th>\n",
       "      <td>5</td>\n",
       "    </tr>\n",
       "    <tr>\n",
       "      <th>4</th>\n",
       "      <td>5</td>\n",
       "    </tr>\n",
       "  </tbody>\n",
       "</table>\n",
       "</div>"
      ],
      "text/plain": [
       "   mes\n",
       "0    5\n",
       "1    5\n",
       "2    5\n",
       "3    5\n",
       "4    5"
      ]
     },
     "execution_count": 18,
     "metadata": {},
     "output_type": "execute_result"
    }
   ],
   "source": [
    "dfass.head()"
   ]
  },
  {
   "cell_type": "code",
   "execution_count": 19,
   "metadata": {},
   "outputs": [
    {
     "data": {
      "text/html": [
       "<div>\n",
       "<style scoped>\n",
       "    .dataframe tbody tr th:only-of-type {\n",
       "        vertical-align: middle;\n",
       "    }\n",
       "\n",
       "    .dataframe tbody tr th {\n",
       "        vertical-align: top;\n",
       "    }\n",
       "\n",
       "    .dataframe thead th {\n",
       "        text-align: right;\n",
       "    }\n",
       "</style>\n",
       "<table border=\"1\" class=\"dataframe\">\n",
       "  <thead>\n",
       "    <tr style=\"text-align: right;\">\n",
       "      <th></th>\n",
       "      <th>mes</th>\n",
       "      <th>Total</th>\n",
       "    </tr>\n",
       "  </thead>\n",
       "  <tbody>\n",
       "    <tr>\n",
       "      <th>0</th>\n",
       "      <td>4</td>\n",
       "      <td>12</td>\n",
       "    </tr>\n",
       "    <tr>\n",
       "      <th>1</th>\n",
       "      <td>5</td>\n",
       "      <td>61</td>\n",
       "    </tr>\n",
       "  </tbody>\n",
       "</table>\n",
       "</div>"
      ],
      "text/plain": [
       "   mes  Total\n",
       "0    4     12\n",
       "1    5     61"
      ]
     },
     "execution_count": 19,
     "metadata": {},
     "output_type": "execute_result"
    }
   ],
   "source": [
    "dfass2 = dfass.groupby(['mes']).size().reset_index(name='Total')\n",
    "dfass2"
   ]
  },
  {
   "cell_type": "code",
   "execution_count": 20,
   "metadata": {},
   "outputs": [],
   "source": [
    "# dfmapa.dropna(subset=['nome'], how='all', inplace=True)"
   ]
  },
  {
   "cell_type": "code",
   "execution_count": 21,
   "metadata": {},
   "outputs": [
    {
     "name": "stdout",
     "output_type": "stream",
     "text": [
      "['Apr', 'May']\n"
     ]
    }
   ],
   "source": [
    "import calendar\n",
    "result = []\n",
    "for i in dfass2['mes']:\n",
    "    result.append(calendar.month_abbr[i])\n",
    "dfass2['month'] = result\n",
    "print(result)"
   ]
  },
  {
   "cell_type": "code",
   "execution_count": 22,
   "metadata": {},
   "outputs": [
    {
     "data": {
      "text/html": [
       "<div>\n",
       "<style scoped>\n",
       "    .dataframe tbody tr th:only-of-type {\n",
       "        vertical-align: middle;\n",
       "    }\n",
       "\n",
       "    .dataframe tbody tr th {\n",
       "        vertical-align: top;\n",
       "    }\n",
       "\n",
       "    .dataframe thead th {\n",
       "        text-align: right;\n",
       "    }\n",
       "</style>\n",
       "<table border=\"1\" class=\"dataframe\">\n",
       "  <thead>\n",
       "    <tr style=\"text-align: right;\">\n",
       "      <th></th>\n",
       "      <th>Total</th>\n",
       "      <th>month</th>\n",
       "    </tr>\n",
       "  </thead>\n",
       "  <tbody>\n",
       "    <tr>\n",
       "      <th>0</th>\n",
       "      <td>12</td>\n",
       "      <td>Apr</td>\n",
       "    </tr>\n",
       "    <tr>\n",
       "      <th>1</th>\n",
       "      <td>61</td>\n",
       "      <td>May</td>\n",
       "    </tr>\n",
       "  </tbody>\n",
       "</table>\n",
       "</div>"
      ],
      "text/plain": [
       "   Total month\n",
       "0     12   Apr\n",
       "1     61   May"
      ]
     },
     "execution_count": 22,
     "metadata": {},
     "output_type": "execute_result"
    }
   ],
   "source": [
    "dfass2.drop('mes', axis=1, inplace=True)\n",
    "dfass2"
   ]
  },
  {
   "cell_type": "code",
   "execution_count": 23,
   "metadata": {},
   "outputs": [
    {
     "data": {
      "text/html": [
       "<div>\n",
       "<style scoped>\n",
       "    .dataframe tbody tr th:only-of-type {\n",
       "        vertical-align: middle;\n",
       "    }\n",
       "\n",
       "    .dataframe tbody tr th {\n",
       "        vertical-align: top;\n",
       "    }\n",
       "\n",
       "    .dataframe thead th {\n",
       "        text-align: right;\n",
       "    }\n",
       "</style>\n",
       "<table border=\"1\" class=\"dataframe\">\n",
       "  <thead>\n",
       "    <tr style=\"text-align: right;\">\n",
       "      <th></th>\n",
       "      <th>Total</th>\n",
       "      <th>month</th>\n",
       "    </tr>\n",
       "  </thead>\n",
       "  <tbody>\n",
       "    <tr>\n",
       "      <th>0</th>\n",
       "      <td>12</td>\n",
       "      <td>Apr</td>\n",
       "    </tr>\n",
       "    <tr>\n",
       "      <th>1</th>\n",
       "      <td>61</td>\n",
       "      <td>May</td>\n",
       "    </tr>\n",
       "  </tbody>\n",
       "</table>\n",
       "</div>"
      ],
      "text/plain": [
       "   Total month\n",
       "0     12   Apr\n",
       "1     61   May"
      ]
     },
     "execution_count": 23,
     "metadata": {},
     "output_type": "execute_result"
    }
   ],
   "source": [
    "dfass2.sort_values(\"month\")"
   ]
  },
  {
   "cell_type": "code",
   "execution_count": 44,
   "metadata": {},
   "outputs": [],
   "source": [
    "# dfass2_gr2 = (dfass2.groupby(['month'])['Total'].agg(['count']).sort_values(by='count', ascending=False).reset_index())\n",
    "# dfass2_gr2"
   ]
  },
  {
   "cell_type": "code",
   "execution_count": 24,
   "metadata": {},
   "outputs": [
    {
     "data": {
      "text/html": [
       "<div>\n",
       "<style scoped>\n",
       "    .dataframe tbody tr th:only-of-type {\n",
       "        vertical-align: middle;\n",
       "    }\n",
       "\n",
       "    .dataframe tbody tr th {\n",
       "        vertical-align: top;\n",
       "    }\n",
       "\n",
       "    .dataframe thead th {\n",
       "        text-align: right;\n",
       "    }\n",
       "</style>\n",
       "<table border=\"1\" class=\"dataframe\">\n",
       "  <thead>\n",
       "    <tr style=\"text-align: right;\">\n",
       "      <th></th>\n",
       "      <th>Total</th>\n",
       "      <th>month</th>\n",
       "    </tr>\n",
       "  </thead>\n",
       "  <tbody>\n",
       "    <tr>\n",
       "      <th>0</th>\n",
       "      <td>12</td>\n",
       "      <td>Apr</td>\n",
       "    </tr>\n",
       "    <tr>\n",
       "      <th>1</th>\n",
       "      <td>61</td>\n",
       "      <td>May</td>\n",
       "    </tr>\n",
       "  </tbody>\n",
       "</table>\n",
       "</div>"
      ],
      "text/plain": [
       "   Total month\n",
       "0     12   Apr\n",
       "1     61   May"
      ]
     },
     "execution_count": 24,
     "metadata": {},
     "output_type": "execute_result"
    }
   ],
   "source": [
    "months = [\"Apr\", \"May\"]\n",
    "dfass2['month'] = pd.Categorical(dfass2['month'], categories=months, ordered=True)\n",
    "dfass2.sort_values(by='month', ascending = True, inplace=True)\n",
    "\n",
    "dfass2"
   ]
  },
  {
   "cell_type": "code",
   "execution_count": 25,
   "metadata": {},
   "outputs": [],
   "source": [
    "dfass2.to_csv(\"../datasets/df_usuarios_testando.csv\")"
   ]
  },
  {
   "cell_type": "code",
   "execution_count": 26,
   "metadata": {},
   "outputs": [],
   "source": [
    "# dfmapa3.head(100)"
   ]
  },
  {
   "cell_type": "code",
   "execution_count": 27,
   "metadata": {},
   "outputs": [],
   "source": [
    "# dfmapa3.to_csv(\"empresas_mapa.csv\")"
   ]
  },
  {
   "cell_type": "code",
   "execution_count": 28,
   "metadata": {},
   "outputs": [],
   "source": [
    "# df_texto_ano = pd.read_csv('info-anos.csv', encoding='latin-1', sep=\";\")\n",
    "# df_texto_ano.head()"
   ]
  },
  {
   "cell_type": "code",
   "execution_count": 29,
   "metadata": {},
   "outputs": [],
   "source": [
    "# # Carregando os dados de geolocalização\n",
    "# with open('estados_brasil.geojson') as response: # carregando o arquivo \".geojson\"\n",
    "#     limites_brasil = json.load(response)\n",
    "# for feature in limites_brasil ['features']: # adicionado o ID aos dados\n",
    "#     feature['id'] = feature['properties']['name']\n"
   ]
  },
  {
   "cell_type": "code",
   "execution_count": 30,
   "metadata": {},
   "outputs": [],
   "source": [
    "# # criando as opções que serão apresentadas para o usuario trocar de ano no mapa do Brasil\n",
    "# year_options = []\n",
    "# for ano in df['Ano'].unique():\n",
    "#     year_options.append({'label':str(ano), 'value':ano})"
   ]
  },
  {
   "cell_type": "markdown",
   "metadata": {},
   "source": [
    "# Testando arquivo de mapas"
   ]
  },
  {
   "cell_type": "code",
   "execution_count": 31,
   "metadata": {},
   "outputs": [],
   "source": [
    "# df_origin_gen = pd.read_csv('../datasets/empresas_mapa_new.csv', encoding='utf-8') # carregando os dado\n",
    "# df_origin_gen.head()"
   ]
  },
  {
   "cell_type": "code",
   "execution_count": 32,
   "metadata": {},
   "outputs": [],
   "source": [
    "# df_origin_gen.drop(\"Unnamed: 0\", axis=1, inplace=True)\n",
    "# df_origin_gen"
   ]
  },
  {
   "cell_type": "code",
   "execution_count": 33,
   "metadata": {},
   "outputs": [],
   "source": [
    "# df_origin_gen.head()"
   ]
  },
  {
   "cell_type": "code",
   "execution_count": 34,
   "metadata": {},
   "outputs": [],
   "source": [
    "# df_origin_gen.groupby('uf').count()\n",
    "\n",
    "\n",
    "# # grouped_df = grouped_df.agg({\"Ano\": \"nunique\"})\n",
    "\n",
    "# # grouped_df = grouped_df.reset_index()\n",
    "\n",
    "# # print(grouped_df)"
   ]
  },
  {
   "cell_type": "code",
   "execution_count": 35,
   "metadata": {},
   "outputs": [],
   "source": [
    "# Carregando os dados de geolocalização\n",
    "# with open('../datasets/estados_brasil.geojson') as response: # carregando o arquivo \".geojson\"\n",
    "#     limites_brasil = json.load(response)\n",
    "# for feature in limites_brasil ['features']: # adicionado o ID aos dados\n",
    "#     feature['id'] = feature['properties']['name']"
   ]
  },
  {
   "cell_type": "code",
   "execution_count": 36,
   "metadata": {},
   "outputs": [],
   "source": [
    "# import plotly.express as px\n",
    "\n",
    "# fig=px.choropleth_mapbox(\n",
    "#                         df_origin_gen,  # primeiro parâmetro é o dataframe com os dados\n",
    "#                         locations='uf',  # coluna do DF que referencia as IDs do mapa\n",
    "#                         geojson=limites_brasil,  # arquivo com os limites dos estados\n",
    "#                         color='Total',  # indicando qual coluna será utilizada para pintar os estados\n",
    "#                         mapbox_style=\"carto-positron\",  # estilo do mapa\n",
    "#                         center={'lon': -55, 'lat': -14},  # definindo a posição inicial do mapa\n",
    "#                         zoom=3,  # definindo o zoom do mapa (número inteiro entre 0 e 20)\n",
    "#                         opacity=1.0,  # definindo uma opacidade para a cor do mapa\n",
    "#                         hover_name=\"uf\",  # nome do hover\n",
    "#                         color_continuous_scale='blues',  # muda a escala de cor\n",
    "#                         range_color=[0, df_origin_gen['Total'].max()],  # limites do eixo Y\n",
    "#                         )\n",
    "    \n",
    "# fig.update_layout(margin={\"r\":0,\"t\":0,\"l\":0,\"b\":0})\n",
    "# fig.show()"
   ]
  },
  {
   "cell_type": "code",
   "execution_count": 37,
   "metadata": {},
   "outputs": [],
   "source": [
    "# df_mapa_origin = pd.read_csv('historico_estados_queimadas.csv', encoding='latin-1') # carregando os dados\n",
    "# df_origin.head(100)"
   ]
  },
  {
   "cell_type": "code",
   "execution_count": 38,
   "metadata": {},
   "outputs": [],
   "source": [
    "# newdf = df.loc[(df.UF == \"São Paulo\")]\n",
    "# newdf.head()"
   ]
  },
  {
   "cell_type": "code",
   "execution_count": 39,
   "metadata": {},
   "outputs": [],
   "source": [
    "# # Carregando os dados de geolocalização\n",
    "# with open('estados_brasil.geojson') as response: # carregando o arquivo \".geojson\"\n",
    "#     limites_brasil = json.load(response)\n",
    "# for feature in limites_brasil ['features']: # adicionado o ID aos dados\n",
    "#     feature['id'] = feature['properties']['name']"
   ]
  },
  {
   "cell_type": "code",
   "execution_count": 40,
   "metadata": {},
   "outputs": [],
   "source": [
    "# for feature in limites_brasil ['features']: \n",
    "#     if feature['properties']['name'] == 'São Paulo':\n",
    "#         print(feature)"
   ]
  },
  {
   "cell_type": "code",
   "execution_count": 41,
   "metadata": {},
   "outputs": [],
   "source": [
    "\n",
    "\n",
    "# fig = px.choropleth(\n",
    "#     df_origin_gen, geojson=limites_brasil, color='Total',\n",
    "#     locations=\"uf\", featureidkey=\"uf\",\n",
    "#     center={'lon': -55, 'lat': -14},\n",
    "#     hover_name=\"uf\",  # nome do hover\n",
    "#     projection=\"mercator\", range_color=[0, 6500])\n",
    "# # fig.update_geos(fitbounds=\"uf\", visible=False)\n",
    "# fig.update_layout(margin={\"r\":0,\"t\":0,\"l\":0,\"b\":0})\n",
    "# fig.show()\n",
    "\n"
   ]
  },
  {
   "cell_type": "code",
   "execution_count": null,
   "metadata": {},
   "outputs": [],
   "source": []
  }
 ],
 "metadata": {
  "kernelspec": {
   "display_name": "Python 3 (ipykernel)",
   "language": "python",
   "name": "python3"
  },
  "language_info": {
   "codemirror_mode": {
    "name": "ipython",
    "version": 3
   },
   "file_extension": ".py",
   "mimetype": "text/x-python",
   "name": "python",
   "nbconvert_exporter": "python",
   "pygments_lexer": "ipython3",
   "version": "3.7.11"
  }
 },
 "nbformat": 4,
 "nbformat_minor": 2
}
