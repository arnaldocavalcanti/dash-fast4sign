{
 "cells": [
  {
   "cell_type": "code",
   "execution_count": 76,
   "id": "4f1cc73c",
   "metadata": {},
   "outputs": [
    {
     "data": {
      "text/html": [
       "        <script type=\"text/javascript\">\n",
       "        window.PlotlyConfig = {MathJaxConfig: 'local'};\n",
       "        if (window.MathJax) {MathJax.Hub.Config({SVG: {font: \"STIX-Web\"}});}\n",
       "        if (typeof require !== 'undefined') {\n",
       "        require.undef(\"plotly\");\n",
       "        requirejs.config({\n",
       "            paths: {\n",
       "                'plotly': ['https://cdn.plot.ly/plotly-2.8.3.min']\n",
       "            }\n",
       "        });\n",
       "        require(['plotly'], function(Plotly) {\n",
       "            window._Plotly = Plotly;\n",
       "        });\n",
       "        }\n",
       "        </script>\n",
       "        "
      ]
     },
     "metadata": {},
     "output_type": "display_data"
    }
   ],
   "source": [
    "#basic imports\n",
    "import pandas as pd\n",
    "import numpy as np\n",
    "import matplotlib as mpl\n",
    "import json\n",
    "\n",
    "%matplotlib inline\n",
    "import warnings\n",
    "import datetime as dt\n",
    "\n",
    "# for visualizations\n",
    "import matplotlib.pyplot as plt\n",
    "import seaborn as sns\n",
    "\n",
    "\n",
    "# for interactive visualizations\n",
    "import plotly.offline as py\n",
    "from plotly.offline import init_notebook_mode, iplot\n",
    "import plotly.graph_objs as go\n",
    "from plotly import tools\n",
    "init_notebook_mode(connected = True)\n",
    "import plotly.figure_factory as ff\n",
    "\n",
    "\n",
    "warnings.filterwarnings(\"ignore\")"
   ]
  },
  {
   "cell_type": "markdown",
   "id": "9681dff4",
   "metadata": {},
   "source": [
    "# Carregando e preparando arquivo google"
   ]
  },
  {
   "cell_type": "markdown",
   "id": "9d008d74",
   "metadata": {},
   "source": [
    "Como gerei o arquivo: filtro anual de cliques tirado do adwords da Devolus (pesquisa)"
   ]
  },
  {
   "cell_type": "code",
   "execution_count": 77,
   "id": "cbc0f1fb",
   "metadata": {},
   "outputs": [
    {
     "data": {
      "text/html": [
       "<div>\n",
       "<style scoped>\n",
       "    .dataframe tbody tr th:only-of-type {\n",
       "        vertical-align: middle;\n",
       "    }\n",
       "\n",
       "    .dataframe tbody tr th {\n",
       "        vertical-align: top;\n",
       "    }\n",
       "\n",
       "    .dataframe thead th {\n",
       "        text-align: right;\n",
       "    }\n",
       "</style>\n",
       "<table border=\"1\" class=\"dataframe\">\n",
       "  <thead>\n",
       "    <tr style=\"text-align: right;\">\n",
       "      <th></th>\n",
       "      <th>Mês</th>\n",
       "      <th>Cliques</th>\n",
       "      <th>Impressões</th>\n",
       "      <th>CPC médio</th>\n",
       "      <th>Custo</th>\n",
       "    </tr>\n",
       "  </thead>\n",
       "  <tbody>\n",
       "    <tr>\n",
       "      <th>0</th>\n",
       "      <td>dez. de 2012</td>\n",
       "      <td>0.0</td>\n",
       "      <td>0.0</td>\n",
       "      <td>R$ 0,00</td>\n",
       "      <td>R$ 0,00</td>\n",
       "    </tr>\n",
       "    <tr>\n",
       "      <th>1</th>\n",
       "      <td>jan. de 2013</td>\n",
       "      <td>0.0</td>\n",
       "      <td>0.0</td>\n",
       "      <td>R$ 0,00</td>\n",
       "      <td>R$ 0,00</td>\n",
       "    </tr>\n",
       "    <tr>\n",
       "      <th>2</th>\n",
       "      <td>fev. de 2013</td>\n",
       "      <td>0.0</td>\n",
       "      <td>0.0</td>\n",
       "      <td>R$ 0,00</td>\n",
       "      <td>R$ 0,00</td>\n",
       "    </tr>\n",
       "    <tr>\n",
       "      <th>3</th>\n",
       "      <td>mar. de 2013</td>\n",
       "      <td>0.0</td>\n",
       "      <td>0.0</td>\n",
       "      <td>R$ 0,00</td>\n",
       "      <td>R$ 0,00</td>\n",
       "    </tr>\n",
       "    <tr>\n",
       "      <th>4</th>\n",
       "      <td>abr. de 2013</td>\n",
       "      <td>0.0</td>\n",
       "      <td>0.0</td>\n",
       "      <td>R$ 0,00</td>\n",
       "      <td>R$ 0,00</td>\n",
       "    </tr>\n",
       "  </tbody>\n",
       "</table>\n",
       "</div>"
      ],
      "text/plain": [
       "            Mês  Cliques  Impressões CPC médio    Custo\n",
       "0  dez. de 2012      0.0         0.0   R$ 0,00  R$ 0,00\n",
       "1  jan. de 2013      0.0         0.0   R$ 0,00  R$ 0,00\n",
       "2  fev. de 2013      0.0         0.0   R$ 0,00  R$ 0,00\n",
       "3  mar. de 2013      0.0         0.0   R$ 0,00  R$ 0,00\n",
       "4  abr. de 2013      0.0         0.0   R$ 0,00  R$ 0,00"
      ]
     },
     "execution_count": 77,
     "metadata": {},
     "output_type": "execute_result"
    }
   ],
   "source": [
    "df = pd.read_csv(\"../datasets/google_st_2022_3.csv\", sep=',')\n",
    "df.head()"
   ]
  },
  {
   "cell_type": "code",
   "execution_count": 78,
   "id": "24e43919",
   "metadata": {},
   "outputs": [
    {
     "name": "stdout",
     "output_type": "stream",
     "text": [
      "<class 'pandas.core.frame.DataFrame'>\n",
      "RangeIndex: 112 entries, 0 to 111\n",
      "Data columns (total 5 columns):\n",
      " #   Column      Non-Null Count  Dtype  \n",
      "---  ------      --------------  -----  \n",
      " 0   Mês         112 non-null    object \n",
      " 1   Cliques     112 non-null    float64\n",
      " 2   Impressões  112 non-null    float64\n",
      " 3   CPC médio   112 non-null    object \n",
      " 4   Custo       112 non-null    object \n",
      "dtypes: float64(2), object(3)\n",
      "memory usage: 4.5+ KB\n"
     ]
    }
   ],
   "source": [
    "df.info()"
   ]
  },
  {
   "cell_type": "code",
   "execution_count": 79,
   "id": "6be9ca18",
   "metadata": {},
   "outputs": [
    {
     "data": {
      "text/plain": [
       "(112, 5)"
      ]
     },
     "execution_count": 79,
     "metadata": {},
     "output_type": "execute_result"
    }
   ],
   "source": [
    "df.shape"
   ]
  },
  {
   "cell_type": "code",
   "execution_count": 80,
   "id": "38af1a92",
   "metadata": {},
   "outputs": [
    {
     "data": {
      "text/html": [
       "<div>\n",
       "<style scoped>\n",
       "    .dataframe tbody tr th:only-of-type {\n",
       "        vertical-align: middle;\n",
       "    }\n",
       "\n",
       "    .dataframe tbody tr th {\n",
       "        vertical-align: top;\n",
       "    }\n",
       "\n",
       "    .dataframe thead th {\n",
       "        text-align: right;\n",
       "    }\n",
       "</style>\n",
       "<table border=\"1\" class=\"dataframe\">\n",
       "  <thead>\n",
       "    <tr style=\"text-align: right;\">\n",
       "      <th></th>\n",
       "      <th>Mês</th>\n",
       "      <th>Cliques</th>\n",
       "      <th>Impressões</th>\n",
       "      <th>CPC médio</th>\n",
       "      <th>Custo</th>\n",
       "    </tr>\n",
       "  </thead>\n",
       "  <tbody>\n",
       "    <tr>\n",
       "      <th>0</th>\n",
       "      <td>dez. de 2012</td>\n",
       "      <td>0.000</td>\n",
       "      <td>0.000</td>\n",
       "      <td>R$ 0,00</td>\n",
       "      <td>R$ 0,00</td>\n",
       "    </tr>\n",
       "    <tr>\n",
       "      <th>1</th>\n",
       "      <td>jan. de 2013</td>\n",
       "      <td>0.000</td>\n",
       "      <td>0.000</td>\n",
       "      <td>R$ 0,00</td>\n",
       "      <td>R$ 0,00</td>\n",
       "    </tr>\n",
       "    <tr>\n",
       "      <th>2</th>\n",
       "      <td>fev. de 2013</td>\n",
       "      <td>0.000</td>\n",
       "      <td>0.000</td>\n",
       "      <td>R$ 0,00</td>\n",
       "      <td>R$ 0,00</td>\n",
       "    </tr>\n",
       "    <tr>\n",
       "      <th>3</th>\n",
       "      <td>mar. de 2013</td>\n",
       "      <td>0.000</td>\n",
       "      <td>0.000</td>\n",
       "      <td>R$ 0,00</td>\n",
       "      <td>R$ 0,00</td>\n",
       "    </tr>\n",
       "    <tr>\n",
       "      <th>4</th>\n",
       "      <td>abr. de 2013</td>\n",
       "      <td>0.000</td>\n",
       "      <td>0.000</td>\n",
       "      <td>R$ 0,00</td>\n",
       "      <td>R$ 0,00</td>\n",
       "    </tr>\n",
       "    <tr>\n",
       "      <th>...</th>\n",
       "      <td>...</td>\n",
       "      <td>...</td>\n",
       "      <td>...</td>\n",
       "      <td>...</td>\n",
       "      <td>...</td>\n",
       "    </tr>\n",
       "    <tr>\n",
       "      <th>107</th>\n",
       "      <td>nov. de 2021</td>\n",
       "      <td>1.182</td>\n",
       "      <td>26.051</td>\n",
       "      <td>R$ 1,21</td>\n",
       "      <td>R$ 1.429,82</td>\n",
       "    </tr>\n",
       "    <tr>\n",
       "      <th>108</th>\n",
       "      <td>dez. de 2021</td>\n",
       "      <td>1.186</td>\n",
       "      <td>20.531</td>\n",
       "      <td>R$ 1,25</td>\n",
       "      <td>R$ 1.483,94</td>\n",
       "    </tr>\n",
       "    <tr>\n",
       "      <th>109</th>\n",
       "      <td>jan. de 2022</td>\n",
       "      <td>1.114</td>\n",
       "      <td>22.327</td>\n",
       "      <td>R$ 1,23</td>\n",
       "      <td>R$ 1.364,89</td>\n",
       "    </tr>\n",
       "    <tr>\n",
       "      <th>110</th>\n",
       "      <td>fev. de 2022</td>\n",
       "      <td>1.044</td>\n",
       "      <td>19.966</td>\n",
       "      <td>R$ 1,23</td>\n",
       "      <td>R$ 1.283,63</td>\n",
       "    </tr>\n",
       "    <tr>\n",
       "      <th>111</th>\n",
       "      <td>mar. de 2022</td>\n",
       "      <td>594.000</td>\n",
       "      <td>11.209</td>\n",
       "      <td>R$ 1,31</td>\n",
       "      <td>R$ 779,56</td>\n",
       "    </tr>\n",
       "  </tbody>\n",
       "</table>\n",
       "<p>112 rows × 5 columns</p>\n",
       "</div>"
      ],
      "text/plain": [
       "              Mês  Cliques  Impressões CPC médio        Custo\n",
       "0    dez. de 2012    0.000       0.000   R$ 0,00      R$ 0,00\n",
       "1    jan. de 2013    0.000       0.000   R$ 0,00      R$ 0,00\n",
       "2    fev. de 2013    0.000       0.000   R$ 0,00      R$ 0,00\n",
       "3    mar. de 2013    0.000       0.000   R$ 0,00      R$ 0,00\n",
       "4    abr. de 2013    0.000       0.000   R$ 0,00      R$ 0,00\n",
       "..            ...      ...         ...       ...          ...\n",
       "107  nov. de 2021    1.182      26.051   R$ 1,21  R$ 1.429,82\n",
       "108  dez. de 2021    1.186      20.531   R$ 1,25  R$ 1.483,94\n",
       "109  jan. de 2022    1.114      22.327   R$ 1,23  R$ 1.364,89\n",
       "110  fev. de 2022    1.044      19.966   R$ 1,23  R$ 1.283,63\n",
       "111  mar. de 2022  594.000      11.209   R$ 1,31    R$ 779,56\n",
       "\n",
       "[112 rows x 5 columns]"
      ]
     },
     "execution_count": 80,
     "metadata": {},
     "output_type": "execute_result"
    }
   ],
   "source": [
    "df"
   ]
  },
  {
   "cell_type": "code",
   "execution_count": 81,
   "id": "dc15ea02",
   "metadata": {},
   "outputs": [
    {
     "name": "stdout",
     "output_type": "stream",
     "text": [
      "[['dez'], ['jan'], ['fev'], ['mar'], ['abr'], [], ['jun'], ['jul'], ['ago'], ['set'], ['out'], ['nov'], ['dez'], ['jan'], ['fev'], ['mar'], ['abr'], [], ['jun'], ['jul'], ['ago'], ['set'], ['out'], ['nov'], ['dez'], ['jan'], ['fev'], ['mar'], ['abr'], [], ['jun'], ['jul'], ['ago'], ['set'], ['out'], ['nov'], ['dez'], ['jan'], ['fev'], ['mar'], ['abr'], [], ['jun'], ['jul'], ['ago'], ['set'], ['out'], ['nov'], ['dez'], ['jan'], ['fev'], ['mar'], ['abr'], [], ['jun'], ['jul'], ['ago'], ['set'], ['out'], ['nov'], ['dez'], ['jan'], ['fev'], ['mar'], ['abr'], [], ['jun'], ['jul'], ['ago'], ['set'], ['out'], ['nov'], ['dez'], ['jan'], ['fev'], ['mar'], ['abr'], [], ['jun'], ['jul'], ['ago'], ['set'], ['out'], ['nov'], ['dez'], ['jan'], ['fev'], ['mar'], ['abr'], [], ['jun'], ['jul'], ['ago'], ['set'], ['out'], ['nov'], ['dez'], ['jan'], ['fev'], ['mar'], ['abr'], [], ['jun'], ['jul'], ['ago'], ['set'], ['out'], ['nov'], ['dez'], ['jan'], ['fev'], ['mar']]\n"
     ]
    }
   ],
   "source": [
    "#usando regex para pegar somente o mês da data que vem do aquivo do google\n",
    "import datetime\n",
    "import re\n",
    "pattern = \"r'\\b\\[harry\\]\\b'\"\n",
    "result = []\n",
    "for i in df['Mês']:\n",
    "    result.append(re.findall(r'(?:Jan|Fev|Mar|Abr|Jun|Jul|Ago|Set|Out|Nov|Dez)[a-z]*',i,flags=re.IGNORECASE))\n",
    "df['mes'] = result\n",
    "print(result)"
   ]
  },
  {
   "cell_type": "code",
   "execution_count": 82,
   "id": "68136045",
   "metadata": {},
   "outputs": [
    {
     "name": "stdout",
     "output_type": "stream",
     "text": [
      "[['2012'], ['2013'], ['2013'], ['2013'], ['2013'], ['2013'], ['2013'], ['2013'], ['2013'], ['2013'], ['2013'], ['2013'], ['2013'], ['2014'], ['2014'], ['2014'], ['2014'], ['2014'], ['2014'], ['2014'], ['2014'], ['2014'], ['2014'], ['2014'], ['2014'], ['2015'], ['2015'], ['2015'], ['2015'], ['2015'], ['2015'], ['2015'], ['2015'], ['2015'], ['2015'], ['2015'], ['2015'], ['2016'], ['2016'], ['2016'], ['2016'], ['2016'], ['2016'], ['2016'], ['2016'], ['2016'], ['2016'], ['2016'], ['2016'], ['2017'], ['2017'], ['2017'], ['2017'], ['2017'], ['2017'], ['2017'], ['2017'], ['2017'], ['2017'], ['2017'], ['2017'], ['2018'], ['2018'], ['2018'], ['2018'], ['2018'], ['2018'], ['2018'], ['2018'], ['2018'], ['2018'], ['2018'], ['2018'], ['2019'], ['2019'], ['2019'], ['2019'], ['2019'], ['2019'], ['2019'], ['2019'], ['2019'], ['2019'], ['2019'], ['2019'], ['2020'], ['2020'], ['2020'], ['2020'], ['2020'], ['2020'], ['2020'], ['2020'], ['2020'], ['2020'], ['2020'], ['2020'], ['2021'], ['2021'], ['2021'], ['2021'], ['2021'], ['2021'], ['2021'], ['2021'], ['2021'], ['2021'], ['2021'], ['2021'], ['2022'], ['2022'], ['2022']]\n"
     ]
    }
   ],
   "source": [
    "#usando regex para pegar somente o ANO da data que vem do aquivo do google\n",
    "import re\n",
    "result_ano = []\n",
    "for i in df['Mês']:\n",
    "    result_ano.append(re.findall(r'(\\d{4})',i,flags=re.IGNORECASE))\n",
    "df['ano'] = result_ano\n",
    "print(result_ano)"
   ]
  },
  {
   "cell_type": "code",
   "execution_count": 83,
   "id": "4b98f0ba",
   "metadata": {},
   "outputs": [
    {
     "data": {
      "text/html": [
       "<div>\n",
       "<style scoped>\n",
       "    .dataframe tbody tr th:only-of-type {\n",
       "        vertical-align: middle;\n",
       "    }\n",
       "\n",
       "    .dataframe tbody tr th {\n",
       "        vertical-align: top;\n",
       "    }\n",
       "\n",
       "    .dataframe thead th {\n",
       "        text-align: right;\n",
       "    }\n",
       "</style>\n",
       "<table border=\"1\" class=\"dataframe\">\n",
       "  <thead>\n",
       "    <tr style=\"text-align: right;\">\n",
       "      <th></th>\n",
       "      <th>Mês</th>\n",
       "      <th>Cliques</th>\n",
       "      <th>Impressões</th>\n",
       "      <th>CPC médio</th>\n",
       "      <th>Custo</th>\n",
       "      <th>mes</th>\n",
       "      <th>ano</th>\n",
       "    </tr>\n",
       "  </thead>\n",
       "  <tbody>\n",
       "    <tr>\n",
       "      <th>0</th>\n",
       "      <td>dez. de 2012</td>\n",
       "      <td>0.000</td>\n",
       "      <td>0.000</td>\n",
       "      <td>R$ 0,00</td>\n",
       "      <td>R$ 0,00</td>\n",
       "      <td>dez</td>\n",
       "      <td>2012</td>\n",
       "    </tr>\n",
       "    <tr>\n",
       "      <th>1</th>\n",
       "      <td>jan. de 2013</td>\n",
       "      <td>0.000</td>\n",
       "      <td>0.000</td>\n",
       "      <td>R$ 0,00</td>\n",
       "      <td>R$ 0,00</td>\n",
       "      <td>jan</td>\n",
       "      <td>2013</td>\n",
       "    </tr>\n",
       "    <tr>\n",
       "      <th>2</th>\n",
       "      <td>fev. de 2013</td>\n",
       "      <td>0.000</td>\n",
       "      <td>0.000</td>\n",
       "      <td>R$ 0,00</td>\n",
       "      <td>R$ 0,00</td>\n",
       "      <td>fev</td>\n",
       "      <td>2013</td>\n",
       "    </tr>\n",
       "    <tr>\n",
       "      <th>3</th>\n",
       "      <td>mar. de 2013</td>\n",
       "      <td>0.000</td>\n",
       "      <td>0.000</td>\n",
       "      <td>R$ 0,00</td>\n",
       "      <td>R$ 0,00</td>\n",
       "      <td>mar</td>\n",
       "      <td>2013</td>\n",
       "    </tr>\n",
       "    <tr>\n",
       "      <th>4</th>\n",
       "      <td>abr. de 2013</td>\n",
       "      <td>0.000</td>\n",
       "      <td>0.000</td>\n",
       "      <td>R$ 0,00</td>\n",
       "      <td>R$ 0,00</td>\n",
       "      <td>abr</td>\n",
       "      <td>2013</td>\n",
       "    </tr>\n",
       "    <tr>\n",
       "      <th>...</th>\n",
       "      <td>...</td>\n",
       "      <td>...</td>\n",
       "      <td>...</td>\n",
       "      <td>...</td>\n",
       "      <td>...</td>\n",
       "      <td>...</td>\n",
       "      <td>...</td>\n",
       "    </tr>\n",
       "    <tr>\n",
       "      <th>107</th>\n",
       "      <td>nov. de 2021</td>\n",
       "      <td>1.182</td>\n",
       "      <td>26.051</td>\n",
       "      <td>R$ 1,21</td>\n",
       "      <td>R$ 1.429,82</td>\n",
       "      <td>nov</td>\n",
       "      <td>2021</td>\n",
       "    </tr>\n",
       "    <tr>\n",
       "      <th>108</th>\n",
       "      <td>dez. de 2021</td>\n",
       "      <td>1.186</td>\n",
       "      <td>20.531</td>\n",
       "      <td>R$ 1,25</td>\n",
       "      <td>R$ 1.483,94</td>\n",
       "      <td>dez</td>\n",
       "      <td>2021</td>\n",
       "    </tr>\n",
       "    <tr>\n",
       "      <th>109</th>\n",
       "      <td>jan. de 2022</td>\n",
       "      <td>1.114</td>\n",
       "      <td>22.327</td>\n",
       "      <td>R$ 1,23</td>\n",
       "      <td>R$ 1.364,89</td>\n",
       "      <td>jan</td>\n",
       "      <td>2022</td>\n",
       "    </tr>\n",
       "    <tr>\n",
       "      <th>110</th>\n",
       "      <td>fev. de 2022</td>\n",
       "      <td>1.044</td>\n",
       "      <td>19.966</td>\n",
       "      <td>R$ 1,23</td>\n",
       "      <td>R$ 1.283,63</td>\n",
       "      <td>fev</td>\n",
       "      <td>2022</td>\n",
       "    </tr>\n",
       "    <tr>\n",
       "      <th>111</th>\n",
       "      <td>mar. de 2022</td>\n",
       "      <td>594.000</td>\n",
       "      <td>11.209</td>\n",
       "      <td>R$ 1,31</td>\n",
       "      <td>R$ 779,56</td>\n",
       "      <td>mar</td>\n",
       "      <td>2022</td>\n",
       "    </tr>\n",
       "  </tbody>\n",
       "</table>\n",
       "<p>112 rows × 7 columns</p>\n",
       "</div>"
      ],
      "text/plain": [
       "              Mês  Cliques  Impressões CPC médio        Custo  mes   ano\n",
       "0    dez. de 2012    0.000       0.000   R$ 0,00      R$ 0,00  dez  2012\n",
       "1    jan. de 2013    0.000       0.000   R$ 0,00      R$ 0,00  jan  2013\n",
       "2    fev. de 2013    0.000       0.000   R$ 0,00      R$ 0,00  fev  2013\n",
       "3    mar. de 2013    0.000       0.000   R$ 0,00      R$ 0,00  mar  2013\n",
       "4    abr. de 2013    0.000       0.000   R$ 0,00      R$ 0,00  abr  2013\n",
       "..            ...      ...         ...       ...          ...  ...   ...\n",
       "107  nov. de 2021    1.182      26.051   R$ 1,21  R$ 1.429,82  nov  2021\n",
       "108  dez. de 2021    1.186      20.531   R$ 1,25  R$ 1.483,94  dez  2021\n",
       "109  jan. de 2022    1.114      22.327   R$ 1,23  R$ 1.364,89  jan  2022\n",
       "110  fev. de 2022    1.044      19.966   R$ 1,23  R$ 1.283,63  fev  2022\n",
       "111  mar. de 2022  594.000      11.209   R$ 1,31    R$ 779,56  mar  2022\n",
       "\n",
       "[112 rows x 7 columns]"
      ]
     },
     "execution_count": 83,
     "metadata": {},
     "output_type": "execute_result"
    }
   ],
   "source": [
    "#removendo os squares\n",
    "df['mes'] = df['mes'].str.get(0)\n",
    "df['ano'] = df['ano'].str.get(0)\n",
    "df"
   ]
  },
  {
   "cell_type": "code",
   "execution_count": 84,
   "id": "65bdeca5",
   "metadata": {},
   "outputs": [
    {
     "data": {
      "text/html": [
       "<div>\n",
       "<style scoped>\n",
       "    .dataframe tbody tr th:only-of-type {\n",
       "        vertical-align: middle;\n",
       "    }\n",
       "\n",
       "    .dataframe tbody tr th {\n",
       "        vertical-align: top;\n",
       "    }\n",
       "\n",
       "    .dataframe thead th {\n",
       "        text-align: right;\n",
       "    }\n",
       "</style>\n",
       "<table border=\"1\" class=\"dataframe\">\n",
       "  <thead>\n",
       "    <tr style=\"text-align: right;\">\n",
       "      <th></th>\n",
       "      <th>Cliques</th>\n",
       "      <th>mes</th>\n",
       "      <th>ano</th>\n",
       "    </tr>\n",
       "  </thead>\n",
       "  <tbody>\n",
       "    <tr>\n",
       "      <th>0</th>\n",
       "      <td>0.000</td>\n",
       "      <td>dez</td>\n",
       "      <td>2012</td>\n",
       "    </tr>\n",
       "    <tr>\n",
       "      <th>1</th>\n",
       "      <td>0.000</td>\n",
       "      <td>jan</td>\n",
       "      <td>2013</td>\n",
       "    </tr>\n",
       "    <tr>\n",
       "      <th>2</th>\n",
       "      <td>0.000</td>\n",
       "      <td>fev</td>\n",
       "      <td>2013</td>\n",
       "    </tr>\n",
       "    <tr>\n",
       "      <th>3</th>\n",
       "      <td>0.000</td>\n",
       "      <td>mar</td>\n",
       "      <td>2013</td>\n",
       "    </tr>\n",
       "    <tr>\n",
       "      <th>4</th>\n",
       "      <td>0.000</td>\n",
       "      <td>abr</td>\n",
       "      <td>2013</td>\n",
       "    </tr>\n",
       "    <tr>\n",
       "      <th>...</th>\n",
       "      <td>...</td>\n",
       "      <td>...</td>\n",
       "      <td>...</td>\n",
       "    </tr>\n",
       "    <tr>\n",
       "      <th>107</th>\n",
       "      <td>1.182</td>\n",
       "      <td>nov</td>\n",
       "      <td>2021</td>\n",
       "    </tr>\n",
       "    <tr>\n",
       "      <th>108</th>\n",
       "      <td>1.186</td>\n",
       "      <td>dez</td>\n",
       "      <td>2021</td>\n",
       "    </tr>\n",
       "    <tr>\n",
       "      <th>109</th>\n",
       "      <td>1.114</td>\n",
       "      <td>jan</td>\n",
       "      <td>2022</td>\n",
       "    </tr>\n",
       "    <tr>\n",
       "      <th>110</th>\n",
       "      <td>1.044</td>\n",
       "      <td>fev</td>\n",
       "      <td>2022</td>\n",
       "    </tr>\n",
       "    <tr>\n",
       "      <th>111</th>\n",
       "      <td>594.000</td>\n",
       "      <td>mar</td>\n",
       "      <td>2022</td>\n",
       "    </tr>\n",
       "  </tbody>\n",
       "</table>\n",
       "<p>112 rows × 3 columns</p>\n",
       "</div>"
      ],
      "text/plain": [
       "     Cliques  mes   ano\n",
       "0      0.000  dez  2012\n",
       "1      0.000  jan  2013\n",
       "2      0.000  fev  2013\n",
       "3      0.000  mar  2013\n",
       "4      0.000  abr  2013\n",
       "..       ...  ...   ...\n",
       "107    1.182  nov  2021\n",
       "108    1.186  dez  2021\n",
       "109    1.114  jan  2022\n",
       "110    1.044  fev  2022\n",
       "111  594.000  mar  2022\n",
       "\n",
       "[112 rows x 3 columns]"
      ]
     },
     "execution_count": 84,
     "metadata": {},
     "output_type": "execute_result"
    }
   ],
   "source": [
    "#limpando tabelas não importantes\n",
    "df.drop('Mês', axis=1, inplace=True)\n",
    "df.drop('Impressões', axis=1, inplace=True)\n",
    "df.drop('CPC médio', axis=1, inplace=True)\n",
    "df.drop('Custo', axis=1, inplace=True)\n",
    "\n",
    "df"
   ]
  },
  {
   "cell_type": "code",
   "execution_count": 85,
   "id": "0457b50d",
   "metadata": {},
   "outputs": [
    {
     "name": "stdout",
     "output_type": "stream",
     "text": [
      "<class 'pandas.core.frame.DataFrame'>\n",
      "RangeIndex: 112 entries, 0 to 111\n",
      "Data columns (total 3 columns):\n",
      " #   Column   Non-Null Count  Dtype  \n",
      "---  ------   --------------  -----  \n",
      " 0   Cliques  112 non-null    float64\n",
      " 1   mes      103 non-null    object \n",
      " 2   ano      112 non-null    int64  \n",
      "dtypes: float64(1), int64(1), object(1)\n",
      "memory usage: 2.8+ KB\n"
     ]
    }
   ],
   "source": [
    "#convertendo coluna de ano para int para conseguir filtrar \n",
    "df['ano'] = df['ano'].astype(str).astype(int)\n",
    "df.info()"
   ]
  },
  {
   "cell_type": "code",
   "execution_count": 86,
   "id": "d01030dc",
   "metadata": {},
   "outputs": [
    {
     "data": {
      "text/html": [
       "<div>\n",
       "<style scoped>\n",
       "    .dataframe tbody tr th:only-of-type {\n",
       "        vertical-align: middle;\n",
       "    }\n",
       "\n",
       "    .dataframe tbody tr th {\n",
       "        vertical-align: top;\n",
       "    }\n",
       "\n",
       "    .dataframe thead th {\n",
       "        text-align: right;\n",
       "    }\n",
       "</style>\n",
       "<table border=\"1\" class=\"dataframe\">\n",
       "  <thead>\n",
       "    <tr style=\"text-align: right;\">\n",
       "      <th></th>\n",
       "      <th>Cliques</th>\n",
       "      <th>mes</th>\n",
       "      <th>ano</th>\n",
       "    </tr>\n",
       "  </thead>\n",
       "  <tbody>\n",
       "    <tr>\n",
       "      <th>51</th>\n",
       "      <td>186.000</td>\n",
       "      <td>mar</td>\n",
       "      <td>2017</td>\n",
       "    </tr>\n",
       "    <tr>\n",
       "      <th>52</th>\n",
       "      <td>212.000</td>\n",
       "      <td>abr</td>\n",
       "      <td>2017</td>\n",
       "    </tr>\n",
       "    <tr>\n",
       "      <th>53</th>\n",
       "      <td>262.000</td>\n",
       "      <td>NaN</td>\n",
       "      <td>2017</td>\n",
       "    </tr>\n",
       "    <tr>\n",
       "      <th>54</th>\n",
       "      <td>332.000</td>\n",
       "      <td>jun</td>\n",
       "      <td>2017</td>\n",
       "    </tr>\n",
       "    <tr>\n",
       "      <th>55</th>\n",
       "      <td>224.000</td>\n",
       "      <td>jul</td>\n",
       "      <td>2017</td>\n",
       "    </tr>\n",
       "    <tr>\n",
       "      <th>...</th>\n",
       "      <td>...</td>\n",
       "      <td>...</td>\n",
       "      <td>...</td>\n",
       "    </tr>\n",
       "    <tr>\n",
       "      <th>107</th>\n",
       "      <td>1.182</td>\n",
       "      <td>nov</td>\n",
       "      <td>2021</td>\n",
       "    </tr>\n",
       "    <tr>\n",
       "      <th>108</th>\n",
       "      <td>1.186</td>\n",
       "      <td>dez</td>\n",
       "      <td>2021</td>\n",
       "    </tr>\n",
       "    <tr>\n",
       "      <th>109</th>\n",
       "      <td>1.114</td>\n",
       "      <td>jan</td>\n",
       "      <td>2022</td>\n",
       "    </tr>\n",
       "    <tr>\n",
       "      <th>110</th>\n",
       "      <td>1.044</td>\n",
       "      <td>fev</td>\n",
       "      <td>2022</td>\n",
       "    </tr>\n",
       "    <tr>\n",
       "      <th>111</th>\n",
       "      <td>594.000</td>\n",
       "      <td>mar</td>\n",
       "      <td>2022</td>\n",
       "    </tr>\n",
       "  </tbody>\n",
       "</table>\n",
       "<p>61 rows × 3 columns</p>\n",
       "</div>"
      ],
      "text/plain": [
       "     Cliques  mes   ano\n",
       "51   186.000  mar  2017\n",
       "52   212.000  abr  2017\n",
       "53   262.000  NaN  2017\n",
       "54   332.000  jun  2017\n",
       "55   224.000  jul  2017\n",
       "..       ...  ...   ...\n",
       "107    1.182  nov  2021\n",
       "108    1.186  dez  2021\n",
       "109    1.114  jan  2022\n",
       "110    1.044  fev  2022\n",
       "111  594.000  mar  2022\n",
       "\n",
       "[61 rows x 3 columns]"
      ]
     },
     "execution_count": 86,
     "metadata": {},
     "output_type": "execute_result"
    }
   ],
   "source": [
    "df = df.drop(df[df.Cliques < 1].index)\n",
    "df"
   ]
  },
  {
   "cell_type": "code",
   "execution_count": 87,
   "id": "346aea28",
   "metadata": {},
   "outputs": [
    {
     "data": {
      "text/html": [
       "<div>\n",
       "<style scoped>\n",
       "    .dataframe tbody tr th:only-of-type {\n",
       "        vertical-align: middle;\n",
       "    }\n",
       "\n",
       "    .dataframe tbody tr th {\n",
       "        vertical-align: top;\n",
       "    }\n",
       "\n",
       "    .dataframe thead th {\n",
       "        text-align: right;\n",
       "    }\n",
       "</style>\n",
       "<table border=\"1\" class=\"dataframe\">\n",
       "  <thead>\n",
       "    <tr style=\"text-align: right;\">\n",
       "      <th></th>\n",
       "      <th>Cliques</th>\n",
       "      <th>mes</th>\n",
       "      <th>ano</th>\n",
       "    </tr>\n",
       "  </thead>\n",
       "  <tbody>\n",
       "    <tr>\n",
       "      <th>109</th>\n",
       "      <td>1.114</td>\n",
       "      <td>jan</td>\n",
       "      <td>2022</td>\n",
       "    </tr>\n",
       "    <tr>\n",
       "      <th>110</th>\n",
       "      <td>1.044</td>\n",
       "      <td>fev</td>\n",
       "      <td>2022</td>\n",
       "    </tr>\n",
       "    <tr>\n",
       "      <th>111</th>\n",
       "      <td>594.000</td>\n",
       "      <td>mar</td>\n",
       "      <td>2022</td>\n",
       "    </tr>\n",
       "  </tbody>\n",
       "</table>\n",
       "</div>"
      ],
      "text/plain": [
       "     Cliques  mes   ano\n",
       "109    1.114  jan  2022\n",
       "110    1.044  fev  2022\n",
       "111  594.000  mar  2022"
      ]
     },
     "execution_count": 87,
     "metadata": {},
     "output_type": "execute_result"
    }
   ],
   "source": [
    "df = df.drop(df[df.ano < 2022].index)\n",
    "df"
   ]
  },
  {
   "cell_type": "code",
   "execution_count": 88,
   "id": "3bae1207",
   "metadata": {},
   "outputs": [
    {
     "data": {
      "text/html": [
       "<div>\n",
       "<style scoped>\n",
       "    .dataframe tbody tr th:only-of-type {\n",
       "        vertical-align: middle;\n",
       "    }\n",
       "\n",
       "    .dataframe tbody tr th {\n",
       "        vertical-align: top;\n",
       "    }\n",
       "\n",
       "    .dataframe thead th {\n",
       "        text-align: right;\n",
       "    }\n",
       "</style>\n",
       "<table border=\"1\" class=\"dataframe\">\n",
       "  <thead>\n",
       "    <tr style=\"text-align: right;\">\n",
       "      <th></th>\n",
       "      <th>Cliques</th>\n",
       "      <th>mes</th>\n",
       "    </tr>\n",
       "  </thead>\n",
       "  <tbody>\n",
       "    <tr>\n",
       "      <th>109</th>\n",
       "      <td>1.114</td>\n",
       "      <td>jan</td>\n",
       "    </tr>\n",
       "    <tr>\n",
       "      <th>110</th>\n",
       "      <td>1.044</td>\n",
       "      <td>fev</td>\n",
       "    </tr>\n",
       "    <tr>\n",
       "      <th>111</th>\n",
       "      <td>594.000</td>\n",
       "      <td>mar</td>\n",
       "    </tr>\n",
       "  </tbody>\n",
       "</table>\n",
       "</div>"
      ],
      "text/plain": [
       "     Cliques  mes\n",
       "109    1.114  jan\n",
       "110    1.044  fev\n",
       "111  594.000  mar"
      ]
     },
     "execution_count": 88,
     "metadata": {},
     "output_type": "execute_result"
    }
   ],
   "source": [
    "#Apagando coluna ano por ser o mesmo valor sempre\n",
    "df.drop('ano', axis=1, inplace=True)\n",
    "df"
   ]
  },
  {
   "cell_type": "code",
   "execution_count": 89,
   "id": "2f82a674",
   "metadata": {},
   "outputs": [
    {
     "data": {
      "text/html": [
       "<div>\n",
       "<style scoped>\n",
       "    .dataframe tbody tr th:only-of-type {\n",
       "        vertical-align: middle;\n",
       "    }\n",
       "\n",
       "    .dataframe tbody tr th {\n",
       "        vertical-align: top;\n",
       "    }\n",
       "\n",
       "    .dataframe thead th {\n",
       "        text-align: right;\n",
       "    }\n",
       "</style>\n",
       "<table border=\"1\" class=\"dataframe\">\n",
       "  <thead>\n",
       "    <tr style=\"text-align: right;\">\n",
       "      <th></th>\n",
       "      <th>Total</th>\n",
       "      <th>month</th>\n",
       "    </tr>\n",
       "  </thead>\n",
       "  <tbody>\n",
       "    <tr>\n",
       "      <th>109</th>\n",
       "      <td>1.114</td>\n",
       "      <td>jan</td>\n",
       "    </tr>\n",
       "    <tr>\n",
       "      <th>110</th>\n",
       "      <td>1.044</td>\n",
       "      <td>fev</td>\n",
       "    </tr>\n",
       "    <tr>\n",
       "      <th>111</th>\n",
       "      <td>594.000</td>\n",
       "      <td>mar</td>\n",
       "    </tr>\n",
       "  </tbody>\n",
       "</table>\n",
       "</div>"
      ],
      "text/plain": [
       "       Total month\n",
       "109    1.114   jan\n",
       "110    1.044   fev\n",
       "111  594.000   mar"
      ]
     },
     "execution_count": 89,
     "metadata": {},
     "output_type": "execute_result"
    }
   ],
   "source": [
    "df = df.rename(columns={\"Cliques\":\"Total\", \"mes\":\"month\"})\n",
    "df"
   ]
  },
  {
   "cell_type": "code",
   "execution_count": 90,
   "id": "d3f6c8fd",
   "metadata": {},
   "outputs": [
    {
     "data": {
      "text/html": [
       "<div>\n",
       "<style scoped>\n",
       "    .dataframe tbody tr th:only-of-type {\n",
       "        vertical-align: middle;\n",
       "    }\n",
       "\n",
       "    .dataframe tbody tr th {\n",
       "        vertical-align: top;\n",
       "    }\n",
       "\n",
       "    .dataframe thead th {\n",
       "        text-align: right;\n",
       "    }\n",
       "</style>\n",
       "<table border=\"1\" class=\"dataframe\">\n",
       "  <thead>\n",
       "    <tr style=\"text-align: right;\">\n",
       "      <th></th>\n",
       "      <th>month</th>\n",
       "      <th>Total</th>\n",
       "    </tr>\n",
       "  </thead>\n",
       "  <tbody>\n",
       "    <tr>\n",
       "      <th>109</th>\n",
       "      <td>jan</td>\n",
       "      <td>1.114</td>\n",
       "    </tr>\n",
       "    <tr>\n",
       "      <th>110</th>\n",
       "      <td>fev</td>\n",
       "      <td>1.044</td>\n",
       "    </tr>\n",
       "    <tr>\n",
       "      <th>111</th>\n",
       "      <td>mar</td>\n",
       "      <td>594.000</td>\n",
       "    </tr>\n",
       "  </tbody>\n",
       "</table>\n",
       "</div>"
      ],
      "text/plain": [
       "    month    Total\n",
       "109   jan    1.114\n",
       "110   fev    1.044\n",
       "111   mar  594.000"
      ]
     },
     "execution_count": 90,
     "metadata": {},
     "output_type": "execute_result"
    }
   ],
   "source": [
    "df = df[['month', 'Total']]\n",
    "df.head()"
   ]
  },
  {
   "cell_type": "code",
   "execution_count": 91,
   "id": "29cc0eb0",
   "metadata": {},
   "outputs": [
    {
     "data": {
      "text/html": [
       "<div>\n",
       "<style scoped>\n",
       "    .dataframe tbody tr th:only-of-type {\n",
       "        vertical-align: middle;\n",
       "    }\n",
       "\n",
       "    .dataframe tbody tr th {\n",
       "        vertical-align: top;\n",
       "    }\n",
       "\n",
       "    .dataframe thead th {\n",
       "        text-align: right;\n",
       "    }\n",
       "</style>\n",
       "<table border=\"1\" class=\"dataframe\">\n",
       "  <thead>\n",
       "    <tr style=\"text-align: right;\">\n",
       "      <th></th>\n",
       "      <th>month</th>\n",
       "      <th>Total</th>\n",
       "    </tr>\n",
       "  </thead>\n",
       "  <tbody>\n",
       "    <tr>\n",
       "      <th>109</th>\n",
       "      <td>jan</td>\n",
       "      <td>1.114</td>\n",
       "    </tr>\n",
       "    <tr>\n",
       "      <th>110</th>\n",
       "      <td>fev</td>\n",
       "      <td>1.044</td>\n",
       "    </tr>\n",
       "    <tr>\n",
       "      <th>111</th>\n",
       "      <td>mar</td>\n",
       "      <td>594.000</td>\n",
       "    </tr>\n",
       "  </tbody>\n",
       "</table>\n",
       "</div>"
      ],
      "text/plain": [
       "    month    Total\n",
       "109   jan    1.114\n",
       "110   fev    1.044\n",
       "111   mar  594.000"
      ]
     },
     "execution_count": 91,
     "metadata": {},
     "output_type": "execute_result"
    }
   ],
   "source": [
    "df"
   ]
  },
  {
   "cell_type": "code",
   "execution_count": 92,
   "id": "0bf29cd7",
   "metadata": {},
   "outputs": [],
   "source": [
    "# df.to_csv(\"df_google_cliques_mes.csv\")"
   ]
  },
  {
   "cell_type": "markdown",
   "id": "f1a5f549",
   "metadata": {},
   "source": [
    "# Carregando e preparando arquivo HubSpot - Negócios Gerais em 2022"
   ]
  },
  {
   "cell_type": "code",
   "execution_count": 93,
   "id": "df3892e7",
   "metadata": {},
   "outputs": [
    {
     "data": {
      "text/html": [
       "<div>\n",
       "<style scoped>\n",
       "    .dataframe tbody tr th:only-of-type {\n",
       "        vertical-align: middle;\n",
       "    }\n",
       "\n",
       "    .dataframe tbody tr th {\n",
       "        vertical-align: top;\n",
       "    }\n",
       "\n",
       "    .dataframe thead th {\n",
       "        text-align: right;\n",
       "    }\n",
       "</style>\n",
       "<table border=\"1\" class=\"dataframe\">\n",
       "  <thead>\n",
       "    <tr style=\"text-align: right;\">\n",
       "      <th></th>\n",
       "      <th>Deal ID</th>\n",
       "      <th>Nome do negócio</th>\n",
       "      <th>Associated Contact</th>\n",
       "      <th>Associated Company</th>\n",
       "      <th>Último contato</th>\n",
       "      <th>Etapa do negócio</th>\n",
       "      <th>Data de fechamento</th>\n",
       "      <th>Proprietário do negócio</th>\n",
       "      <th>Valor</th>\n",
       "      <th>Data de criação</th>\n",
       "      <th>...</th>\n",
       "      <th>Motivo de fechamento perdido</th>\n",
       "      <th>Número de contatos associados</th>\n",
       "      <th>Número de atividades de vendas</th>\n",
       "      <th>Número de contatos efetuados</th>\n",
       "      <th>Origem do último agendamento na ferramenta de reuniões</th>\n",
       "      <th>Receita anual recorrente</th>\n",
       "      <th>Receita recorrente mensal</th>\n",
       "      <th>Tipo de negócio</th>\n",
       "      <th>Associated Contact IDs</th>\n",
       "      <th>Associated Company IDs</th>\n",
       "    </tr>\n",
       "  </thead>\n",
       "  <tbody>\n",
       "    <tr>\n",
       "      <th>0</th>\n",
       "      <td>8301562123</td>\n",
       "      <td>APP VISTORIA</td>\n",
       "      <td>NaN</td>\n",
       "      <td>Top Suites</td>\n",
       "      <td>NaN</td>\n",
       "      <td>Primeiro Contato</td>\n",
       "      <td>2022-03-31 11:11</td>\n",
       "      <td>Beatriz Zago</td>\n",
       "      <td>NaN</td>\n",
       "      <td>2022-03-21 11:11</td>\n",
       "      <td>...</td>\n",
       "      <td>NaN</td>\n",
       "      <td>0.0</td>\n",
       "      <td>NaN</td>\n",
       "      <td>NaN</td>\n",
       "      <td>NaN</td>\n",
       "      <td>NaN</td>\n",
       "      <td>NaN</td>\n",
       "      <td>NaN</td>\n",
       "      <td>NaN</td>\n",
       "      <td>8.275191e+09</td>\n",
       "    </tr>\n",
       "    <tr>\n",
       "      <th>1</th>\n",
       "      <td>8301472855</td>\n",
       "      <td>APP VISTORIA</td>\n",
       "      <td>Simone</td>\n",
       "      <td>Avancar Negocios Imobiliarios</td>\n",
       "      <td>2022-03-21 10:48</td>\n",
       "      <td>Primeiro Contato</td>\n",
       "      <td>2022-03-31 10:48</td>\n",
       "      <td>Beatriz Zago</td>\n",
       "      <td>NaN</td>\n",
       "      <td>2022-03-21 10:48</td>\n",
       "      <td>...</td>\n",
       "      <td>NaN</td>\n",
       "      <td>1.0</td>\n",
       "      <td>1.0</td>\n",
       "      <td>1.0</td>\n",
       "      <td>NaN</td>\n",
       "      <td>NaN</td>\n",
       "      <td>NaN</td>\n",
       "      <td>NaN</td>\n",
       "      <td>243651</td>\n",
       "      <td>8.275124e+09</td>\n",
       "    </tr>\n",
       "    <tr>\n",
       "      <th>2</th>\n",
       "      <td>8301393735</td>\n",
       "      <td>APP VISTORIA</td>\n",
       "      <td>NaN</td>\n",
       "      <td>Nogueira Corretores</td>\n",
       "      <td>2022-03-21 10:35</td>\n",
       "      <td>Primeiro Contato</td>\n",
       "      <td>2022-03-31 10:34</td>\n",
       "      <td>Beatriz Zago</td>\n",
       "      <td>NaN</td>\n",
       "      <td>2022-03-21 10:34</td>\n",
       "      <td>...</td>\n",
       "      <td>NaN</td>\n",
       "      <td>0.0</td>\n",
       "      <td>1.0</td>\n",
       "      <td>1.0</td>\n",
       "      <td>NaN</td>\n",
       "      <td>NaN</td>\n",
       "      <td>NaN</td>\n",
       "      <td>NaN</td>\n",
       "      <td>NaN</td>\n",
       "      <td>8.273818e+09</td>\n",
       "    </tr>\n",
       "    <tr>\n",
       "      <th>3</th>\n",
       "      <td>8301327722</td>\n",
       "      <td>APP VISTORIA</td>\n",
       "      <td>Demaria (classeape@claseaimoveispe.com.br)</td>\n",
       "      <td>Classe A Imóveis</td>\n",
       "      <td>2022-03-21 10:22</td>\n",
       "      <td>Primeiro Contato</td>\n",
       "      <td>2022-03-31 10:21</td>\n",
       "      <td>Beatriz Zago</td>\n",
       "      <td>NaN</td>\n",
       "      <td>2022-03-21 10:21</td>\n",
       "      <td>...</td>\n",
       "      <td>NaN</td>\n",
       "      <td>1.0</td>\n",
       "      <td>2.0</td>\n",
       "      <td>1.0</td>\n",
       "      <td>NaN</td>\n",
       "      <td>NaN</td>\n",
       "      <td>NaN</td>\n",
       "      <td>NaN</td>\n",
       "      <td>243601</td>\n",
       "      <td>8.273724e+09</td>\n",
       "    </tr>\n",
       "    <tr>\n",
       "      <th>4</th>\n",
       "      <td>8301259522</td>\n",
       "      <td>APP VISTORIA</td>\n",
       "      <td>Diacuy</td>\n",
       "      <td>JB Imóveis</td>\n",
       "      <td>2022-03-21 10:13</td>\n",
       "      <td>Primeiro Contato</td>\n",
       "      <td>2022-03-31 10:09</td>\n",
       "      <td>Beatriz Zago</td>\n",
       "      <td>NaN</td>\n",
       "      <td>2022-03-21 10:09</td>\n",
       "      <td>...</td>\n",
       "      <td>NaN</td>\n",
       "      <td>1.0</td>\n",
       "      <td>1.0</td>\n",
       "      <td>1.0</td>\n",
       "      <td>NaN</td>\n",
       "      <td>NaN</td>\n",
       "      <td>NaN</td>\n",
       "      <td>NaN</td>\n",
       "      <td>243551</td>\n",
       "      <td>8.273723e+09</td>\n",
       "    </tr>\n",
       "  </tbody>\n",
       "</table>\n",
       "<p>5 rows × 23 columns</p>\n",
       "</div>"
      ],
      "text/plain": [
       "      Deal ID Nome do negócio                          Associated Contact  \\\n",
       "0  8301562123    APP VISTORIA                                         NaN   \n",
       "1  8301472855    APP VISTORIA                                      Simone   \n",
       "2  8301393735    APP VISTORIA                                         NaN   \n",
       "3  8301327722    APP VISTORIA  Demaria (classeape@claseaimoveispe.com.br)   \n",
       "4  8301259522    APP VISTORIA                                      Diacuy   \n",
       "\n",
       "              Associated Company    Último contato  Etapa do negócio  \\\n",
       "0                     Top Suites               NaN  Primeiro Contato   \n",
       "1  Avancar Negocios Imobiliarios  2022-03-21 10:48  Primeiro Contato   \n",
       "2            Nogueira Corretores  2022-03-21 10:35  Primeiro Contato   \n",
       "3               Classe A Imóveis  2022-03-21 10:22  Primeiro Contato   \n",
       "4                     JB Imóveis  2022-03-21 10:13  Primeiro Contato   \n",
       "\n",
       "  Data de fechamento Proprietário do negócio  Valor   Data de criação  ...  \\\n",
       "0   2022-03-31 11:11            Beatriz Zago    NaN  2022-03-21 11:11  ...   \n",
       "1   2022-03-31 10:48            Beatriz Zago    NaN  2022-03-21 10:48  ...   \n",
       "2   2022-03-31 10:34            Beatriz Zago    NaN  2022-03-21 10:34  ...   \n",
       "3   2022-03-31 10:21            Beatriz Zago    NaN  2022-03-21 10:21  ...   \n",
       "4   2022-03-31 10:09            Beatriz Zago    NaN  2022-03-21 10:09  ...   \n",
       "\n",
       "  Motivo de fechamento perdido Número de contatos associados  \\\n",
       "0                          NaN                           0.0   \n",
       "1                          NaN                           1.0   \n",
       "2                          NaN                           0.0   \n",
       "3                          NaN                           1.0   \n",
       "4                          NaN                           1.0   \n",
       "\n",
       "   Número de atividades de vendas  Número de contatos efetuados  \\\n",
       "0                             NaN                           NaN   \n",
       "1                             1.0                           1.0   \n",
       "2                             1.0                           1.0   \n",
       "3                             2.0                           1.0   \n",
       "4                             1.0                           1.0   \n",
       "\n",
       "   Origem do último agendamento na ferramenta de reuniões  \\\n",
       "0                                                NaN        \n",
       "1                                                NaN        \n",
       "2                                                NaN        \n",
       "3                                                NaN        \n",
       "4                                                NaN        \n",
       "\n",
       "   Receita anual recorrente  Receita recorrente mensal  Tipo de negócio  \\\n",
       "0                       NaN                        NaN              NaN   \n",
       "1                       NaN                        NaN              NaN   \n",
       "2                       NaN                        NaN              NaN   \n",
       "3                       NaN                        NaN              NaN   \n",
       "4                       NaN                        NaN              NaN   \n",
       "\n",
       "   Associated Contact IDs  Associated Company IDs  \n",
       "0                     NaN            8.275191e+09  \n",
       "1                  243651            8.275124e+09  \n",
       "2                     NaN            8.273818e+09  \n",
       "3                  243601            8.273724e+09  \n",
       "4                  243551            8.273723e+09  \n",
       "\n",
       "[5 rows x 23 columns]"
      ]
     },
     "execution_count": 93,
     "metadata": {},
     "output_type": "execute_result"
    }
   ],
   "source": [
    "# Carregando e preparmydateparser = lambda x: pd.datetime.strptime(x, \"%d/%m/%Y %H:%M:%S\")\n",
    "dfh = pd.read_csv(\"../datasets/hubspot-2022.csv\", sep=',')\n",
    "dfh.head()"
   ]
  },
  {
   "cell_type": "code",
   "execution_count": 94,
   "id": "826c3336",
   "metadata": {},
   "outputs": [
    {
     "data": {
      "text/html": [
       "<div>\n",
       "<style scoped>\n",
       "    .dataframe tbody tr th:only-of-type {\n",
       "        vertical-align: middle;\n",
       "    }\n",
       "\n",
       "    .dataframe tbody tr th {\n",
       "        vertical-align: top;\n",
       "    }\n",
       "\n",
       "    .dataframe thead th {\n",
       "        text-align: right;\n",
       "    }\n",
       "</style>\n",
       "<table border=\"1\" class=\"dataframe\">\n",
       "  <thead>\n",
       "    <tr style=\"text-align: right;\">\n",
       "      <th></th>\n",
       "      <th>Associated Company</th>\n",
       "      <th>Data de criação</th>\n",
       "      <th>Proprietário do negócio</th>\n",
       "      <th>Etapa do negócio</th>\n",
       "      <th>Nome do negócio</th>\n",
       "    </tr>\n",
       "  </thead>\n",
       "  <tbody>\n",
       "    <tr>\n",
       "      <th>0</th>\n",
       "      <td>Top Suites</td>\n",
       "      <td>2022-03-21 11:11</td>\n",
       "      <td>Beatriz Zago</td>\n",
       "      <td>Primeiro Contato</td>\n",
       "      <td>APP VISTORIA</td>\n",
       "    </tr>\n",
       "    <tr>\n",
       "      <th>1</th>\n",
       "      <td>Avancar Negocios Imobiliarios</td>\n",
       "      <td>2022-03-21 10:48</td>\n",
       "      <td>Beatriz Zago</td>\n",
       "      <td>Primeiro Contato</td>\n",
       "      <td>APP VISTORIA</td>\n",
       "    </tr>\n",
       "    <tr>\n",
       "      <th>2</th>\n",
       "      <td>Nogueira Corretores</td>\n",
       "      <td>2022-03-21 10:34</td>\n",
       "      <td>Beatriz Zago</td>\n",
       "      <td>Primeiro Contato</td>\n",
       "      <td>APP VISTORIA</td>\n",
       "    </tr>\n",
       "    <tr>\n",
       "      <th>3</th>\n",
       "      <td>Classe A Imóveis</td>\n",
       "      <td>2022-03-21 10:21</td>\n",
       "      <td>Beatriz Zago</td>\n",
       "      <td>Primeiro Contato</td>\n",
       "      <td>APP VISTORIA</td>\n",
       "    </tr>\n",
       "    <tr>\n",
       "      <th>4</th>\n",
       "      <td>JB Imóveis</td>\n",
       "      <td>2022-03-21 10:09</td>\n",
       "      <td>Beatriz Zago</td>\n",
       "      <td>Primeiro Contato</td>\n",
       "      <td>APP VISTORIA</td>\n",
       "    </tr>\n",
       "    <tr>\n",
       "      <th>...</th>\n",
       "      <td>...</td>\n",
       "      <td>...</td>\n",
       "      <td>...</td>\n",
       "      <td>...</td>\n",
       "      <td>...</td>\n",
       "    </tr>\n",
       "    <tr>\n",
       "      <th>682</th>\n",
       "      <td>NaN</td>\n",
       "      <td>2022-01-03 13:44</td>\n",
       "      <td>Rafaela Comercial</td>\n",
       "      <td>Testando</td>\n",
       "      <td>APP VISTORIA</td>\n",
       "    </tr>\n",
       "    <tr>\n",
       "      <th>683</th>\n",
       "      <td>NaN</td>\n",
       "      <td>2022-01-03 13:35</td>\n",
       "      <td>Rafaela Comercial</td>\n",
       "      <td>Testando</td>\n",
       "      <td>APP VISTORIA</td>\n",
       "    </tr>\n",
       "    <tr>\n",
       "      <th>684</th>\n",
       "      <td>NaN</td>\n",
       "      <td>2022-01-03 13:31</td>\n",
       "      <td>Rafaela Comercial</td>\n",
       "      <td>Testando</td>\n",
       "      <td>FAST4SIGN</td>\n",
       "    </tr>\n",
       "    <tr>\n",
       "      <th>685</th>\n",
       "      <td>NaN</td>\n",
       "      <td>2022-01-03 11:53</td>\n",
       "      <td>Rafaela Comercial</td>\n",
       "      <td>Testando</td>\n",
       "      <td>APP VISTORIA</td>\n",
       "    </tr>\n",
       "    <tr>\n",
       "      <th>686</th>\n",
       "      <td>NaN</td>\n",
       "      <td>2022-01-03 06:50</td>\n",
       "      <td>Rafaela Comercial</td>\n",
       "      <td>Closed Won</td>\n",
       "      <td>FAST4SIGN</td>\n",
       "    </tr>\n",
       "  </tbody>\n",
       "</table>\n",
       "<p>687 rows × 5 columns</p>\n",
       "</div>"
      ],
      "text/plain": [
       "                Associated Company   Data de criação Proprietário do negócio  \\\n",
       "0                       Top Suites  2022-03-21 11:11            Beatriz Zago   \n",
       "1    Avancar Negocios Imobiliarios  2022-03-21 10:48            Beatriz Zago   \n",
       "2              Nogueira Corretores  2022-03-21 10:34            Beatriz Zago   \n",
       "3                 Classe A Imóveis  2022-03-21 10:21            Beatriz Zago   \n",
       "4                       JB Imóveis  2022-03-21 10:09            Beatriz Zago   \n",
       "..                             ...               ...                     ...   \n",
       "682                            NaN  2022-01-03 13:44       Rafaela Comercial   \n",
       "683                            NaN  2022-01-03 13:35       Rafaela Comercial   \n",
       "684                            NaN  2022-01-03 13:31       Rafaela Comercial   \n",
       "685                            NaN  2022-01-03 11:53       Rafaela Comercial   \n",
       "686                            NaN  2022-01-03 06:50       Rafaela Comercial   \n",
       "\n",
       "     Etapa do negócio Nome do negócio  \n",
       "0    Primeiro Contato    APP VISTORIA  \n",
       "1    Primeiro Contato    APP VISTORIA  \n",
       "2    Primeiro Contato    APP VISTORIA  \n",
       "3    Primeiro Contato    APP VISTORIA  \n",
       "4    Primeiro Contato    APP VISTORIA  \n",
       "..                ...             ...  \n",
       "682          Testando    APP VISTORIA  \n",
       "683          Testando    APP VISTORIA  \n",
       "684          Testando       FAST4SIGN  \n",
       "685          Testando    APP VISTORIA  \n",
       "686        Closed Won       FAST4SIGN  \n",
       "\n",
       "[687 rows x 5 columns]"
      ]
     },
     "execution_count": 94,
     "metadata": {},
     "output_type": "execute_result"
    }
   ],
   "source": [
    "#selecionando somente as colunas mais importantes\n",
    "dfh = dfh[['Associated Company','Data de criação','Proprietário do negócio','Etapa do negócio', 'Nome do negócio']]\n",
    "dfh"
   ]
  },
  {
   "cell_type": "code",
   "execution_count": 95,
   "id": "ae97e80b",
   "metadata": {},
   "outputs": [],
   "source": [
    "dfh['Data de criação'] = pd.to_datetime(dfh['Data de criação'])"
   ]
  },
  {
   "cell_type": "code",
   "execution_count": 96,
   "id": "c373530c",
   "metadata": {},
   "outputs": [
    {
     "name": "stdout",
     "output_type": "stream",
     "text": [
      "<class 'pandas.core.frame.DataFrame'>\n",
      "RangeIndex: 687 entries, 0 to 686\n",
      "Data columns (total 5 columns):\n",
      " #   Column                   Non-Null Count  Dtype         \n",
      "---  ------                   --------------  -----         \n",
      " 0   Associated Company       320 non-null    object        \n",
      " 1   Data de criação          687 non-null    datetime64[ns]\n",
      " 2   Proprietário do negócio  687 non-null    object        \n",
      " 3   Etapa do negócio         687 non-null    object        \n",
      " 4   Nome do negócio          687 non-null    object        \n",
      "dtypes: datetime64[ns](1), object(4)\n",
      "memory usage: 27.0+ KB\n"
     ]
    }
   ],
   "source": [
    "dfh.info()"
   ]
  },
  {
   "cell_type": "code",
   "execution_count": 97,
   "id": "05024321",
   "metadata": {},
   "outputs": [
    {
     "data": {
      "text/html": [
       "<div>\n",
       "<style scoped>\n",
       "    .dataframe tbody tr th:only-of-type {\n",
       "        vertical-align: middle;\n",
       "    }\n",
       "\n",
       "    .dataframe tbody tr th {\n",
       "        vertical-align: top;\n",
       "    }\n",
       "\n",
       "    .dataframe thead th {\n",
       "        text-align: right;\n",
       "    }\n",
       "</style>\n",
       "<table border=\"1\" class=\"dataframe\">\n",
       "  <thead>\n",
       "    <tr style=\"text-align: right;\">\n",
       "      <th></th>\n",
       "      <th>Associated Company</th>\n",
       "      <th>Data de criação</th>\n",
       "      <th>Proprietário do negócio</th>\n",
       "      <th>Etapa do negócio</th>\n",
       "      <th>Nome do negócio</th>\n",
       "      <th>mes</th>\n",
       "    </tr>\n",
       "  </thead>\n",
       "  <tbody>\n",
       "    <tr>\n",
       "      <th>0</th>\n",
       "      <td>Top Suites</td>\n",
       "      <td>2022-03-21 11:11:00</td>\n",
       "      <td>Beatriz Zago</td>\n",
       "      <td>Primeiro Contato</td>\n",
       "      <td>APP VISTORIA</td>\n",
       "      <td>3</td>\n",
       "    </tr>\n",
       "    <tr>\n",
       "      <th>1</th>\n",
       "      <td>Avancar Negocios Imobiliarios</td>\n",
       "      <td>2022-03-21 10:48:00</td>\n",
       "      <td>Beatriz Zago</td>\n",
       "      <td>Primeiro Contato</td>\n",
       "      <td>APP VISTORIA</td>\n",
       "      <td>3</td>\n",
       "    </tr>\n",
       "    <tr>\n",
       "      <th>2</th>\n",
       "      <td>Nogueira Corretores</td>\n",
       "      <td>2022-03-21 10:34:00</td>\n",
       "      <td>Beatriz Zago</td>\n",
       "      <td>Primeiro Contato</td>\n",
       "      <td>APP VISTORIA</td>\n",
       "      <td>3</td>\n",
       "    </tr>\n",
       "    <tr>\n",
       "      <th>3</th>\n",
       "      <td>Classe A Imóveis</td>\n",
       "      <td>2022-03-21 10:21:00</td>\n",
       "      <td>Beatriz Zago</td>\n",
       "      <td>Primeiro Contato</td>\n",
       "      <td>APP VISTORIA</td>\n",
       "      <td>3</td>\n",
       "    </tr>\n",
       "    <tr>\n",
       "      <th>4</th>\n",
       "      <td>JB Imóveis</td>\n",
       "      <td>2022-03-21 10:09:00</td>\n",
       "      <td>Beatriz Zago</td>\n",
       "      <td>Primeiro Contato</td>\n",
       "      <td>APP VISTORIA</td>\n",
       "      <td>3</td>\n",
       "    </tr>\n",
       "    <tr>\n",
       "      <th>...</th>\n",
       "      <td>...</td>\n",
       "      <td>...</td>\n",
       "      <td>...</td>\n",
       "      <td>...</td>\n",
       "      <td>...</td>\n",
       "      <td>...</td>\n",
       "    </tr>\n",
       "    <tr>\n",
       "      <th>682</th>\n",
       "      <td>NaN</td>\n",
       "      <td>2022-01-03 13:44:00</td>\n",
       "      <td>Rafaela Comercial</td>\n",
       "      <td>Testando</td>\n",
       "      <td>APP VISTORIA</td>\n",
       "      <td>1</td>\n",
       "    </tr>\n",
       "    <tr>\n",
       "      <th>683</th>\n",
       "      <td>NaN</td>\n",
       "      <td>2022-01-03 13:35:00</td>\n",
       "      <td>Rafaela Comercial</td>\n",
       "      <td>Testando</td>\n",
       "      <td>APP VISTORIA</td>\n",
       "      <td>1</td>\n",
       "    </tr>\n",
       "    <tr>\n",
       "      <th>684</th>\n",
       "      <td>NaN</td>\n",
       "      <td>2022-01-03 13:31:00</td>\n",
       "      <td>Rafaela Comercial</td>\n",
       "      <td>Testando</td>\n",
       "      <td>FAST4SIGN</td>\n",
       "      <td>1</td>\n",
       "    </tr>\n",
       "    <tr>\n",
       "      <th>685</th>\n",
       "      <td>NaN</td>\n",
       "      <td>2022-01-03 11:53:00</td>\n",
       "      <td>Rafaela Comercial</td>\n",
       "      <td>Testando</td>\n",
       "      <td>APP VISTORIA</td>\n",
       "      <td>1</td>\n",
       "    </tr>\n",
       "    <tr>\n",
       "      <th>686</th>\n",
       "      <td>NaN</td>\n",
       "      <td>2022-01-03 06:50:00</td>\n",
       "      <td>Rafaela Comercial</td>\n",
       "      <td>Closed Won</td>\n",
       "      <td>FAST4SIGN</td>\n",
       "      <td>1</td>\n",
       "    </tr>\n",
       "  </tbody>\n",
       "</table>\n",
       "<p>687 rows × 6 columns</p>\n",
       "</div>"
      ],
      "text/plain": [
       "                Associated Company     Data de criação  \\\n",
       "0                       Top Suites 2022-03-21 11:11:00   \n",
       "1    Avancar Negocios Imobiliarios 2022-03-21 10:48:00   \n",
       "2              Nogueira Corretores 2022-03-21 10:34:00   \n",
       "3                 Classe A Imóveis 2022-03-21 10:21:00   \n",
       "4                       JB Imóveis 2022-03-21 10:09:00   \n",
       "..                             ...                 ...   \n",
       "682                            NaN 2022-01-03 13:44:00   \n",
       "683                            NaN 2022-01-03 13:35:00   \n",
       "684                            NaN 2022-01-03 13:31:00   \n",
       "685                            NaN 2022-01-03 11:53:00   \n",
       "686                            NaN 2022-01-03 06:50:00   \n",
       "\n",
       "    Proprietário do negócio  Etapa do negócio Nome do negócio  mes  \n",
       "0              Beatriz Zago  Primeiro Contato    APP VISTORIA    3  \n",
       "1              Beatriz Zago  Primeiro Contato    APP VISTORIA    3  \n",
       "2              Beatriz Zago  Primeiro Contato    APP VISTORIA    3  \n",
       "3              Beatriz Zago  Primeiro Contato    APP VISTORIA    3  \n",
       "4              Beatriz Zago  Primeiro Contato    APP VISTORIA    3  \n",
       "..                      ...               ...             ...  ...  \n",
       "682       Rafaela Comercial          Testando    APP VISTORIA    1  \n",
       "683       Rafaela Comercial          Testando    APP VISTORIA    1  \n",
       "684       Rafaela Comercial          Testando       FAST4SIGN    1  \n",
       "685       Rafaela Comercial          Testando    APP VISTORIA    1  \n",
       "686       Rafaela Comercial        Closed Won       FAST4SIGN    1  \n",
       "\n",
       "[687 rows x 6 columns]"
      ]
     },
     "execution_count": 97,
     "metadata": {},
     "output_type": "execute_result"
    }
   ],
   "source": [
    "dfh['mes'] = pd.DatetimeIndex(dfh['Data de criação']).month\n",
    "dfh"
   ]
  },
  {
   "cell_type": "code",
   "execution_count": 98,
   "id": "a7c47701",
   "metadata": {},
   "outputs": [
    {
     "data": {
      "text/html": [
       "<div>\n",
       "<style scoped>\n",
       "    .dataframe tbody tr th:only-of-type {\n",
       "        vertical-align: middle;\n",
       "    }\n",
       "\n",
       "    .dataframe tbody tr th {\n",
       "        vertical-align: top;\n",
       "    }\n",
       "\n",
       "    .dataframe thead th {\n",
       "        text-align: right;\n",
       "    }\n",
       "</style>\n",
       "<table border=\"1\" class=\"dataframe\">\n",
       "  <thead>\n",
       "    <tr style=\"text-align: right;\">\n",
       "      <th></th>\n",
       "      <th>mes</th>\n",
       "      <th>Total</th>\n",
       "    </tr>\n",
       "  </thead>\n",
       "  <tbody>\n",
       "    <tr>\n",
       "      <th>0</th>\n",
       "      <td>1</td>\n",
       "      <td>176</td>\n",
       "    </tr>\n",
       "    <tr>\n",
       "      <th>1</th>\n",
       "      <td>2</td>\n",
       "      <td>262</td>\n",
       "    </tr>\n",
       "    <tr>\n",
       "      <th>2</th>\n",
       "      <td>3</td>\n",
       "      <td>249</td>\n",
       "    </tr>\n",
       "  </tbody>\n",
       "</table>\n",
       "</div>"
      ],
      "text/plain": [
       "   mes  Total\n",
       "0    1    176\n",
       "1    2    262\n",
       "2    3    249"
      ]
     },
     "execution_count": 98,
     "metadata": {},
     "output_type": "execute_result"
    }
   ],
   "source": [
    "#Agrupando os atendimentos de todas as vendedoras por mês\n",
    "dfh_gr = dfh.groupby(['mes']).size().reset_index(name='Total')\n",
    "dfh_gr"
   ]
  },
  {
   "cell_type": "code",
   "execution_count": 99,
   "id": "f9a6d7b3",
   "metadata": {},
   "outputs": [
    {
     "name": "stdout",
     "output_type": "stream",
     "text": [
      "['Jan', 'Feb', 'Mar']\n"
     ]
    }
   ],
   "source": [
    "import calendar\n",
    "result = []\n",
    "for i in dfh_gr['mes']:\n",
    "    result.append(calendar.month_abbr[i])\n",
    "dfh_gr['month'] = result\n",
    "print(result)"
   ]
  },
  {
   "cell_type": "code",
   "execution_count": 100,
   "id": "cbe6fb75",
   "metadata": {},
   "outputs": [],
   "source": [
    "#método para pegar valores missing\n",
    "def missing_zero_values_table(df):\n",
    "        zero_val = (df == 0.00).astype(int).sum(axis=0)\n",
    "        mis_val = df.isnull().sum()\n",
    "        mis_val_percent = 100 * df.isnull().sum() / len(df)\n",
    "        mz_table = pd.concat([zero_val, mis_val, mis_val_percent], axis=1)\n",
    "        mz_table = mz_table.rename(\n",
    "        columns = {0 : 'Zero Values', 1 : 'Missing Values', 2 : '% of Total Values'})\n",
    "        mz_table['Total Zero Missing Values'] = mz_table['Zero Values'] + mz_table['Missing Values']\n",
    "        mz_table['% Total Zero Missing Values'] = 100 * mz_table['Total Zero Missing Values'] / len(df)\n",
    "        mz_table['Data Type'] = df.dtypes\n",
    "        mz_table = mz_table[\n",
    "            mz_table.iloc[:,1] != 0].sort_values(\n",
    "        '% of Total Values', ascending=False).round(1)\n",
    "        print (\"Your selected dataframe has \" + str(df.shape[1]) + \" columns and \" + str(df.shape[0]) + \" Rows.\\n\"      \n",
    "            \"There are \" + str(mz_table.shape[0]) +\n",
    "              \" columns that have missing values.\")\n",
    "#         mz_table.to_excel('D:/sampledata/missing_and_zero_values.xlsx', freeze_panes=(1,0), index = False)\n",
    "        return mz_table"
   ]
  },
  {
   "cell_type": "code",
   "execution_count": 101,
   "id": "45dd9670",
   "metadata": {},
   "outputs": [
    {
     "name": "stdout",
     "output_type": "stream",
     "text": [
      "Your selected dataframe has 3 columns and 3 Rows.\n",
      "There are 0 columns that have missing values.\n"
     ]
    },
    {
     "data": {
      "text/html": [
       "<div>\n",
       "<style scoped>\n",
       "    .dataframe tbody tr th:only-of-type {\n",
       "        vertical-align: middle;\n",
       "    }\n",
       "\n",
       "    .dataframe tbody tr th {\n",
       "        vertical-align: top;\n",
       "    }\n",
       "\n",
       "    .dataframe thead th {\n",
       "        text-align: right;\n",
       "    }\n",
       "</style>\n",
       "<table border=\"1\" class=\"dataframe\">\n",
       "  <thead>\n",
       "    <tr style=\"text-align: right;\">\n",
       "      <th></th>\n",
       "      <th>Zero Values</th>\n",
       "      <th>Missing Values</th>\n",
       "      <th>% of Total Values</th>\n",
       "      <th>Total Zero Missing Values</th>\n",
       "      <th>% Total Zero Missing Values</th>\n",
       "      <th>Data Type</th>\n",
       "    </tr>\n",
       "  </thead>\n",
       "  <tbody>\n",
       "  </tbody>\n",
       "</table>\n",
       "</div>"
      ],
      "text/plain": [
       "Empty DataFrame\n",
       "Columns: [Zero Values, Missing Values, % of Total Values, Total Zero Missing Values, % Total Zero Missing Values, Data Type]\n",
       "Index: []"
      ]
     },
     "execution_count": 101,
     "metadata": {},
     "output_type": "execute_result"
    }
   ],
   "source": [
    "#verificando algum valor missing\n",
    "missing_zero_values_table(dfh_gr)"
   ]
  },
  {
   "cell_type": "code",
   "execution_count": 102,
   "id": "7d37c7de",
   "metadata": {},
   "outputs": [
    {
     "data": {
      "text/plain": [
       "(3, 3)"
      ]
     },
     "execution_count": 102,
     "metadata": {},
     "output_type": "execute_result"
    }
   ],
   "source": [
    "dfh_gr.shape"
   ]
  },
  {
   "cell_type": "code",
   "execution_count": 103,
   "id": "c26b7854",
   "metadata": {},
   "outputs": [
    {
     "data": {
      "text/html": [
       "<div>\n",
       "<style scoped>\n",
       "    .dataframe tbody tr th:only-of-type {\n",
       "        vertical-align: middle;\n",
       "    }\n",
       "\n",
       "    .dataframe tbody tr th {\n",
       "        vertical-align: top;\n",
       "    }\n",
       "\n",
       "    .dataframe thead th {\n",
       "        text-align: right;\n",
       "    }\n",
       "</style>\n",
       "<table border=\"1\" class=\"dataframe\">\n",
       "  <thead>\n",
       "    <tr style=\"text-align: right;\">\n",
       "      <th></th>\n",
       "      <th>mes</th>\n",
       "      <th>Total</th>\n",
       "      <th>month</th>\n",
       "    </tr>\n",
       "  </thead>\n",
       "  <tbody>\n",
       "    <tr>\n",
       "      <th>0</th>\n",
       "      <td>1</td>\n",
       "      <td>176</td>\n",
       "      <td>Jan</td>\n",
       "    </tr>\n",
       "    <tr>\n",
       "      <th>1</th>\n",
       "      <td>2</td>\n",
       "      <td>262</td>\n",
       "      <td>Feb</td>\n",
       "    </tr>\n",
       "    <tr>\n",
       "      <th>2</th>\n",
       "      <td>3</td>\n",
       "      <td>249</td>\n",
       "      <td>Mar</td>\n",
       "    </tr>\n",
       "  </tbody>\n",
       "</table>\n",
       "</div>"
      ],
      "text/plain": [
       "   mes  Total month\n",
       "0    1    176   Jan\n",
       "1    2    262   Feb\n",
       "2    3    249   Mar"
      ]
     },
     "execution_count": 103,
     "metadata": {},
     "output_type": "execute_result"
    }
   ],
   "source": [
    "dfh_gr"
   ]
  },
  {
   "cell_type": "code",
   "execution_count": 104,
   "id": "99aab334",
   "metadata": {},
   "outputs": [
    {
     "data": {
      "text/html": [
       "<div>\n",
       "<style scoped>\n",
       "    .dataframe tbody tr th:only-of-type {\n",
       "        vertical-align: middle;\n",
       "    }\n",
       "\n",
       "    .dataframe tbody tr th {\n",
       "        vertical-align: top;\n",
       "    }\n",
       "\n",
       "    .dataframe thead th {\n",
       "        text-align: right;\n",
       "    }\n",
       "</style>\n",
       "<table border=\"1\" class=\"dataframe\">\n",
       "  <thead>\n",
       "    <tr style=\"text-align: right;\">\n",
       "      <th></th>\n",
       "      <th>Total</th>\n",
       "      <th>month</th>\n",
       "    </tr>\n",
       "  </thead>\n",
       "  <tbody>\n",
       "    <tr>\n",
       "      <th>0</th>\n",
       "      <td>176</td>\n",
       "      <td>Jan</td>\n",
       "    </tr>\n",
       "    <tr>\n",
       "      <th>1</th>\n",
       "      <td>262</td>\n",
       "      <td>Feb</td>\n",
       "    </tr>\n",
       "    <tr>\n",
       "      <th>2</th>\n",
       "      <td>249</td>\n",
       "      <td>Mar</td>\n",
       "    </tr>\n",
       "  </tbody>\n",
       "</table>\n",
       "</div>"
      ],
      "text/plain": [
       "   Total month\n",
       "0    176   Jan\n",
       "1    262   Feb\n",
       "2    249   Mar"
      ]
     },
     "execution_count": 104,
     "metadata": {},
     "output_type": "execute_result"
    }
   ],
   "source": [
    "#limpando tabelas não importantes\n",
    "dfh_gr.drop('mes', axis=1, inplace=True)\n",
    "dfh_gr"
   ]
  },
  {
   "cell_type": "code",
   "execution_count": 105,
   "id": "891373aa",
   "metadata": {},
   "outputs": [
    {
     "data": {
      "text/html": [
       "<div>\n",
       "<style scoped>\n",
       "    .dataframe tbody tr th:only-of-type {\n",
       "        vertical-align: middle;\n",
       "    }\n",
       "\n",
       "    .dataframe tbody tr th {\n",
       "        vertical-align: top;\n",
       "    }\n",
       "\n",
       "    .dataframe thead th {\n",
       "        text-align: right;\n",
       "    }\n",
       "</style>\n",
       "<table border=\"1\" class=\"dataframe\">\n",
       "  <thead>\n",
       "    <tr style=\"text-align: right;\">\n",
       "      <th></th>\n",
       "      <th>month</th>\n",
       "      <th>Total</th>\n",
       "    </tr>\n",
       "  </thead>\n",
       "  <tbody>\n",
       "    <tr>\n",
       "      <th>0</th>\n",
       "      <td>Jan</td>\n",
       "      <td>176</td>\n",
       "    </tr>\n",
       "    <tr>\n",
       "      <th>1</th>\n",
       "      <td>Feb</td>\n",
       "      <td>262</td>\n",
       "    </tr>\n",
       "    <tr>\n",
       "      <th>2</th>\n",
       "      <td>Mar</td>\n",
       "      <td>249</td>\n",
       "    </tr>\n",
       "  </tbody>\n",
       "</table>\n",
       "</div>"
      ],
      "text/plain": [
       "  month  Total\n",
       "0   Jan    176\n",
       "1   Feb    262\n",
       "2   Mar    249"
      ]
     },
     "execution_count": 105,
     "metadata": {},
     "output_type": "execute_result"
    }
   ],
   "source": [
    "dfh_gr = dfh_gr[['month', 'Total']]\n",
    "dfh_gr.head()"
   ]
  },
  {
   "cell_type": "code",
   "execution_count": 106,
   "id": "540b09e7",
   "metadata": {},
   "outputs": [],
   "source": [
    "# dfh_gr.to_csv(\"hubspot_atendimentos_agrupado_mes_2022.csv\")"
   ]
  },
  {
   "cell_type": "markdown",
   "id": "59a35824",
   "metadata": {},
   "source": [
    "# Carregando e preparando arquivo Empresa - leads"
   ]
  },
  {
   "cell_type": "code",
   "execution_count": 107,
   "id": "b822cb06",
   "metadata": {},
   "outputs": [
    {
     "data": {
      "text/html": [
       "<div>\n",
       "<style scoped>\n",
       "    .dataframe tbody tr th:only-of-type {\n",
       "        vertical-align: middle;\n",
       "    }\n",
       "\n",
       "    .dataframe tbody tr th {\n",
       "        vertical-align: top;\n",
       "    }\n",
       "\n",
       "    .dataframe thead th {\n",
       "        text-align: right;\n",
       "    }\n",
       "</style>\n",
       "<table border=\"1\" class=\"dataframe\">\n",
       "  <thead>\n",
       "    <tr style=\"text-align: right;\">\n",
       "      <th></th>\n",
       "      <th>Nome</th>\n",
       "      <th>Email</th>\n",
       "      <th>Telefone</th>\n",
       "      <th>CPF/CNPJ</th>\n",
       "      <th>Data cadastro</th>\n",
       "      <th>Cidade</th>\n",
       "      <th>UF</th>\n",
       "      <th>Qtd vistoria</th>\n",
       "      <th>Qtd foto</th>\n",
       "      <th>Armazenamento</th>\n",
       "      <th>Situação</th>\n",
       "      <th>Data limite teste</th>\n",
       "      <th>Vencimento</th>\n",
       "      <th>Valor</th>\n",
       "      <th>Desconto</th>\n",
       "      <th>Valor vistoria adicional</th>\n",
       "      <th>Data compra</th>\n",
       "      <th>Data cancelamento</th>\n",
       "    </tr>\n",
       "  </thead>\n",
       "  <tbody>\n",
       "    <tr>\n",
       "      <th>0</th>\n",
       "      <td>07856446609</td>\n",
       "      <td>rod-queiroz@hotmail.com</td>\n",
       "      <td>(31) 99802-0349</td>\n",
       "      <td>078.564.466-09</td>\n",
       "      <td>21/12/2021</td>\n",
       "      <td>belo horizonte</td>\n",
       "      <td>MG</td>\n",
       "      <td>4</td>\n",
       "      <td>200</td>\n",
       "      <td>1</td>\n",
       "      <td>Gratuito inativo</td>\n",
       "      <td>NaN</td>\n",
       "      <td>NaN</td>\n",
       "      <td>NaN</td>\n",
       "      <td>NaN</td>\n",
       "      <td>NaN</td>\n",
       "      <td>NaN</td>\n",
       "      <td>NaN</td>\n",
       "    </tr>\n",
       "    <tr>\n",
       "      <th>1</th>\n",
       "      <td>1 ponto imobiliario</td>\n",
       "      <td>NaN</td>\n",
       "      <td>(31) 999548491</td>\n",
       "      <td>17.149.156/0001-31</td>\n",
       "      <td>16/01/2021</td>\n",
       "      <td>Belo Horizonte</td>\n",
       "      <td>MG</td>\n",
       "      <td>20</td>\n",
       "      <td>999</td>\n",
       "      <td>1</td>\n",
       "      <td>Gratuito inativo</td>\n",
       "      <td>NaN</td>\n",
       "      <td>NaN</td>\n",
       "      <td>NaN</td>\n",
       "      <td>NaN</td>\n",
       "      <td>NaN</td>\n",
       "      <td>NaN</td>\n",
       "      <td>NaN</td>\n",
       "    </tr>\n",
       "    <tr>\n",
       "      <th>2</th>\n",
       "      <td>21 Soluções Imobiliárias</td>\n",
       "      <td>nilsoncardosoimoveis@gmail.com</td>\n",
       "      <td>(48) 99602-4343</td>\n",
       "      <td>34.162.884/0001-00</td>\n",
       "      <td>25/08/2021</td>\n",
       "      <td>Florianópolis</td>\n",
       "      <td>SC</td>\n",
       "      <td>4</td>\n",
       "      <td>200</td>\n",
       "      <td>1</td>\n",
       "      <td>Gratuito inativo</td>\n",
       "      <td>NaN</td>\n",
       "      <td>NaN</td>\n",
       "      <td>NaN</td>\n",
       "      <td>NaN</td>\n",
       "      <td>NaN</td>\n",
       "      <td>NaN</td>\n",
       "      <td>NaN</td>\n",
       "    </tr>\n",
       "    <tr>\n",
       "      <th>3</th>\n",
       "      <td>2F BRASIL CORRETORA DE SEGUROS E IMOVEIS LTDA.</td>\n",
       "      <td>NaN</td>\n",
       "      <td>(19) 999094009</td>\n",
       "      <td>20.453.418/0001-61</td>\n",
       "      <td>30/10/2019</td>\n",
       "      <td>SANTA BARBARA D'OESTE</td>\n",
       "      <td>SP</td>\n",
       "      <td>20</td>\n",
       "      <td>999</td>\n",
       "      <td>1</td>\n",
       "      <td>Gratuito inativo</td>\n",
       "      <td>NaN</td>\n",
       "      <td>NaN</td>\n",
       "      <td>NaN</td>\n",
       "      <td>NaN</td>\n",
       "      <td>NaN</td>\n",
       "      <td>NaN</td>\n",
       "      <td>NaN</td>\n",
       "    </tr>\n",
       "    <tr>\n",
       "      <th>4</th>\n",
       "      <td>2W MEIRA CORRETORA E EMPREENDIMENTOS IMÓBILIAR...</td>\n",
       "      <td>2wmeira@gmail.com</td>\n",
       "      <td>(66) 99929-5409</td>\n",
       "      <td>30.809.995/0001-05</td>\n",
       "      <td>05/02/2022</td>\n",
       "      <td>Sorriso</td>\n",
       "      <td>MT</td>\n",
       "      <td>30</td>\n",
       "      <td>999999</td>\n",
       "      <td>5</td>\n",
       "      <td>Ativa</td>\n",
       "      <td>NaN</td>\n",
       "      <td>8.0</td>\n",
       "      <td>159.0</td>\n",
       "      <td>NaN</td>\n",
       "      <td>3.5</td>\n",
       "      <td>08/02/2022</td>\n",
       "      <td>NaN</td>\n",
       "    </tr>\n",
       "  </tbody>\n",
       "</table>\n",
       "</div>"
      ],
      "text/plain": [
       "                                                Nome  \\\n",
       "0                                        07856446609   \n",
       "1                                1 ponto imobiliario   \n",
       "2                           21 Soluções Imobiliárias   \n",
       "3     2F BRASIL CORRETORA DE SEGUROS E IMOVEIS LTDA.   \n",
       "4  2W MEIRA CORRETORA E EMPREENDIMENTOS IMÓBILIAR...   \n",
       "\n",
       "                            Email         Telefone            CPF/CNPJ  \\\n",
       "0         rod-queiroz@hotmail.com  (31) 99802-0349      078.564.466-09   \n",
       "1                             NaN   (31) 999548491  17.149.156/0001-31   \n",
       "2  nilsoncardosoimoveis@gmail.com  (48) 99602-4343  34.162.884/0001-00   \n",
       "3                             NaN   (19) 999094009  20.453.418/0001-61   \n",
       "4               2wmeira@gmail.com  (66) 99929-5409  30.809.995/0001-05   \n",
       "\n",
       "  Data cadastro                 Cidade  UF  Qtd vistoria  Qtd foto  \\\n",
       "0    21/12/2021         belo horizonte  MG             4       200   \n",
       "1    16/01/2021         Belo Horizonte  MG            20       999   \n",
       "2    25/08/2021          Florianópolis  SC             4       200   \n",
       "3    30/10/2019  SANTA BARBARA D'OESTE  SP            20       999   \n",
       "4    05/02/2022                Sorriso  MT            30    999999   \n",
       "\n",
       "   Armazenamento          Situação Data limite teste  Vencimento  Valor  \\\n",
       "0              1  Gratuito inativo               NaN         NaN    NaN   \n",
       "1              1  Gratuito inativo               NaN         NaN    NaN   \n",
       "2              1  Gratuito inativo               NaN         NaN    NaN   \n",
       "3              1  Gratuito inativo               NaN         NaN    NaN   \n",
       "4              5             Ativa               NaN         8.0  159.0   \n",
       "\n",
       "   Desconto  Valor vistoria adicional Data compra Data cancelamento  \n",
       "0       NaN                       NaN         NaN               NaN  \n",
       "1       NaN                       NaN         NaN               NaN  \n",
       "2       NaN                       NaN         NaN               NaN  \n",
       "3       NaN                       NaN         NaN               NaN  \n",
       "4       NaN                       3.5  08/02/2022               NaN  "
      ]
     },
     "execution_count": 107,
     "metadata": {},
     "output_type": "execute_result"
    }
   ],
   "source": [
    "df_emp = pd.read_csv(\"../datasets/empresas.csv\", sep=';')\n",
    "df_emp.head()"
   ]
  },
  {
   "cell_type": "code",
   "execution_count": 108,
   "id": "18759174",
   "metadata": {},
   "outputs": [
    {
     "data": {
      "text/html": [
       "<div>\n",
       "<style scoped>\n",
       "    .dataframe tbody tr th:only-of-type {\n",
       "        vertical-align: middle;\n",
       "    }\n",
       "\n",
       "    .dataframe tbody tr th {\n",
       "        vertical-align: top;\n",
       "    }\n",
       "\n",
       "    .dataframe thead th {\n",
       "        text-align: right;\n",
       "    }\n",
       "</style>\n",
       "<table border=\"1\" class=\"dataframe\">\n",
       "  <thead>\n",
       "    <tr style=\"text-align: right;\">\n",
       "      <th></th>\n",
       "      <th>Nome</th>\n",
       "      <th>Email</th>\n",
       "      <th>Telefone</th>\n",
       "      <th>CPF/CNPJ</th>\n",
       "      <th>Data cadastro</th>\n",
       "      <th>Cidade</th>\n",
       "      <th>UF</th>\n",
       "      <th>Qtd vistoria</th>\n",
       "      <th>Qtd foto</th>\n",
       "      <th>Armazenamento</th>\n",
       "      <th>Situação</th>\n",
       "      <th>Data limite teste</th>\n",
       "      <th>Vencimento</th>\n",
       "      <th>Valor</th>\n",
       "      <th>Desconto</th>\n",
       "      <th>Valor vistoria adicional</th>\n",
       "      <th>Data compra</th>\n",
       "      <th>Data cancelamento</th>\n",
       "    </tr>\n",
       "  </thead>\n",
       "  <tbody>\n",
       "    <tr>\n",
       "      <th>0</th>\n",
       "      <td>07856446609</td>\n",
       "      <td>rod-queiroz@hotmail.com</td>\n",
       "      <td>(31) 99802-0349</td>\n",
       "      <td>078.564.466-09</td>\n",
       "      <td>2021-12-21</td>\n",
       "      <td>belo horizonte</td>\n",
       "      <td>MG</td>\n",
       "      <td>4</td>\n",
       "      <td>200</td>\n",
       "      <td>1</td>\n",
       "      <td>Gratuito inativo</td>\n",
       "      <td>NaN</td>\n",
       "      <td>NaN</td>\n",
       "      <td>NaN</td>\n",
       "      <td>NaN</td>\n",
       "      <td>NaN</td>\n",
       "      <td>NaT</td>\n",
       "      <td>NaT</td>\n",
       "    </tr>\n",
       "    <tr>\n",
       "      <th>1</th>\n",
       "      <td>1 ponto imobiliario</td>\n",
       "      <td>NaN</td>\n",
       "      <td>(31) 999548491</td>\n",
       "      <td>17.149.156/0001-31</td>\n",
       "      <td>2021-01-16</td>\n",
       "      <td>Belo Horizonte</td>\n",
       "      <td>MG</td>\n",
       "      <td>20</td>\n",
       "      <td>999</td>\n",
       "      <td>1</td>\n",
       "      <td>Gratuito inativo</td>\n",
       "      <td>NaN</td>\n",
       "      <td>NaN</td>\n",
       "      <td>NaN</td>\n",
       "      <td>NaN</td>\n",
       "      <td>NaN</td>\n",
       "      <td>NaT</td>\n",
       "      <td>NaT</td>\n",
       "    </tr>\n",
       "    <tr>\n",
       "      <th>2</th>\n",
       "      <td>21 Soluções Imobiliárias</td>\n",
       "      <td>nilsoncardosoimoveis@gmail.com</td>\n",
       "      <td>(48) 99602-4343</td>\n",
       "      <td>34.162.884/0001-00</td>\n",
       "      <td>2021-08-25</td>\n",
       "      <td>Florianópolis</td>\n",
       "      <td>SC</td>\n",
       "      <td>4</td>\n",
       "      <td>200</td>\n",
       "      <td>1</td>\n",
       "      <td>Gratuito inativo</td>\n",
       "      <td>NaN</td>\n",
       "      <td>NaN</td>\n",
       "      <td>NaN</td>\n",
       "      <td>NaN</td>\n",
       "      <td>NaN</td>\n",
       "      <td>NaT</td>\n",
       "      <td>NaT</td>\n",
       "    </tr>\n",
       "    <tr>\n",
       "      <th>3</th>\n",
       "      <td>2F BRASIL CORRETORA DE SEGUROS E IMOVEIS LTDA.</td>\n",
       "      <td>NaN</td>\n",
       "      <td>(19) 999094009</td>\n",
       "      <td>20.453.418/0001-61</td>\n",
       "      <td>2019-10-30</td>\n",
       "      <td>SANTA BARBARA D'OESTE</td>\n",
       "      <td>SP</td>\n",
       "      <td>20</td>\n",
       "      <td>999</td>\n",
       "      <td>1</td>\n",
       "      <td>Gratuito inativo</td>\n",
       "      <td>NaN</td>\n",
       "      <td>NaN</td>\n",
       "      <td>NaN</td>\n",
       "      <td>NaN</td>\n",
       "      <td>NaN</td>\n",
       "      <td>NaT</td>\n",
       "      <td>NaT</td>\n",
       "    </tr>\n",
       "    <tr>\n",
       "      <th>4</th>\n",
       "      <td>2W MEIRA CORRETORA E EMPREENDIMENTOS IMÓBILIAR...</td>\n",
       "      <td>2wmeira@gmail.com</td>\n",
       "      <td>(66) 99929-5409</td>\n",
       "      <td>30.809.995/0001-05</td>\n",
       "      <td>2022-02-05</td>\n",
       "      <td>Sorriso</td>\n",
       "      <td>MT</td>\n",
       "      <td>30</td>\n",
       "      <td>999999</td>\n",
       "      <td>5</td>\n",
       "      <td>Ativa</td>\n",
       "      <td>NaN</td>\n",
       "      <td>8.0</td>\n",
       "      <td>159.0</td>\n",
       "      <td>NaN</td>\n",
       "      <td>3.5</td>\n",
       "      <td>2022-02-08</td>\n",
       "      <td>NaT</td>\n",
       "    </tr>\n",
       "  </tbody>\n",
       "</table>\n",
       "</div>"
      ],
      "text/plain": [
       "                                                Nome  \\\n",
       "0                                        07856446609   \n",
       "1                                1 ponto imobiliario   \n",
       "2                           21 Soluções Imobiliárias   \n",
       "3     2F BRASIL CORRETORA DE SEGUROS E IMOVEIS LTDA.   \n",
       "4  2W MEIRA CORRETORA E EMPREENDIMENTOS IMÓBILIAR...   \n",
       "\n",
       "                            Email         Telefone            CPF/CNPJ  \\\n",
       "0         rod-queiroz@hotmail.com  (31) 99802-0349      078.564.466-09   \n",
       "1                             NaN   (31) 999548491  17.149.156/0001-31   \n",
       "2  nilsoncardosoimoveis@gmail.com  (48) 99602-4343  34.162.884/0001-00   \n",
       "3                             NaN   (19) 999094009  20.453.418/0001-61   \n",
       "4               2wmeira@gmail.com  (66) 99929-5409  30.809.995/0001-05   \n",
       "\n",
       "  Data cadastro                 Cidade  UF  Qtd vistoria  Qtd foto  \\\n",
       "0    2021-12-21         belo horizonte  MG             4       200   \n",
       "1    2021-01-16         Belo Horizonte  MG            20       999   \n",
       "2    2021-08-25          Florianópolis  SC             4       200   \n",
       "3    2019-10-30  SANTA BARBARA D'OESTE  SP            20       999   \n",
       "4    2022-02-05                Sorriso  MT            30    999999   \n",
       "\n",
       "   Armazenamento          Situação Data limite teste  Vencimento  Valor  \\\n",
       "0              1  Gratuito inativo               NaN         NaN    NaN   \n",
       "1              1  Gratuito inativo               NaN         NaN    NaN   \n",
       "2              1  Gratuito inativo               NaN         NaN    NaN   \n",
       "3              1  Gratuito inativo               NaN         NaN    NaN   \n",
       "4              5             Ativa               NaN         8.0  159.0   \n",
       "\n",
       "   Desconto  Valor vistoria adicional Data compra Data cancelamento  \n",
       "0       NaN                       NaN         NaT               NaT  \n",
       "1       NaN                       NaN         NaT               NaT  \n",
       "2       NaN                       NaN         NaT               NaT  \n",
       "3       NaN                       NaN         NaT               NaT  \n",
       "4       NaN                       3.5  2022-02-08               NaT  "
      ]
     },
     "execution_count": 108,
     "metadata": {},
     "output_type": "execute_result"
    }
   ],
   "source": [
    "df_emp['Data compra'] = pd.to_datetime(df_emp['Data compra'], format='%d/%m/%Y')\n",
    "df_emp['Data cancelamento'] = pd.to_datetime(df_emp['Data cancelamento'], format='%d/%m/%Y')\n",
    "df_emp['Data cadastro'] = pd.to_datetime(df_emp['Data cadastro'], format='%d/%m/%Y')\n",
    "df_emp.head()"
   ]
  },
  {
   "cell_type": "code",
   "execution_count": 109,
   "id": "4081705e",
   "metadata": {},
   "outputs": [
    {
     "data": {
      "text/html": [
       "<div>\n",
       "<style scoped>\n",
       "    .dataframe tbody tr th:only-of-type {\n",
       "        vertical-align: middle;\n",
       "    }\n",
       "\n",
       "    .dataframe tbody tr th {\n",
       "        vertical-align: top;\n",
       "    }\n",
       "\n",
       "    .dataframe thead th {\n",
       "        text-align: right;\n",
       "    }\n",
       "</style>\n",
       "<table border=\"1\" class=\"dataframe\">\n",
       "  <thead>\n",
       "    <tr style=\"text-align: right;\">\n",
       "      <th></th>\n",
       "      <th>nome</th>\n",
       "      <th>email</th>\n",
       "      <th>telefone</th>\n",
       "      <th>CPF/CNPJ</th>\n",
       "      <th>dtcadastro</th>\n",
       "      <th>cidade</th>\n",
       "      <th>uf</th>\n",
       "      <th>qtdvistoria</th>\n",
       "      <th>qtdfoto</th>\n",
       "      <th>armazenamento</th>\n",
       "      <th>situacao</th>\n",
       "      <th>limiteteste</th>\n",
       "      <th>vencimento</th>\n",
       "      <th>valor</th>\n",
       "      <th>desconto</th>\n",
       "      <th>vistoriaadd</th>\n",
       "      <th>dtcompra</th>\n",
       "      <th>dtcancelamento</th>\n",
       "    </tr>\n",
       "  </thead>\n",
       "  <tbody>\n",
       "    <tr>\n",
       "      <th>0</th>\n",
       "      <td>07856446609</td>\n",
       "      <td>rod-queiroz@hotmail.com</td>\n",
       "      <td>(31) 99802-0349</td>\n",
       "      <td>078.564.466-09</td>\n",
       "      <td>2021-12-21</td>\n",
       "      <td>belo horizonte</td>\n",
       "      <td>MG</td>\n",
       "      <td>4</td>\n",
       "      <td>200</td>\n",
       "      <td>1</td>\n",
       "      <td>Gratuito inativo</td>\n",
       "      <td>NaN</td>\n",
       "      <td>NaN</td>\n",
       "      <td>NaN</td>\n",
       "      <td>NaN</td>\n",
       "      <td>NaN</td>\n",
       "      <td>NaT</td>\n",
       "      <td>NaT</td>\n",
       "    </tr>\n",
       "    <tr>\n",
       "      <th>1</th>\n",
       "      <td>1 ponto imobiliario</td>\n",
       "      <td>NaN</td>\n",
       "      <td>(31) 999548491</td>\n",
       "      <td>17.149.156/0001-31</td>\n",
       "      <td>2021-01-16</td>\n",
       "      <td>Belo Horizonte</td>\n",
       "      <td>MG</td>\n",
       "      <td>20</td>\n",
       "      <td>999</td>\n",
       "      <td>1</td>\n",
       "      <td>Gratuito inativo</td>\n",
       "      <td>NaN</td>\n",
       "      <td>NaN</td>\n",
       "      <td>NaN</td>\n",
       "      <td>NaN</td>\n",
       "      <td>NaN</td>\n",
       "      <td>NaT</td>\n",
       "      <td>NaT</td>\n",
       "    </tr>\n",
       "    <tr>\n",
       "      <th>2</th>\n",
       "      <td>21 Soluções Imobiliárias</td>\n",
       "      <td>nilsoncardosoimoveis@gmail.com</td>\n",
       "      <td>(48) 99602-4343</td>\n",
       "      <td>34.162.884/0001-00</td>\n",
       "      <td>2021-08-25</td>\n",
       "      <td>Florianópolis</td>\n",
       "      <td>SC</td>\n",
       "      <td>4</td>\n",
       "      <td>200</td>\n",
       "      <td>1</td>\n",
       "      <td>Gratuito inativo</td>\n",
       "      <td>NaN</td>\n",
       "      <td>NaN</td>\n",
       "      <td>NaN</td>\n",
       "      <td>NaN</td>\n",
       "      <td>NaN</td>\n",
       "      <td>NaT</td>\n",
       "      <td>NaT</td>\n",
       "    </tr>\n",
       "    <tr>\n",
       "      <th>3</th>\n",
       "      <td>2F BRASIL CORRETORA DE SEGUROS E IMOVEIS LTDA.</td>\n",
       "      <td>NaN</td>\n",
       "      <td>(19) 999094009</td>\n",
       "      <td>20.453.418/0001-61</td>\n",
       "      <td>2019-10-30</td>\n",
       "      <td>SANTA BARBARA D'OESTE</td>\n",
       "      <td>SP</td>\n",
       "      <td>20</td>\n",
       "      <td>999</td>\n",
       "      <td>1</td>\n",
       "      <td>Gratuito inativo</td>\n",
       "      <td>NaN</td>\n",
       "      <td>NaN</td>\n",
       "      <td>NaN</td>\n",
       "      <td>NaN</td>\n",
       "      <td>NaN</td>\n",
       "      <td>NaT</td>\n",
       "      <td>NaT</td>\n",
       "    </tr>\n",
       "    <tr>\n",
       "      <th>4</th>\n",
       "      <td>2W MEIRA CORRETORA E EMPREENDIMENTOS IMÓBILIAR...</td>\n",
       "      <td>2wmeira@gmail.com</td>\n",
       "      <td>(66) 99929-5409</td>\n",
       "      <td>30.809.995/0001-05</td>\n",
       "      <td>2022-02-05</td>\n",
       "      <td>Sorriso</td>\n",
       "      <td>MT</td>\n",
       "      <td>30</td>\n",
       "      <td>999999</td>\n",
       "      <td>5</td>\n",
       "      <td>Ativa</td>\n",
       "      <td>NaN</td>\n",
       "      <td>8.0</td>\n",
       "      <td>159.0</td>\n",
       "      <td>NaN</td>\n",
       "      <td>3.5</td>\n",
       "      <td>2022-02-08</td>\n",
       "      <td>NaT</td>\n",
       "    </tr>\n",
       "  </tbody>\n",
       "</table>\n",
       "</div>"
      ],
      "text/plain": [
       "                                                nome  \\\n",
       "0                                        07856446609   \n",
       "1                                1 ponto imobiliario   \n",
       "2                           21 Soluções Imobiliárias   \n",
       "3     2F BRASIL CORRETORA DE SEGUROS E IMOVEIS LTDA.   \n",
       "4  2W MEIRA CORRETORA E EMPREENDIMENTOS IMÓBILIAR...   \n",
       "\n",
       "                            email         telefone            CPF/CNPJ  \\\n",
       "0         rod-queiroz@hotmail.com  (31) 99802-0349      078.564.466-09   \n",
       "1                             NaN   (31) 999548491  17.149.156/0001-31   \n",
       "2  nilsoncardosoimoveis@gmail.com  (48) 99602-4343  34.162.884/0001-00   \n",
       "3                             NaN   (19) 999094009  20.453.418/0001-61   \n",
       "4               2wmeira@gmail.com  (66) 99929-5409  30.809.995/0001-05   \n",
       "\n",
       "  dtcadastro                 cidade  uf  qtdvistoria  qtdfoto  armazenamento  \\\n",
       "0 2021-12-21         belo horizonte  MG            4      200              1   \n",
       "1 2021-01-16         Belo Horizonte  MG           20      999              1   \n",
       "2 2021-08-25          Florianópolis  SC            4      200              1   \n",
       "3 2019-10-30  SANTA BARBARA D'OESTE  SP           20      999              1   \n",
       "4 2022-02-05                Sorriso  MT           30   999999              5   \n",
       "\n",
       "           situacao limiteteste  vencimento  valor  desconto  vistoriaadd  \\\n",
       "0  Gratuito inativo         NaN         NaN    NaN       NaN          NaN   \n",
       "1  Gratuito inativo         NaN         NaN    NaN       NaN          NaN   \n",
       "2  Gratuito inativo         NaN         NaN    NaN       NaN          NaN   \n",
       "3  Gratuito inativo         NaN         NaN    NaN       NaN          NaN   \n",
       "4             Ativa         NaN         8.0  159.0       NaN          3.5   \n",
       "\n",
       "    dtcompra dtcancelamento  \n",
       "0        NaT            NaT  \n",
       "1        NaT            NaT  \n",
       "2        NaT            NaT  \n",
       "3        NaT            NaT  \n",
       "4 2022-02-08            NaT  "
      ]
     },
     "execution_count": 109,
     "metadata": {},
     "output_type": "execute_result"
    }
   ],
   "source": [
    "colunas = {\"Nome\":\"nome\",\"Email\":\"email\",\"Telefone\":\"telefone\",\"CPF/CNPJ\":\"CPF/CNPJ\",\"Data cadastro\":\"dtcadastro\",\"Cidade\":\"cidade\",\"UF\":\"uf\",\"Qtd vistoria\":\"qtdvistoria\",\"Qtd foto\":\"qtdfoto\",\"Armazenamento\":\"armazenamento\",\n",
    "           \"Data limite teste\":\"limiteteste\",\"Vencimento\":\"vencimento\",\"Valor\":\"valor\",\n",
    "           \"Desconto\":\"desconto\",\"Valor vistoria adicional\":\"vistoriaadd\",\"Data compra\":\"dtcompra\",\"Data cancelamento\":\"dtcancelamento\",\"Data cancelamento\":\"dtcancelamento\",\"Situação\":\"situacao\"}\n",
    "df_emp.rename(columns=colunas, inplace=True)\n",
    "df_emp.head()"
   ]
  },
  {
   "cell_type": "code",
   "execution_count": 110,
   "id": "2682ed2c",
   "metadata": {},
   "outputs": [
    {
     "data": {
      "text/html": [
       "<div>\n",
       "<style scoped>\n",
       "    .dataframe tbody tr th:only-of-type {\n",
       "        vertical-align: middle;\n",
       "    }\n",
       "\n",
       "    .dataframe tbody tr th {\n",
       "        vertical-align: top;\n",
       "    }\n",
       "\n",
       "    .dataframe thead th {\n",
       "        text-align: right;\n",
       "    }\n",
       "</style>\n",
       "<table border=\"1\" class=\"dataframe\">\n",
       "  <thead>\n",
       "    <tr style=\"text-align: right;\">\n",
       "      <th></th>\n",
       "      <th>situacao</th>\n",
       "      <th>Total</th>\n",
       "    </tr>\n",
       "  </thead>\n",
       "  <tbody>\n",
       "    <tr>\n",
       "      <th>0</th>\n",
       "      <td>Ativa</td>\n",
       "      <td>524</td>\n",
       "    </tr>\n",
       "    <tr>\n",
       "      <th>1</th>\n",
       "      <td>Cancelada</td>\n",
       "      <td>413</td>\n",
       "    </tr>\n",
       "    <tr>\n",
       "      <th>2</th>\n",
       "      <td>Gratuito</td>\n",
       "      <td>467</td>\n",
       "    </tr>\n",
       "    <tr>\n",
       "      <th>3</th>\n",
       "      <td>Gratuito inativo</td>\n",
       "      <td>3346</td>\n",
       "    </tr>\n",
       "    <tr>\n",
       "      <th>4</th>\n",
       "      <td>Inativa por não pagamento</td>\n",
       "      <td>16</td>\n",
       "    </tr>\n",
       "    <tr>\n",
       "      <th>5</th>\n",
       "      <td>Teste</td>\n",
       "      <td>38</td>\n",
       "    </tr>\n",
       "  </tbody>\n",
       "</table>\n",
       "</div>"
      ],
      "text/plain": [
       "                    situacao  Total\n",
       "0                      Ativa    524\n",
       "1                  Cancelada    413\n",
       "2                   Gratuito    467\n",
       "3           Gratuito inativo   3346\n",
       "4  Inativa por não pagamento     16\n",
       "5                      Teste     38"
      ]
     },
     "execution_count": 110,
     "metadata": {},
     "output_type": "execute_result"
    }
   ],
   "source": [
    "df2 = df_emp.groupby(['situacao']).size().reset_index(name='Total')\n",
    "df2"
   ]
  },
  {
   "cell_type": "markdown",
   "id": "83617156",
   "metadata": {},
   "source": [
    "# Criando DF para quem está testando o sistema por mês"
   ]
  },
  {
   "cell_type": "code",
   "execution_count": 111,
   "id": "c02552e4",
   "metadata": {},
   "outputs": [
    {
     "data": {
      "text/html": [
       "<div>\n",
       "<style scoped>\n",
       "    .dataframe tbody tr th:only-of-type {\n",
       "        vertical-align: middle;\n",
       "    }\n",
       "\n",
       "    .dataframe tbody tr th {\n",
       "        vertical-align: top;\n",
       "    }\n",
       "\n",
       "    .dataframe thead th {\n",
       "        text-align: right;\n",
       "    }\n",
       "</style>\n",
       "<table border=\"1\" class=\"dataframe\">\n",
       "  <thead>\n",
       "    <tr style=\"text-align: right;\">\n",
       "      <th></th>\n",
       "      <th>nome</th>\n",
       "      <th>email</th>\n",
       "      <th>telefone</th>\n",
       "      <th>CPF/CNPJ</th>\n",
       "      <th>dtcadastro</th>\n",
       "      <th>cidade</th>\n",
       "      <th>uf</th>\n",
       "      <th>qtdvistoria</th>\n",
       "      <th>qtdfoto</th>\n",
       "      <th>armazenamento</th>\n",
       "      <th>situacao</th>\n",
       "      <th>limiteteste</th>\n",
       "      <th>vencimento</th>\n",
       "      <th>valor</th>\n",
       "      <th>desconto</th>\n",
       "      <th>vistoriaadd</th>\n",
       "      <th>dtcompra</th>\n",
       "      <th>dtcancelamento</th>\n",
       "    </tr>\n",
       "  </thead>\n",
       "  <tbody>\n",
       "    <tr>\n",
       "      <th>5</th>\n",
       "      <td>35950095847</td>\n",
       "      <td>ste_marcheti@hotmail.com</td>\n",
       "      <td>(11) 99874-1803</td>\n",
       "      <td>359.500.958-47</td>\n",
       "      <td>2022-03-09</td>\n",
       "      <td>Santana de parnaiba</td>\n",
       "      <td>SP</td>\n",
       "      <td>4</td>\n",
       "      <td>200</td>\n",
       "      <td>1</td>\n",
       "      <td>Gratuito</td>\n",
       "      <td>NaN</td>\n",
       "      <td>NaN</td>\n",
       "      <td>NaN</td>\n",
       "      <td>NaN</td>\n",
       "      <td>NaN</td>\n",
       "      <td>NaT</td>\n",
       "      <td>NaT</td>\n",
       "    </tr>\n",
       "    <tr>\n",
       "      <th>35</th>\n",
       "      <td>A Corretora Imobiliaria e serviços Ltda</td>\n",
       "      <td>ademar.imobiliaria@gmail.com</td>\n",
       "      <td>(73) 98846-3370</td>\n",
       "      <td>18.919.218/0001-00</td>\n",
       "      <td>2022-01-14</td>\n",
       "      <td>Itabuna</td>\n",
       "      <td>BA</td>\n",
       "      <td>4</td>\n",
       "      <td>200</td>\n",
       "      <td>1</td>\n",
       "      <td>Gratuito</td>\n",
       "      <td>NaN</td>\n",
       "      <td>NaN</td>\n",
       "      <td>NaN</td>\n",
       "      <td>NaN</td>\n",
       "      <td>NaN</td>\n",
       "      <td>NaT</td>\n",
       "      <td>NaT</td>\n",
       "    </tr>\n",
       "    <tr>\n",
       "      <th>38</th>\n",
       "      <td>Adalto Quaresma Franco</td>\n",
       "      <td>dalton.engenheiro.civil@gmail.com</td>\n",
       "      <td>(34) 99988-7827</td>\n",
       "      <td>089.360.546-86</td>\n",
       "      <td>2022-01-19</td>\n",
       "      <td>Uberlândia</td>\n",
       "      <td>MG</td>\n",
       "      <td>4</td>\n",
       "      <td>200</td>\n",
       "      <td>1</td>\n",
       "      <td>Gratuito</td>\n",
       "      <td>NaN</td>\n",
       "      <td>NaN</td>\n",
       "      <td>NaN</td>\n",
       "      <td>NaN</td>\n",
       "      <td>NaN</td>\n",
       "      <td>NaT</td>\n",
       "      <td>NaT</td>\n",
       "    </tr>\n",
       "    <tr>\n",
       "      <th>42</th>\n",
       "      <td>adeildo manoel santos</td>\n",
       "      <td>adeildocazanova@gmail.com</td>\n",
       "      <td>(81) 99944-7392</td>\n",
       "      <td>414.800.584-91</td>\n",
       "      <td>2022-03-03</td>\n",
       "      <td>caruaru</td>\n",
       "      <td>PE</td>\n",
       "      <td>4</td>\n",
       "      <td>200</td>\n",
       "      <td>1</td>\n",
       "      <td>Gratuito</td>\n",
       "      <td>NaN</td>\n",
       "      <td>NaN</td>\n",
       "      <td>NaN</td>\n",
       "      <td>NaN</td>\n",
       "      <td>NaN</td>\n",
       "      <td>NaT</td>\n",
       "      <td>NaT</td>\n",
       "    </tr>\n",
       "    <tr>\n",
       "      <th>44</th>\n",
       "      <td>Adeilson Odilio Quirino Guimarães</td>\n",
       "      <td>atendimento@verdeimoveis.com.br</td>\n",
       "      <td>(19) 99725-0554</td>\n",
       "      <td>12.973.465/0001-08</td>\n",
       "      <td>2022-01-20</td>\n",
       "      <td>Campinas</td>\n",
       "      <td>SP</td>\n",
       "      <td>4</td>\n",
       "      <td>200</td>\n",
       "      <td>1</td>\n",
       "      <td>Gratuito</td>\n",
       "      <td>NaN</td>\n",
       "      <td>NaN</td>\n",
       "      <td>NaN</td>\n",
       "      <td>NaN</td>\n",
       "      <td>NaN</td>\n",
       "      <td>NaT</td>\n",
       "      <td>NaT</td>\n",
       "    </tr>\n",
       "    <tr>\n",
       "      <th>...</th>\n",
       "      <td>...</td>\n",
       "      <td>...</td>\n",
       "      <td>...</td>\n",
       "      <td>...</td>\n",
       "      <td>...</td>\n",
       "      <td>...</td>\n",
       "      <td>...</td>\n",
       "      <td>...</td>\n",
       "      <td>...</td>\n",
       "      <td>...</td>\n",
       "      <td>...</td>\n",
       "      <td>...</td>\n",
       "      <td>...</td>\n",
       "      <td>...</td>\n",
       "      <td>...</td>\n",
       "      <td>...</td>\n",
       "      <td>...</td>\n",
       "      <td>...</td>\n",
       "    </tr>\n",
       "    <tr>\n",
       "      <th>4748</th>\n",
       "      <td>wendelson</td>\n",
       "      <td>donaldowendelson@yahoo.com.br</td>\n",
       "      <td>(35) 99741-4750</td>\n",
       "      <td>056.077.056-17</td>\n",
       "      <td>2022-01-05</td>\n",
       "      <td>Ibituruna</td>\n",
       "      <td>MG</td>\n",
       "      <td>4</td>\n",
       "      <td>200</td>\n",
       "      <td>1</td>\n",
       "      <td>Gratuito</td>\n",
       "      <td>NaN</td>\n",
       "      <td>NaN</td>\n",
       "      <td>NaN</td>\n",
       "      <td>NaN</td>\n",
       "      <td>NaN</td>\n",
       "      <td>NaT</td>\n",
       "      <td>NaT</td>\n",
       "    </tr>\n",
       "    <tr>\n",
       "      <th>4781</th>\n",
       "      <td>Wust Imóveis Ltda</td>\n",
       "      <td>wi.imoveis@terra.com.br</td>\n",
       "      <td>(51) 3551-1212</td>\n",
       "      <td>07.219.091/0001-08</td>\n",
       "      <td>2022-02-02</td>\n",
       "      <td>Estância Velha</td>\n",
       "      <td>RS</td>\n",
       "      <td>4</td>\n",
       "      <td>200</td>\n",
       "      <td>1</td>\n",
       "      <td>Gratuito</td>\n",
       "      <td>NaN</td>\n",
       "      <td>NaN</td>\n",
       "      <td>NaN</td>\n",
       "      <td>NaN</td>\n",
       "      <td>NaN</td>\n",
       "      <td>NaT</td>\n",
       "      <td>NaT</td>\n",
       "    </tr>\n",
       "    <tr>\n",
       "      <th>4790</th>\n",
       "      <td>Yohana Bitencourt</td>\n",
       "      <td>pablobitencourt2004@gmail.com</td>\n",
       "      <td>(21) 98184-9131</td>\n",
       "      <td>126.791.807-12</td>\n",
       "      <td>2022-01-11</td>\n",
       "      <td>Niterói</td>\n",
       "      <td>RJ</td>\n",
       "      <td>4</td>\n",
       "      <td>200</td>\n",
       "      <td>1</td>\n",
       "      <td>Gratuito</td>\n",
       "      <td>NaN</td>\n",
       "      <td>NaN</td>\n",
       "      <td>NaN</td>\n",
       "      <td>NaN</td>\n",
       "      <td>NaN</td>\n",
       "      <td>NaT</td>\n",
       "      <td>NaT</td>\n",
       "    </tr>\n",
       "    <tr>\n",
       "      <th>4793</th>\n",
       "      <td>yuri zenichi kawabata</td>\n",
       "      <td>yuri@ivoimoveis.com</td>\n",
       "      <td>(11) 95225-4409</td>\n",
       "      <td>468.912.608-92</td>\n",
       "      <td>2022-01-21</td>\n",
       "      <td>sao paulo</td>\n",
       "      <td>SP</td>\n",
       "      <td>4</td>\n",
       "      <td>200</td>\n",
       "      <td>1</td>\n",
       "      <td>Gratuito</td>\n",
       "      <td>NaN</td>\n",
       "      <td>NaN</td>\n",
       "      <td>NaN</td>\n",
       "      <td>NaN</td>\n",
       "      <td>NaN</td>\n",
       "      <td>NaT</td>\n",
       "      <td>NaT</td>\n",
       "    </tr>\n",
       "    <tr>\n",
       "      <th>4799</th>\n",
       "      <td>zem cioccari negocios imobiliarios ltda</td>\n",
       "      <td>zemcioccari@gmail.com</td>\n",
       "      <td>(16) 99626-9888</td>\n",
       "      <td>40.795.190/0001-03</td>\n",
       "      <td>2022-03-14</td>\n",
       "      <td>RIBEIRÃO PRETO</td>\n",
       "      <td>SP</td>\n",
       "      <td>4</td>\n",
       "      <td>200</td>\n",
       "      <td>1</td>\n",
       "      <td>Gratuito</td>\n",
       "      <td>NaN</td>\n",
       "      <td>NaN</td>\n",
       "      <td>NaN</td>\n",
       "      <td>NaN</td>\n",
       "      <td>NaN</td>\n",
       "      <td>NaT</td>\n",
       "      <td>NaT</td>\n",
       "    </tr>\n",
       "  </tbody>\n",
       "</table>\n",
       "<p>467 rows × 18 columns</p>\n",
       "</div>"
      ],
      "text/plain": [
       "                                         nome  \\\n",
       "5                                 35950095847   \n",
       "35    A Corretora Imobiliaria e serviços Ltda   \n",
       "38                     Adalto Quaresma Franco   \n",
       "42                      adeildo manoel santos   \n",
       "44          Adeilson Odilio Quirino Guimarães   \n",
       "...                                       ...   \n",
       "4748                                wendelson   \n",
       "4781                        Wust Imóveis Ltda   \n",
       "4790                        Yohana Bitencourt   \n",
       "4793                    yuri zenichi kawabata   \n",
       "4799  zem cioccari negocios imobiliarios ltda   \n",
       "\n",
       "                                  email         telefone            CPF/CNPJ  \\\n",
       "5              ste_marcheti@hotmail.com  (11) 99874-1803      359.500.958-47   \n",
       "35         ademar.imobiliaria@gmail.com  (73) 98846-3370  18.919.218/0001-00   \n",
       "38    dalton.engenheiro.civil@gmail.com  (34) 99988-7827      089.360.546-86   \n",
       "42            adeildocazanova@gmail.com  (81) 99944-7392      414.800.584-91   \n",
       "44      atendimento@verdeimoveis.com.br  (19) 99725-0554  12.973.465/0001-08   \n",
       "...                                 ...              ...                 ...   \n",
       "4748      donaldowendelson@yahoo.com.br  (35) 99741-4750      056.077.056-17   \n",
       "4781            wi.imoveis@terra.com.br   (51) 3551-1212  07.219.091/0001-08   \n",
       "4790      pablobitencourt2004@gmail.com  (21) 98184-9131      126.791.807-12   \n",
       "4793                yuri@ivoimoveis.com  (11) 95225-4409      468.912.608-92   \n",
       "4799              zemcioccari@gmail.com  (16) 99626-9888  40.795.190/0001-03   \n",
       "\n",
       "     dtcadastro               cidade  uf  qtdvistoria  qtdfoto  armazenamento  \\\n",
       "5    2022-03-09  Santana de parnaiba  SP            4      200              1   \n",
       "35   2022-01-14              Itabuna  BA            4      200              1   \n",
       "38   2022-01-19           Uberlândia  MG            4      200              1   \n",
       "42   2022-03-03              caruaru  PE            4      200              1   \n",
       "44   2022-01-20             Campinas  SP            4      200              1   \n",
       "...         ...                  ...  ..          ...      ...            ...   \n",
       "4748 2022-01-05            Ibituruna  MG            4      200              1   \n",
       "4781 2022-02-02       Estância Velha  RS            4      200              1   \n",
       "4790 2022-01-11              Niterói  RJ            4      200              1   \n",
       "4793 2022-01-21            sao paulo  SP            4      200              1   \n",
       "4799 2022-03-14       RIBEIRÃO PRETO  SP            4      200              1   \n",
       "\n",
       "      situacao limiteteste  vencimento  valor  desconto  vistoriaadd dtcompra  \\\n",
       "5     Gratuito         NaN         NaN    NaN       NaN          NaN      NaT   \n",
       "35    Gratuito         NaN         NaN    NaN       NaN          NaN      NaT   \n",
       "38    Gratuito         NaN         NaN    NaN       NaN          NaN      NaT   \n",
       "42    Gratuito         NaN         NaN    NaN       NaN          NaN      NaT   \n",
       "44    Gratuito         NaN         NaN    NaN       NaN          NaN      NaT   \n",
       "...        ...         ...         ...    ...       ...          ...      ...   \n",
       "4748  Gratuito         NaN         NaN    NaN       NaN          NaN      NaT   \n",
       "4781  Gratuito         NaN         NaN    NaN       NaN          NaN      NaT   \n",
       "4790  Gratuito         NaN         NaN    NaN       NaN          NaN      NaT   \n",
       "4793  Gratuito         NaN         NaN    NaN       NaN          NaN      NaT   \n",
       "4799  Gratuito         NaN         NaN    NaN       NaN          NaN      NaT   \n",
       "\n",
       "     dtcancelamento  \n",
       "5               NaT  \n",
       "35              NaT  \n",
       "38              NaT  \n",
       "42              NaT  \n",
       "44              NaT  \n",
       "...             ...  \n",
       "4748            NaT  \n",
       "4781            NaT  \n",
       "4790            NaT  \n",
       "4793            NaT  \n",
       "4799            NaT  \n",
       "\n",
       "[467 rows x 18 columns]"
      ]
     },
     "execution_count": 111,
     "metadata": {},
     "output_type": "execute_result"
    }
   ],
   "source": [
    "df_emp_testando = df_emp[((df_emp['situacao'] == 'Teste') | (df_emp['situacao'] == 'Gratuito')) & (df_emp['dtcadastro'] > '01/01/2022')]\n",
    "df_emp_testando"
   ]
  },
  {
   "cell_type": "code",
   "execution_count": 112,
   "id": "fe74c163",
   "metadata": {},
   "outputs": [],
   "source": [
    "# df_emp_gratuito = df_emp[((df_emp['situacao'] == 'Gratuito') | (df_emp['situacao'] == 'Gratuito inativo')) & (df_emp['dtcadastro'] > '01/01/2022')]\n",
    "# df_emp_gratuito"
   ]
  },
  {
   "cell_type": "markdown",
   "id": "790bcf6d",
   "metadata": {},
   "source": [
    "# Criando DF para quem assinou o sistema"
   ]
  },
  {
   "cell_type": "code",
   "execution_count": 113,
   "id": "c46b298f",
   "metadata": {},
   "outputs": [
    {
     "data": {
      "text/html": [
       "<div>\n",
       "<style scoped>\n",
       "    .dataframe tbody tr th:only-of-type {\n",
       "        vertical-align: middle;\n",
       "    }\n",
       "\n",
       "    .dataframe tbody tr th {\n",
       "        vertical-align: top;\n",
       "    }\n",
       "\n",
       "    .dataframe thead th {\n",
       "        text-align: right;\n",
       "    }\n",
       "</style>\n",
       "<table border=\"1\" class=\"dataframe\">\n",
       "  <thead>\n",
       "    <tr style=\"text-align: right;\">\n",
       "      <th></th>\n",
       "      <th>nome</th>\n",
       "      <th>email</th>\n",
       "      <th>telefone</th>\n",
       "      <th>CPF/CNPJ</th>\n",
       "      <th>dtcadastro</th>\n",
       "      <th>cidade</th>\n",
       "      <th>uf</th>\n",
       "      <th>qtdvistoria</th>\n",
       "      <th>qtdfoto</th>\n",
       "      <th>armazenamento</th>\n",
       "      <th>situacao</th>\n",
       "      <th>limiteteste</th>\n",
       "      <th>vencimento</th>\n",
       "      <th>valor</th>\n",
       "      <th>desconto</th>\n",
       "      <th>vistoriaadd</th>\n",
       "      <th>dtcompra</th>\n",
       "      <th>dtcancelamento</th>\n",
       "    </tr>\n",
       "  </thead>\n",
       "  <tbody>\n",
       "    <tr>\n",
       "      <th>4</th>\n",
       "      <td>2W MEIRA CORRETORA E EMPREENDIMENTOS IMÓBILIAR...</td>\n",
       "      <td>2wmeira@gmail.com</td>\n",
       "      <td>(66) 99929-5409</td>\n",
       "      <td>30.809.995/0001-05</td>\n",
       "      <td>2022-02-05</td>\n",
       "      <td>Sorriso</td>\n",
       "      <td>MT</td>\n",
       "      <td>30</td>\n",
       "      <td>999999</td>\n",
       "      <td>5</td>\n",
       "      <td>Ativa</td>\n",
       "      <td>NaN</td>\n",
       "      <td>8.0</td>\n",
       "      <td>159.0</td>\n",
       "      <td>NaN</td>\n",
       "      <td>3.5</td>\n",
       "      <td>2022-02-08</td>\n",
       "      <td>NaT</td>\n",
       "    </tr>\n",
       "    <tr>\n",
       "      <th>64</th>\n",
       "      <td>Administra</td>\n",
       "      <td>contato@administra.com.br</td>\n",
       "      <td>(61) 99695-0257</td>\n",
       "      <td>10.426.167/0001-72</td>\n",
       "      <td>2021-08-12</td>\n",
       "      <td>Brasília</td>\n",
       "      <td>DF</td>\n",
       "      <td>10</td>\n",
       "      <td>999999</td>\n",
       "      <td>1</td>\n",
       "      <td>Ativa</td>\n",
       "      <td>NaN</td>\n",
       "      <td>15.0</td>\n",
       "      <td>110.0</td>\n",
       "      <td>10.0</td>\n",
       "      <td>3.5</td>\n",
       "      <td>2022-02-02</td>\n",
       "      <td>NaT</td>\n",
       "    </tr>\n",
       "    <tr>\n",
       "      <th>83</th>\n",
       "      <td>Adriano Gonçalves Marques</td>\n",
       "      <td>adriano.g.marques@gmail.com</td>\n",
       "      <td>(11) 98871-0101</td>\n",
       "      <td>286.920.118-43</td>\n",
       "      <td>2022-03-31</td>\n",
       "      <td>São Paulo</td>\n",
       "      <td>SP</td>\n",
       "      <td>10</td>\n",
       "      <td>999999</td>\n",
       "      <td>1</td>\n",
       "      <td>Ativa</td>\n",
       "      <td>NaN</td>\n",
       "      <td>5.0</td>\n",
       "      <td>110.0</td>\n",
       "      <td>NaN</td>\n",
       "      <td>3.5</td>\n",
       "      <td>2022-04-05</td>\n",
       "      <td>NaT</td>\n",
       "    </tr>\n",
       "    <tr>\n",
       "      <th>203</th>\n",
       "      <td>ALIANCA CONSULTORIA DE IMOVEIS LTDA - ME</td>\n",
       "      <td>valdemar@aliancaimob.com</td>\n",
       "      <td>NaN</td>\n",
       "      <td>03.265.351/0001-12</td>\n",
       "      <td>2021-01-16</td>\n",
       "      <td>UBERLANDIA</td>\n",
       "      <td>MG</td>\n",
       "      <td>10</td>\n",
       "      <td>999999</td>\n",
       "      <td>1</td>\n",
       "      <td>Ativa</td>\n",
       "      <td>NaN</td>\n",
       "      <td>11.0</td>\n",
       "      <td>120.0</td>\n",
       "      <td>NaN</td>\n",
       "      <td>3.5</td>\n",
       "      <td>2022-01-11</td>\n",
       "      <td>NaT</td>\n",
       "    </tr>\n",
       "    <tr>\n",
       "      <th>301</th>\n",
       "      <td>Anderson de Arruda</td>\n",
       "      <td>andersonarruda@bol.com.br</td>\n",
       "      <td>(11) 96087-6858</td>\n",
       "      <td>261.953.878-51</td>\n",
       "      <td>2021-08-23</td>\n",
       "      <td>Sao Paulo</td>\n",
       "      <td>SP</td>\n",
       "      <td>10</td>\n",
       "      <td>999999</td>\n",
       "      <td>1</td>\n",
       "      <td>Ativa</td>\n",
       "      <td>NaN</td>\n",
       "      <td>5.0</td>\n",
       "      <td>120.0</td>\n",
       "      <td>NaN</td>\n",
       "      <td>3.5</td>\n",
       "      <td>2022-03-04</td>\n",
       "      <td>NaT</td>\n",
       "    </tr>\n",
       "    <tr>\n",
       "      <th>455</th>\n",
       "      <td>Atuale Empreendimentos Imobiliários Ltda</td>\n",
       "      <td>alessandro@atualeimobiliaria.com</td>\n",
       "      <td>(19) 97141-3361</td>\n",
       "      <td>19.217.904/0001-00</td>\n",
       "      <td>2022-01-03</td>\n",
       "      <td>Sumaré</td>\n",
       "      <td>SP</td>\n",
       "      <td>30</td>\n",
       "      <td>999999</td>\n",
       "      <td>5</td>\n",
       "      <td>Ativa</td>\n",
       "      <td>NaN</td>\n",
       "      <td>13.0</td>\n",
       "      <td>175.0</td>\n",
       "      <td>NaN</td>\n",
       "      <td>3.5</td>\n",
       "      <td>2022-01-13</td>\n",
       "      <td>NaT</td>\n",
       "    </tr>\n",
       "    <tr>\n",
       "      <th>470</th>\n",
       "      <td>Avaliações e Vistorias Recosta</td>\n",
       "      <td>recostacorretor@gmail.com</td>\n",
       "      <td>(11) 941500722</td>\n",
       "      <td>012.576.838-96</td>\n",
       "      <td>2020-06-08</td>\n",
       "      <td>São Paulo</td>\n",
       "      <td>SP</td>\n",
       "      <td>10</td>\n",
       "      <td>999999</td>\n",
       "      <td>1</td>\n",
       "      <td>Ativa</td>\n",
       "      <td>NaN</td>\n",
       "      <td>10.0</td>\n",
       "      <td>120.0</td>\n",
       "      <td>NaN</td>\n",
       "      <td>3.5</td>\n",
       "      <td>2022-02-10</td>\n",
       "      <td>NaT</td>\n",
       "    </tr>\n",
       "    <tr>\n",
       "      <th>493</th>\n",
       "      <td>Barbagallo Imóveis LTDA</td>\n",
       "      <td>adm.barbagallo@gmail.com</td>\n",
       "      <td>(11) 94724-0992</td>\n",
       "      <td>22.800.025/0001-02</td>\n",
       "      <td>2022-01-26</td>\n",
       "      <td>São Bernardo do Campo</td>\n",
       "      <td>SP</td>\n",
       "      <td>10</td>\n",
       "      <td>999999</td>\n",
       "      <td>1</td>\n",
       "      <td>Ativa</td>\n",
       "      <td>NaN</td>\n",
       "      <td>26.0</td>\n",
       "      <td>110.0</td>\n",
       "      <td>NaN</td>\n",
       "      <td>3.5</td>\n",
       "      <td>2022-01-29</td>\n",
       "      <td>NaT</td>\n",
       "    </tr>\n",
       "    <tr>\n",
       "      <th>536</th>\n",
       "      <td>Bervel empreendimentos ltda</td>\n",
       "      <td>vinicius.aguiar@bervel.com.br</td>\n",
       "      <td>(21) 99798-2287</td>\n",
       "      <td>30.712.863/0001-52</td>\n",
       "      <td>2021-01-16</td>\n",
       "      <td>rio de janeiro</td>\n",
       "      <td>RJ</td>\n",
       "      <td>20</td>\n",
       "      <td>999999</td>\n",
       "      <td>3</td>\n",
       "      <td>Ativa</td>\n",
       "      <td>NaN</td>\n",
       "      <td>26.0</td>\n",
       "      <td>140.0</td>\n",
       "      <td>NaN</td>\n",
       "      <td>3.5</td>\n",
       "      <td>2022-03-29</td>\n",
       "      <td>NaT</td>\n",
       "    </tr>\n",
       "    <tr>\n",
       "      <th>538</th>\n",
       "      <td>BESTLAR NEGOCIOS IMOBILIARIOS LTDA</td>\n",
       "      <td>fabio.valle@bestlar.com.br</td>\n",
       "      <td>(11) 989884001</td>\n",
       "      <td>10.783.341/0001-34</td>\n",
       "      <td>2020-07-27</td>\n",
       "      <td>Cotia</td>\n",
       "      <td>SP</td>\n",
       "      <td>10</td>\n",
       "      <td>999999</td>\n",
       "      <td>1</td>\n",
       "      <td>Ativa</td>\n",
       "      <td>NaN</td>\n",
       "      <td>7.0</td>\n",
       "      <td>110.0</td>\n",
       "      <td>10.0</td>\n",
       "      <td>3.5</td>\n",
       "      <td>2022-03-07</td>\n",
       "      <td>NaT</td>\n",
       "    </tr>\n",
       "    <tr>\n",
       "      <th>552</th>\n",
       "      <td>Block Imóveis LTDA</td>\n",
       "      <td>wallace@blockimoveis.com.br</td>\n",
       "      <td>(21) 98556-3825</td>\n",
       "      <td>26.475.689/0001-02</td>\n",
       "      <td>2022-02-16</td>\n",
       "      <td>Rio de Janeiro</td>\n",
       "      <td>RJ</td>\n",
       "      <td>30</td>\n",
       "      <td>999999</td>\n",
       "      <td>15</td>\n",
       "      <td>Ativa</td>\n",
       "      <td>NaN</td>\n",
       "      <td>5.0</td>\n",
       "      <td>179.0</td>\n",
       "      <td>NaN</td>\n",
       "      <td>3.5</td>\n",
       "      <td>2022-03-03</td>\n",
       "      <td>NaT</td>\n",
       "    </tr>\n",
       "    <tr>\n",
       "      <th>569</th>\n",
       "      <td>Botelho empreendimentos imobiliaria Ltda</td>\n",
       "      <td>annabotelho@lokatell.com.br</td>\n",
       "      <td>(45) 99821-9991</td>\n",
       "      <td>72.218.993/0001-83</td>\n",
       "      <td>2020-08-18</td>\n",
       "      <td>Cascavel</td>\n",
       "      <td>PR</td>\n",
       "      <td>80</td>\n",
       "      <td>999999</td>\n",
       "      <td>20</td>\n",
       "      <td>Ativa</td>\n",
       "      <td>NaN</td>\n",
       "      <td>9.0</td>\n",
       "      <td>305.0</td>\n",
       "      <td>NaN</td>\n",
       "      <td>3.5</td>\n",
       "      <td>2022-03-09</td>\n",
       "      <td>NaT</td>\n",
       "    </tr>\n",
       "    <tr>\n",
       "      <th>831</th>\n",
       "      <td>Cirag Imobiliária LTDA</td>\n",
       "      <td>vistorias@cirag.com.br</td>\n",
       "      <td>(11) 938015594</td>\n",
       "      <td>13.750.503/0001-26</td>\n",
       "      <td>2021-01-16</td>\n",
       "      <td>São Paulo</td>\n",
       "      <td>SP</td>\n",
       "      <td>10</td>\n",
       "      <td>999999</td>\n",
       "      <td>1</td>\n",
       "      <td>Ativa</td>\n",
       "      <td>NaN</td>\n",
       "      <td>25.0</td>\n",
       "      <td>120.0</td>\n",
       "      <td>NaN</td>\n",
       "      <td>3.5</td>\n",
       "      <td>2022-02-25</td>\n",
       "      <td>NaT</td>\n",
       "    </tr>\n",
       "    <tr>\n",
       "      <th>1052</th>\n",
       "      <td>Dc Imoveis</td>\n",
       "      <td>daiana@dcimoveissc.com.br</td>\n",
       "      <td>(47) 3345-0324</td>\n",
       "      <td>26.529.193/0001-66</td>\n",
       "      <td>2021-11-09</td>\n",
       "      <td>Penha</td>\n",
       "      <td>SC</td>\n",
       "      <td>5</td>\n",
       "      <td>999999</td>\n",
       "      <td>1</td>\n",
       "      <td>Ativa</td>\n",
       "      <td>NaN</td>\n",
       "      <td>6.0</td>\n",
       "      <td>89.0</td>\n",
       "      <td>NaN</td>\n",
       "      <td>3.5</td>\n",
       "      <td>2022-01-06</td>\n",
       "      <td>NaT</td>\n",
       "    </tr>\n",
       "    <tr>\n",
       "      <th>1100</th>\n",
       "      <td>DHG Consultoria</td>\n",
       "      <td>diogohgarcia@gmail.com</td>\n",
       "      <td>(12) 99776-0926</td>\n",
       "      <td>320.575.968-00</td>\n",
       "      <td>2022-03-04</td>\n",
       "      <td>Caçapava</td>\n",
       "      <td>SP</td>\n",
       "      <td>20</td>\n",
       "      <td>999999</td>\n",
       "      <td>3</td>\n",
       "      <td>Ativa</td>\n",
       "      <td>NaN</td>\n",
       "      <td>8.0</td>\n",
       "      <td>140.0</td>\n",
       "      <td>NaN</td>\n",
       "      <td>3.5</td>\n",
       "      <td>2022-03-08</td>\n",
       "      <td>NaT</td>\n",
       "    </tr>\n",
       "    <tr>\n",
       "      <th>1238</th>\n",
       "      <td>Eduardo Martins Espinosa</td>\n",
       "      <td>edu-ardo849@hotmail.com</td>\n",
       "      <td>(11) 95371-8694</td>\n",
       "      <td>34.558.541/0001-51</td>\n",
       "      <td>2022-03-28</td>\n",
       "      <td>Suzano</td>\n",
       "      <td>SP</td>\n",
       "      <td>10</td>\n",
       "      <td>999999</td>\n",
       "      <td>1</td>\n",
       "      <td>Ativa</td>\n",
       "      <td>NaN</td>\n",
       "      <td>26.0</td>\n",
       "      <td>120.0</td>\n",
       "      <td>NaN</td>\n",
       "      <td>3.5</td>\n",
       "      <td>2022-03-31</td>\n",
       "      <td>NaT</td>\n",
       "    </tr>\n",
       "    <tr>\n",
       "      <th>1253</th>\n",
       "      <td>Elaine Rodela ME</td>\n",
       "      <td>elaine.rodela@idux.com.br</td>\n",
       "      <td>(41) 99636-2300</td>\n",
       "      <td>24.074.293/0001-10</td>\n",
       "      <td>2021-06-13</td>\n",
       "      <td>São José dos Pinhais</td>\n",
       "      <td>PR</td>\n",
       "      <td>10</td>\n",
       "      <td>999999</td>\n",
       "      <td>1</td>\n",
       "      <td>Ativa</td>\n",
       "      <td>NaN</td>\n",
       "      <td>26.0</td>\n",
       "      <td>120.0</td>\n",
       "      <td>NaN</td>\n",
       "      <td>3.5</td>\n",
       "      <td>2022-03-29</td>\n",
       "      <td>NaT</td>\n",
       "    </tr>\n",
       "    <tr>\n",
       "      <th>1273</th>\n",
       "      <td>Eliel Rosa da Silva</td>\n",
       "      <td>eliel.2014@outlook.com.br</td>\n",
       "      <td>(47) 99769-3866</td>\n",
       "      <td>073.294.229-24</td>\n",
       "      <td>2020-12-03</td>\n",
       "      <td>Joinville</td>\n",
       "      <td>SC</td>\n",
       "      <td>30</td>\n",
       "      <td>999999</td>\n",
       "      <td>5</td>\n",
       "      <td>Ativa</td>\n",
       "      <td>NaN</td>\n",
       "      <td>5.0</td>\n",
       "      <td>159.0</td>\n",
       "      <td>NaN</td>\n",
       "      <td>3.5</td>\n",
       "      <td>2022-04-01</td>\n",
       "      <td>NaT</td>\n",
       "    </tr>\n",
       "    <tr>\n",
       "      <th>1406</th>\n",
       "      <td>Everton Tavares Vilela</td>\n",
       "      <td>everton_vilela@yahoo.com.br</td>\n",
       "      <td>(24) 98808-5221</td>\n",
       "      <td>028.331.617-94</td>\n",
       "      <td>2022-02-20</td>\n",
       "      <td>Miguel Pereira</td>\n",
       "      <td>RJ</td>\n",
       "      <td>20</td>\n",
       "      <td>999999</td>\n",
       "      <td>1</td>\n",
       "      <td>Ativa</td>\n",
       "      <td>NaN</td>\n",
       "      <td>5.0</td>\n",
       "      <td>155.0</td>\n",
       "      <td>50.0</td>\n",
       "      <td>3.5</td>\n",
       "      <td>2022-03-03</td>\n",
       "      <td>NaT</td>\n",
       "    </tr>\n",
       "    <tr>\n",
       "      <th>1410</th>\n",
       "      <td>EVORA PARTNER</td>\n",
       "      <td>evorapk@gmail.com</td>\n",
       "      <td>(51) 99735-2424</td>\n",
       "      <td>08.531.281/0001-10</td>\n",
       "      <td>2022-03-05</td>\n",
       "      <td>PORTO ALEGRE</td>\n",
       "      <td>RS</td>\n",
       "      <td>10</td>\n",
       "      <td>999999</td>\n",
       "      <td>1</td>\n",
       "      <td>Ativa</td>\n",
       "      <td>NaN</td>\n",
       "      <td>26.0</td>\n",
       "      <td>120.0</td>\n",
       "      <td>NaN</td>\n",
       "      <td>3.5</td>\n",
       "      <td>2022-03-31</td>\n",
       "      <td>NaT</td>\n",
       "    </tr>\n",
       "    <tr>\n",
       "      <th>1412</th>\n",
       "      <td>Exacto Imoveis</td>\n",
       "      <td>administrativo@exactoimoveis.com.br</td>\n",
       "      <td>(19) 99346-7044</td>\n",
       "      <td>22.961.776/0001-00</td>\n",
       "      <td>2022-01-12</td>\n",
       "      <td>Campinas</td>\n",
       "      <td>SP</td>\n",
       "      <td>10</td>\n",
       "      <td>999999</td>\n",
       "      <td>1</td>\n",
       "      <td>Ativa</td>\n",
       "      <td>NaN</td>\n",
       "      <td>7.0</td>\n",
       "      <td>120.0</td>\n",
       "      <td>NaN</td>\n",
       "      <td>3.5</td>\n",
       "      <td>2022-03-07</td>\n",
       "      <td>NaT</td>\n",
       "    </tr>\n",
       "    <tr>\n",
       "      <th>1490</th>\n",
       "      <td>FELGUS ENGENHARIA LTDA.</td>\n",
       "      <td>cezarernani@terra.com.br</td>\n",
       "      <td>(11) 97616-4366</td>\n",
       "      <td>09.243.976/0001-60</td>\n",
       "      <td>2021-11-01</td>\n",
       "      <td>São Paulo</td>\n",
       "      <td>SP</td>\n",
       "      <td>80</td>\n",
       "      <td>999999</td>\n",
       "      <td>20</td>\n",
       "      <td>Ativa</td>\n",
       "      <td>NaN</td>\n",
       "      <td>12.0</td>\n",
       "      <td>305.0</td>\n",
       "      <td>NaN</td>\n",
       "      <td>3.5</td>\n",
       "      <td>2022-01-12</td>\n",
       "      <td>NaT</td>\n",
       "    </tr>\n",
       "    <tr>\n",
       "      <th>1650</th>\n",
       "      <td>Fullcheck Vistorias</td>\n",
       "      <td>fullcheckvistorias@gmail.com</td>\n",
       "      <td>(31) 99435-3004</td>\n",
       "      <td>43.530.495/0001-73</td>\n",
       "      <td>2022-03-17</td>\n",
       "      <td>Belo Horizonte</td>\n",
       "      <td>MG</td>\n",
       "      <td>10</td>\n",
       "      <td>999999</td>\n",
       "      <td>1</td>\n",
       "      <td>Ativa</td>\n",
       "      <td>NaN</td>\n",
       "      <td>5.0</td>\n",
       "      <td>120.0</td>\n",
       "      <td>NaN</td>\n",
       "      <td>3.5</td>\n",
       "      <td>2022-04-01</td>\n",
       "      <td>NaT</td>\n",
       "    </tr>\n",
       "    <tr>\n",
       "      <th>1852</th>\n",
       "      <td>Habitar Soluções Imobiliárias</td>\n",
       "      <td>fabianadebastiani@gmail.com</td>\n",
       "      <td>(66) 9224-6722</td>\n",
       "      <td>39.815.102/0001-09</td>\n",
       "      <td>2021-05-26</td>\n",
       "      <td>Sorriso</td>\n",
       "      <td>MT</td>\n",
       "      <td>10</td>\n",
       "      <td>999999</td>\n",
       "      <td>1</td>\n",
       "      <td>Ativa</td>\n",
       "      <td>NaN</td>\n",
       "      <td>20.0</td>\n",
       "      <td>120.0</td>\n",
       "      <td>NaN</td>\n",
       "      <td>3.5</td>\n",
       "      <td>2022-01-20</td>\n",
       "      <td>NaT</td>\n",
       "    </tr>\n",
       "    <tr>\n",
       "      <th>1870</th>\n",
       "      <td>Haus Digital</td>\n",
       "      <td>audria@solarnegociosimobiliarios.com</td>\n",
       "      <td>(51) 99396-4414</td>\n",
       "      <td>37.808.683/0001-18</td>\n",
       "      <td>2022-02-25</td>\n",
       "      <td>Sao Leopoldo</td>\n",
       "      <td>RS</td>\n",
       "      <td>10</td>\n",
       "      <td>999999</td>\n",
       "      <td>1</td>\n",
       "      <td>Ativa</td>\n",
       "      <td>NaN</td>\n",
       "      <td>22.0</td>\n",
       "      <td>110.0</td>\n",
       "      <td>NaN</td>\n",
       "      <td>3.5</td>\n",
       "      <td>2022-03-22</td>\n",
       "      <td>NaT</td>\n",
       "    </tr>\n",
       "    <tr>\n",
       "      <th>1978</th>\n",
       "      <td>Imobiliária Altreiter LTDA</td>\n",
       "      <td>atendimento@altreiterimoveis.com.br</td>\n",
       "      <td>(54) 99171-2001</td>\n",
       "      <td>08.955.741/0001-38</td>\n",
       "      <td>2022-02-14</td>\n",
       "      <td>Gramado</td>\n",
       "      <td>RS</td>\n",
       "      <td>10</td>\n",
       "      <td>999999</td>\n",
       "      <td>1</td>\n",
       "      <td>Ativa</td>\n",
       "      <td>NaN</td>\n",
       "      <td>18.0</td>\n",
       "      <td>110.0</td>\n",
       "      <td>NaN</td>\n",
       "      <td>3.5</td>\n",
       "      <td>2022-02-18</td>\n",
       "      <td>NaT</td>\n",
       "    </tr>\n",
       "    <tr>\n",
       "      <th>1982</th>\n",
       "      <td>Imobiliária Aquino eireli</td>\n",
       "      <td>denio@denioaquino.com.br</td>\n",
       "      <td>(62) 3943-2151</td>\n",
       "      <td>16.926.967/0001-39</td>\n",
       "      <td>2021-10-04</td>\n",
       "      <td>ANAPOLIS</td>\n",
       "      <td>GO</td>\n",
       "      <td>20</td>\n",
       "      <td>999999</td>\n",
       "      <td>3</td>\n",
       "      <td>Ativa</td>\n",
       "      <td>NaN</td>\n",
       "      <td>18.0</td>\n",
       "      <td>140.0</td>\n",
       "      <td>NaN</td>\n",
       "      <td>3.5</td>\n",
       "      <td>2022-02-18</td>\n",
       "      <td>NaT</td>\n",
       "    </tr>\n",
       "    <tr>\n",
       "      <th>2023</th>\n",
       "      <td>IMOBILIARIA GEWEHR</td>\n",
       "      <td>contato@imobiliariagewehr.com.br</td>\n",
       "      <td>(51) 99540-1773</td>\n",
       "      <td>89.071.625/0001-58</td>\n",
       "      <td>2022-03-11</td>\n",
       "      <td>ESTRELA</td>\n",
       "      <td>RS</td>\n",
       "      <td>20</td>\n",
       "      <td>999999</td>\n",
       "      <td>3</td>\n",
       "      <td>Ativa</td>\n",
       "      <td>NaN</td>\n",
       "      <td>18.0</td>\n",
       "      <td>155.0</td>\n",
       "      <td>NaN</td>\n",
       "      <td>3.5</td>\n",
       "      <td>2022-03-18</td>\n",
       "      <td>NaT</td>\n",
       "    </tr>\n",
       "    <tr>\n",
       "      <th>2030</th>\n",
       "      <td>Imobiliária Immig</td>\n",
       "      <td>imobiliariaimmig@gmail.com</td>\n",
       "      <td>(51) 98030-9520</td>\n",
       "      <td>44.270.107/0001-25</td>\n",
       "      <td>2022-01-04</td>\n",
       "      <td>Estância Velha</td>\n",
       "      <td>RS</td>\n",
       "      <td>30</td>\n",
       "      <td>999999</td>\n",
       "      <td>5</td>\n",
       "      <td>Ativa</td>\n",
       "      <td>NaN</td>\n",
       "      <td>8.0</td>\n",
       "      <td>159.0</td>\n",
       "      <td>NaN</td>\n",
       "      <td>3.5</td>\n",
       "      <td>2022-01-08</td>\n",
       "      <td>NaT</td>\n",
       "    </tr>\n",
       "    <tr>\n",
       "      <th>2258</th>\n",
       "      <td>JDIAS CONSULTORIA IMOBILIÁRIA</td>\n",
       "      <td>admjdias.imb@gmail.com</td>\n",
       "      <td>(16) 99795-5687</td>\n",
       "      <td>40.588.313/0001-27</td>\n",
       "      <td>2022-02-01</td>\n",
       "      <td>Jaboticabal</td>\n",
       "      <td>SP</td>\n",
       "      <td>10</td>\n",
       "      <td>999999</td>\n",
       "      <td>1</td>\n",
       "      <td>Ativa</td>\n",
       "      <td>NaN</td>\n",
       "      <td>5.0</td>\n",
       "      <td>120.0</td>\n",
       "      <td>NaN</td>\n",
       "      <td>3.5</td>\n",
       "      <td>2022-02-02</td>\n",
       "      <td>NaT</td>\n",
       "    </tr>\n",
       "    <tr>\n",
       "      <th>2297</th>\n",
       "      <td>JJ Santos Imóveis</td>\n",
       "      <td>cristina@jjsantosimoveis.com.br</td>\n",
       "      <td>(11) 2601-0244</td>\n",
       "      <td>38.048.417/0001-05</td>\n",
       "      <td>2022-03-18</td>\n",
       "      <td>São Paulo</td>\n",
       "      <td>SP</td>\n",
       "      <td>10</td>\n",
       "      <td>999999</td>\n",
       "      <td>1</td>\n",
       "      <td>Ativa</td>\n",
       "      <td>NaN</td>\n",
       "      <td>23.0</td>\n",
       "      <td>110.0</td>\n",
       "      <td>NaN</td>\n",
       "      <td>3.5</td>\n",
       "      <td>2022-03-23</td>\n",
       "      <td>NaT</td>\n",
       "    </tr>\n",
       "    <tr>\n",
       "      <th>2485</th>\n",
       "      <td>Júlio César dos Santos Messias</td>\n",
       "      <td>jcesarsmessias@gmail.com</td>\n",
       "      <td>(31) 99499-2597</td>\n",
       "      <td>111.181.866-56</td>\n",
       "      <td>2022-02-03</td>\n",
       "      <td>Santa Barbara</td>\n",
       "      <td>MG</td>\n",
       "      <td>10</td>\n",
       "      <td>999999</td>\n",
       "      <td>1</td>\n",
       "      <td>Ativa</td>\n",
       "      <td>NaN</td>\n",
       "      <td>10.0</td>\n",
       "      <td>120.0</td>\n",
       "      <td>NaN</td>\n",
       "      <td>3.5</td>\n",
       "      <td>2022-03-10</td>\n",
       "      <td>NaT</td>\n",
       "    </tr>\n",
       "    <tr>\n",
       "      <th>2627</th>\n",
       "      <td>LEANDRO CARLOS MONTEIRO DE OLIVEIRA</td>\n",
       "      <td>imob.admimoveis@gmail.com</td>\n",
       "      <td>(87) 99100-0069</td>\n",
       "      <td>27.765.039/0001-56</td>\n",
       "      <td>2021-01-22</td>\n",
       "      <td>PESQUEIRA</td>\n",
       "      <td>PE</td>\n",
       "      <td>10</td>\n",
       "      <td>999999</td>\n",
       "      <td>1</td>\n",
       "      <td>Ativa</td>\n",
       "      <td>NaN</td>\n",
       "      <td>23.0</td>\n",
       "      <td>99.0</td>\n",
       "      <td>NaN</td>\n",
       "      <td>3.5</td>\n",
       "      <td>2022-03-23</td>\n",
       "      <td>NaT</td>\n",
       "    </tr>\n",
       "    <tr>\n",
       "      <th>2641</th>\n",
       "      <td>Leandro Teixeira de Souza</td>\n",
       "      <td>leandroteixeira01@outlook.com</td>\n",
       "      <td>(92) 98458-9435</td>\n",
       "      <td>097.131.337-73</td>\n",
       "      <td>2021-12-10</td>\n",
       "      <td>Manaus</td>\n",
       "      <td>AM</td>\n",
       "      <td>10</td>\n",
       "      <td>999999</td>\n",
       "      <td>1</td>\n",
       "      <td>Ativa</td>\n",
       "      <td>NaN</td>\n",
       "      <td>16.0</td>\n",
       "      <td>110.0</td>\n",
       "      <td>NaN</td>\n",
       "      <td>3.5</td>\n",
       "      <td>2022-03-16</td>\n",
       "      <td>NaT</td>\n",
       "    </tr>\n",
       "    <tr>\n",
       "      <th>2739</th>\n",
       "      <td>LL ADMINISTRAÇÃO DE IMÓVEIS LTDA</td>\n",
       "      <td>luciana@decisaoimoveis.com.br</td>\n",
       "      <td>(31) 3048-4455</td>\n",
       "      <td>14.624.228/0001-67</td>\n",
       "      <td>2021-01-15</td>\n",
       "      <td>Belo Horizonte</td>\n",
       "      <td>MG</td>\n",
       "      <td>10</td>\n",
       "      <td>999999</td>\n",
       "      <td>1</td>\n",
       "      <td>Ativa</td>\n",
       "      <td>NaN</td>\n",
       "      <td>15.0</td>\n",
       "      <td>120.0</td>\n",
       "      <td>NaN</td>\n",
       "      <td>3.5</td>\n",
       "      <td>2022-02-15</td>\n",
       "      <td>NaT</td>\n",
       "    </tr>\n",
       "    <tr>\n",
       "      <th>2832</th>\n",
       "      <td>LUCILENE INTERMEDIÇOES IMOBILIARIA</td>\n",
       "      <td>boletos@lucilenepereira.com.br</td>\n",
       "      <td>(67) 999244646</td>\n",
       "      <td>10.582.320/0001-50</td>\n",
       "      <td>2020-09-21</td>\n",
       "      <td>CAMPO GRANDE</td>\n",
       "      <td>MS</td>\n",
       "      <td>30</td>\n",
       "      <td>999999</td>\n",
       "      <td>15</td>\n",
       "      <td>Ativa</td>\n",
       "      <td>NaN</td>\n",
       "      <td>24.0</td>\n",
       "      <td>188.9</td>\n",
       "      <td>NaN</td>\n",
       "      <td>3.5</td>\n",
       "      <td>2022-02-24</td>\n",
       "      <td>NaT</td>\n",
       "    </tr>\n",
       "    <tr>\n",
       "      <th>3039</th>\n",
       "      <td>Marcos Antônio Moraes</td>\n",
       "      <td>mmvistorias@mmvistorias.com.br</td>\n",
       "      <td>(31) 98443-7621</td>\n",
       "      <td>044.243.406-51</td>\n",
       "      <td>2022-01-23</td>\n",
       "      <td>Betim</td>\n",
       "      <td>MG</td>\n",
       "      <td>10</td>\n",
       "      <td>999999</td>\n",
       "      <td>26</td>\n",
       "      <td>Ativa</td>\n",
       "      <td>NaN</td>\n",
       "      <td>10.0</td>\n",
       "      <td>155.0</td>\n",
       "      <td>NaN</td>\n",
       "      <td>3.5</td>\n",
       "      <td>2022-01-31</td>\n",
       "      <td>NaT</td>\n",
       "    </tr>\n",
       "    <tr>\n",
       "      <th>3061</th>\n",
       "      <td>MARCUS ALLAN MASTROPASQUA SOUTO</td>\n",
       "      <td>marcusmastropasqua@hotmail.com</td>\n",
       "      <td>(48) 99916-0998</td>\n",
       "      <td>080.737.379-65</td>\n",
       "      <td>2021-11-28</td>\n",
       "      <td>São José</td>\n",
       "      <td>SC</td>\n",
       "      <td>10</td>\n",
       "      <td>999999</td>\n",
       "      <td>1</td>\n",
       "      <td>Ativa</td>\n",
       "      <td>NaN</td>\n",
       "      <td>14.0</td>\n",
       "      <td>120.0</td>\n",
       "      <td>NaN</td>\n",
       "      <td>3.5</td>\n",
       "      <td>2022-03-14</td>\n",
       "      <td>NaT</td>\n",
       "    </tr>\n",
       "    <tr>\n",
       "      <th>3089</th>\n",
       "      <td>Maria de Fatima Itaparica Nascimento Zucco</td>\n",
       "      <td>faitaitaparica@gmail.com</td>\n",
       "      <td>(71) 98506-9279</td>\n",
       "      <td>105.015.095-34</td>\n",
       "      <td>2022-03-01</td>\n",
       "      <td>Salvador</td>\n",
       "      <td>BA</td>\n",
       "      <td>10</td>\n",
       "      <td>999999</td>\n",
       "      <td>1</td>\n",
       "      <td>Ativa</td>\n",
       "      <td>NaN</td>\n",
       "      <td>5.0</td>\n",
       "      <td>110.0</td>\n",
       "      <td>NaN</td>\n",
       "      <td>3.5</td>\n",
       "      <td>2022-03-03</td>\n",
       "      <td>NaT</td>\n",
       "    </tr>\n",
       "    <tr>\n",
       "      <th>3140</th>\n",
       "      <td>Masotti Investimentos</td>\n",
       "      <td>manutencao.masotti@gmail.com</td>\n",
       "      <td>(19) 99824-9418</td>\n",
       "      <td>09.429.078/0001-09</td>\n",
       "      <td>2022-03-03</td>\n",
       "      <td>Indaiatuba</td>\n",
       "      <td>SP</td>\n",
       "      <td>20</td>\n",
       "      <td>999999</td>\n",
       "      <td>3</td>\n",
       "      <td>Ativa</td>\n",
       "      <td>NaN</td>\n",
       "      <td>17.0</td>\n",
       "      <td>155.0</td>\n",
       "      <td>NaN</td>\n",
       "      <td>3.5</td>\n",
       "      <td>2022-03-17</td>\n",
       "      <td>NaT</td>\n",
       "    </tr>\n",
       "    <tr>\n",
       "      <th>3162</th>\n",
       "      <td>MATSUMOTO IMOVEIS</td>\n",
       "      <td>contato@matsumotocorretora.com.br</td>\n",
       "      <td>(67) 999795062</td>\n",
       "      <td>11.349.494/0001-30</td>\n",
       "      <td>2020-07-08</td>\n",
       "      <td>TRES LAGOAS</td>\n",
       "      <td>MS</td>\n",
       "      <td>10</td>\n",
       "      <td>999999</td>\n",
       "      <td>1</td>\n",
       "      <td>Ativa</td>\n",
       "      <td>NaN</td>\n",
       "      <td>25.0</td>\n",
       "      <td>110.0</td>\n",
       "      <td>NaN</td>\n",
       "      <td>3.5</td>\n",
       "      <td>2022-01-25</td>\n",
       "      <td>NaT</td>\n",
       "    </tr>\n",
       "    <tr>\n",
       "      <th>3251</th>\n",
       "      <td>Mil casa imóveis Eireli</td>\n",
       "      <td>marceloomb100@gmail.com</td>\n",
       "      <td>(31) 988809973</td>\n",
       "      <td>003.400.946-99</td>\n",
       "      <td>2020-11-24</td>\n",
       "      <td>São Joaquim de Bicas</td>\n",
       "      <td>MG</td>\n",
       "      <td>5</td>\n",
       "      <td>999999</td>\n",
       "      <td>1</td>\n",
       "      <td>Ativa</td>\n",
       "      <td>NaN</td>\n",
       "      <td>24.0</td>\n",
       "      <td>79.0</td>\n",
       "      <td>NaN</td>\n",
       "      <td>3.5</td>\n",
       "      <td>2022-02-24</td>\n",
       "      <td>NaT</td>\n",
       "    </tr>\n",
       "    <tr>\n",
       "      <th>3468</th>\n",
       "      <td>OPX Imóveis Ltda</td>\n",
       "      <td>contato@opx.imb.br</td>\n",
       "      <td>(47) 99105-0022</td>\n",
       "      <td>22.439.170/0001-00</td>\n",
       "      <td>2021-12-01</td>\n",
       "      <td>Balneário Piçarras</td>\n",
       "      <td>SC</td>\n",
       "      <td>30</td>\n",
       "      <td>999999</td>\n",
       "      <td>5</td>\n",
       "      <td>Ativa</td>\n",
       "      <td>NaN</td>\n",
       "      <td>10.0</td>\n",
       "      <td>175.0</td>\n",
       "      <td>NaN</td>\n",
       "      <td>3.5</td>\n",
       "      <td>2022-02-10</td>\n",
       "      <td>NaT</td>\n",
       "    </tr>\n",
       "    <tr>\n",
       "      <th>3563</th>\n",
       "      <td>Paulo Dias Corretor de Imóveis</td>\n",
       "      <td>comercial@paulodiascorretorhp.com.br</td>\n",
       "      <td>(47) 99666-5971</td>\n",
       "      <td>34.595.951/0001-72</td>\n",
       "      <td>2022-01-07</td>\n",
       "      <td>Balneário Camboriu</td>\n",
       "      <td>SC</td>\n",
       "      <td>10</td>\n",
       "      <td>999999</td>\n",
       "      <td>1</td>\n",
       "      <td>Ativa</td>\n",
       "      <td>NaN</td>\n",
       "      <td>21.0</td>\n",
       "      <td>120.0</td>\n",
       "      <td>NaN</td>\n",
       "      <td>3.5</td>\n",
       "      <td>2022-01-21</td>\n",
       "      <td>NaT</td>\n",
       "    </tr>\n",
       "    <tr>\n",
       "      <th>3682</th>\n",
       "      <td>Porto Seguro Imoveis Ltda</td>\n",
       "      <td>financeiro@portosegimoveis.com.br</td>\n",
       "      <td>(19) 34758444</td>\n",
       "      <td>54.015.755/0001-99</td>\n",
       "      <td>2021-01-16</td>\n",
       "      <td>Americana</td>\n",
       "      <td>SP</td>\n",
       "      <td>10</td>\n",
       "      <td>999999</td>\n",
       "      <td>1</td>\n",
       "      <td>Ativa</td>\n",
       "      <td>NaN</td>\n",
       "      <td>15.0</td>\n",
       "      <td>120.0</td>\n",
       "      <td>NaN</td>\n",
       "      <td>3.5</td>\n",
       "      <td>2022-03-15</td>\n",
       "      <td>NaT</td>\n",
       "    </tr>\n",
       "    <tr>\n",
       "      <th>3707</th>\n",
       "      <td>Prime Imóveis Ltda</td>\n",
       "      <td>contato@primeimoveispg.com.br</td>\n",
       "      <td>(13) 99197-7365</td>\n",
       "      <td>16.876.752/0001-50</td>\n",
       "      <td>2022-02-02</td>\n",
       "      <td>Praia Grande</td>\n",
       "      <td>SP</td>\n",
       "      <td>10</td>\n",
       "      <td>999999</td>\n",
       "      <td>1</td>\n",
       "      <td>Ativa</td>\n",
       "      <td>NaN</td>\n",
       "      <td>5.0</td>\n",
       "      <td>120.0</td>\n",
       "      <td>NaN</td>\n",
       "      <td>3.5</td>\n",
       "      <td>2022-02-04</td>\n",
       "      <td>NaT</td>\n",
       "    </tr>\n",
       "    <tr>\n",
       "      <th>3710</th>\n",
       "      <td>Princal - Administração, Agricultura e Imóveis...</td>\n",
       "      <td>financeiro@princal.com.br</td>\n",
       "      <td>(11) 97414-1587</td>\n",
       "      <td>60.859.550/0001-92</td>\n",
       "      <td>2021-12-15</td>\n",
       "      <td>São Paulo</td>\n",
       "      <td>SP</td>\n",
       "      <td>10</td>\n",
       "      <td>999999</td>\n",
       "      <td>1</td>\n",
       "      <td>Ativa</td>\n",
       "      <td>NaN</td>\n",
       "      <td>18.0</td>\n",
       "      <td>120.0</td>\n",
       "      <td>NaN</td>\n",
       "      <td>3.5</td>\n",
       "      <td>2022-02-18</td>\n",
       "      <td>NaT</td>\n",
       "    </tr>\n",
       "    <tr>\n",
       "      <th>3914</th>\n",
       "      <td>REVAPS SERVIÇOS DE CORRETAGEM DE SEGUROS E IMO...</td>\n",
       "      <td>sofia@revaps.com.br</td>\n",
       "      <td>(11) 4178-1108</td>\n",
       "      <td>06.871.712/0001-62</td>\n",
       "      <td>2022-03-16</td>\n",
       "      <td>SÃO BERNARDO DO CAMPO</td>\n",
       "      <td>SP</td>\n",
       "      <td>30</td>\n",
       "      <td>999999</td>\n",
       "      <td>5</td>\n",
       "      <td>Ativa</td>\n",
       "      <td>NaN</td>\n",
       "      <td>19.0</td>\n",
       "      <td>159.0</td>\n",
       "      <td>NaN</td>\n",
       "      <td>3.5</td>\n",
       "      <td>2022-03-19</td>\n",
       "      <td>NaT</td>\n",
       "    </tr>\n",
       "    <tr>\n",
       "      <th>3955</th>\n",
       "      <td>RICARLOS MACIEL ARAUJO EIRELI</td>\n",
       "      <td>rmaraujo.mao@gmail.com</td>\n",
       "      <td>(92) 99181-2646</td>\n",
       "      <td>36.039.111/0001-59</td>\n",
       "      <td>2021-01-30</td>\n",
       "      <td>MANAUS</td>\n",
       "      <td>AM</td>\n",
       "      <td>10</td>\n",
       "      <td>999999</td>\n",
       "      <td>1</td>\n",
       "      <td>Ativa</td>\n",
       "      <td>NaN</td>\n",
       "      <td>10.0</td>\n",
       "      <td>104.5</td>\n",
       "      <td>NaN</td>\n",
       "      <td>3.5</td>\n",
       "      <td>2022-03-10</td>\n",
       "      <td>NaT</td>\n",
       "    </tr>\n",
       "    <tr>\n",
       "      <th>4083</th>\n",
       "      <td>Rozinardo serafim da luz</td>\n",
       "      <td>tekoserafim@gmail.com</td>\n",
       "      <td>(47) 99233-2255</td>\n",
       "      <td>206.677.418-95</td>\n",
       "      <td>2022-01-04</td>\n",
       "      <td>Blumenau</td>\n",
       "      <td>SC</td>\n",
       "      <td>10</td>\n",
       "      <td>999999</td>\n",
       "      <td>1</td>\n",
       "      <td>Ativa</td>\n",
       "      <td>NaN</td>\n",
       "      <td>11.0</td>\n",
       "      <td>120.0</td>\n",
       "      <td>NaN</td>\n",
       "      <td>3.5</td>\n",
       "      <td>2022-01-11</td>\n",
       "      <td>NaT</td>\n",
       "    </tr>\n",
       "    <tr>\n",
       "      <th>4203</th>\n",
       "      <td>Shirley Soares</td>\n",
       "      <td>shirleyamd1@hotmail.com</td>\n",
       "      <td>(31) 99191-1698</td>\n",
       "      <td>073.246.306-85</td>\n",
       "      <td>2021-10-19</td>\n",
       "      <td>Ribeirão das Neves</td>\n",
       "      <td>MG</td>\n",
       "      <td>10</td>\n",
       "      <td>999999</td>\n",
       "      <td>1</td>\n",
       "      <td>Ativa</td>\n",
       "      <td>NaN</td>\n",
       "      <td>15.0</td>\n",
       "      <td>120.0</td>\n",
       "      <td>NaN</td>\n",
       "      <td>3.5</td>\n",
       "      <td>2022-01-15</td>\n",
       "      <td>NaT</td>\n",
       "    </tr>\n",
       "    <tr>\n",
       "      <th>4283</th>\n",
       "      <td>Solo Negócios Imobiliários</td>\n",
       "      <td>jean@soloimoveispa.com.br</td>\n",
       "      <td>(94) 991243609</td>\n",
       "      <td>13.123.513/0001-31</td>\n",
       "      <td>2020-06-22</td>\n",
       "      <td>Parauapebas</td>\n",
       "      <td>PA</td>\n",
       "      <td>10</td>\n",
       "      <td>999999</td>\n",
       "      <td>1</td>\n",
       "      <td>Ativa</td>\n",
       "      <td>NaN</td>\n",
       "      <td>24.0</td>\n",
       "      <td>120.0</td>\n",
       "      <td>NaN</td>\n",
       "      <td>3.5</td>\n",
       "      <td>2022-03-24</td>\n",
       "      <td>NaT</td>\n",
       "    </tr>\n",
       "    <tr>\n",
       "      <th>4285</th>\n",
       "      <td>Solução Imobiliária Ltda</td>\n",
       "      <td>vistoria@solucaoimobiliaria.com</td>\n",
       "      <td>(33) 3276-8949</td>\n",
       "      <td>15.656.797/0001-57</td>\n",
       "      <td>2022-02-11</td>\n",
       "      <td>Governador Valadares</td>\n",
       "      <td>MG</td>\n",
       "      <td>10</td>\n",
       "      <td>999999</td>\n",
       "      <td>1</td>\n",
       "      <td>Ativa</td>\n",
       "      <td>NaN</td>\n",
       "      <td>14.0</td>\n",
       "      <td>110.0</td>\n",
       "      <td>NaN</td>\n",
       "      <td>3.5</td>\n",
       "      <td>2022-02-14</td>\n",
       "      <td>NaT</td>\n",
       "    </tr>\n",
       "    <tr>\n",
       "      <th>4505</th>\n",
       "      <td>Ugara Felipe Ferreira</td>\n",
       "      <td>ugarafelipe@gmail.com</td>\n",
       "      <td>(31) 99282-5681</td>\n",
       "      <td>36.227.554/0001-73</td>\n",
       "      <td>2022-01-05</td>\n",
       "      <td>Belo Horizonte</td>\n",
       "      <td>MG</td>\n",
       "      <td>10</td>\n",
       "      <td>999999</td>\n",
       "      <td>1</td>\n",
       "      <td>Ativa</td>\n",
       "      <td>NaN</td>\n",
       "      <td>8.0</td>\n",
       "      <td>120.0</td>\n",
       "      <td>NaN</td>\n",
       "      <td>3.5</td>\n",
       "      <td>2022-01-08</td>\n",
       "      <td>NaT</td>\n",
       "    </tr>\n",
       "    <tr>\n",
       "      <th>4568</th>\n",
       "      <td>Vanessa Macção Camilo e Castro</td>\n",
       "      <td>vanessacamilotti2014@gmail.com</td>\n",
       "      <td>(21) 96720-2054</td>\n",
       "      <td>111.947.727-14</td>\n",
       "      <td>2021-05-24</td>\n",
       "      <td>Rio de Janeiro</td>\n",
       "      <td>RJ</td>\n",
       "      <td>10</td>\n",
       "      <td>999999</td>\n",
       "      <td>1</td>\n",
       "      <td>Ativa</td>\n",
       "      <td>NaN</td>\n",
       "      <td>14.0</td>\n",
       "      <td>120.0</td>\n",
       "      <td>NaN</td>\n",
       "      <td>3.5</td>\n",
       "      <td>2022-02-14</td>\n",
       "      <td>NaT</td>\n",
       "    </tr>\n",
       "    <tr>\n",
       "      <th>4610</th>\n",
       "      <td>VIGS NEGÓCIOS IMOBILIÁRIOS LTDA ME</td>\n",
       "      <td>amanda@vigs.com.br</td>\n",
       "      <td>(11) 42493110</td>\n",
       "      <td>25.176.783/0001-90</td>\n",
       "      <td>2021-01-16</td>\n",
       "      <td>Santo André</td>\n",
       "      <td>SP</td>\n",
       "      <td>10</td>\n",
       "      <td>999999</td>\n",
       "      <td>1</td>\n",
       "      <td>Ativa</td>\n",
       "      <td>NaN</td>\n",
       "      <td>15.0</td>\n",
       "      <td>110.0</td>\n",
       "      <td>NaN</td>\n",
       "      <td>3.5</td>\n",
       "      <td>2022-03-15</td>\n",
       "      <td>NaT</td>\n",
       "    </tr>\n",
       "    <tr>\n",
       "      <th>4693</th>\n",
       "      <td>VMVistorias</td>\n",
       "      <td>vtlmvistorias@gmail.com</td>\n",
       "      <td>(31) 99409-8373</td>\n",
       "      <td>31.799.354/0001-71</td>\n",
       "      <td>2022-03-05</td>\n",
       "      <td>BH</td>\n",
       "      <td>MG</td>\n",
       "      <td>30</td>\n",
       "      <td>999999</td>\n",
       "      <td>5</td>\n",
       "      <td>Ativa</td>\n",
       "      <td>NaN</td>\n",
       "      <td>16.0</td>\n",
       "      <td>175.0</td>\n",
       "      <td>NaN</td>\n",
       "      <td>3.5</td>\n",
       "      <td>2022-03-16</td>\n",
       "      <td>NaT</td>\n",
       "    </tr>\n",
       "    <tr>\n",
       "      <th>4713</th>\n",
       "      <td>WAGNER PEREIRA CLAUDIO 01389186601</td>\n",
       "      <td>vaguinho01@hotmail.com</td>\n",
       "      <td>(31) 99331-4823</td>\n",
       "      <td>32.321.600/0001-48</td>\n",
       "      <td>2020-01-28</td>\n",
       "      <td>BETIM</td>\n",
       "      <td>MG</td>\n",
       "      <td>20</td>\n",
       "      <td>999999</td>\n",
       "      <td>3</td>\n",
       "      <td>Ativa</td>\n",
       "      <td>NaN</td>\n",
       "      <td>5.0</td>\n",
       "      <td>155.0</td>\n",
       "      <td>NaN</td>\n",
       "      <td>3.5</td>\n",
       "      <td>2022-02-03</td>\n",
       "      <td>NaT</td>\n",
       "    </tr>\n",
       "    <tr>\n",
       "      <th>4741</th>\n",
       "      <td>Wellington Luiz da Conceição do Nascimento</td>\n",
       "      <td>wn.nascimento87@gmail.com</td>\n",
       "      <td>(11) 95935-0035</td>\n",
       "      <td>36.979.567/0001-07</td>\n",
       "      <td>2021-03-17</td>\n",
       "      <td>São Paulo</td>\n",
       "      <td>SP</td>\n",
       "      <td>10</td>\n",
       "      <td>999999</td>\n",
       "      <td>1</td>\n",
       "      <td>Ativa</td>\n",
       "      <td>NaN</td>\n",
       "      <td>26.0</td>\n",
       "      <td>120.0</td>\n",
       "      <td>NaN</td>\n",
       "      <td>3.5</td>\n",
       "      <td>2022-03-31</td>\n",
       "      <td>NaT</td>\n",
       "    </tr>\n",
       "    <tr>\n",
       "      <th>4763</th>\n",
       "      <td>William Ferreira</td>\n",
       "      <td>williamfms20@gmail.com</td>\n",
       "      <td>(11) 987745948</td>\n",
       "      <td>489.192.368-79</td>\n",
       "      <td>2020-07-09</td>\n",
       "      <td>São Paulo</td>\n",
       "      <td>SP</td>\n",
       "      <td>10</td>\n",
       "      <td>999999</td>\n",
       "      <td>11</td>\n",
       "      <td>Ativa</td>\n",
       "      <td>NaN</td>\n",
       "      <td>5.0</td>\n",
       "      <td>140.0</td>\n",
       "      <td>NaN</td>\n",
       "      <td>3.5</td>\n",
       "      <td>2022-01-05</td>\n",
       "      <td>NaT</td>\n",
       "    </tr>\n",
       "  </tbody>\n",
       "</table>\n",
       "</div>"
      ],
      "text/plain": [
       "                                                   nome  \\\n",
       "4     2W MEIRA CORRETORA E EMPREENDIMENTOS IMÓBILIAR...   \n",
       "64                                           Administra   \n",
       "83                           Adriano Gonçalves Marques    \n",
       "203           ALIANCA CONSULTORIA DE IMOVEIS LTDA - ME    \n",
       "301                                  Anderson de Arruda   \n",
       "455            Atuale Empreendimentos Imobiliários Ltda   \n",
       "470                      Avaliações e Vistorias Recosta   \n",
       "493                             Barbagallo Imóveis LTDA   \n",
       "536                         Bervel empreendimentos ltda   \n",
       "538                 BESTLAR NEGOCIOS IMOBILIARIOS LTDA    \n",
       "552                                  Block Imóveis LTDA   \n",
       "569            Botelho empreendimentos imobiliaria Ltda   \n",
       "831                              Cirag Imobiliária LTDA   \n",
       "1052                                         Dc Imoveis   \n",
       "1100                                    DHG Consultoria   \n",
       "1238                           Eduardo Martins Espinosa   \n",
       "1253                                   Elaine Rodela ME   \n",
       "1273                                Eliel Rosa da Silva   \n",
       "1406                             Everton Tavares Vilela   \n",
       "1410                                      EVORA PARTNER   \n",
       "1412                                     Exacto Imoveis   \n",
       "1490                            FELGUS ENGENHARIA LTDA.   \n",
       "1650                                Fullcheck Vistorias   \n",
       "1852                     Habitar Soluções Imobiliárias    \n",
       "1870                                       Haus Digital   \n",
       "1978                         Imobiliária Altreiter LTDA   \n",
       "1982                          Imobiliária Aquino eireli   \n",
       "2023                                 IMOBILIARIA GEWEHR   \n",
       "2030                                  Imobiliária Immig   \n",
       "2258                      JDIAS CONSULTORIA IMOBILIÁRIA   \n",
       "2297                                  JJ Santos Imóveis   \n",
       "2485                    Júlio César dos Santos Messias    \n",
       "2627                LEANDRO CARLOS MONTEIRO DE OLIVEIRA   \n",
       "2641                          Leandro Teixeira de Souza   \n",
       "2739                   LL ADMINISTRAÇÃO DE IMÓVEIS LTDA   \n",
       "2832                 LUCILENE INTERMEDIÇOES IMOBILIARIA   \n",
       "3039                             Marcos Antônio Moraes    \n",
       "3061                   MARCUS ALLAN MASTROPASQUA SOUTO    \n",
       "3089         Maria de Fatima Itaparica Nascimento Zucco   \n",
       "3140                              Masotti Investimentos   \n",
       "3162                                  MATSUMOTO IMOVEIS   \n",
       "3251                            Mil casa imóveis Eireli   \n",
       "3468                                   OPX Imóveis Ltda   \n",
       "3563                     Paulo Dias Corretor de Imóveis   \n",
       "3682                          Porto Seguro Imoveis Ltda   \n",
       "3707                                 Prime Imóveis Ltda   \n",
       "3710  Princal - Administração, Agricultura e Imóveis...   \n",
       "3914  REVAPS SERVIÇOS DE CORRETAGEM DE SEGUROS E IMO...   \n",
       "3955                      RICARLOS MACIEL ARAUJO EIRELI   \n",
       "4083                           Rozinardo serafim da luz   \n",
       "4203                                     Shirley Soares   \n",
       "4283                         Solo Negócios Imobiliários   \n",
       "4285                           Solução Imobiliária Ltda   \n",
       "4505                              Ugara Felipe Ferreira   \n",
       "4568                     Vanessa Macção Camilo e Castro   \n",
       "4610                 VIGS NEGÓCIOS IMOBILIÁRIOS LTDA ME   \n",
       "4693                                        VMVistorias   \n",
       "4713                 WAGNER PEREIRA CLAUDIO 01389186601   \n",
       "4741         Wellington Luiz da Conceição do Nascimento   \n",
       "4763                                  William Ferreira    \n",
       "\n",
       "                                     email         telefone  \\\n",
       "4                        2wmeira@gmail.com  (66) 99929-5409   \n",
       "64               contato@administra.com.br  (61) 99695-0257   \n",
       "83             adriano.g.marques@gmail.com  (11) 98871-0101   \n",
       "203               valdemar@aliancaimob.com              NaN   \n",
       "301              andersonarruda@bol.com.br  (11) 96087-6858   \n",
       "455       alessandro@atualeimobiliaria.com  (19) 97141-3361   \n",
       "470              recostacorretor@gmail.com   (11) 941500722   \n",
       "493               adm.barbagallo@gmail.com  (11) 94724-0992   \n",
       "536          vinicius.aguiar@bervel.com.br  (21) 99798-2287   \n",
       "538             fabio.valle@bestlar.com.br   (11) 989884001   \n",
       "552            wallace@blockimoveis.com.br  (21) 98556-3825   \n",
       "569            annabotelho@lokatell.com.br  (45) 99821-9991   \n",
       "831                 vistorias@cirag.com.br   (11) 938015594   \n",
       "1052             daiana@dcimoveissc.com.br   (47) 3345-0324   \n",
       "1100                diogohgarcia@gmail.com  (12) 99776-0926   \n",
       "1238               edu-ardo849@hotmail.com  (11) 95371-8694   \n",
       "1253             elaine.rodela@idux.com.br  (41) 99636-2300   \n",
       "1273             eliel.2014@outlook.com.br  (47) 99769-3866   \n",
       "1406           everton_vilela@yahoo.com.br  (24) 98808-5221   \n",
       "1410                     evorapk@gmail.com  (51) 99735-2424   \n",
       "1412   administrativo@exactoimoveis.com.br  (19) 99346-7044   \n",
       "1490              cezarernani@terra.com.br  (11) 97616-4366   \n",
       "1650          fullcheckvistorias@gmail.com  (31) 99435-3004   \n",
       "1852           fabianadebastiani@gmail.com   (66) 9224-6722   \n",
       "1870  audria@solarnegociosimobiliarios.com  (51) 99396-4414   \n",
       "1978   atendimento@altreiterimoveis.com.br  (54) 99171-2001   \n",
       "1982              denio@denioaquino.com.br   (62) 3943-2151   \n",
       "2023      contato@imobiliariagewehr.com.br  (51) 99540-1773   \n",
       "2030            imobiliariaimmig@gmail.com  (51) 98030-9520   \n",
       "2258                admjdias.imb@gmail.com  (16) 99795-5687   \n",
       "2297       cristina@jjsantosimoveis.com.br   (11) 2601-0244   \n",
       "2485              jcesarsmessias@gmail.com  (31) 99499-2597   \n",
       "2627             imob.admimoveis@gmail.com  (87) 99100-0069   \n",
       "2641         leandroteixeira01@outlook.com  (92) 98458-9435   \n",
       "2739         luciana@decisaoimoveis.com.br   (31) 3048-4455   \n",
       "2832        boletos@lucilenepereira.com.br   (67) 999244646   \n",
       "3039        mmvistorias@mmvistorias.com.br  (31) 98443-7621   \n",
       "3061        marcusmastropasqua@hotmail.com  (48) 99916-0998   \n",
       "3089              faitaitaparica@gmail.com  (71) 98506-9279   \n",
       "3140          manutencao.masotti@gmail.com  (19) 99824-9418   \n",
       "3162     contato@matsumotocorretora.com.br   (67) 999795062   \n",
       "3251               marceloomb100@gmail.com   (31) 988809973   \n",
       "3468                    contato@opx.imb.br  (47) 99105-0022   \n",
       "3563  comercial@paulodiascorretorhp.com.br  (47) 99666-5971   \n",
       "3682     financeiro@portosegimoveis.com.br    (19) 34758444   \n",
       "3707         contato@primeimoveispg.com.br  (13) 99197-7365   \n",
       "3710             financeiro@princal.com.br  (11) 97414-1587   \n",
       "3914                   sofia@revaps.com.br   (11) 4178-1108   \n",
       "3955                rmaraujo.mao@gmail.com  (92) 99181-2646   \n",
       "4083                 tekoserafim@gmail.com  (47) 99233-2255   \n",
       "4203               shirleyamd1@hotmail.com  (31) 99191-1698   \n",
       "4283             jean@soloimoveispa.com.br   (94) 991243609   \n",
       "4285       vistoria@solucaoimobiliaria.com   (33) 3276-8949   \n",
       "4505                 ugarafelipe@gmail.com  (31) 99282-5681   \n",
       "4568        vanessacamilotti2014@gmail.com  (21) 96720-2054   \n",
       "4610                    amanda@vigs.com.br    (11) 42493110   \n",
       "4693               vtlmvistorias@gmail.com  (31) 99409-8373   \n",
       "4713                vaguinho01@hotmail.com  (31) 99331-4823   \n",
       "4741             wn.nascimento87@gmail.com  (11) 95935-0035   \n",
       "4763                williamfms20@gmail.com   (11) 987745948   \n",
       "\n",
       "                CPF/CNPJ dtcadastro                 cidade  uf  qtdvistoria  \\\n",
       "4     30.809.995/0001-05 2022-02-05                Sorriso  MT           30   \n",
       "64    10.426.167/0001-72 2021-08-12              Brasília   DF           10   \n",
       "83        286.920.118-43 2022-03-31             São Paulo   SP           10   \n",
       "203   03.265.351/0001-12 2021-01-16            UBERLANDIA   MG           10   \n",
       "301       261.953.878-51 2021-08-23              Sao Paulo  SP           10   \n",
       "455   19.217.904/0001-00 2022-01-03                 Sumaré  SP           30   \n",
       "470       012.576.838-96 2020-06-08              São Paulo  SP           10   \n",
       "493   22.800.025/0001-02 2022-01-26  São Bernardo do Campo  SP           10   \n",
       "536   30.712.863/0001-52 2021-01-16         rio de janeiro  RJ           20   \n",
       "538   10.783.341/0001-34 2020-07-27                  Cotia  SP           10   \n",
       "552   26.475.689/0001-02 2022-02-16         Rio de Janeiro  RJ           30   \n",
       "569   72.218.993/0001-83 2020-08-18              Cascavel   PR           80   \n",
       "831   13.750.503/0001-26 2021-01-16              São Paulo  SP           10   \n",
       "1052  26.529.193/0001-66 2021-11-09                  Penha  SC            5   \n",
       "1100      320.575.968-00 2022-03-04               Caçapava  SP           20   \n",
       "1238  34.558.541/0001-51 2022-03-28                 Suzano  SP           10   \n",
       "1253  24.074.293/0001-10 2021-06-13  São José dos Pinhais   PR           10   \n",
       "1273      073.294.229-24 2020-12-03              Joinville  SC           30   \n",
       "1406      028.331.617-94 2022-02-20         Miguel Pereira  RJ           20   \n",
       "1410  08.531.281/0001-10 2022-03-05           PORTO ALEGRE  RS           10   \n",
       "1412  22.961.776/0001-00 2022-01-12               Campinas  SP           10   \n",
       "1490  09.243.976/0001-60 2021-11-01              São Paulo  SP           80   \n",
       "1650  43.530.495/0001-73 2022-03-17         Belo Horizonte  MG           10   \n",
       "1852  39.815.102/0001-09 2021-05-26               Sorriso   MT           10   \n",
       "1870  37.808.683/0001-18 2022-02-25           Sao Leopoldo  RS           10   \n",
       "1978  08.955.741/0001-38 2022-02-14                Gramado  RS           10   \n",
       "1982  16.926.967/0001-39 2021-10-04               ANAPOLIS  GO           20   \n",
       "2023  89.071.625/0001-58 2022-03-11                ESTRELA  RS           20   \n",
       "2030  44.270.107/0001-25 2022-01-04         Estância Velha  RS           30   \n",
       "2258  40.588.313/0001-27 2022-02-01            Jaboticabal  SP           10   \n",
       "2297  38.048.417/0001-05 2022-03-18              São Paulo  SP           10   \n",
       "2485      111.181.866-56 2022-02-03         Santa Barbara   MG           10   \n",
       "2627  27.765.039/0001-56 2021-01-22              PESQUEIRA  PE           10   \n",
       "2641      097.131.337-73 2021-12-10                 Manaus  AM           10   \n",
       "2739  14.624.228/0001-67 2021-01-15         Belo Horizonte  MG           10   \n",
       "2832  10.582.320/0001-50 2020-09-21          CAMPO GRANDE   MS           30   \n",
       "3039      044.243.406-51 2022-01-23                 Betim   MG           10   \n",
       "3061      080.737.379-65 2021-11-28              São José   SC           10   \n",
       "3089      105.015.095-34 2022-03-01               Salvador  BA           10   \n",
       "3140  09.429.078/0001-09 2022-03-03             Indaiatuba  SP           20   \n",
       "3162  11.349.494/0001-30 2020-07-08            TRES LAGOAS  MS           10   \n",
       "3251      003.400.946-99 2020-11-24   São Joaquim de Bicas  MG            5   \n",
       "3468  22.439.170/0001-00 2021-12-01     Balneário Piçarras  SC           30   \n",
       "3563  34.595.951/0001-72 2022-01-07     Balneário Camboriu  SC           10   \n",
       "3682  54.015.755/0001-99 2021-01-16              Americana  SP           10   \n",
       "3707  16.876.752/0001-50 2022-02-02           Praia Grande  SP           10   \n",
       "3710  60.859.550/0001-92 2021-12-15              São Paulo  SP           10   \n",
       "3914  06.871.712/0001-62 2022-03-16  SÃO BERNARDO DO CAMPO  SP           30   \n",
       "3955  36.039.111/0001-59 2021-01-30                 MANAUS  AM           10   \n",
       "4083      206.677.418-95 2022-01-04               Blumenau  SC           10   \n",
       "4203      073.246.306-85 2021-10-19     Ribeirão das Neves  MG           10   \n",
       "4283  13.123.513/0001-31 2020-06-22            Parauapebas  PA           10   \n",
       "4285  15.656.797/0001-57 2022-02-11   Governador Valadares  MG           10   \n",
       "4505  36.227.554/0001-73 2022-01-05         Belo Horizonte  MG           10   \n",
       "4568      111.947.727-14 2021-05-24         Rio de Janeiro  RJ           10   \n",
       "4610  25.176.783/0001-90 2021-01-16            Santo André  SP           10   \n",
       "4693  31.799.354/0001-71 2022-03-05                     BH  MG           30   \n",
       "4713  32.321.600/0001-48 2020-01-28                  BETIM  MG           20   \n",
       "4741  36.979.567/0001-07 2021-03-17              São Paulo  SP           10   \n",
       "4763      489.192.368-79 2020-07-09             São Paulo   SP           10   \n",
       "\n",
       "      qtdfoto  armazenamento situacao limiteteste  vencimento  valor  \\\n",
       "4      999999              5    Ativa         NaN         8.0  159.0   \n",
       "64     999999              1    Ativa         NaN        15.0  110.0   \n",
       "83     999999              1    Ativa         NaN         5.0  110.0   \n",
       "203    999999              1    Ativa         NaN        11.0  120.0   \n",
       "301    999999              1    Ativa         NaN         5.0  120.0   \n",
       "455    999999              5    Ativa         NaN        13.0  175.0   \n",
       "470    999999              1    Ativa         NaN        10.0  120.0   \n",
       "493    999999              1    Ativa         NaN        26.0  110.0   \n",
       "536    999999              3    Ativa         NaN        26.0  140.0   \n",
       "538    999999              1    Ativa         NaN         7.0  110.0   \n",
       "552    999999             15    Ativa         NaN         5.0  179.0   \n",
       "569    999999             20    Ativa         NaN         9.0  305.0   \n",
       "831    999999              1    Ativa         NaN        25.0  120.0   \n",
       "1052   999999              1    Ativa         NaN         6.0   89.0   \n",
       "1100   999999              3    Ativa         NaN         8.0  140.0   \n",
       "1238   999999              1    Ativa         NaN        26.0  120.0   \n",
       "1253   999999              1    Ativa         NaN        26.0  120.0   \n",
       "1273   999999              5    Ativa         NaN         5.0  159.0   \n",
       "1406   999999              1    Ativa         NaN         5.0  155.0   \n",
       "1410   999999              1    Ativa         NaN        26.0  120.0   \n",
       "1412   999999              1    Ativa         NaN         7.0  120.0   \n",
       "1490   999999             20    Ativa         NaN        12.0  305.0   \n",
       "1650   999999              1    Ativa         NaN         5.0  120.0   \n",
       "1852   999999              1    Ativa         NaN        20.0  120.0   \n",
       "1870   999999              1    Ativa         NaN        22.0  110.0   \n",
       "1978   999999              1    Ativa         NaN        18.0  110.0   \n",
       "1982   999999              3    Ativa         NaN        18.0  140.0   \n",
       "2023   999999              3    Ativa         NaN        18.0  155.0   \n",
       "2030   999999              5    Ativa         NaN         8.0  159.0   \n",
       "2258   999999              1    Ativa         NaN         5.0  120.0   \n",
       "2297   999999              1    Ativa         NaN        23.0  110.0   \n",
       "2485   999999              1    Ativa         NaN        10.0  120.0   \n",
       "2627   999999              1    Ativa         NaN        23.0   99.0   \n",
       "2641   999999              1    Ativa         NaN        16.0  110.0   \n",
       "2739   999999              1    Ativa         NaN        15.0  120.0   \n",
       "2832   999999             15    Ativa         NaN        24.0  188.9   \n",
       "3039   999999             26    Ativa         NaN        10.0  155.0   \n",
       "3061   999999              1    Ativa         NaN        14.0  120.0   \n",
       "3089   999999              1    Ativa         NaN         5.0  110.0   \n",
       "3140   999999              3    Ativa         NaN        17.0  155.0   \n",
       "3162   999999              1    Ativa         NaN        25.0  110.0   \n",
       "3251   999999              1    Ativa         NaN        24.0   79.0   \n",
       "3468   999999              5    Ativa         NaN        10.0  175.0   \n",
       "3563   999999              1    Ativa         NaN        21.0  120.0   \n",
       "3682   999999              1    Ativa         NaN        15.0  120.0   \n",
       "3707   999999              1    Ativa         NaN         5.0  120.0   \n",
       "3710   999999              1    Ativa         NaN        18.0  120.0   \n",
       "3914   999999              5    Ativa         NaN        19.0  159.0   \n",
       "3955   999999              1    Ativa         NaN        10.0  104.5   \n",
       "4083   999999              1    Ativa         NaN        11.0  120.0   \n",
       "4203   999999              1    Ativa         NaN        15.0  120.0   \n",
       "4283   999999              1    Ativa         NaN        24.0  120.0   \n",
       "4285   999999              1    Ativa         NaN        14.0  110.0   \n",
       "4505   999999              1    Ativa         NaN         8.0  120.0   \n",
       "4568   999999              1    Ativa         NaN        14.0  120.0   \n",
       "4610   999999              1    Ativa         NaN        15.0  110.0   \n",
       "4693   999999              5    Ativa         NaN        16.0  175.0   \n",
       "4713   999999              3    Ativa         NaN         5.0  155.0   \n",
       "4741   999999              1    Ativa         NaN        26.0  120.0   \n",
       "4763   999999             11    Ativa         NaN         5.0  140.0   \n",
       "\n",
       "      desconto  vistoriaadd   dtcompra dtcancelamento  \n",
       "4          NaN          3.5 2022-02-08            NaT  \n",
       "64        10.0          3.5 2022-02-02            NaT  \n",
       "83         NaN          3.5 2022-04-05            NaT  \n",
       "203        NaN          3.5 2022-01-11            NaT  \n",
       "301        NaN          3.5 2022-03-04            NaT  \n",
       "455        NaN          3.5 2022-01-13            NaT  \n",
       "470        NaN          3.5 2022-02-10            NaT  \n",
       "493        NaN          3.5 2022-01-29            NaT  \n",
       "536        NaN          3.5 2022-03-29            NaT  \n",
       "538       10.0          3.5 2022-03-07            NaT  \n",
       "552        NaN          3.5 2022-03-03            NaT  \n",
       "569        NaN          3.5 2022-03-09            NaT  \n",
       "831        NaN          3.5 2022-02-25            NaT  \n",
       "1052       NaN          3.5 2022-01-06            NaT  \n",
       "1100       NaN          3.5 2022-03-08            NaT  \n",
       "1238       NaN          3.5 2022-03-31            NaT  \n",
       "1253       NaN          3.5 2022-03-29            NaT  \n",
       "1273       NaN          3.5 2022-04-01            NaT  \n",
       "1406      50.0          3.5 2022-03-03            NaT  \n",
       "1410       NaN          3.5 2022-03-31            NaT  \n",
       "1412       NaN          3.5 2022-03-07            NaT  \n",
       "1490       NaN          3.5 2022-01-12            NaT  \n",
       "1650       NaN          3.5 2022-04-01            NaT  \n",
       "1852       NaN          3.5 2022-01-20            NaT  \n",
       "1870       NaN          3.5 2022-03-22            NaT  \n",
       "1978       NaN          3.5 2022-02-18            NaT  \n",
       "1982       NaN          3.5 2022-02-18            NaT  \n",
       "2023       NaN          3.5 2022-03-18            NaT  \n",
       "2030       NaN          3.5 2022-01-08            NaT  \n",
       "2258       NaN          3.5 2022-02-02            NaT  \n",
       "2297       NaN          3.5 2022-03-23            NaT  \n",
       "2485       NaN          3.5 2022-03-10            NaT  \n",
       "2627       NaN          3.5 2022-03-23            NaT  \n",
       "2641       NaN          3.5 2022-03-16            NaT  \n",
       "2739       NaN          3.5 2022-02-15            NaT  \n",
       "2832       NaN          3.5 2022-02-24            NaT  \n",
       "3039       NaN          3.5 2022-01-31            NaT  \n",
       "3061       NaN          3.5 2022-03-14            NaT  \n",
       "3089       NaN          3.5 2022-03-03            NaT  \n",
       "3140       NaN          3.5 2022-03-17            NaT  \n",
       "3162       NaN          3.5 2022-01-25            NaT  \n",
       "3251       NaN          3.5 2022-02-24            NaT  \n",
       "3468       NaN          3.5 2022-02-10            NaT  \n",
       "3563       NaN          3.5 2022-01-21            NaT  \n",
       "3682       NaN          3.5 2022-03-15            NaT  \n",
       "3707       NaN          3.5 2022-02-04            NaT  \n",
       "3710       NaN          3.5 2022-02-18            NaT  \n",
       "3914       NaN          3.5 2022-03-19            NaT  \n",
       "3955       NaN          3.5 2022-03-10            NaT  \n",
       "4083       NaN          3.5 2022-01-11            NaT  \n",
       "4203       NaN          3.5 2022-01-15            NaT  \n",
       "4283       NaN          3.5 2022-03-24            NaT  \n",
       "4285       NaN          3.5 2022-02-14            NaT  \n",
       "4505       NaN          3.5 2022-01-08            NaT  \n",
       "4568       NaN          3.5 2022-02-14            NaT  \n",
       "4610       NaN          3.5 2022-03-15            NaT  \n",
       "4693       NaN          3.5 2022-03-16            NaT  \n",
       "4713       NaN          3.5 2022-02-03            NaT  \n",
       "4741       NaN          3.5 2022-03-31            NaT  \n",
       "4763       NaN          3.5 2022-01-05            NaT  "
      ]
     },
     "execution_count": 113,
     "metadata": {},
     "output_type": "execute_result"
    }
   ],
   "source": [
    "df_emp_ativo = df_emp[(df_emp['situacao'] == 'Ativa') & (df_emp['dtcompra'] > '01/01/2022')]\n",
    "df_emp_ativo"
   ]
  },
  {
   "cell_type": "markdown",
   "id": "f30bdf19",
   "metadata": {},
   "source": [
    "Criando a columa Mês em cada DF"
   ]
  },
  {
   "cell_type": "code",
   "execution_count": 114,
   "id": "c3ed12b7",
   "metadata": {},
   "outputs": [],
   "source": [
    "df_emp_testando['mes'] = pd.DatetimeIndex(df_emp_testando['dtcadastro']).month\n",
    "# df_emp_gratuito['mes'] = pd.DatetimeIndex(df_emp_gratuito['dtcadastro']).month\n",
    "df_emp_ativo['mes'] = pd.DatetimeIndex(df_emp_ativo['dtcompra']).month"
   ]
  },
  {
   "cell_type": "markdown",
   "id": "78c5c136",
   "metadata": {},
   "source": [
    "# Convertendo o número do mês em string (Ex: 01 em Jan)"
   ]
  },
  {
   "cell_type": "code",
   "execution_count": 115,
   "id": "1e852a46",
   "metadata": {},
   "outputs": [],
   "source": [
    "# import calendar\n",
    "# result_gratis = []\n",
    "# for i in df_emp_gratuito['mes']:\n",
    "#     result_gratis.append(calendar.month_abbr[i])\n",
    "# df_emp_gratuito['month'] = result_gratis\n",
    "# print(result_gratis)"
   ]
  },
  {
   "cell_type": "code",
   "execution_count": 116,
   "id": "76db39dd",
   "metadata": {},
   "outputs": [
    {
     "name": "stdout",
     "output_type": "stream",
     "text": [
      "['Mar', 'Jan', 'Jan', 'Mar', 'Jan', 'Feb', 'Jan', 'Mar', 'Feb', 'Mar', 'Mar', 'Apr', 'Mar', 'Mar', 'Mar', 'Mar', 'Feb', 'Jan', 'Jan', 'Feb', 'Mar', 'Feb', 'Feb', 'Mar', 'Feb', 'Jan', 'Mar', 'Jan', 'Feb', 'Mar', 'Feb', 'Mar', 'Jan', 'Jan', 'Jan', 'Feb', 'Feb', 'Feb', 'Mar', 'Feb', 'Feb', 'Mar', 'Jan', 'Mar', 'Jan', 'Mar', 'Feb', 'Feb', 'Mar', 'Feb', 'Mar', 'Mar', 'Mar', 'Feb', 'Apr', 'Apr', 'Mar', 'Feb', 'Jan', 'Mar', 'Feb', 'Jan', 'Jan', 'Feb', 'Jan', 'Jan', 'Feb', 'Mar', 'Jan', 'Jan', 'Mar', 'Feb', 'Jan', 'Jan', 'Jan', 'Jan', 'Mar', 'Jan', 'Apr', 'Jan', 'Mar', 'Jan', 'Feb', 'Feb', 'Mar', 'Mar', 'Mar', 'Feb', 'Feb', 'Mar', 'Mar', 'Mar', 'Feb', 'Jan', 'Mar', 'Feb', 'Mar', 'Jan', 'Feb', 'Jan', 'Jan', 'Mar', 'Jan', 'Jan', 'Mar', 'Jan', 'Mar', 'Mar', 'Apr', 'Jan', 'Feb', 'Mar', 'Mar', 'Mar', 'Feb', 'Jan', 'Mar', 'Jan', 'Mar', 'Jan', 'Feb', 'Feb', 'Mar', 'Feb', 'Jan', 'Mar', 'Feb', 'Mar', 'Feb', 'Feb', 'Mar', 'Apr', 'Jan', 'Feb', 'Jan', 'Mar', 'Mar', 'Apr', 'Mar', 'Jan', 'Jan', 'Jan', 'Mar', 'Jan', 'Jan', 'Mar', 'Feb', 'Mar', 'Jan', 'Jan', 'Mar', 'Mar', 'Mar', 'Jan', 'Jan', 'Jan', 'Jan', 'Feb', 'Mar', 'Mar', 'Feb', 'Feb', 'Mar', 'Mar', 'Mar', 'Jan', 'Apr', 'Feb', 'Mar', 'Feb', 'Feb', 'Jan', 'Jan', 'Mar', 'Mar', 'Apr', 'Jan', 'Mar', 'Jan', 'Mar', 'Feb', 'Jan', 'Feb', 'Jan', 'Mar', 'Mar', 'Mar', 'Feb', 'Mar', 'Feb', 'Mar', 'Jan', 'Mar', 'Feb', 'Feb', 'Mar', 'Jan', 'Mar', 'Mar', 'Jan', 'Jan', 'Feb', 'Mar', 'Mar', 'Jan', 'Mar', 'Jan', 'Feb', 'Feb', 'Mar', 'Feb', 'Feb', 'Jan', 'Jan', 'Feb', 'Mar', 'Feb', 'Jan', 'Jan', 'Feb', 'Apr', 'Feb', 'Jan', 'Feb', 'Apr', 'Feb', 'Feb', 'Jan', 'Jan', 'Feb', 'Feb', 'Apr', 'Jan', 'Mar', 'Mar', 'Feb', 'Jan', 'Jan', 'Mar', 'Jan', 'Jan', 'Feb', 'Feb', 'Jan', 'Mar', 'Mar', 'Jan', 'Jan', 'Jan', 'Feb', 'Jan', 'Jan', 'Feb', 'Feb', 'Mar', 'Jan', 'Jan', 'Feb', 'Feb', 'Feb', 'Jan', 'Feb', 'Apr', 'Jan', 'Jan', 'Mar', 'Mar', 'Mar', 'Feb', 'Mar', 'Jan', 'Mar', 'Apr', 'Jan', 'Jan', 'Feb', 'Jan', 'Mar', 'Jan', 'Feb', 'Feb', 'Jan', 'Mar', 'Mar', 'Jan', 'Jan', 'Feb', 'Feb', 'Feb', 'Mar', 'Apr', 'Feb', 'Jan', 'Jan', 'Jan', 'Jan', 'Apr', 'Jan', 'Mar', 'Feb', 'Mar', 'Mar', 'Mar', 'Mar', 'Mar', 'Mar', 'Mar', 'Jan', 'Jan', 'Jan', 'Mar', 'Mar', 'Apr', 'Mar', 'Mar', 'Jan', 'Jan', 'Feb', 'Mar', 'Apr', 'Mar', 'Feb', 'Mar', 'Jan', 'Mar', 'Mar', 'Feb', 'Jan', 'Mar', 'Mar', 'Mar', 'Feb', 'Mar', 'Mar', 'Jan', 'Mar', 'Feb', 'Feb', 'Jan', 'Feb', 'Jan', 'Apr', 'Mar', 'Mar', 'Apr', 'Mar', 'Jan', 'Mar', 'Mar', 'Feb', 'Mar', 'Mar', 'Feb', 'Feb', 'Mar', 'Mar', 'Feb', 'Jan', 'Jan', 'Jan', 'Mar', 'Jan', 'Jan', 'Jan', 'Feb', 'Jan', 'Jan', 'Jan', 'Feb', 'Jan', 'Mar', 'Feb', 'Apr', 'Mar', 'Feb', 'Jan', 'Jan', 'Mar', 'Jan', 'Mar', 'Apr', 'Mar', 'Apr', 'Jan', 'Mar', 'Feb', 'Jan', 'Mar', 'Mar', 'Mar', 'Feb', 'Feb', 'Jan', 'Mar', 'Jan', 'Feb', 'Apr', 'Mar', 'Feb', 'Jan', 'Mar', 'Feb', 'Jan', 'Jan', 'Mar', 'Jan', 'Jan', 'Feb', 'Mar', 'Jan', 'Feb', 'Mar', 'Mar', 'Apr', 'Feb', 'Jan', 'Jan', 'Feb', 'Feb', 'Mar', 'Feb', 'Apr', 'Feb', 'Mar', 'Feb', 'Mar', 'Mar', 'Jan', 'Mar', 'Mar', 'Jan', 'Mar', 'Jan', 'Jan', 'Feb', 'Jan', 'Mar', 'Feb', 'Jan', 'Feb', 'Mar', 'Jan', 'Feb', 'Mar', 'Mar', 'Mar', 'Mar', 'Feb', 'Mar', 'Feb', 'Mar', 'Mar', 'Feb', 'Jan', 'Feb', 'Mar', 'Jan', 'Mar', 'Mar', 'Feb', 'Jan', 'Apr', 'Jan', 'Feb', 'Jan', 'Jan', 'Mar']\n"
     ]
    }
   ],
   "source": [
    "import calendar\n",
    "result_test = []\n",
    "for i in df_emp_testando['mes']:\n",
    "    result_test.append(calendar.month_abbr[i])\n",
    "df_emp_testando['month'] = result_test\n",
    "print(result_test)"
   ]
  },
  {
   "cell_type": "code",
   "execution_count": 117,
   "id": "42ac6eaf",
   "metadata": {},
   "outputs": [
    {
     "name": "stdout",
     "output_type": "stream",
     "text": [
      "['Feb', 'Feb', 'Apr', 'Jan', 'Mar', 'Jan', 'Feb', 'Jan', 'Mar', 'Mar', 'Mar', 'Mar', 'Feb', 'Jan', 'Mar', 'Mar', 'Mar', 'Apr', 'Mar', 'Mar', 'Mar', 'Jan', 'Apr', 'Jan', 'Mar', 'Feb', 'Feb', 'Mar', 'Jan', 'Feb', 'Mar', 'Mar', 'Mar', 'Mar', 'Feb', 'Feb', 'Jan', 'Mar', 'Mar', 'Mar', 'Jan', 'Feb', 'Feb', 'Jan', 'Mar', 'Feb', 'Feb', 'Mar', 'Mar', 'Jan', 'Jan', 'Mar', 'Feb', 'Jan', 'Feb', 'Mar', 'Mar', 'Feb', 'Mar', 'Jan']\n"
     ]
    }
   ],
   "source": [
    "import calendar\n",
    "result_ativo = []\n",
    "for i in df_emp_ativo['mes']:\n",
    "    result_ativo.append(calendar.month_abbr[i])\n",
    "df_emp_ativo['month'] = result_ativo\n",
    "print(result_ativo)"
   ]
  },
  {
   "cell_type": "code",
   "execution_count": 118,
   "id": "6b1162b1",
   "metadata": {},
   "outputs": [],
   "source": [
    "#apagando coluna de mês antiga\n",
    "df_emp_testando.drop('mes', axis=1, inplace=True)\n",
    "# df_emp_gratuito.drop('mes', axis=1, inplace=True)\n",
    "df_emp_ativo.drop('mes', axis=1, inplace=True)"
   ]
  },
  {
   "cell_type": "markdown",
   "id": "51cd2078",
   "metadata": {},
   "source": [
    "# Deixando todos os dados na ordem de mês corretamente"
   ]
  },
  {
   "cell_type": "code",
   "execution_count": 119,
   "id": "19fd2c5f",
   "metadata": {},
   "outputs": [
    {
     "data": {
      "text/html": [
       "<div>\n",
       "<style scoped>\n",
       "    .dataframe tbody tr th:only-of-type {\n",
       "        vertical-align: middle;\n",
       "    }\n",
       "\n",
       "    .dataframe tbody tr th {\n",
       "        vertical-align: top;\n",
       "    }\n",
       "\n",
       "    .dataframe thead th {\n",
       "        text-align: right;\n",
       "    }\n",
       "</style>\n",
       "<table border=\"1\" class=\"dataframe\">\n",
       "  <thead>\n",
       "    <tr style=\"text-align: right;\">\n",
       "      <th></th>\n",
       "      <th>month</th>\n",
       "      <th>Total</th>\n",
       "    </tr>\n",
       "  </thead>\n",
       "  <tbody>\n",
       "    <tr>\n",
       "      <th>0</th>\n",
       "      <td>Apr</td>\n",
       "      <td>27</td>\n",
       "    </tr>\n",
       "    <tr>\n",
       "      <th>1</th>\n",
       "      <td>Feb</td>\n",
       "      <td>124</td>\n",
       "    </tr>\n",
       "    <tr>\n",
       "      <th>2</th>\n",
       "      <td>Jan</td>\n",
       "      <td>150</td>\n",
       "    </tr>\n",
       "    <tr>\n",
       "      <th>3</th>\n",
       "      <td>Mar</td>\n",
       "      <td>166</td>\n",
       "    </tr>\n",
       "  </tbody>\n",
       "</table>\n",
       "</div>"
      ],
      "text/plain": [
       "  month  Total\n",
       "0   Apr     27\n",
       "1   Feb    124\n",
       "2   Jan    150\n",
       "3   Mar    166"
      ]
     },
     "execution_count": 119,
     "metadata": {},
     "output_type": "execute_result"
    }
   ],
   "source": [
    "df_emp_testando_gr = df_emp_testando.groupby(['month']).size().reset_index(name='Total')\n",
    "df_emp_testando_gr"
   ]
  },
  {
   "cell_type": "code",
   "execution_count": 120,
   "id": "b25ebae9",
   "metadata": {},
   "outputs": [
    {
     "data": {
      "text/html": [
       "<div>\n",
       "<style scoped>\n",
       "    .dataframe tbody tr th:only-of-type {\n",
       "        vertical-align: middle;\n",
       "    }\n",
       "\n",
       "    .dataframe tbody tr th {\n",
       "        vertical-align: top;\n",
       "    }\n",
       "\n",
       "    .dataframe thead th {\n",
       "        text-align: right;\n",
       "    }\n",
       "</style>\n",
       "<table border=\"1\" class=\"dataframe\">\n",
       "  <thead>\n",
       "    <tr style=\"text-align: right;\">\n",
       "      <th></th>\n",
       "      <th>month</th>\n",
       "      <th>Total</th>\n",
       "    </tr>\n",
       "  </thead>\n",
       "  <tbody>\n",
       "    <tr>\n",
       "      <th>0</th>\n",
       "      <td>Apr</td>\n",
       "      <td>3</td>\n",
       "    </tr>\n",
       "    <tr>\n",
       "      <th>1</th>\n",
       "      <td>Feb</td>\n",
       "      <td>16</td>\n",
       "    </tr>\n",
       "    <tr>\n",
       "      <th>2</th>\n",
       "      <td>Jan</td>\n",
       "      <td>14</td>\n",
       "    </tr>\n",
       "    <tr>\n",
       "      <th>3</th>\n",
       "      <td>Mar</td>\n",
       "      <td>27</td>\n",
       "    </tr>\n",
       "  </tbody>\n",
       "</table>\n",
       "</div>"
      ],
      "text/plain": [
       "  month  Total\n",
       "0   Apr      3\n",
       "1   Feb     16\n",
       "2   Jan     14\n",
       "3   Mar     27"
      ]
     },
     "execution_count": 120,
     "metadata": {},
     "output_type": "execute_result"
    }
   ],
   "source": [
    "df_emp_ativo_gr = df_emp_ativo.groupby(['month']).size().reset_index(name='Total')\n",
    "df_emp_ativo_gr"
   ]
  },
  {
   "cell_type": "code",
   "execution_count": 121,
   "id": "370139e6",
   "metadata": {},
   "outputs": [
    {
     "data": {
      "text/html": [
       "<div>\n",
       "<style scoped>\n",
       "    .dataframe tbody tr th:only-of-type {\n",
       "        vertical-align: middle;\n",
       "    }\n",
       "\n",
       "    .dataframe tbody tr th {\n",
       "        vertical-align: top;\n",
       "    }\n",
       "\n",
       "    .dataframe thead th {\n",
       "        text-align: right;\n",
       "    }\n",
       "</style>\n",
       "<table border=\"1\" class=\"dataframe\">\n",
       "  <thead>\n",
       "    <tr style=\"text-align: right;\">\n",
       "      <th></th>\n",
       "      <th>month</th>\n",
       "      <th>Total</th>\n",
       "    </tr>\n",
       "  </thead>\n",
       "  <tbody>\n",
       "    <tr>\n",
       "      <th>109</th>\n",
       "      <td>jan</td>\n",
       "      <td>1.114</td>\n",
       "    </tr>\n",
       "    <tr>\n",
       "      <th>110</th>\n",
       "      <td>fev</td>\n",
       "      <td>1.044</td>\n",
       "    </tr>\n",
       "    <tr>\n",
       "      <th>111</th>\n",
       "      <td>mar</td>\n",
       "      <td>594.000</td>\n",
       "    </tr>\n",
       "  </tbody>\n",
       "</table>\n",
       "</div>"
      ],
      "text/plain": [
       "    month    Total\n",
       "109   jan    1.114\n",
       "110   fev    1.044\n",
       "111   mar  594.000"
      ]
     },
     "execution_count": 121,
     "metadata": {},
     "output_type": "execute_result"
    }
   ],
   "source": [
    "df"
   ]
  },
  {
   "cell_type": "code",
   "execution_count": 122,
   "id": "12546e99",
   "metadata": {},
   "outputs": [
    {
     "data": {
      "text/html": [
       "<div>\n",
       "<style scoped>\n",
       "    .dataframe tbody tr th:only-of-type {\n",
       "        vertical-align: middle;\n",
       "    }\n",
       "\n",
       "    .dataframe tbody tr th {\n",
       "        vertical-align: top;\n",
       "    }\n",
       "\n",
       "    .dataframe thead th {\n",
       "        text-align: right;\n",
       "    }\n",
       "</style>\n",
       "<table border=\"1\" class=\"dataframe\">\n",
       "  <thead>\n",
       "    <tr style=\"text-align: right;\">\n",
       "      <th></th>\n",
       "      <th>month</th>\n",
       "      <th>Total</th>\n",
       "    </tr>\n",
       "  </thead>\n",
       "  <tbody>\n",
       "    <tr>\n",
       "      <th>2</th>\n",
       "      <td>Jan</td>\n",
       "      <td>150</td>\n",
       "    </tr>\n",
       "    <tr>\n",
       "      <th>1</th>\n",
       "      <td>Feb</td>\n",
       "      <td>124</td>\n",
       "    </tr>\n",
       "    <tr>\n",
       "      <th>3</th>\n",
       "      <td>Mar</td>\n",
       "      <td>166</td>\n",
       "    </tr>\n",
       "    <tr>\n",
       "      <th>0</th>\n",
       "      <td>NaN</td>\n",
       "      <td>27</td>\n",
       "    </tr>\n",
       "  </tbody>\n",
       "</table>\n",
       "</div>"
      ],
      "text/plain": [
       "  month  Total\n",
       "2   Jan    150\n",
       "1   Feb    124\n",
       "3   Mar    166\n",
       "0   NaN     27"
      ]
     },
     "execution_count": 122,
     "metadata": {},
     "output_type": "execute_result"
    }
   ],
   "source": [
    "#ordenando os meses corretamente usando Categorical\n",
    "months = [\"Jan\",\"Feb\", \"Mar\"]\n",
    "df_emp_testando_gr['month'] = pd.Categorical(df_emp_testando_gr['month'], categories=months, ordered=True)\n",
    "df_emp_testando_gr.sort_values(by='month', ascending = True, inplace=True)\n",
    "\n",
    "df_emp_testando_gr"
   ]
  },
  {
   "cell_type": "code",
   "execution_count": 123,
   "id": "f9440b2e",
   "metadata": {},
   "outputs": [
    {
     "name": "stdout",
     "output_type": "stream",
     "text": [
      "596.158\n"
     ]
    }
   ],
   "source": [
    "print(df['Total'].sum())"
   ]
  },
  {
   "cell_type": "markdown",
   "id": "b353d54f",
   "metadata": {},
   "source": [
    "# Preparando DF para o funil"
   ]
  },
  {
   "cell_type": "code",
   "execution_count": 124,
   "id": "a9207e68",
   "metadata": {},
   "outputs": [],
   "source": [
    "data_table = [['etapas', 'Values'],\n",
    "               ['leads', df['Total'].sum()],\n",
    "               ['testando', df_emp_testando_gr['Total'].sum()],\n",
    "               ['assinado', df_emp_ativo_gr['Total'].sum()]]"
   ]
  },
  {
   "cell_type": "code",
   "execution_count": 125,
   "id": "b9b9d883",
   "metadata": {},
   "outputs": [
    {
     "data": {
      "text/plain": [
       "[['etapas', 'Values'], ['leads', 596.158], ['testando', 467], ['assinado', 60]]"
      ]
     },
     "execution_count": 125,
     "metadata": {},
     "output_type": "execute_result"
    }
   ],
   "source": [
    "#verificando tabela criada\n",
    "data_table"
   ]
  },
  {
   "cell_type": "code",
   "execution_count": 126,
   "id": "1c0cc0e4",
   "metadata": {},
   "outputs": [
    {
     "data": {
      "application/vnd.plotly.v1+json": {
       "config": {
        "linkText": "Export to plot.ly",
        "plotlyServerURL": "https://plot.ly",
        "showLink": false
       },
       "data": [
        {
         "colorscale": [
          [
           0,
           "#00083e"
          ],
          [
           0.5,
           "#ededee"
          ],
          [
           1,
           "#ffffff"
          ]
         ],
         "hoverinfo": "none",
         "opacity": 0.75,
         "showscale": false,
         "type": "heatmap",
         "z": [
          [
           0,
           0
          ],
          [
           0.5,
           0.5
          ],
          [
           1,
           1
          ],
          [
           0.5,
           0.5
          ]
         ]
        }
       ],
       "layout": {
        "annotations": [
         {
          "align": "left",
          "font": {
           "color": "#ffffff"
          },
          "showarrow": false,
          "text": "<b>etapas</b>",
          "x": -0.45,
          "xanchor": "left",
          "xref": "x",
          "y": 0,
          "yref": "y"
         },
         {
          "align": "left",
          "font": {
           "color": "#ffffff"
          },
          "showarrow": false,
          "text": "<b>Values</b>",
          "x": 0.55,
          "xanchor": "left",
          "xref": "x",
          "y": 0,
          "yref": "y"
         },
         {
          "align": "left",
          "font": {
           "color": "#000000"
          },
          "showarrow": false,
          "text": "leads",
          "x": -0.45,
          "xanchor": "left",
          "xref": "x",
          "y": 1,
          "yref": "y"
         },
         {
          "align": "left",
          "font": {
           "color": "#000000"
          },
          "showarrow": false,
          "text": "596.158",
          "x": 0.55,
          "xanchor": "left",
          "xref": "x",
          "y": 1,
          "yref": "y"
         },
         {
          "align": "left",
          "font": {
           "color": "#000000"
          },
          "showarrow": false,
          "text": "testando",
          "x": -0.45,
          "xanchor": "left",
          "xref": "x",
          "y": 2,
          "yref": "y"
         },
         {
          "align": "left",
          "font": {
           "color": "#000000"
          },
          "showarrow": false,
          "text": "467",
          "x": 0.55,
          "xanchor": "left",
          "xref": "x",
          "y": 2,
          "yref": "y"
         },
         {
          "align": "left",
          "font": {
           "color": "#000000"
          },
          "showarrow": false,
          "text": "assinado",
          "x": -0.45,
          "xanchor": "left",
          "xref": "x",
          "y": 3,
          "yref": "y"
         },
         {
          "align": "left",
          "font": {
           "color": "#000000"
          },
          "showarrow": false,
          "text": "60",
          "x": 0.55,
          "xanchor": "left",
          "xref": "x",
          "y": 3,
          "yref": "y"
         }
        ],
        "height": 170,
        "margin": {
         "b": 0,
         "l": 0,
         "r": 0,
         "t": 0
        },
        "template": {
         "data": {
          "bar": [
           {
            "error_x": {
             "color": "#2a3f5f"
            },
            "error_y": {
             "color": "#2a3f5f"
            },
            "marker": {
             "line": {
              "color": "#E5ECF6",
              "width": 0.5
             },
             "pattern": {
              "fillmode": "overlay",
              "size": 10,
              "solidity": 0.2
             }
            },
            "type": "bar"
           }
          ],
          "barpolar": [
           {
            "marker": {
             "line": {
              "color": "#E5ECF6",
              "width": 0.5
             },
             "pattern": {
              "fillmode": "overlay",
              "size": 10,
              "solidity": 0.2
             }
            },
            "type": "barpolar"
           }
          ],
          "carpet": [
           {
            "aaxis": {
             "endlinecolor": "#2a3f5f",
             "gridcolor": "white",
             "linecolor": "white",
             "minorgridcolor": "white",
             "startlinecolor": "#2a3f5f"
            },
            "baxis": {
             "endlinecolor": "#2a3f5f",
             "gridcolor": "white",
             "linecolor": "white",
             "minorgridcolor": "white",
             "startlinecolor": "#2a3f5f"
            },
            "type": "carpet"
           }
          ],
          "choropleth": [
           {
            "colorbar": {
             "outlinewidth": 0,
             "ticks": ""
            },
            "type": "choropleth"
           }
          ],
          "contour": [
           {
            "colorbar": {
             "outlinewidth": 0,
             "ticks": ""
            },
            "colorscale": [
             [
              0,
              "#0d0887"
             ],
             [
              0.1111111111111111,
              "#46039f"
             ],
             [
              0.2222222222222222,
              "#7201a8"
             ],
             [
              0.3333333333333333,
              "#9c179e"
             ],
             [
              0.4444444444444444,
              "#bd3786"
             ],
             [
              0.5555555555555556,
              "#d8576b"
             ],
             [
              0.6666666666666666,
              "#ed7953"
             ],
             [
              0.7777777777777778,
              "#fb9f3a"
             ],
             [
              0.8888888888888888,
              "#fdca26"
             ],
             [
              1,
              "#f0f921"
             ]
            ],
            "type": "contour"
           }
          ],
          "contourcarpet": [
           {
            "colorbar": {
             "outlinewidth": 0,
             "ticks": ""
            },
            "type": "contourcarpet"
           }
          ],
          "heatmap": [
           {
            "colorbar": {
             "outlinewidth": 0,
             "ticks": ""
            },
            "colorscale": [
             [
              0,
              "#0d0887"
             ],
             [
              0.1111111111111111,
              "#46039f"
             ],
             [
              0.2222222222222222,
              "#7201a8"
             ],
             [
              0.3333333333333333,
              "#9c179e"
             ],
             [
              0.4444444444444444,
              "#bd3786"
             ],
             [
              0.5555555555555556,
              "#d8576b"
             ],
             [
              0.6666666666666666,
              "#ed7953"
             ],
             [
              0.7777777777777778,
              "#fb9f3a"
             ],
             [
              0.8888888888888888,
              "#fdca26"
             ],
             [
              1,
              "#f0f921"
             ]
            ],
            "type": "heatmap"
           }
          ],
          "heatmapgl": [
           {
            "colorbar": {
             "outlinewidth": 0,
             "ticks": ""
            },
            "colorscale": [
             [
              0,
              "#0d0887"
             ],
             [
              0.1111111111111111,
              "#46039f"
             ],
             [
              0.2222222222222222,
              "#7201a8"
             ],
             [
              0.3333333333333333,
              "#9c179e"
             ],
             [
              0.4444444444444444,
              "#bd3786"
             ],
             [
              0.5555555555555556,
              "#d8576b"
             ],
             [
              0.6666666666666666,
              "#ed7953"
             ],
             [
              0.7777777777777778,
              "#fb9f3a"
             ],
             [
              0.8888888888888888,
              "#fdca26"
             ],
             [
              1,
              "#f0f921"
             ]
            ],
            "type": "heatmapgl"
           }
          ],
          "histogram": [
           {
            "marker": {
             "pattern": {
              "fillmode": "overlay",
              "size": 10,
              "solidity": 0.2
             }
            },
            "type": "histogram"
           }
          ],
          "histogram2d": [
           {
            "colorbar": {
             "outlinewidth": 0,
             "ticks": ""
            },
            "colorscale": [
             [
              0,
              "#0d0887"
             ],
             [
              0.1111111111111111,
              "#46039f"
             ],
             [
              0.2222222222222222,
              "#7201a8"
             ],
             [
              0.3333333333333333,
              "#9c179e"
             ],
             [
              0.4444444444444444,
              "#bd3786"
             ],
             [
              0.5555555555555556,
              "#d8576b"
             ],
             [
              0.6666666666666666,
              "#ed7953"
             ],
             [
              0.7777777777777778,
              "#fb9f3a"
             ],
             [
              0.8888888888888888,
              "#fdca26"
             ],
             [
              1,
              "#f0f921"
             ]
            ],
            "type": "histogram2d"
           }
          ],
          "histogram2dcontour": [
           {
            "colorbar": {
             "outlinewidth": 0,
             "ticks": ""
            },
            "colorscale": [
             [
              0,
              "#0d0887"
             ],
             [
              0.1111111111111111,
              "#46039f"
             ],
             [
              0.2222222222222222,
              "#7201a8"
             ],
             [
              0.3333333333333333,
              "#9c179e"
             ],
             [
              0.4444444444444444,
              "#bd3786"
             ],
             [
              0.5555555555555556,
              "#d8576b"
             ],
             [
              0.6666666666666666,
              "#ed7953"
             ],
             [
              0.7777777777777778,
              "#fb9f3a"
             ],
             [
              0.8888888888888888,
              "#fdca26"
             ],
             [
              1,
              "#f0f921"
             ]
            ],
            "type": "histogram2dcontour"
           }
          ],
          "mesh3d": [
           {
            "colorbar": {
             "outlinewidth": 0,
             "ticks": ""
            },
            "type": "mesh3d"
           }
          ],
          "parcoords": [
           {
            "line": {
             "colorbar": {
              "outlinewidth": 0,
              "ticks": ""
             }
            },
            "type": "parcoords"
           }
          ],
          "pie": [
           {
            "automargin": true,
            "type": "pie"
           }
          ],
          "scatter": [
           {
            "marker": {
             "colorbar": {
              "outlinewidth": 0,
              "ticks": ""
             }
            },
            "type": "scatter"
           }
          ],
          "scatter3d": [
           {
            "line": {
             "colorbar": {
              "outlinewidth": 0,
              "ticks": ""
             }
            },
            "marker": {
             "colorbar": {
              "outlinewidth": 0,
              "ticks": ""
             }
            },
            "type": "scatter3d"
           }
          ],
          "scattercarpet": [
           {
            "marker": {
             "colorbar": {
              "outlinewidth": 0,
              "ticks": ""
             }
            },
            "type": "scattercarpet"
           }
          ],
          "scattergeo": [
           {
            "marker": {
             "colorbar": {
              "outlinewidth": 0,
              "ticks": ""
             }
            },
            "type": "scattergeo"
           }
          ],
          "scattergl": [
           {
            "marker": {
             "colorbar": {
              "outlinewidth": 0,
              "ticks": ""
             }
            },
            "type": "scattergl"
           }
          ],
          "scattermapbox": [
           {
            "marker": {
             "colorbar": {
              "outlinewidth": 0,
              "ticks": ""
             }
            },
            "type": "scattermapbox"
           }
          ],
          "scatterpolar": [
           {
            "marker": {
             "colorbar": {
              "outlinewidth": 0,
              "ticks": ""
             }
            },
            "type": "scatterpolar"
           }
          ],
          "scatterpolargl": [
           {
            "marker": {
             "colorbar": {
              "outlinewidth": 0,
              "ticks": ""
             }
            },
            "type": "scatterpolargl"
           }
          ],
          "scatterternary": [
           {
            "marker": {
             "colorbar": {
              "outlinewidth": 0,
              "ticks": ""
             }
            },
            "type": "scatterternary"
           }
          ],
          "surface": [
           {
            "colorbar": {
             "outlinewidth": 0,
             "ticks": ""
            },
            "colorscale": [
             [
              0,
              "#0d0887"
             ],
             [
              0.1111111111111111,
              "#46039f"
             ],
             [
              0.2222222222222222,
              "#7201a8"
             ],
             [
              0.3333333333333333,
              "#9c179e"
             ],
             [
              0.4444444444444444,
              "#bd3786"
             ],
             [
              0.5555555555555556,
              "#d8576b"
             ],
             [
              0.6666666666666666,
              "#ed7953"
             ],
             [
              0.7777777777777778,
              "#fb9f3a"
             ],
             [
              0.8888888888888888,
              "#fdca26"
             ],
             [
              1,
              "#f0f921"
             ]
            ],
            "type": "surface"
           }
          ],
          "table": [
           {
            "cells": {
             "fill": {
              "color": "#EBF0F8"
             },
             "line": {
              "color": "white"
             }
            },
            "header": {
             "fill": {
              "color": "#C8D4E3"
             },
             "line": {
              "color": "white"
             }
            },
            "type": "table"
           }
          ]
         },
         "layout": {
          "annotationdefaults": {
           "arrowcolor": "#2a3f5f",
           "arrowhead": 0,
           "arrowwidth": 1
          },
          "autotypenumbers": "strict",
          "coloraxis": {
           "colorbar": {
            "outlinewidth": 0,
            "ticks": ""
           }
          },
          "colorscale": {
           "diverging": [
            [
             0,
             "#8e0152"
            ],
            [
             0.1,
             "#c51b7d"
            ],
            [
             0.2,
             "#de77ae"
            ],
            [
             0.3,
             "#f1b6da"
            ],
            [
             0.4,
             "#fde0ef"
            ],
            [
             0.5,
             "#f7f7f7"
            ],
            [
             0.6,
             "#e6f5d0"
            ],
            [
             0.7,
             "#b8e186"
            ],
            [
             0.8,
             "#7fbc41"
            ],
            [
             0.9,
             "#4d9221"
            ],
            [
             1,
             "#276419"
            ]
           ],
           "sequential": [
            [
             0,
             "#0d0887"
            ],
            [
             0.1111111111111111,
             "#46039f"
            ],
            [
             0.2222222222222222,
             "#7201a8"
            ],
            [
             0.3333333333333333,
             "#9c179e"
            ],
            [
             0.4444444444444444,
             "#bd3786"
            ],
            [
             0.5555555555555556,
             "#d8576b"
            ],
            [
             0.6666666666666666,
             "#ed7953"
            ],
            [
             0.7777777777777778,
             "#fb9f3a"
            ],
            [
             0.8888888888888888,
             "#fdca26"
            ],
            [
             1,
             "#f0f921"
            ]
           ],
           "sequentialminus": [
            [
             0,
             "#0d0887"
            ],
            [
             0.1111111111111111,
             "#46039f"
            ],
            [
             0.2222222222222222,
             "#7201a8"
            ],
            [
             0.3333333333333333,
             "#9c179e"
            ],
            [
             0.4444444444444444,
             "#bd3786"
            ],
            [
             0.5555555555555556,
             "#d8576b"
            ],
            [
             0.6666666666666666,
             "#ed7953"
            ],
            [
             0.7777777777777778,
             "#fb9f3a"
            ],
            [
             0.8888888888888888,
             "#fdca26"
            ],
            [
             1,
             "#f0f921"
            ]
           ]
          },
          "colorway": [
           "#636efa",
           "#EF553B",
           "#00cc96",
           "#ab63fa",
           "#FFA15A",
           "#19d3f3",
           "#FF6692",
           "#B6E880",
           "#FF97FF",
           "#FECB52"
          ],
          "font": {
           "color": "#2a3f5f"
          },
          "geo": {
           "bgcolor": "white",
           "lakecolor": "white",
           "landcolor": "#E5ECF6",
           "showlakes": true,
           "showland": true,
           "subunitcolor": "white"
          },
          "hoverlabel": {
           "align": "left"
          },
          "hovermode": "closest",
          "mapbox": {
           "style": "light"
          },
          "paper_bgcolor": "white",
          "plot_bgcolor": "#E5ECF6",
          "polar": {
           "angularaxis": {
            "gridcolor": "white",
            "linecolor": "white",
            "ticks": ""
           },
           "bgcolor": "#E5ECF6",
           "radialaxis": {
            "gridcolor": "white",
            "linecolor": "white",
            "ticks": ""
           }
          },
          "scene": {
           "xaxis": {
            "backgroundcolor": "#E5ECF6",
            "gridcolor": "white",
            "gridwidth": 2,
            "linecolor": "white",
            "showbackground": true,
            "ticks": "",
            "zerolinecolor": "white"
           },
           "yaxis": {
            "backgroundcolor": "#E5ECF6",
            "gridcolor": "white",
            "gridwidth": 2,
            "linecolor": "white",
            "showbackground": true,
            "ticks": "",
            "zerolinecolor": "white"
           },
           "zaxis": {
            "backgroundcolor": "#E5ECF6",
            "gridcolor": "white",
            "gridwidth": 2,
            "linecolor": "white",
            "showbackground": true,
            "ticks": "",
            "zerolinecolor": "white"
           }
          },
          "shapedefaults": {
           "line": {
            "color": "#2a3f5f"
           }
          },
          "ternary": {
           "aaxis": {
            "gridcolor": "white",
            "linecolor": "white",
            "ticks": ""
           },
           "baxis": {
            "gridcolor": "white",
            "linecolor": "white",
            "ticks": ""
           },
           "bgcolor": "#E5ECF6",
           "caxis": {
            "gridcolor": "white",
            "linecolor": "white",
            "ticks": ""
           }
          },
          "title": {
           "x": 0.05
          },
          "xaxis": {
           "automargin": true,
           "gridcolor": "white",
           "linecolor": "white",
           "ticks": "",
           "title": {
            "standoff": 15
           },
           "zerolinecolor": "white",
           "zerolinewidth": 2
          },
          "yaxis": {
           "automargin": true,
           "gridcolor": "white",
           "linecolor": "white",
           "ticks": "",
           "title": {
            "standoff": 15
           },
           "zerolinecolor": "white",
           "zerolinewidth": 2
          }
         }
        },
        "xaxis": {
         "dtick": 1,
         "gridwidth": 2,
         "showticklabels": false,
         "tick0": -0.5,
         "ticks": "",
         "zeroline": false
        },
        "yaxis": {
         "autorange": "reversed",
         "dtick": 1,
         "gridwidth": 2,
         "showticklabels": false,
         "tick0": 0.5,
         "ticks": "",
         "zeroline": false
        }
       }
      },
      "text/html": [
       "<div>                            <div id=\"07c76efb-a5ef-4120-825b-0b79908aa597\" class=\"plotly-graph-div\" style=\"height:170px; width:100%;\"></div>            <script type=\"text/javascript\">                require([\"plotly\"], function(Plotly) {                    window.PLOTLYENV=window.PLOTLYENV || {};                                    if (document.getElementById(\"07c76efb-a5ef-4120-825b-0b79908aa597\")) {                    Plotly.newPlot(                        \"07c76efb-a5ef-4120-825b-0b79908aa597\",                        [{\"colorscale\":[[0,\"#00083e\"],[0.5,\"#ededee\"],[1,\"#ffffff\"]],\"hoverinfo\":\"none\",\"opacity\":0.75,\"showscale\":false,\"z\":[[0,0],[0.5,0.5],[1,1],[0.5,0.5]],\"type\":\"heatmap\"}],                        {\"annotations\":[{\"align\":\"left\",\"font\":{\"color\":\"#ffffff\"},\"showarrow\":false,\"text\":\"<b>etapas</b>\",\"x\":-0.45,\"xanchor\":\"left\",\"xref\":\"x\",\"y\":0,\"yref\":\"y\"},{\"align\":\"left\",\"font\":{\"color\":\"#ffffff\"},\"showarrow\":false,\"text\":\"<b>Values</b>\",\"x\":0.55,\"xanchor\":\"left\",\"xref\":\"x\",\"y\":0,\"yref\":\"y\"},{\"align\":\"left\",\"font\":{\"color\":\"#000000\"},\"showarrow\":false,\"text\":\"leads\",\"x\":-0.45,\"xanchor\":\"left\",\"xref\":\"x\",\"y\":1,\"yref\":\"y\"},{\"align\":\"left\",\"font\":{\"color\":\"#000000\"},\"showarrow\":false,\"text\":\"596.158\",\"x\":0.55,\"xanchor\":\"left\",\"xref\":\"x\",\"y\":1,\"yref\":\"y\"},{\"align\":\"left\",\"font\":{\"color\":\"#000000\"},\"showarrow\":false,\"text\":\"testando\",\"x\":-0.45,\"xanchor\":\"left\",\"xref\":\"x\",\"y\":2,\"yref\":\"y\"},{\"align\":\"left\",\"font\":{\"color\":\"#000000\"},\"showarrow\":false,\"text\":\"467\",\"x\":0.55,\"xanchor\":\"left\",\"xref\":\"x\",\"y\":2,\"yref\":\"y\"},{\"align\":\"left\",\"font\":{\"color\":\"#000000\"},\"showarrow\":false,\"text\":\"assinado\",\"x\":-0.45,\"xanchor\":\"left\",\"xref\":\"x\",\"y\":3,\"yref\":\"y\"},{\"align\":\"left\",\"font\":{\"color\":\"#000000\"},\"showarrow\":false,\"text\":\"60\",\"x\":0.55,\"xanchor\":\"left\",\"xref\":\"x\",\"y\":3,\"yref\":\"y\"}],\"height\":170,\"margin\":{\"b\":0,\"l\":0,\"r\":0,\"t\":0},\"template\":{\"data\":{\"barpolar\":[{\"marker\":{\"line\":{\"color\":\"#E5ECF6\",\"width\":0.5},\"pattern\":{\"fillmode\":\"overlay\",\"size\":10,\"solidity\":0.2}},\"type\":\"barpolar\"}],\"bar\":[{\"error_x\":{\"color\":\"#2a3f5f\"},\"error_y\":{\"color\":\"#2a3f5f\"},\"marker\":{\"line\":{\"color\":\"#E5ECF6\",\"width\":0.5},\"pattern\":{\"fillmode\":\"overlay\",\"size\":10,\"solidity\":0.2}},\"type\":\"bar\"}],\"carpet\":[{\"aaxis\":{\"endlinecolor\":\"#2a3f5f\",\"gridcolor\":\"white\",\"linecolor\":\"white\",\"minorgridcolor\":\"white\",\"startlinecolor\":\"#2a3f5f\"},\"baxis\":{\"endlinecolor\":\"#2a3f5f\",\"gridcolor\":\"white\",\"linecolor\":\"white\",\"minorgridcolor\":\"white\",\"startlinecolor\":\"#2a3f5f\"},\"type\":\"carpet\"}],\"choropleth\":[{\"colorbar\":{\"outlinewidth\":0,\"ticks\":\"\"},\"type\":\"choropleth\"}],\"contourcarpet\":[{\"colorbar\":{\"outlinewidth\":0,\"ticks\":\"\"},\"type\":\"contourcarpet\"}],\"contour\":[{\"colorbar\":{\"outlinewidth\":0,\"ticks\":\"\"},\"colorscale\":[[0.0,\"#0d0887\"],[0.1111111111111111,\"#46039f\"],[0.2222222222222222,\"#7201a8\"],[0.3333333333333333,\"#9c179e\"],[0.4444444444444444,\"#bd3786\"],[0.5555555555555556,\"#d8576b\"],[0.6666666666666666,\"#ed7953\"],[0.7777777777777778,\"#fb9f3a\"],[0.8888888888888888,\"#fdca26\"],[1.0,\"#f0f921\"]],\"type\":\"contour\"}],\"heatmapgl\":[{\"colorbar\":{\"outlinewidth\":0,\"ticks\":\"\"},\"colorscale\":[[0.0,\"#0d0887\"],[0.1111111111111111,\"#46039f\"],[0.2222222222222222,\"#7201a8\"],[0.3333333333333333,\"#9c179e\"],[0.4444444444444444,\"#bd3786\"],[0.5555555555555556,\"#d8576b\"],[0.6666666666666666,\"#ed7953\"],[0.7777777777777778,\"#fb9f3a\"],[0.8888888888888888,\"#fdca26\"],[1.0,\"#f0f921\"]],\"type\":\"heatmapgl\"}],\"heatmap\":[{\"colorbar\":{\"outlinewidth\":0,\"ticks\":\"\"},\"colorscale\":[[0.0,\"#0d0887\"],[0.1111111111111111,\"#46039f\"],[0.2222222222222222,\"#7201a8\"],[0.3333333333333333,\"#9c179e\"],[0.4444444444444444,\"#bd3786\"],[0.5555555555555556,\"#d8576b\"],[0.6666666666666666,\"#ed7953\"],[0.7777777777777778,\"#fb9f3a\"],[0.8888888888888888,\"#fdca26\"],[1.0,\"#f0f921\"]],\"type\":\"heatmap\"}],\"histogram2dcontour\":[{\"colorbar\":{\"outlinewidth\":0,\"ticks\":\"\"},\"colorscale\":[[0.0,\"#0d0887\"],[0.1111111111111111,\"#46039f\"],[0.2222222222222222,\"#7201a8\"],[0.3333333333333333,\"#9c179e\"],[0.4444444444444444,\"#bd3786\"],[0.5555555555555556,\"#d8576b\"],[0.6666666666666666,\"#ed7953\"],[0.7777777777777778,\"#fb9f3a\"],[0.8888888888888888,\"#fdca26\"],[1.0,\"#f0f921\"]],\"type\":\"histogram2dcontour\"}],\"histogram2d\":[{\"colorbar\":{\"outlinewidth\":0,\"ticks\":\"\"},\"colorscale\":[[0.0,\"#0d0887\"],[0.1111111111111111,\"#46039f\"],[0.2222222222222222,\"#7201a8\"],[0.3333333333333333,\"#9c179e\"],[0.4444444444444444,\"#bd3786\"],[0.5555555555555556,\"#d8576b\"],[0.6666666666666666,\"#ed7953\"],[0.7777777777777778,\"#fb9f3a\"],[0.8888888888888888,\"#fdca26\"],[1.0,\"#f0f921\"]],\"type\":\"histogram2d\"}],\"histogram\":[{\"marker\":{\"pattern\":{\"fillmode\":\"overlay\",\"size\":10,\"solidity\":0.2}},\"type\":\"histogram\"}],\"mesh3d\":[{\"colorbar\":{\"outlinewidth\":0,\"ticks\":\"\"},\"type\":\"mesh3d\"}],\"parcoords\":[{\"line\":{\"colorbar\":{\"outlinewidth\":0,\"ticks\":\"\"}},\"type\":\"parcoords\"}],\"pie\":[{\"automargin\":true,\"type\":\"pie\"}],\"scatter3d\":[{\"line\":{\"colorbar\":{\"outlinewidth\":0,\"ticks\":\"\"}},\"marker\":{\"colorbar\":{\"outlinewidth\":0,\"ticks\":\"\"}},\"type\":\"scatter3d\"}],\"scattercarpet\":[{\"marker\":{\"colorbar\":{\"outlinewidth\":0,\"ticks\":\"\"}},\"type\":\"scattercarpet\"}],\"scattergeo\":[{\"marker\":{\"colorbar\":{\"outlinewidth\":0,\"ticks\":\"\"}},\"type\":\"scattergeo\"}],\"scattergl\":[{\"marker\":{\"colorbar\":{\"outlinewidth\":0,\"ticks\":\"\"}},\"type\":\"scattergl\"}],\"scattermapbox\":[{\"marker\":{\"colorbar\":{\"outlinewidth\":0,\"ticks\":\"\"}},\"type\":\"scattermapbox\"}],\"scatterpolargl\":[{\"marker\":{\"colorbar\":{\"outlinewidth\":0,\"ticks\":\"\"}},\"type\":\"scatterpolargl\"}],\"scatterpolar\":[{\"marker\":{\"colorbar\":{\"outlinewidth\":0,\"ticks\":\"\"}},\"type\":\"scatterpolar\"}],\"scatter\":[{\"marker\":{\"colorbar\":{\"outlinewidth\":0,\"ticks\":\"\"}},\"type\":\"scatter\"}],\"scatterternary\":[{\"marker\":{\"colorbar\":{\"outlinewidth\":0,\"ticks\":\"\"}},\"type\":\"scatterternary\"}],\"surface\":[{\"colorbar\":{\"outlinewidth\":0,\"ticks\":\"\"},\"colorscale\":[[0.0,\"#0d0887\"],[0.1111111111111111,\"#46039f\"],[0.2222222222222222,\"#7201a8\"],[0.3333333333333333,\"#9c179e\"],[0.4444444444444444,\"#bd3786\"],[0.5555555555555556,\"#d8576b\"],[0.6666666666666666,\"#ed7953\"],[0.7777777777777778,\"#fb9f3a\"],[0.8888888888888888,\"#fdca26\"],[1.0,\"#f0f921\"]],\"type\":\"surface\"}],\"table\":[{\"cells\":{\"fill\":{\"color\":\"#EBF0F8\"},\"line\":{\"color\":\"white\"}},\"header\":{\"fill\":{\"color\":\"#C8D4E3\"},\"line\":{\"color\":\"white\"}},\"type\":\"table\"}]},\"layout\":{\"annotationdefaults\":{\"arrowcolor\":\"#2a3f5f\",\"arrowhead\":0,\"arrowwidth\":1},\"autotypenumbers\":\"strict\",\"coloraxis\":{\"colorbar\":{\"outlinewidth\":0,\"ticks\":\"\"}},\"colorscale\":{\"diverging\":[[0,\"#8e0152\"],[0.1,\"#c51b7d\"],[0.2,\"#de77ae\"],[0.3,\"#f1b6da\"],[0.4,\"#fde0ef\"],[0.5,\"#f7f7f7\"],[0.6,\"#e6f5d0\"],[0.7,\"#b8e186\"],[0.8,\"#7fbc41\"],[0.9,\"#4d9221\"],[1,\"#276419\"]],\"sequential\":[[0.0,\"#0d0887\"],[0.1111111111111111,\"#46039f\"],[0.2222222222222222,\"#7201a8\"],[0.3333333333333333,\"#9c179e\"],[0.4444444444444444,\"#bd3786\"],[0.5555555555555556,\"#d8576b\"],[0.6666666666666666,\"#ed7953\"],[0.7777777777777778,\"#fb9f3a\"],[0.8888888888888888,\"#fdca26\"],[1.0,\"#f0f921\"]],\"sequentialminus\":[[0.0,\"#0d0887\"],[0.1111111111111111,\"#46039f\"],[0.2222222222222222,\"#7201a8\"],[0.3333333333333333,\"#9c179e\"],[0.4444444444444444,\"#bd3786\"],[0.5555555555555556,\"#d8576b\"],[0.6666666666666666,\"#ed7953\"],[0.7777777777777778,\"#fb9f3a\"],[0.8888888888888888,\"#fdca26\"],[1.0,\"#f0f921\"]]},\"colorway\":[\"#636efa\",\"#EF553B\",\"#00cc96\",\"#ab63fa\",\"#FFA15A\",\"#19d3f3\",\"#FF6692\",\"#B6E880\",\"#FF97FF\",\"#FECB52\"],\"font\":{\"color\":\"#2a3f5f\"},\"geo\":{\"bgcolor\":\"white\",\"lakecolor\":\"white\",\"landcolor\":\"#E5ECF6\",\"showlakes\":true,\"showland\":true,\"subunitcolor\":\"white\"},\"hoverlabel\":{\"align\":\"left\"},\"hovermode\":\"closest\",\"mapbox\":{\"style\":\"light\"},\"paper_bgcolor\":\"white\",\"plot_bgcolor\":\"#E5ECF6\",\"polar\":{\"angularaxis\":{\"gridcolor\":\"white\",\"linecolor\":\"white\",\"ticks\":\"\"},\"bgcolor\":\"#E5ECF6\",\"radialaxis\":{\"gridcolor\":\"white\",\"linecolor\":\"white\",\"ticks\":\"\"}},\"scene\":{\"xaxis\":{\"backgroundcolor\":\"#E5ECF6\",\"gridcolor\":\"white\",\"gridwidth\":2,\"linecolor\":\"white\",\"showbackground\":true,\"ticks\":\"\",\"zerolinecolor\":\"white\"},\"yaxis\":{\"backgroundcolor\":\"#E5ECF6\",\"gridcolor\":\"white\",\"gridwidth\":2,\"linecolor\":\"white\",\"showbackground\":true,\"ticks\":\"\",\"zerolinecolor\":\"white\"},\"zaxis\":{\"backgroundcolor\":\"#E5ECF6\",\"gridcolor\":\"white\",\"gridwidth\":2,\"linecolor\":\"white\",\"showbackground\":true,\"ticks\":\"\",\"zerolinecolor\":\"white\"}},\"shapedefaults\":{\"line\":{\"color\":\"#2a3f5f\"}},\"ternary\":{\"aaxis\":{\"gridcolor\":\"white\",\"linecolor\":\"white\",\"ticks\":\"\"},\"baxis\":{\"gridcolor\":\"white\",\"linecolor\":\"white\",\"ticks\":\"\"},\"bgcolor\":\"#E5ECF6\",\"caxis\":{\"gridcolor\":\"white\",\"linecolor\":\"white\",\"ticks\":\"\"}},\"title\":{\"x\":0.05},\"xaxis\":{\"automargin\":true,\"gridcolor\":\"white\",\"linecolor\":\"white\",\"ticks\":\"\",\"title\":{\"standoff\":15},\"zerolinecolor\":\"white\",\"zerolinewidth\":2},\"yaxis\":{\"automargin\":true,\"gridcolor\":\"white\",\"linecolor\":\"white\",\"ticks\":\"\",\"title\":{\"standoff\":15},\"zerolinecolor\":\"white\",\"zerolinewidth\":2}}},\"xaxis\":{\"dtick\":1,\"gridwidth\":2,\"showticklabels\":false,\"tick0\":-0.5,\"ticks\":\"\",\"zeroline\":false},\"yaxis\":{\"autorange\":\"reversed\",\"dtick\":1,\"gridwidth\":2,\"showticklabels\":false,\"tick0\":0.5,\"ticks\":\"\",\"zeroline\":false}},                        {\"responsive\": true}                    ).then(function(){\n",
       "                            \n",
       "var gd = document.getElementById('07c76efb-a5ef-4120-825b-0b79908aa597');\n",
       "var x = new MutationObserver(function (mutations, observer) {{\n",
       "        var display = window.getComputedStyle(gd).display;\n",
       "        if (!display || display === 'none') {{\n",
       "            console.log([gd, 'removed!']);\n",
       "            Plotly.purge(gd);\n",
       "            observer.disconnect();\n",
       "        }}\n",
       "}});\n",
       "\n",
       "// Listen for the removal of the full notebook cells\n",
       "var notebookContainer = gd.closest('#notebook-container');\n",
       "if (notebookContainer) {{\n",
       "    x.observe(notebookContainer, {childList: true});\n",
       "}}\n",
       "\n",
       "// Listen for the clearing of the current output cell\n",
       "var outputEl = gd.closest('.output');\n",
       "if (outputEl) {{\n",
       "    x.observe(outputEl, {childList: true});\n",
       "}}\n",
       "\n",
       "                        })                };                });            </script>        </div>"
      ]
     },
     "metadata": {},
     "output_type": "display_data"
    }
   ],
   "source": [
    "#visualização melhor\n",
    "table = ff.create_table(data_table)\n",
    "iplot(table)"
   ]
  },
  {
   "cell_type": "code",
   "execution_count": 127,
   "id": "798e2709",
   "metadata": {},
   "outputs": [
    {
     "data": {
      "text/html": [
       "<div>\n",
       "<style scoped>\n",
       "    .dataframe tbody tr th:only-of-type {\n",
       "        vertical-align: middle;\n",
       "    }\n",
       "\n",
       "    .dataframe tbody tr th {\n",
       "        vertical-align: top;\n",
       "    }\n",
       "\n",
       "    .dataframe thead th {\n",
       "        text-align: right;\n",
       "    }\n",
       "</style>\n",
       "<table border=\"1\" class=\"dataframe\">\n",
       "  <thead>\n",
       "    <tr style=\"text-align: right;\">\n",
       "      <th></th>\n",
       "      <th>0</th>\n",
       "      <th>1</th>\n",
       "    </tr>\n",
       "  </thead>\n",
       "  <tbody>\n",
       "    <tr>\n",
       "      <th>0</th>\n",
       "      <td>etapas</td>\n",
       "      <td>Values</td>\n",
       "    </tr>\n",
       "    <tr>\n",
       "      <th>1</th>\n",
       "      <td>leads</td>\n",
       "      <td>596.158</td>\n",
       "    </tr>\n",
       "    <tr>\n",
       "      <th>2</th>\n",
       "      <td>testando</td>\n",
       "      <td>467</td>\n",
       "    </tr>\n",
       "    <tr>\n",
       "      <th>3</th>\n",
       "      <td>assinado</td>\n",
       "      <td>60</td>\n",
       "    </tr>\n",
       "  </tbody>\n",
       "</table>\n",
       "</div>"
      ],
      "text/plain": [
       "          0        1\n",
       "0    etapas   Values\n",
       "1     leads  596.158\n",
       "2  testando      467\n",
       "3  assinado       60"
      ]
     },
     "execution_count": 127,
     "metadata": {},
     "output_type": "execute_result"
    }
   ],
   "source": [
    "#criando um dataframe da tabela criada acima\n",
    "df_tb = pd.DataFrame(data_table)\n",
    "df_tb"
   ]
  },
  {
   "cell_type": "code",
   "execution_count": 128,
   "id": "2518f857",
   "metadata": {},
   "outputs": [
    {
     "data": {
      "text/html": [
       "<div>\n",
       "<style scoped>\n",
       "    .dataframe tbody tr th:only-of-type {\n",
       "        vertical-align: middle;\n",
       "    }\n",
       "\n",
       "    .dataframe tbody tr th {\n",
       "        vertical-align: top;\n",
       "    }\n",
       "\n",
       "    .dataframe thead th {\n",
       "        text-align: right;\n",
       "    }\n",
       "</style>\n",
       "<table border=\"1\" class=\"dataframe\">\n",
       "  <thead>\n",
       "    <tr style=\"text-align: right;\">\n",
       "      <th></th>\n",
       "      <th>etapas</th>\n",
       "      <th>Values</th>\n",
       "    </tr>\n",
       "  </thead>\n",
       "  <tbody>\n",
       "    <tr>\n",
       "      <th>1</th>\n",
       "      <td>leads</td>\n",
       "      <td>596.158</td>\n",
       "    </tr>\n",
       "    <tr>\n",
       "      <th>2</th>\n",
       "      <td>testando</td>\n",
       "      <td>467</td>\n",
       "    </tr>\n",
       "    <tr>\n",
       "      <th>3</th>\n",
       "      <td>assinado</td>\n",
       "      <td>60</td>\n",
       "    </tr>\n",
       "  </tbody>\n",
       "</table>\n",
       "</div>"
      ],
      "text/plain": [
       "0    etapas   Values\n",
       "1     leads  596.158\n",
       "2  testando      467\n",
       "3  assinado       60"
      ]
     },
     "execution_count": 128,
     "metadata": {},
     "output_type": "execute_result"
    }
   ],
   "source": [
    "#Transformando a primeira linha em header\n",
    "new_header = df_tb.iloc[0] #grab the first row for the header\n",
    "df_tb = df_tb[1:] #take the data less the header row\n",
    "df_tb.columns = new_header #set the header row as the df header\n",
    "df_tb"
   ]
  },
  {
   "cell_type": "code",
   "execution_count": 129,
   "id": "39aff029",
   "metadata": {},
   "outputs": [
    {
     "data": {
      "text/plain": [
       "(3, 2)"
      ]
     },
     "execution_count": 129,
     "metadata": {},
     "output_type": "execute_result"
    }
   ],
   "source": [
    "df_tb.shape"
   ]
  },
  {
   "cell_type": "code",
   "execution_count": 130,
   "id": "10d51d7c",
   "metadata": {},
   "outputs": [
    {
     "data": {
      "text/plain": [
       "Index(['etapas', 'Values'], dtype='object', name=0)"
      ]
     },
     "execution_count": 130,
     "metadata": {},
     "output_type": "execute_result"
    }
   ],
   "source": [
    "df_tb.columns"
   ]
  },
  {
   "cell_type": "code",
   "execution_count": 131,
   "id": "063de3ee",
   "metadata": {},
   "outputs": [
    {
     "data": {
      "text/plain": [
       "array([['leads', 596.158],\n",
       "       ['testando', 467],\n",
       "       ['assinado', 60]], dtype=object)"
      ]
     },
     "execution_count": 131,
     "metadata": {},
     "output_type": "execute_result"
    }
   ],
   "source": [
    "df_tb.values"
   ]
  },
  {
   "cell_type": "code",
   "execution_count": 132,
   "id": "acfc08e7",
   "metadata": {},
   "outputs": [
    {
     "data": {
      "text/plain": [
       "(3, 2)"
      ]
     },
     "execution_count": 132,
     "metadata": {},
     "output_type": "execute_result"
    }
   ],
   "source": [
    "df_tb.shape"
   ]
  },
  {
   "cell_type": "code",
   "execution_count": 133,
   "id": "f251b893",
   "metadata": {},
   "outputs": [
    {
     "data": {
      "text/plain": [
       "[1    596.158\n",
       " 2        467\n",
       " 3         60\n",
       " Name: Values, dtype: object]"
      ]
     },
     "execution_count": 133,
     "metadata": {},
     "output_type": "execute_result"
    }
   ],
   "source": [
    "[df_tb['Values']]"
   ]
  },
  {
   "cell_type": "code",
   "execution_count": 134,
   "id": "2e504c94",
   "metadata": {},
   "outputs": [
    {
     "data": {
      "text/plain": [
       "[1       leads\n",
       " 2    testando\n",
       " 3    assinado\n",
       " Name: etapas, dtype: object]"
      ]
     },
     "execution_count": 134,
     "metadata": {},
     "output_type": "execute_result"
    }
   ],
   "source": [
    "[df_tb['etapas']]"
   ]
  },
  {
   "cell_type": "code",
   "execution_count": 135,
   "id": "ad071f40",
   "metadata": {},
   "outputs": [],
   "source": [
    "df_tb.to_csv('../datasets/funil_trimestral.csv')"
   ]
  },
  {
   "cell_type": "markdown",
   "id": "d64a482d",
   "metadata": {},
   "source": [
    "# Testando a visualização do funil"
   ]
  },
  {
   "cell_type": "code",
   "execution_count": 136,
   "id": "adaf1433",
   "metadata": {},
   "outputs": [
    {
     "data": {
      "application/vnd.plotly.v1+json": {
       "config": {
        "plotlyServerURL": "https://plot.ly"
       },
       "data": [
        {
         "type": "funnel",
         "x": [
          596.158,
          467,
          60
         ],
         "y": [
          "leads",
          "testando",
          "assinado"
         ]
        }
       ],
       "layout": {
        "template": {
         "data": {
          "bar": [
           {
            "error_x": {
             "color": "#2a3f5f"
            },
            "error_y": {
             "color": "#2a3f5f"
            },
            "marker": {
             "line": {
              "color": "#E5ECF6",
              "width": 0.5
             },
             "pattern": {
              "fillmode": "overlay",
              "size": 10,
              "solidity": 0.2
             }
            },
            "type": "bar"
           }
          ],
          "barpolar": [
           {
            "marker": {
             "line": {
              "color": "#E5ECF6",
              "width": 0.5
             },
             "pattern": {
              "fillmode": "overlay",
              "size": 10,
              "solidity": 0.2
             }
            },
            "type": "barpolar"
           }
          ],
          "carpet": [
           {
            "aaxis": {
             "endlinecolor": "#2a3f5f",
             "gridcolor": "white",
             "linecolor": "white",
             "minorgridcolor": "white",
             "startlinecolor": "#2a3f5f"
            },
            "baxis": {
             "endlinecolor": "#2a3f5f",
             "gridcolor": "white",
             "linecolor": "white",
             "minorgridcolor": "white",
             "startlinecolor": "#2a3f5f"
            },
            "type": "carpet"
           }
          ],
          "choropleth": [
           {
            "colorbar": {
             "outlinewidth": 0,
             "ticks": ""
            },
            "type": "choropleth"
           }
          ],
          "contour": [
           {
            "colorbar": {
             "outlinewidth": 0,
             "ticks": ""
            },
            "colorscale": [
             [
              0,
              "#0d0887"
             ],
             [
              0.1111111111111111,
              "#46039f"
             ],
             [
              0.2222222222222222,
              "#7201a8"
             ],
             [
              0.3333333333333333,
              "#9c179e"
             ],
             [
              0.4444444444444444,
              "#bd3786"
             ],
             [
              0.5555555555555556,
              "#d8576b"
             ],
             [
              0.6666666666666666,
              "#ed7953"
             ],
             [
              0.7777777777777778,
              "#fb9f3a"
             ],
             [
              0.8888888888888888,
              "#fdca26"
             ],
             [
              1,
              "#f0f921"
             ]
            ],
            "type": "contour"
           }
          ],
          "contourcarpet": [
           {
            "colorbar": {
             "outlinewidth": 0,
             "ticks": ""
            },
            "type": "contourcarpet"
           }
          ],
          "heatmap": [
           {
            "colorbar": {
             "outlinewidth": 0,
             "ticks": ""
            },
            "colorscale": [
             [
              0,
              "#0d0887"
             ],
             [
              0.1111111111111111,
              "#46039f"
             ],
             [
              0.2222222222222222,
              "#7201a8"
             ],
             [
              0.3333333333333333,
              "#9c179e"
             ],
             [
              0.4444444444444444,
              "#bd3786"
             ],
             [
              0.5555555555555556,
              "#d8576b"
             ],
             [
              0.6666666666666666,
              "#ed7953"
             ],
             [
              0.7777777777777778,
              "#fb9f3a"
             ],
             [
              0.8888888888888888,
              "#fdca26"
             ],
             [
              1,
              "#f0f921"
             ]
            ],
            "type": "heatmap"
           }
          ],
          "heatmapgl": [
           {
            "colorbar": {
             "outlinewidth": 0,
             "ticks": ""
            },
            "colorscale": [
             [
              0,
              "#0d0887"
             ],
             [
              0.1111111111111111,
              "#46039f"
             ],
             [
              0.2222222222222222,
              "#7201a8"
             ],
             [
              0.3333333333333333,
              "#9c179e"
             ],
             [
              0.4444444444444444,
              "#bd3786"
             ],
             [
              0.5555555555555556,
              "#d8576b"
             ],
             [
              0.6666666666666666,
              "#ed7953"
             ],
             [
              0.7777777777777778,
              "#fb9f3a"
             ],
             [
              0.8888888888888888,
              "#fdca26"
             ],
             [
              1,
              "#f0f921"
             ]
            ],
            "type": "heatmapgl"
           }
          ],
          "histogram": [
           {
            "marker": {
             "pattern": {
              "fillmode": "overlay",
              "size": 10,
              "solidity": 0.2
             }
            },
            "type": "histogram"
           }
          ],
          "histogram2d": [
           {
            "colorbar": {
             "outlinewidth": 0,
             "ticks": ""
            },
            "colorscale": [
             [
              0,
              "#0d0887"
             ],
             [
              0.1111111111111111,
              "#46039f"
             ],
             [
              0.2222222222222222,
              "#7201a8"
             ],
             [
              0.3333333333333333,
              "#9c179e"
             ],
             [
              0.4444444444444444,
              "#bd3786"
             ],
             [
              0.5555555555555556,
              "#d8576b"
             ],
             [
              0.6666666666666666,
              "#ed7953"
             ],
             [
              0.7777777777777778,
              "#fb9f3a"
             ],
             [
              0.8888888888888888,
              "#fdca26"
             ],
             [
              1,
              "#f0f921"
             ]
            ],
            "type": "histogram2d"
           }
          ],
          "histogram2dcontour": [
           {
            "colorbar": {
             "outlinewidth": 0,
             "ticks": ""
            },
            "colorscale": [
             [
              0,
              "#0d0887"
             ],
             [
              0.1111111111111111,
              "#46039f"
             ],
             [
              0.2222222222222222,
              "#7201a8"
             ],
             [
              0.3333333333333333,
              "#9c179e"
             ],
             [
              0.4444444444444444,
              "#bd3786"
             ],
             [
              0.5555555555555556,
              "#d8576b"
             ],
             [
              0.6666666666666666,
              "#ed7953"
             ],
             [
              0.7777777777777778,
              "#fb9f3a"
             ],
             [
              0.8888888888888888,
              "#fdca26"
             ],
             [
              1,
              "#f0f921"
             ]
            ],
            "type": "histogram2dcontour"
           }
          ],
          "mesh3d": [
           {
            "colorbar": {
             "outlinewidth": 0,
             "ticks": ""
            },
            "type": "mesh3d"
           }
          ],
          "parcoords": [
           {
            "line": {
             "colorbar": {
              "outlinewidth": 0,
              "ticks": ""
             }
            },
            "type": "parcoords"
           }
          ],
          "pie": [
           {
            "automargin": true,
            "type": "pie"
           }
          ],
          "scatter": [
           {
            "marker": {
             "colorbar": {
              "outlinewidth": 0,
              "ticks": ""
             }
            },
            "type": "scatter"
           }
          ],
          "scatter3d": [
           {
            "line": {
             "colorbar": {
              "outlinewidth": 0,
              "ticks": ""
             }
            },
            "marker": {
             "colorbar": {
              "outlinewidth": 0,
              "ticks": ""
             }
            },
            "type": "scatter3d"
           }
          ],
          "scattercarpet": [
           {
            "marker": {
             "colorbar": {
              "outlinewidth": 0,
              "ticks": ""
             }
            },
            "type": "scattercarpet"
           }
          ],
          "scattergeo": [
           {
            "marker": {
             "colorbar": {
              "outlinewidth": 0,
              "ticks": ""
             }
            },
            "type": "scattergeo"
           }
          ],
          "scattergl": [
           {
            "marker": {
             "colorbar": {
              "outlinewidth": 0,
              "ticks": ""
             }
            },
            "type": "scattergl"
           }
          ],
          "scattermapbox": [
           {
            "marker": {
             "colorbar": {
              "outlinewidth": 0,
              "ticks": ""
             }
            },
            "type": "scattermapbox"
           }
          ],
          "scatterpolar": [
           {
            "marker": {
             "colorbar": {
              "outlinewidth": 0,
              "ticks": ""
             }
            },
            "type": "scatterpolar"
           }
          ],
          "scatterpolargl": [
           {
            "marker": {
             "colorbar": {
              "outlinewidth": 0,
              "ticks": ""
             }
            },
            "type": "scatterpolargl"
           }
          ],
          "scatterternary": [
           {
            "marker": {
             "colorbar": {
              "outlinewidth": 0,
              "ticks": ""
             }
            },
            "type": "scatterternary"
           }
          ],
          "surface": [
           {
            "colorbar": {
             "outlinewidth": 0,
             "ticks": ""
            },
            "colorscale": [
             [
              0,
              "#0d0887"
             ],
             [
              0.1111111111111111,
              "#46039f"
             ],
             [
              0.2222222222222222,
              "#7201a8"
             ],
             [
              0.3333333333333333,
              "#9c179e"
             ],
             [
              0.4444444444444444,
              "#bd3786"
             ],
             [
              0.5555555555555556,
              "#d8576b"
             ],
             [
              0.6666666666666666,
              "#ed7953"
             ],
             [
              0.7777777777777778,
              "#fb9f3a"
             ],
             [
              0.8888888888888888,
              "#fdca26"
             ],
             [
              1,
              "#f0f921"
             ]
            ],
            "type": "surface"
           }
          ],
          "table": [
           {
            "cells": {
             "fill": {
              "color": "#EBF0F8"
             },
             "line": {
              "color": "white"
             }
            },
            "header": {
             "fill": {
              "color": "#C8D4E3"
             },
             "line": {
              "color": "white"
             }
            },
            "type": "table"
           }
          ]
         },
         "layout": {
          "annotationdefaults": {
           "arrowcolor": "#2a3f5f",
           "arrowhead": 0,
           "arrowwidth": 1
          },
          "autotypenumbers": "strict",
          "coloraxis": {
           "colorbar": {
            "outlinewidth": 0,
            "ticks": ""
           }
          },
          "colorscale": {
           "diverging": [
            [
             0,
             "#8e0152"
            ],
            [
             0.1,
             "#c51b7d"
            ],
            [
             0.2,
             "#de77ae"
            ],
            [
             0.3,
             "#f1b6da"
            ],
            [
             0.4,
             "#fde0ef"
            ],
            [
             0.5,
             "#f7f7f7"
            ],
            [
             0.6,
             "#e6f5d0"
            ],
            [
             0.7,
             "#b8e186"
            ],
            [
             0.8,
             "#7fbc41"
            ],
            [
             0.9,
             "#4d9221"
            ],
            [
             1,
             "#276419"
            ]
           ],
           "sequential": [
            [
             0,
             "#0d0887"
            ],
            [
             0.1111111111111111,
             "#46039f"
            ],
            [
             0.2222222222222222,
             "#7201a8"
            ],
            [
             0.3333333333333333,
             "#9c179e"
            ],
            [
             0.4444444444444444,
             "#bd3786"
            ],
            [
             0.5555555555555556,
             "#d8576b"
            ],
            [
             0.6666666666666666,
             "#ed7953"
            ],
            [
             0.7777777777777778,
             "#fb9f3a"
            ],
            [
             0.8888888888888888,
             "#fdca26"
            ],
            [
             1,
             "#f0f921"
            ]
           ],
           "sequentialminus": [
            [
             0,
             "#0d0887"
            ],
            [
             0.1111111111111111,
             "#46039f"
            ],
            [
             0.2222222222222222,
             "#7201a8"
            ],
            [
             0.3333333333333333,
             "#9c179e"
            ],
            [
             0.4444444444444444,
             "#bd3786"
            ],
            [
             0.5555555555555556,
             "#d8576b"
            ],
            [
             0.6666666666666666,
             "#ed7953"
            ],
            [
             0.7777777777777778,
             "#fb9f3a"
            ],
            [
             0.8888888888888888,
             "#fdca26"
            ],
            [
             1,
             "#f0f921"
            ]
           ]
          },
          "colorway": [
           "#636efa",
           "#EF553B",
           "#00cc96",
           "#ab63fa",
           "#FFA15A",
           "#19d3f3",
           "#FF6692",
           "#B6E880",
           "#FF97FF",
           "#FECB52"
          ],
          "font": {
           "color": "#2a3f5f"
          },
          "geo": {
           "bgcolor": "white",
           "lakecolor": "white",
           "landcolor": "#E5ECF6",
           "showlakes": true,
           "showland": true,
           "subunitcolor": "white"
          },
          "hoverlabel": {
           "align": "left"
          },
          "hovermode": "closest",
          "mapbox": {
           "style": "light"
          },
          "paper_bgcolor": "white",
          "plot_bgcolor": "#E5ECF6",
          "polar": {
           "angularaxis": {
            "gridcolor": "white",
            "linecolor": "white",
            "ticks": ""
           },
           "bgcolor": "#E5ECF6",
           "radialaxis": {
            "gridcolor": "white",
            "linecolor": "white",
            "ticks": ""
           }
          },
          "scene": {
           "xaxis": {
            "backgroundcolor": "#E5ECF6",
            "gridcolor": "white",
            "gridwidth": 2,
            "linecolor": "white",
            "showbackground": true,
            "ticks": "",
            "zerolinecolor": "white"
           },
           "yaxis": {
            "backgroundcolor": "#E5ECF6",
            "gridcolor": "white",
            "gridwidth": 2,
            "linecolor": "white",
            "showbackground": true,
            "ticks": "",
            "zerolinecolor": "white"
           },
           "zaxis": {
            "backgroundcolor": "#E5ECF6",
            "gridcolor": "white",
            "gridwidth": 2,
            "linecolor": "white",
            "showbackground": true,
            "ticks": "",
            "zerolinecolor": "white"
           }
          },
          "shapedefaults": {
           "line": {
            "color": "#2a3f5f"
           }
          },
          "ternary": {
           "aaxis": {
            "gridcolor": "white",
            "linecolor": "white",
            "ticks": ""
           },
           "baxis": {
            "gridcolor": "white",
            "linecolor": "white",
            "ticks": ""
           },
           "bgcolor": "#E5ECF6",
           "caxis": {
            "gridcolor": "white",
            "linecolor": "white",
            "ticks": ""
           }
          },
          "title": {
           "x": 0.05
          },
          "xaxis": {
           "automargin": true,
           "gridcolor": "white",
           "linecolor": "white",
           "ticks": "",
           "title": {
            "standoff": 15
           },
           "zerolinecolor": "white",
           "zerolinewidth": 2
          },
          "yaxis": {
           "automargin": true,
           "gridcolor": "white",
           "linecolor": "white",
           "ticks": "",
           "title": {
            "standoff": 15
           },
           "zerolinecolor": "white",
           "zerolinewidth": 2
          }
         }
        }
       }
      },
      "text/html": [
       "<div>                            <div id=\"964da358-a284-4ba9-b095-a7e05e569086\" class=\"plotly-graph-div\" style=\"height:525px; width:100%;\"></div>            <script type=\"text/javascript\">                require([\"plotly\"], function(Plotly) {                    window.PLOTLYENV=window.PLOTLYENV || {};                                    if (document.getElementById(\"964da358-a284-4ba9-b095-a7e05e569086\")) {                    Plotly.newPlot(                        \"964da358-a284-4ba9-b095-a7e05e569086\",                        [{\"x\":[596.158,467,60],\"y\":[\"leads\",\"testando\",\"assinado\"],\"type\":\"funnel\"}],                        {\"template\":{\"data\":{\"bar\":[{\"error_x\":{\"color\":\"#2a3f5f\"},\"error_y\":{\"color\":\"#2a3f5f\"},\"marker\":{\"line\":{\"color\":\"#E5ECF6\",\"width\":0.5},\"pattern\":{\"fillmode\":\"overlay\",\"size\":10,\"solidity\":0.2}},\"type\":\"bar\"}],\"barpolar\":[{\"marker\":{\"line\":{\"color\":\"#E5ECF6\",\"width\":0.5},\"pattern\":{\"fillmode\":\"overlay\",\"size\":10,\"solidity\":0.2}},\"type\":\"barpolar\"}],\"carpet\":[{\"aaxis\":{\"endlinecolor\":\"#2a3f5f\",\"gridcolor\":\"white\",\"linecolor\":\"white\",\"minorgridcolor\":\"white\",\"startlinecolor\":\"#2a3f5f\"},\"baxis\":{\"endlinecolor\":\"#2a3f5f\",\"gridcolor\":\"white\",\"linecolor\":\"white\",\"minorgridcolor\":\"white\",\"startlinecolor\":\"#2a3f5f\"},\"type\":\"carpet\"}],\"choropleth\":[{\"colorbar\":{\"outlinewidth\":0,\"ticks\":\"\"},\"type\":\"choropleth\"}],\"contour\":[{\"colorbar\":{\"outlinewidth\":0,\"ticks\":\"\"},\"colorscale\":[[0.0,\"#0d0887\"],[0.1111111111111111,\"#46039f\"],[0.2222222222222222,\"#7201a8\"],[0.3333333333333333,\"#9c179e\"],[0.4444444444444444,\"#bd3786\"],[0.5555555555555556,\"#d8576b\"],[0.6666666666666666,\"#ed7953\"],[0.7777777777777778,\"#fb9f3a\"],[0.8888888888888888,\"#fdca26\"],[1.0,\"#f0f921\"]],\"type\":\"contour\"}],\"contourcarpet\":[{\"colorbar\":{\"outlinewidth\":0,\"ticks\":\"\"},\"type\":\"contourcarpet\"}],\"heatmap\":[{\"colorbar\":{\"outlinewidth\":0,\"ticks\":\"\"},\"colorscale\":[[0.0,\"#0d0887\"],[0.1111111111111111,\"#46039f\"],[0.2222222222222222,\"#7201a8\"],[0.3333333333333333,\"#9c179e\"],[0.4444444444444444,\"#bd3786\"],[0.5555555555555556,\"#d8576b\"],[0.6666666666666666,\"#ed7953\"],[0.7777777777777778,\"#fb9f3a\"],[0.8888888888888888,\"#fdca26\"],[1.0,\"#f0f921\"]],\"type\":\"heatmap\"}],\"heatmapgl\":[{\"colorbar\":{\"outlinewidth\":0,\"ticks\":\"\"},\"colorscale\":[[0.0,\"#0d0887\"],[0.1111111111111111,\"#46039f\"],[0.2222222222222222,\"#7201a8\"],[0.3333333333333333,\"#9c179e\"],[0.4444444444444444,\"#bd3786\"],[0.5555555555555556,\"#d8576b\"],[0.6666666666666666,\"#ed7953\"],[0.7777777777777778,\"#fb9f3a\"],[0.8888888888888888,\"#fdca26\"],[1.0,\"#f0f921\"]],\"type\":\"heatmapgl\"}],\"histogram\":[{\"marker\":{\"pattern\":{\"fillmode\":\"overlay\",\"size\":10,\"solidity\":0.2}},\"type\":\"histogram\"}],\"histogram2d\":[{\"colorbar\":{\"outlinewidth\":0,\"ticks\":\"\"},\"colorscale\":[[0.0,\"#0d0887\"],[0.1111111111111111,\"#46039f\"],[0.2222222222222222,\"#7201a8\"],[0.3333333333333333,\"#9c179e\"],[0.4444444444444444,\"#bd3786\"],[0.5555555555555556,\"#d8576b\"],[0.6666666666666666,\"#ed7953\"],[0.7777777777777778,\"#fb9f3a\"],[0.8888888888888888,\"#fdca26\"],[1.0,\"#f0f921\"]],\"type\":\"histogram2d\"}],\"histogram2dcontour\":[{\"colorbar\":{\"outlinewidth\":0,\"ticks\":\"\"},\"colorscale\":[[0.0,\"#0d0887\"],[0.1111111111111111,\"#46039f\"],[0.2222222222222222,\"#7201a8\"],[0.3333333333333333,\"#9c179e\"],[0.4444444444444444,\"#bd3786\"],[0.5555555555555556,\"#d8576b\"],[0.6666666666666666,\"#ed7953\"],[0.7777777777777778,\"#fb9f3a\"],[0.8888888888888888,\"#fdca26\"],[1.0,\"#f0f921\"]],\"type\":\"histogram2dcontour\"}],\"mesh3d\":[{\"colorbar\":{\"outlinewidth\":0,\"ticks\":\"\"},\"type\":\"mesh3d\"}],\"parcoords\":[{\"line\":{\"colorbar\":{\"outlinewidth\":0,\"ticks\":\"\"}},\"type\":\"parcoords\"}],\"pie\":[{\"automargin\":true,\"type\":\"pie\"}],\"scatter\":[{\"marker\":{\"colorbar\":{\"outlinewidth\":0,\"ticks\":\"\"}},\"type\":\"scatter\"}],\"scatter3d\":[{\"line\":{\"colorbar\":{\"outlinewidth\":0,\"ticks\":\"\"}},\"marker\":{\"colorbar\":{\"outlinewidth\":0,\"ticks\":\"\"}},\"type\":\"scatter3d\"}],\"scattercarpet\":[{\"marker\":{\"colorbar\":{\"outlinewidth\":0,\"ticks\":\"\"}},\"type\":\"scattercarpet\"}],\"scattergeo\":[{\"marker\":{\"colorbar\":{\"outlinewidth\":0,\"ticks\":\"\"}},\"type\":\"scattergeo\"}],\"scattergl\":[{\"marker\":{\"colorbar\":{\"outlinewidth\":0,\"ticks\":\"\"}},\"type\":\"scattergl\"}],\"scattermapbox\":[{\"marker\":{\"colorbar\":{\"outlinewidth\":0,\"ticks\":\"\"}},\"type\":\"scattermapbox\"}],\"scatterpolar\":[{\"marker\":{\"colorbar\":{\"outlinewidth\":0,\"ticks\":\"\"}},\"type\":\"scatterpolar\"}],\"scatterpolargl\":[{\"marker\":{\"colorbar\":{\"outlinewidth\":0,\"ticks\":\"\"}},\"type\":\"scatterpolargl\"}],\"scatterternary\":[{\"marker\":{\"colorbar\":{\"outlinewidth\":0,\"ticks\":\"\"}},\"type\":\"scatterternary\"}],\"surface\":[{\"colorbar\":{\"outlinewidth\":0,\"ticks\":\"\"},\"colorscale\":[[0.0,\"#0d0887\"],[0.1111111111111111,\"#46039f\"],[0.2222222222222222,\"#7201a8\"],[0.3333333333333333,\"#9c179e\"],[0.4444444444444444,\"#bd3786\"],[0.5555555555555556,\"#d8576b\"],[0.6666666666666666,\"#ed7953\"],[0.7777777777777778,\"#fb9f3a\"],[0.8888888888888888,\"#fdca26\"],[1.0,\"#f0f921\"]],\"type\":\"surface\"}],\"table\":[{\"cells\":{\"fill\":{\"color\":\"#EBF0F8\"},\"line\":{\"color\":\"white\"}},\"header\":{\"fill\":{\"color\":\"#C8D4E3\"},\"line\":{\"color\":\"white\"}},\"type\":\"table\"}]},\"layout\":{\"annotationdefaults\":{\"arrowcolor\":\"#2a3f5f\",\"arrowhead\":0,\"arrowwidth\":1},\"autotypenumbers\":\"strict\",\"coloraxis\":{\"colorbar\":{\"outlinewidth\":0,\"ticks\":\"\"}},\"colorscale\":{\"diverging\":[[0,\"#8e0152\"],[0.1,\"#c51b7d\"],[0.2,\"#de77ae\"],[0.3,\"#f1b6da\"],[0.4,\"#fde0ef\"],[0.5,\"#f7f7f7\"],[0.6,\"#e6f5d0\"],[0.7,\"#b8e186\"],[0.8,\"#7fbc41\"],[0.9,\"#4d9221\"],[1,\"#276419\"]],\"sequential\":[[0.0,\"#0d0887\"],[0.1111111111111111,\"#46039f\"],[0.2222222222222222,\"#7201a8\"],[0.3333333333333333,\"#9c179e\"],[0.4444444444444444,\"#bd3786\"],[0.5555555555555556,\"#d8576b\"],[0.6666666666666666,\"#ed7953\"],[0.7777777777777778,\"#fb9f3a\"],[0.8888888888888888,\"#fdca26\"],[1.0,\"#f0f921\"]],\"sequentialminus\":[[0.0,\"#0d0887\"],[0.1111111111111111,\"#46039f\"],[0.2222222222222222,\"#7201a8\"],[0.3333333333333333,\"#9c179e\"],[0.4444444444444444,\"#bd3786\"],[0.5555555555555556,\"#d8576b\"],[0.6666666666666666,\"#ed7953\"],[0.7777777777777778,\"#fb9f3a\"],[0.8888888888888888,\"#fdca26\"],[1.0,\"#f0f921\"]]},\"colorway\":[\"#636efa\",\"#EF553B\",\"#00cc96\",\"#ab63fa\",\"#FFA15A\",\"#19d3f3\",\"#FF6692\",\"#B6E880\",\"#FF97FF\",\"#FECB52\"],\"font\":{\"color\":\"#2a3f5f\"},\"geo\":{\"bgcolor\":\"white\",\"lakecolor\":\"white\",\"landcolor\":\"#E5ECF6\",\"showlakes\":true,\"showland\":true,\"subunitcolor\":\"white\"},\"hoverlabel\":{\"align\":\"left\"},\"hovermode\":\"closest\",\"mapbox\":{\"style\":\"light\"},\"paper_bgcolor\":\"white\",\"plot_bgcolor\":\"#E5ECF6\",\"polar\":{\"angularaxis\":{\"gridcolor\":\"white\",\"linecolor\":\"white\",\"ticks\":\"\"},\"bgcolor\":\"#E5ECF6\",\"radialaxis\":{\"gridcolor\":\"white\",\"linecolor\":\"white\",\"ticks\":\"\"}},\"scene\":{\"xaxis\":{\"backgroundcolor\":\"#E5ECF6\",\"gridcolor\":\"white\",\"gridwidth\":2,\"linecolor\":\"white\",\"showbackground\":true,\"ticks\":\"\",\"zerolinecolor\":\"white\"},\"yaxis\":{\"backgroundcolor\":\"#E5ECF6\",\"gridcolor\":\"white\",\"gridwidth\":2,\"linecolor\":\"white\",\"showbackground\":true,\"ticks\":\"\",\"zerolinecolor\":\"white\"},\"zaxis\":{\"backgroundcolor\":\"#E5ECF6\",\"gridcolor\":\"white\",\"gridwidth\":2,\"linecolor\":\"white\",\"showbackground\":true,\"ticks\":\"\",\"zerolinecolor\":\"white\"}},\"shapedefaults\":{\"line\":{\"color\":\"#2a3f5f\"}},\"ternary\":{\"aaxis\":{\"gridcolor\":\"white\",\"linecolor\":\"white\",\"ticks\":\"\"},\"baxis\":{\"gridcolor\":\"white\",\"linecolor\":\"white\",\"ticks\":\"\"},\"bgcolor\":\"#E5ECF6\",\"caxis\":{\"gridcolor\":\"white\",\"linecolor\":\"white\",\"ticks\":\"\"}},\"title\":{\"x\":0.05},\"xaxis\":{\"automargin\":true,\"gridcolor\":\"white\",\"linecolor\":\"white\",\"ticks\":\"\",\"title\":{\"standoff\":15},\"zerolinecolor\":\"white\",\"zerolinewidth\":2},\"yaxis\":{\"automargin\":true,\"gridcolor\":\"white\",\"linecolor\":\"white\",\"ticks\":\"\",\"title\":{\"standoff\":15},\"zerolinecolor\":\"white\",\"zerolinewidth\":2}}}},                        {\"responsive\": true}                    ).then(function(){\n",
       "                            \n",
       "var gd = document.getElementById('964da358-a284-4ba9-b095-a7e05e569086');\n",
       "var x = new MutationObserver(function (mutations, observer) {{\n",
       "        var display = window.getComputedStyle(gd).display;\n",
       "        if (!display || display === 'none') {{\n",
       "            console.log([gd, 'removed!']);\n",
       "            Plotly.purge(gd);\n",
       "            observer.disconnect();\n",
       "        }}\n",
       "}});\n",
       "\n",
       "// Listen for the removal of the full notebook cells\n",
       "var notebookContainer = gd.closest('#notebook-container');\n",
       "if (notebookContainer) {{\n",
       "    x.observe(notebookContainer, {childList: true});\n",
       "}}\n",
       "\n",
       "// Listen for the clearing of the current output cell\n",
       "var outputEl = gd.closest('.output');\n",
       "if (outputEl) {{\n",
       "    x.observe(outputEl, {childList: true});\n",
       "}}\n",
       "\n",
       "                        })                };                });            </script>        </div>"
      ]
     },
     "metadata": {},
     "output_type": "display_data"
    }
   ],
   "source": [
    "from plotly import graph_objects as go\n",
    "\n",
    "fig = go.Figure(go.Funnel(\n",
    "    y = df_tb['etapas'],\n",
    "    x = df_tb['Values']))\n",
    "\n",
    "fig.show()"
   ]
  },
  {
   "cell_type": "code",
   "execution_count": 137,
   "id": "786960e7",
   "metadata": {},
   "outputs": [
    {
     "data": {
      "application/vnd.plotly.v1+json": {
       "config": {
        "plotlyServerURL": "https://plot.ly"
       },
       "data": [
        {
         "domain": {
          "x": [
           0,
           1
          ],
          "y": [
           0,
           1
          ]
         },
         "hovertemplate": "label=%{label}<br>value=%{value}<extra></extra>",
         "labels": [
          "leads",
          "testando",
          "assinado"
         ],
         "legendgroup": "",
         "name": "",
         "showlegend": true,
         "type": "funnelarea",
         "values": [
          596.158,
          467,
          60
         ]
        }
       ],
       "layout": {
        "legend": {
         "tracegroupgap": 0
        },
        "margin": {
         "t": 60
        },
        "template": {
         "data": {
          "bar": [
           {
            "error_x": {
             "color": "#2a3f5f"
            },
            "error_y": {
             "color": "#2a3f5f"
            },
            "marker": {
             "line": {
              "color": "#E5ECF6",
              "width": 0.5
             },
             "pattern": {
              "fillmode": "overlay",
              "size": 10,
              "solidity": 0.2
             }
            },
            "type": "bar"
           }
          ],
          "barpolar": [
           {
            "marker": {
             "line": {
              "color": "#E5ECF6",
              "width": 0.5
             },
             "pattern": {
              "fillmode": "overlay",
              "size": 10,
              "solidity": 0.2
             }
            },
            "type": "barpolar"
           }
          ],
          "carpet": [
           {
            "aaxis": {
             "endlinecolor": "#2a3f5f",
             "gridcolor": "white",
             "linecolor": "white",
             "minorgridcolor": "white",
             "startlinecolor": "#2a3f5f"
            },
            "baxis": {
             "endlinecolor": "#2a3f5f",
             "gridcolor": "white",
             "linecolor": "white",
             "minorgridcolor": "white",
             "startlinecolor": "#2a3f5f"
            },
            "type": "carpet"
           }
          ],
          "choropleth": [
           {
            "colorbar": {
             "outlinewidth": 0,
             "ticks": ""
            },
            "type": "choropleth"
           }
          ],
          "contour": [
           {
            "colorbar": {
             "outlinewidth": 0,
             "ticks": ""
            },
            "colorscale": [
             [
              0,
              "#0d0887"
             ],
             [
              0.1111111111111111,
              "#46039f"
             ],
             [
              0.2222222222222222,
              "#7201a8"
             ],
             [
              0.3333333333333333,
              "#9c179e"
             ],
             [
              0.4444444444444444,
              "#bd3786"
             ],
             [
              0.5555555555555556,
              "#d8576b"
             ],
             [
              0.6666666666666666,
              "#ed7953"
             ],
             [
              0.7777777777777778,
              "#fb9f3a"
             ],
             [
              0.8888888888888888,
              "#fdca26"
             ],
             [
              1,
              "#f0f921"
             ]
            ],
            "type": "contour"
           }
          ],
          "contourcarpet": [
           {
            "colorbar": {
             "outlinewidth": 0,
             "ticks": ""
            },
            "type": "contourcarpet"
           }
          ],
          "heatmap": [
           {
            "colorbar": {
             "outlinewidth": 0,
             "ticks": ""
            },
            "colorscale": [
             [
              0,
              "#0d0887"
             ],
             [
              0.1111111111111111,
              "#46039f"
             ],
             [
              0.2222222222222222,
              "#7201a8"
             ],
             [
              0.3333333333333333,
              "#9c179e"
             ],
             [
              0.4444444444444444,
              "#bd3786"
             ],
             [
              0.5555555555555556,
              "#d8576b"
             ],
             [
              0.6666666666666666,
              "#ed7953"
             ],
             [
              0.7777777777777778,
              "#fb9f3a"
             ],
             [
              0.8888888888888888,
              "#fdca26"
             ],
             [
              1,
              "#f0f921"
             ]
            ],
            "type": "heatmap"
           }
          ],
          "heatmapgl": [
           {
            "colorbar": {
             "outlinewidth": 0,
             "ticks": ""
            },
            "colorscale": [
             [
              0,
              "#0d0887"
             ],
             [
              0.1111111111111111,
              "#46039f"
             ],
             [
              0.2222222222222222,
              "#7201a8"
             ],
             [
              0.3333333333333333,
              "#9c179e"
             ],
             [
              0.4444444444444444,
              "#bd3786"
             ],
             [
              0.5555555555555556,
              "#d8576b"
             ],
             [
              0.6666666666666666,
              "#ed7953"
             ],
             [
              0.7777777777777778,
              "#fb9f3a"
             ],
             [
              0.8888888888888888,
              "#fdca26"
             ],
             [
              1,
              "#f0f921"
             ]
            ],
            "type": "heatmapgl"
           }
          ],
          "histogram": [
           {
            "marker": {
             "pattern": {
              "fillmode": "overlay",
              "size": 10,
              "solidity": 0.2
             }
            },
            "type": "histogram"
           }
          ],
          "histogram2d": [
           {
            "colorbar": {
             "outlinewidth": 0,
             "ticks": ""
            },
            "colorscale": [
             [
              0,
              "#0d0887"
             ],
             [
              0.1111111111111111,
              "#46039f"
             ],
             [
              0.2222222222222222,
              "#7201a8"
             ],
             [
              0.3333333333333333,
              "#9c179e"
             ],
             [
              0.4444444444444444,
              "#bd3786"
             ],
             [
              0.5555555555555556,
              "#d8576b"
             ],
             [
              0.6666666666666666,
              "#ed7953"
             ],
             [
              0.7777777777777778,
              "#fb9f3a"
             ],
             [
              0.8888888888888888,
              "#fdca26"
             ],
             [
              1,
              "#f0f921"
             ]
            ],
            "type": "histogram2d"
           }
          ],
          "histogram2dcontour": [
           {
            "colorbar": {
             "outlinewidth": 0,
             "ticks": ""
            },
            "colorscale": [
             [
              0,
              "#0d0887"
             ],
             [
              0.1111111111111111,
              "#46039f"
             ],
             [
              0.2222222222222222,
              "#7201a8"
             ],
             [
              0.3333333333333333,
              "#9c179e"
             ],
             [
              0.4444444444444444,
              "#bd3786"
             ],
             [
              0.5555555555555556,
              "#d8576b"
             ],
             [
              0.6666666666666666,
              "#ed7953"
             ],
             [
              0.7777777777777778,
              "#fb9f3a"
             ],
             [
              0.8888888888888888,
              "#fdca26"
             ],
             [
              1,
              "#f0f921"
             ]
            ],
            "type": "histogram2dcontour"
           }
          ],
          "mesh3d": [
           {
            "colorbar": {
             "outlinewidth": 0,
             "ticks": ""
            },
            "type": "mesh3d"
           }
          ],
          "parcoords": [
           {
            "line": {
             "colorbar": {
              "outlinewidth": 0,
              "ticks": ""
             }
            },
            "type": "parcoords"
           }
          ],
          "pie": [
           {
            "automargin": true,
            "type": "pie"
           }
          ],
          "scatter": [
           {
            "marker": {
             "colorbar": {
              "outlinewidth": 0,
              "ticks": ""
             }
            },
            "type": "scatter"
           }
          ],
          "scatter3d": [
           {
            "line": {
             "colorbar": {
              "outlinewidth": 0,
              "ticks": ""
             }
            },
            "marker": {
             "colorbar": {
              "outlinewidth": 0,
              "ticks": ""
             }
            },
            "type": "scatter3d"
           }
          ],
          "scattercarpet": [
           {
            "marker": {
             "colorbar": {
              "outlinewidth": 0,
              "ticks": ""
             }
            },
            "type": "scattercarpet"
           }
          ],
          "scattergeo": [
           {
            "marker": {
             "colorbar": {
              "outlinewidth": 0,
              "ticks": ""
             }
            },
            "type": "scattergeo"
           }
          ],
          "scattergl": [
           {
            "marker": {
             "colorbar": {
              "outlinewidth": 0,
              "ticks": ""
             }
            },
            "type": "scattergl"
           }
          ],
          "scattermapbox": [
           {
            "marker": {
             "colorbar": {
              "outlinewidth": 0,
              "ticks": ""
             }
            },
            "type": "scattermapbox"
           }
          ],
          "scatterpolar": [
           {
            "marker": {
             "colorbar": {
              "outlinewidth": 0,
              "ticks": ""
             }
            },
            "type": "scatterpolar"
           }
          ],
          "scatterpolargl": [
           {
            "marker": {
             "colorbar": {
              "outlinewidth": 0,
              "ticks": ""
             }
            },
            "type": "scatterpolargl"
           }
          ],
          "scatterternary": [
           {
            "marker": {
             "colorbar": {
              "outlinewidth": 0,
              "ticks": ""
             }
            },
            "type": "scatterternary"
           }
          ],
          "surface": [
           {
            "colorbar": {
             "outlinewidth": 0,
             "ticks": ""
            },
            "colorscale": [
             [
              0,
              "#0d0887"
             ],
             [
              0.1111111111111111,
              "#46039f"
             ],
             [
              0.2222222222222222,
              "#7201a8"
             ],
             [
              0.3333333333333333,
              "#9c179e"
             ],
             [
              0.4444444444444444,
              "#bd3786"
             ],
             [
              0.5555555555555556,
              "#d8576b"
             ],
             [
              0.6666666666666666,
              "#ed7953"
             ],
             [
              0.7777777777777778,
              "#fb9f3a"
             ],
             [
              0.8888888888888888,
              "#fdca26"
             ],
             [
              1,
              "#f0f921"
             ]
            ],
            "type": "surface"
           }
          ],
          "table": [
           {
            "cells": {
             "fill": {
              "color": "#EBF0F8"
             },
             "line": {
              "color": "white"
             }
            },
            "header": {
             "fill": {
              "color": "#C8D4E3"
             },
             "line": {
              "color": "white"
             }
            },
            "type": "table"
           }
          ]
         },
         "layout": {
          "annotationdefaults": {
           "arrowcolor": "#2a3f5f",
           "arrowhead": 0,
           "arrowwidth": 1
          },
          "autotypenumbers": "strict",
          "coloraxis": {
           "colorbar": {
            "outlinewidth": 0,
            "ticks": ""
           }
          },
          "colorscale": {
           "diverging": [
            [
             0,
             "#8e0152"
            ],
            [
             0.1,
             "#c51b7d"
            ],
            [
             0.2,
             "#de77ae"
            ],
            [
             0.3,
             "#f1b6da"
            ],
            [
             0.4,
             "#fde0ef"
            ],
            [
             0.5,
             "#f7f7f7"
            ],
            [
             0.6,
             "#e6f5d0"
            ],
            [
             0.7,
             "#b8e186"
            ],
            [
             0.8,
             "#7fbc41"
            ],
            [
             0.9,
             "#4d9221"
            ],
            [
             1,
             "#276419"
            ]
           ],
           "sequential": [
            [
             0,
             "#0d0887"
            ],
            [
             0.1111111111111111,
             "#46039f"
            ],
            [
             0.2222222222222222,
             "#7201a8"
            ],
            [
             0.3333333333333333,
             "#9c179e"
            ],
            [
             0.4444444444444444,
             "#bd3786"
            ],
            [
             0.5555555555555556,
             "#d8576b"
            ],
            [
             0.6666666666666666,
             "#ed7953"
            ],
            [
             0.7777777777777778,
             "#fb9f3a"
            ],
            [
             0.8888888888888888,
             "#fdca26"
            ],
            [
             1,
             "#f0f921"
            ]
           ],
           "sequentialminus": [
            [
             0,
             "#0d0887"
            ],
            [
             0.1111111111111111,
             "#46039f"
            ],
            [
             0.2222222222222222,
             "#7201a8"
            ],
            [
             0.3333333333333333,
             "#9c179e"
            ],
            [
             0.4444444444444444,
             "#bd3786"
            ],
            [
             0.5555555555555556,
             "#d8576b"
            ],
            [
             0.6666666666666666,
             "#ed7953"
            ],
            [
             0.7777777777777778,
             "#fb9f3a"
            ],
            [
             0.8888888888888888,
             "#fdca26"
            ],
            [
             1,
             "#f0f921"
            ]
           ]
          },
          "colorway": [
           "#636efa",
           "#EF553B",
           "#00cc96",
           "#ab63fa",
           "#FFA15A",
           "#19d3f3",
           "#FF6692",
           "#B6E880",
           "#FF97FF",
           "#FECB52"
          ],
          "font": {
           "color": "#2a3f5f"
          },
          "geo": {
           "bgcolor": "white",
           "lakecolor": "white",
           "landcolor": "#E5ECF6",
           "showlakes": true,
           "showland": true,
           "subunitcolor": "white"
          },
          "hoverlabel": {
           "align": "left"
          },
          "hovermode": "closest",
          "mapbox": {
           "style": "light"
          },
          "paper_bgcolor": "white",
          "plot_bgcolor": "#E5ECF6",
          "polar": {
           "angularaxis": {
            "gridcolor": "white",
            "linecolor": "white",
            "ticks": ""
           },
           "bgcolor": "#E5ECF6",
           "radialaxis": {
            "gridcolor": "white",
            "linecolor": "white",
            "ticks": ""
           }
          },
          "scene": {
           "xaxis": {
            "backgroundcolor": "#E5ECF6",
            "gridcolor": "white",
            "gridwidth": 2,
            "linecolor": "white",
            "showbackground": true,
            "ticks": "",
            "zerolinecolor": "white"
           },
           "yaxis": {
            "backgroundcolor": "#E5ECF6",
            "gridcolor": "white",
            "gridwidth": 2,
            "linecolor": "white",
            "showbackground": true,
            "ticks": "",
            "zerolinecolor": "white"
           },
           "zaxis": {
            "backgroundcolor": "#E5ECF6",
            "gridcolor": "white",
            "gridwidth": 2,
            "linecolor": "white",
            "showbackground": true,
            "ticks": "",
            "zerolinecolor": "white"
           }
          },
          "shapedefaults": {
           "line": {
            "color": "#2a3f5f"
           }
          },
          "ternary": {
           "aaxis": {
            "gridcolor": "white",
            "linecolor": "white",
            "ticks": ""
           },
           "baxis": {
            "gridcolor": "white",
            "linecolor": "white",
            "ticks": ""
           },
           "bgcolor": "#E5ECF6",
           "caxis": {
            "gridcolor": "white",
            "linecolor": "white",
            "ticks": ""
           }
          },
          "title": {
           "x": 0.05
          },
          "xaxis": {
           "automargin": true,
           "gridcolor": "white",
           "linecolor": "white",
           "ticks": "",
           "title": {
            "standoff": 15
           },
           "zerolinecolor": "white",
           "zerolinewidth": 2
          },
          "yaxis": {
           "automargin": true,
           "gridcolor": "white",
           "linecolor": "white",
           "ticks": "",
           "title": {
            "standoff": 15
           },
           "zerolinecolor": "white",
           "zerolinewidth": 2
          }
         }
        }
       }
      },
      "text/html": [
       "<div>                            <div id=\"eac46bf5-2a0b-4306-ad49-b2b01ce14155\" class=\"plotly-graph-div\" style=\"height:525px; width:100%;\"></div>            <script type=\"text/javascript\">                require([\"plotly\"], function(Plotly) {                    window.PLOTLYENV=window.PLOTLYENV || {};                                    if (document.getElementById(\"eac46bf5-2a0b-4306-ad49-b2b01ce14155\")) {                    Plotly.newPlot(                        \"eac46bf5-2a0b-4306-ad49-b2b01ce14155\",                        [{\"domain\":{\"x\":[0.0,1.0],\"y\":[0.0,1.0]},\"hovertemplate\":\"label=%{label}<br>value=%{value}<extra></extra>\",\"labels\":[\"leads\",\"testando\",\"assinado\"],\"legendgroup\":\"\",\"name\":\"\",\"showlegend\":true,\"values\":[596.158,467,60],\"type\":\"funnelarea\"}],                        {\"template\":{\"data\":{\"bar\":[{\"error_x\":{\"color\":\"#2a3f5f\"},\"error_y\":{\"color\":\"#2a3f5f\"},\"marker\":{\"line\":{\"color\":\"#E5ECF6\",\"width\":0.5},\"pattern\":{\"fillmode\":\"overlay\",\"size\":10,\"solidity\":0.2}},\"type\":\"bar\"}],\"barpolar\":[{\"marker\":{\"line\":{\"color\":\"#E5ECF6\",\"width\":0.5},\"pattern\":{\"fillmode\":\"overlay\",\"size\":10,\"solidity\":0.2}},\"type\":\"barpolar\"}],\"carpet\":[{\"aaxis\":{\"endlinecolor\":\"#2a3f5f\",\"gridcolor\":\"white\",\"linecolor\":\"white\",\"minorgridcolor\":\"white\",\"startlinecolor\":\"#2a3f5f\"},\"baxis\":{\"endlinecolor\":\"#2a3f5f\",\"gridcolor\":\"white\",\"linecolor\":\"white\",\"minorgridcolor\":\"white\",\"startlinecolor\":\"#2a3f5f\"},\"type\":\"carpet\"}],\"choropleth\":[{\"colorbar\":{\"outlinewidth\":0,\"ticks\":\"\"},\"type\":\"choropleth\"}],\"contour\":[{\"colorbar\":{\"outlinewidth\":0,\"ticks\":\"\"},\"colorscale\":[[0.0,\"#0d0887\"],[0.1111111111111111,\"#46039f\"],[0.2222222222222222,\"#7201a8\"],[0.3333333333333333,\"#9c179e\"],[0.4444444444444444,\"#bd3786\"],[0.5555555555555556,\"#d8576b\"],[0.6666666666666666,\"#ed7953\"],[0.7777777777777778,\"#fb9f3a\"],[0.8888888888888888,\"#fdca26\"],[1.0,\"#f0f921\"]],\"type\":\"contour\"}],\"contourcarpet\":[{\"colorbar\":{\"outlinewidth\":0,\"ticks\":\"\"},\"type\":\"contourcarpet\"}],\"heatmap\":[{\"colorbar\":{\"outlinewidth\":0,\"ticks\":\"\"},\"colorscale\":[[0.0,\"#0d0887\"],[0.1111111111111111,\"#46039f\"],[0.2222222222222222,\"#7201a8\"],[0.3333333333333333,\"#9c179e\"],[0.4444444444444444,\"#bd3786\"],[0.5555555555555556,\"#d8576b\"],[0.6666666666666666,\"#ed7953\"],[0.7777777777777778,\"#fb9f3a\"],[0.8888888888888888,\"#fdca26\"],[1.0,\"#f0f921\"]],\"type\":\"heatmap\"}],\"heatmapgl\":[{\"colorbar\":{\"outlinewidth\":0,\"ticks\":\"\"},\"colorscale\":[[0.0,\"#0d0887\"],[0.1111111111111111,\"#46039f\"],[0.2222222222222222,\"#7201a8\"],[0.3333333333333333,\"#9c179e\"],[0.4444444444444444,\"#bd3786\"],[0.5555555555555556,\"#d8576b\"],[0.6666666666666666,\"#ed7953\"],[0.7777777777777778,\"#fb9f3a\"],[0.8888888888888888,\"#fdca26\"],[1.0,\"#f0f921\"]],\"type\":\"heatmapgl\"}],\"histogram\":[{\"marker\":{\"pattern\":{\"fillmode\":\"overlay\",\"size\":10,\"solidity\":0.2}},\"type\":\"histogram\"}],\"histogram2d\":[{\"colorbar\":{\"outlinewidth\":0,\"ticks\":\"\"},\"colorscale\":[[0.0,\"#0d0887\"],[0.1111111111111111,\"#46039f\"],[0.2222222222222222,\"#7201a8\"],[0.3333333333333333,\"#9c179e\"],[0.4444444444444444,\"#bd3786\"],[0.5555555555555556,\"#d8576b\"],[0.6666666666666666,\"#ed7953\"],[0.7777777777777778,\"#fb9f3a\"],[0.8888888888888888,\"#fdca26\"],[1.0,\"#f0f921\"]],\"type\":\"histogram2d\"}],\"histogram2dcontour\":[{\"colorbar\":{\"outlinewidth\":0,\"ticks\":\"\"},\"colorscale\":[[0.0,\"#0d0887\"],[0.1111111111111111,\"#46039f\"],[0.2222222222222222,\"#7201a8\"],[0.3333333333333333,\"#9c179e\"],[0.4444444444444444,\"#bd3786\"],[0.5555555555555556,\"#d8576b\"],[0.6666666666666666,\"#ed7953\"],[0.7777777777777778,\"#fb9f3a\"],[0.8888888888888888,\"#fdca26\"],[1.0,\"#f0f921\"]],\"type\":\"histogram2dcontour\"}],\"mesh3d\":[{\"colorbar\":{\"outlinewidth\":0,\"ticks\":\"\"},\"type\":\"mesh3d\"}],\"parcoords\":[{\"line\":{\"colorbar\":{\"outlinewidth\":0,\"ticks\":\"\"}},\"type\":\"parcoords\"}],\"pie\":[{\"automargin\":true,\"type\":\"pie\"}],\"scatter\":[{\"marker\":{\"colorbar\":{\"outlinewidth\":0,\"ticks\":\"\"}},\"type\":\"scatter\"}],\"scatter3d\":[{\"line\":{\"colorbar\":{\"outlinewidth\":0,\"ticks\":\"\"}},\"marker\":{\"colorbar\":{\"outlinewidth\":0,\"ticks\":\"\"}},\"type\":\"scatter3d\"}],\"scattercarpet\":[{\"marker\":{\"colorbar\":{\"outlinewidth\":0,\"ticks\":\"\"}},\"type\":\"scattercarpet\"}],\"scattergeo\":[{\"marker\":{\"colorbar\":{\"outlinewidth\":0,\"ticks\":\"\"}},\"type\":\"scattergeo\"}],\"scattergl\":[{\"marker\":{\"colorbar\":{\"outlinewidth\":0,\"ticks\":\"\"}},\"type\":\"scattergl\"}],\"scattermapbox\":[{\"marker\":{\"colorbar\":{\"outlinewidth\":0,\"ticks\":\"\"}},\"type\":\"scattermapbox\"}],\"scatterpolar\":[{\"marker\":{\"colorbar\":{\"outlinewidth\":0,\"ticks\":\"\"}},\"type\":\"scatterpolar\"}],\"scatterpolargl\":[{\"marker\":{\"colorbar\":{\"outlinewidth\":0,\"ticks\":\"\"}},\"type\":\"scatterpolargl\"}],\"scatterternary\":[{\"marker\":{\"colorbar\":{\"outlinewidth\":0,\"ticks\":\"\"}},\"type\":\"scatterternary\"}],\"surface\":[{\"colorbar\":{\"outlinewidth\":0,\"ticks\":\"\"},\"colorscale\":[[0.0,\"#0d0887\"],[0.1111111111111111,\"#46039f\"],[0.2222222222222222,\"#7201a8\"],[0.3333333333333333,\"#9c179e\"],[0.4444444444444444,\"#bd3786\"],[0.5555555555555556,\"#d8576b\"],[0.6666666666666666,\"#ed7953\"],[0.7777777777777778,\"#fb9f3a\"],[0.8888888888888888,\"#fdca26\"],[1.0,\"#f0f921\"]],\"type\":\"surface\"}],\"table\":[{\"cells\":{\"fill\":{\"color\":\"#EBF0F8\"},\"line\":{\"color\":\"white\"}},\"header\":{\"fill\":{\"color\":\"#C8D4E3\"},\"line\":{\"color\":\"white\"}},\"type\":\"table\"}]},\"layout\":{\"annotationdefaults\":{\"arrowcolor\":\"#2a3f5f\",\"arrowhead\":0,\"arrowwidth\":1},\"autotypenumbers\":\"strict\",\"coloraxis\":{\"colorbar\":{\"outlinewidth\":0,\"ticks\":\"\"}},\"colorscale\":{\"diverging\":[[0,\"#8e0152\"],[0.1,\"#c51b7d\"],[0.2,\"#de77ae\"],[0.3,\"#f1b6da\"],[0.4,\"#fde0ef\"],[0.5,\"#f7f7f7\"],[0.6,\"#e6f5d0\"],[0.7,\"#b8e186\"],[0.8,\"#7fbc41\"],[0.9,\"#4d9221\"],[1,\"#276419\"]],\"sequential\":[[0.0,\"#0d0887\"],[0.1111111111111111,\"#46039f\"],[0.2222222222222222,\"#7201a8\"],[0.3333333333333333,\"#9c179e\"],[0.4444444444444444,\"#bd3786\"],[0.5555555555555556,\"#d8576b\"],[0.6666666666666666,\"#ed7953\"],[0.7777777777777778,\"#fb9f3a\"],[0.8888888888888888,\"#fdca26\"],[1.0,\"#f0f921\"]],\"sequentialminus\":[[0.0,\"#0d0887\"],[0.1111111111111111,\"#46039f\"],[0.2222222222222222,\"#7201a8\"],[0.3333333333333333,\"#9c179e\"],[0.4444444444444444,\"#bd3786\"],[0.5555555555555556,\"#d8576b\"],[0.6666666666666666,\"#ed7953\"],[0.7777777777777778,\"#fb9f3a\"],[0.8888888888888888,\"#fdca26\"],[1.0,\"#f0f921\"]]},\"colorway\":[\"#636efa\",\"#EF553B\",\"#00cc96\",\"#ab63fa\",\"#FFA15A\",\"#19d3f3\",\"#FF6692\",\"#B6E880\",\"#FF97FF\",\"#FECB52\"],\"font\":{\"color\":\"#2a3f5f\"},\"geo\":{\"bgcolor\":\"white\",\"lakecolor\":\"white\",\"landcolor\":\"#E5ECF6\",\"showlakes\":true,\"showland\":true,\"subunitcolor\":\"white\"},\"hoverlabel\":{\"align\":\"left\"},\"hovermode\":\"closest\",\"mapbox\":{\"style\":\"light\"},\"paper_bgcolor\":\"white\",\"plot_bgcolor\":\"#E5ECF6\",\"polar\":{\"angularaxis\":{\"gridcolor\":\"white\",\"linecolor\":\"white\",\"ticks\":\"\"},\"bgcolor\":\"#E5ECF6\",\"radialaxis\":{\"gridcolor\":\"white\",\"linecolor\":\"white\",\"ticks\":\"\"}},\"scene\":{\"xaxis\":{\"backgroundcolor\":\"#E5ECF6\",\"gridcolor\":\"white\",\"gridwidth\":2,\"linecolor\":\"white\",\"showbackground\":true,\"ticks\":\"\",\"zerolinecolor\":\"white\"},\"yaxis\":{\"backgroundcolor\":\"#E5ECF6\",\"gridcolor\":\"white\",\"gridwidth\":2,\"linecolor\":\"white\",\"showbackground\":true,\"ticks\":\"\",\"zerolinecolor\":\"white\"},\"zaxis\":{\"backgroundcolor\":\"#E5ECF6\",\"gridcolor\":\"white\",\"gridwidth\":2,\"linecolor\":\"white\",\"showbackground\":true,\"ticks\":\"\",\"zerolinecolor\":\"white\"}},\"shapedefaults\":{\"line\":{\"color\":\"#2a3f5f\"}},\"ternary\":{\"aaxis\":{\"gridcolor\":\"white\",\"linecolor\":\"white\",\"ticks\":\"\"},\"baxis\":{\"gridcolor\":\"white\",\"linecolor\":\"white\",\"ticks\":\"\"},\"bgcolor\":\"#E5ECF6\",\"caxis\":{\"gridcolor\":\"white\",\"linecolor\":\"white\",\"ticks\":\"\"}},\"title\":{\"x\":0.05},\"xaxis\":{\"automargin\":true,\"gridcolor\":\"white\",\"linecolor\":\"white\",\"ticks\":\"\",\"title\":{\"standoff\":15},\"zerolinecolor\":\"white\",\"zerolinewidth\":2},\"yaxis\":{\"automargin\":true,\"gridcolor\":\"white\",\"linecolor\":\"white\",\"ticks\":\"\",\"title\":{\"standoff\":15},\"zerolinecolor\":\"white\",\"zerolinewidth\":2}}},\"legend\":{\"tracegroupgap\":0},\"margin\":{\"t\":60}},                        {\"responsive\": true}                    ).then(function(){\n",
       "                            \n",
       "var gd = document.getElementById('eac46bf5-2a0b-4306-ad49-b2b01ce14155');\n",
       "var x = new MutationObserver(function (mutations, observer) {{\n",
       "        var display = window.getComputedStyle(gd).display;\n",
       "        if (!display || display === 'none') {{\n",
       "            console.log([gd, 'removed!']);\n",
       "            Plotly.purge(gd);\n",
       "            observer.disconnect();\n",
       "        }}\n",
       "}});\n",
       "\n",
       "// Listen for the removal of the full notebook cells\n",
       "var notebookContainer = gd.closest('#notebook-container');\n",
       "if (notebookContainer) {{\n",
       "    x.observe(notebookContainer, {childList: true});\n",
       "}}\n",
       "\n",
       "// Listen for the clearing of the current output cell\n",
       "var outputEl = gd.closest('.output');\n",
       "if (outputEl) {{\n",
       "    x.observe(outputEl, {childList: true});\n",
       "}}\n",
       "\n",
       "                        })                };                });            </script>        </div>"
      ]
     },
     "metadata": {},
     "output_type": "display_data"
    }
   ],
   "source": [
    "import plotly.express as px\n",
    "fig = px.funnel_area(names=df_tb['etapas'],\n",
    "                    values=df_tb['Values'])\n",
    "fig.show()"
   ]
  },
  {
   "cell_type": "code",
   "execution_count": 138,
   "id": "b260206a",
   "metadata": {},
   "outputs": [
    {
     "data": {
      "application/vnd.plotly.v1+json": {
       "config": {
        "plotlyServerURL": "https://plot.ly"
       },
       "data": [
        {
         "connector": {
          "line": {
           "color": "royalblue",
           "dash": "dot",
           "width": 3
          }
         },
         "marker": {
          "color": [
           "deepskyblue",
           "lightsalmon",
           "tan",
           "teal",
           "silver"
          ],
          "line": {
           "color": [
            "wheat",
            "wheat",
            "blue",
            "wheat",
            "wheat"
           ],
           "width": [
            4,
            2,
            2,
            3,
            1,
            1
           ]
          }
         },
         "opacity": 0.65,
         "textinfo": "value+percent initial",
         "textposition": "inside",
         "type": "funnel",
         "x": [
          596.158,
          467,
          60
         ],
         "y": [
          "leads",
          "testando",
          "assinado"
         ]
        }
       ],
       "layout": {
        "template": {
         "data": {
          "bar": [
           {
            "error_x": {
             "color": "#2a3f5f"
            },
            "error_y": {
             "color": "#2a3f5f"
            },
            "marker": {
             "line": {
              "color": "#E5ECF6",
              "width": 0.5
             },
             "pattern": {
              "fillmode": "overlay",
              "size": 10,
              "solidity": 0.2
             }
            },
            "type": "bar"
           }
          ],
          "barpolar": [
           {
            "marker": {
             "line": {
              "color": "#E5ECF6",
              "width": 0.5
             },
             "pattern": {
              "fillmode": "overlay",
              "size": 10,
              "solidity": 0.2
             }
            },
            "type": "barpolar"
           }
          ],
          "carpet": [
           {
            "aaxis": {
             "endlinecolor": "#2a3f5f",
             "gridcolor": "white",
             "linecolor": "white",
             "minorgridcolor": "white",
             "startlinecolor": "#2a3f5f"
            },
            "baxis": {
             "endlinecolor": "#2a3f5f",
             "gridcolor": "white",
             "linecolor": "white",
             "minorgridcolor": "white",
             "startlinecolor": "#2a3f5f"
            },
            "type": "carpet"
           }
          ],
          "choropleth": [
           {
            "colorbar": {
             "outlinewidth": 0,
             "ticks": ""
            },
            "type": "choropleth"
           }
          ],
          "contour": [
           {
            "colorbar": {
             "outlinewidth": 0,
             "ticks": ""
            },
            "colorscale": [
             [
              0,
              "#0d0887"
             ],
             [
              0.1111111111111111,
              "#46039f"
             ],
             [
              0.2222222222222222,
              "#7201a8"
             ],
             [
              0.3333333333333333,
              "#9c179e"
             ],
             [
              0.4444444444444444,
              "#bd3786"
             ],
             [
              0.5555555555555556,
              "#d8576b"
             ],
             [
              0.6666666666666666,
              "#ed7953"
             ],
             [
              0.7777777777777778,
              "#fb9f3a"
             ],
             [
              0.8888888888888888,
              "#fdca26"
             ],
             [
              1,
              "#f0f921"
             ]
            ],
            "type": "contour"
           }
          ],
          "contourcarpet": [
           {
            "colorbar": {
             "outlinewidth": 0,
             "ticks": ""
            },
            "type": "contourcarpet"
           }
          ],
          "heatmap": [
           {
            "colorbar": {
             "outlinewidth": 0,
             "ticks": ""
            },
            "colorscale": [
             [
              0,
              "#0d0887"
             ],
             [
              0.1111111111111111,
              "#46039f"
             ],
             [
              0.2222222222222222,
              "#7201a8"
             ],
             [
              0.3333333333333333,
              "#9c179e"
             ],
             [
              0.4444444444444444,
              "#bd3786"
             ],
             [
              0.5555555555555556,
              "#d8576b"
             ],
             [
              0.6666666666666666,
              "#ed7953"
             ],
             [
              0.7777777777777778,
              "#fb9f3a"
             ],
             [
              0.8888888888888888,
              "#fdca26"
             ],
             [
              1,
              "#f0f921"
             ]
            ],
            "type": "heatmap"
           }
          ],
          "heatmapgl": [
           {
            "colorbar": {
             "outlinewidth": 0,
             "ticks": ""
            },
            "colorscale": [
             [
              0,
              "#0d0887"
             ],
             [
              0.1111111111111111,
              "#46039f"
             ],
             [
              0.2222222222222222,
              "#7201a8"
             ],
             [
              0.3333333333333333,
              "#9c179e"
             ],
             [
              0.4444444444444444,
              "#bd3786"
             ],
             [
              0.5555555555555556,
              "#d8576b"
             ],
             [
              0.6666666666666666,
              "#ed7953"
             ],
             [
              0.7777777777777778,
              "#fb9f3a"
             ],
             [
              0.8888888888888888,
              "#fdca26"
             ],
             [
              1,
              "#f0f921"
             ]
            ],
            "type": "heatmapgl"
           }
          ],
          "histogram": [
           {
            "marker": {
             "pattern": {
              "fillmode": "overlay",
              "size": 10,
              "solidity": 0.2
             }
            },
            "type": "histogram"
           }
          ],
          "histogram2d": [
           {
            "colorbar": {
             "outlinewidth": 0,
             "ticks": ""
            },
            "colorscale": [
             [
              0,
              "#0d0887"
             ],
             [
              0.1111111111111111,
              "#46039f"
             ],
             [
              0.2222222222222222,
              "#7201a8"
             ],
             [
              0.3333333333333333,
              "#9c179e"
             ],
             [
              0.4444444444444444,
              "#bd3786"
             ],
             [
              0.5555555555555556,
              "#d8576b"
             ],
             [
              0.6666666666666666,
              "#ed7953"
             ],
             [
              0.7777777777777778,
              "#fb9f3a"
             ],
             [
              0.8888888888888888,
              "#fdca26"
             ],
             [
              1,
              "#f0f921"
             ]
            ],
            "type": "histogram2d"
           }
          ],
          "histogram2dcontour": [
           {
            "colorbar": {
             "outlinewidth": 0,
             "ticks": ""
            },
            "colorscale": [
             [
              0,
              "#0d0887"
             ],
             [
              0.1111111111111111,
              "#46039f"
             ],
             [
              0.2222222222222222,
              "#7201a8"
             ],
             [
              0.3333333333333333,
              "#9c179e"
             ],
             [
              0.4444444444444444,
              "#bd3786"
             ],
             [
              0.5555555555555556,
              "#d8576b"
             ],
             [
              0.6666666666666666,
              "#ed7953"
             ],
             [
              0.7777777777777778,
              "#fb9f3a"
             ],
             [
              0.8888888888888888,
              "#fdca26"
             ],
             [
              1,
              "#f0f921"
             ]
            ],
            "type": "histogram2dcontour"
           }
          ],
          "mesh3d": [
           {
            "colorbar": {
             "outlinewidth": 0,
             "ticks": ""
            },
            "type": "mesh3d"
           }
          ],
          "parcoords": [
           {
            "line": {
             "colorbar": {
              "outlinewidth": 0,
              "ticks": ""
             }
            },
            "type": "parcoords"
           }
          ],
          "pie": [
           {
            "automargin": true,
            "type": "pie"
           }
          ],
          "scatter": [
           {
            "marker": {
             "colorbar": {
              "outlinewidth": 0,
              "ticks": ""
             }
            },
            "type": "scatter"
           }
          ],
          "scatter3d": [
           {
            "line": {
             "colorbar": {
              "outlinewidth": 0,
              "ticks": ""
             }
            },
            "marker": {
             "colorbar": {
              "outlinewidth": 0,
              "ticks": ""
             }
            },
            "type": "scatter3d"
           }
          ],
          "scattercarpet": [
           {
            "marker": {
             "colorbar": {
              "outlinewidth": 0,
              "ticks": ""
             }
            },
            "type": "scattercarpet"
           }
          ],
          "scattergeo": [
           {
            "marker": {
             "colorbar": {
              "outlinewidth": 0,
              "ticks": ""
             }
            },
            "type": "scattergeo"
           }
          ],
          "scattergl": [
           {
            "marker": {
             "colorbar": {
              "outlinewidth": 0,
              "ticks": ""
             }
            },
            "type": "scattergl"
           }
          ],
          "scattermapbox": [
           {
            "marker": {
             "colorbar": {
              "outlinewidth": 0,
              "ticks": ""
             }
            },
            "type": "scattermapbox"
           }
          ],
          "scatterpolar": [
           {
            "marker": {
             "colorbar": {
              "outlinewidth": 0,
              "ticks": ""
             }
            },
            "type": "scatterpolar"
           }
          ],
          "scatterpolargl": [
           {
            "marker": {
             "colorbar": {
              "outlinewidth": 0,
              "ticks": ""
             }
            },
            "type": "scatterpolargl"
           }
          ],
          "scatterternary": [
           {
            "marker": {
             "colorbar": {
              "outlinewidth": 0,
              "ticks": ""
             }
            },
            "type": "scatterternary"
           }
          ],
          "surface": [
           {
            "colorbar": {
             "outlinewidth": 0,
             "ticks": ""
            },
            "colorscale": [
             [
              0,
              "#0d0887"
             ],
             [
              0.1111111111111111,
              "#46039f"
             ],
             [
              0.2222222222222222,
              "#7201a8"
             ],
             [
              0.3333333333333333,
              "#9c179e"
             ],
             [
              0.4444444444444444,
              "#bd3786"
             ],
             [
              0.5555555555555556,
              "#d8576b"
             ],
             [
              0.6666666666666666,
              "#ed7953"
             ],
             [
              0.7777777777777778,
              "#fb9f3a"
             ],
             [
              0.8888888888888888,
              "#fdca26"
             ],
             [
              1,
              "#f0f921"
             ]
            ],
            "type": "surface"
           }
          ],
          "table": [
           {
            "cells": {
             "fill": {
              "color": "#EBF0F8"
             },
             "line": {
              "color": "white"
             }
            },
            "header": {
             "fill": {
              "color": "#C8D4E3"
             },
             "line": {
              "color": "white"
             }
            },
            "type": "table"
           }
          ]
         },
         "layout": {
          "annotationdefaults": {
           "arrowcolor": "#2a3f5f",
           "arrowhead": 0,
           "arrowwidth": 1
          },
          "autotypenumbers": "strict",
          "coloraxis": {
           "colorbar": {
            "outlinewidth": 0,
            "ticks": ""
           }
          },
          "colorscale": {
           "diverging": [
            [
             0,
             "#8e0152"
            ],
            [
             0.1,
             "#c51b7d"
            ],
            [
             0.2,
             "#de77ae"
            ],
            [
             0.3,
             "#f1b6da"
            ],
            [
             0.4,
             "#fde0ef"
            ],
            [
             0.5,
             "#f7f7f7"
            ],
            [
             0.6,
             "#e6f5d0"
            ],
            [
             0.7,
             "#b8e186"
            ],
            [
             0.8,
             "#7fbc41"
            ],
            [
             0.9,
             "#4d9221"
            ],
            [
             1,
             "#276419"
            ]
           ],
           "sequential": [
            [
             0,
             "#0d0887"
            ],
            [
             0.1111111111111111,
             "#46039f"
            ],
            [
             0.2222222222222222,
             "#7201a8"
            ],
            [
             0.3333333333333333,
             "#9c179e"
            ],
            [
             0.4444444444444444,
             "#bd3786"
            ],
            [
             0.5555555555555556,
             "#d8576b"
            ],
            [
             0.6666666666666666,
             "#ed7953"
            ],
            [
             0.7777777777777778,
             "#fb9f3a"
            ],
            [
             0.8888888888888888,
             "#fdca26"
            ],
            [
             1,
             "#f0f921"
            ]
           ],
           "sequentialminus": [
            [
             0,
             "#0d0887"
            ],
            [
             0.1111111111111111,
             "#46039f"
            ],
            [
             0.2222222222222222,
             "#7201a8"
            ],
            [
             0.3333333333333333,
             "#9c179e"
            ],
            [
             0.4444444444444444,
             "#bd3786"
            ],
            [
             0.5555555555555556,
             "#d8576b"
            ],
            [
             0.6666666666666666,
             "#ed7953"
            ],
            [
             0.7777777777777778,
             "#fb9f3a"
            ],
            [
             0.8888888888888888,
             "#fdca26"
            ],
            [
             1,
             "#f0f921"
            ]
           ]
          },
          "colorway": [
           "#636efa",
           "#EF553B",
           "#00cc96",
           "#ab63fa",
           "#FFA15A",
           "#19d3f3",
           "#FF6692",
           "#B6E880",
           "#FF97FF",
           "#FECB52"
          ],
          "font": {
           "color": "#2a3f5f"
          },
          "geo": {
           "bgcolor": "white",
           "lakecolor": "white",
           "landcolor": "#E5ECF6",
           "showlakes": true,
           "showland": true,
           "subunitcolor": "white"
          },
          "hoverlabel": {
           "align": "left"
          },
          "hovermode": "closest",
          "mapbox": {
           "style": "light"
          },
          "paper_bgcolor": "white",
          "plot_bgcolor": "#E5ECF6",
          "polar": {
           "angularaxis": {
            "gridcolor": "white",
            "linecolor": "white",
            "ticks": ""
           },
           "bgcolor": "#E5ECF6",
           "radialaxis": {
            "gridcolor": "white",
            "linecolor": "white",
            "ticks": ""
           }
          },
          "scene": {
           "xaxis": {
            "backgroundcolor": "#E5ECF6",
            "gridcolor": "white",
            "gridwidth": 2,
            "linecolor": "white",
            "showbackground": true,
            "ticks": "",
            "zerolinecolor": "white"
           },
           "yaxis": {
            "backgroundcolor": "#E5ECF6",
            "gridcolor": "white",
            "gridwidth": 2,
            "linecolor": "white",
            "showbackground": true,
            "ticks": "",
            "zerolinecolor": "white"
           },
           "zaxis": {
            "backgroundcolor": "#E5ECF6",
            "gridcolor": "white",
            "gridwidth": 2,
            "linecolor": "white",
            "showbackground": true,
            "ticks": "",
            "zerolinecolor": "white"
           }
          },
          "shapedefaults": {
           "line": {
            "color": "#2a3f5f"
           }
          },
          "ternary": {
           "aaxis": {
            "gridcolor": "white",
            "linecolor": "white",
            "ticks": ""
           },
           "baxis": {
            "gridcolor": "white",
            "linecolor": "white",
            "ticks": ""
           },
           "bgcolor": "#E5ECF6",
           "caxis": {
            "gridcolor": "white",
            "linecolor": "white",
            "ticks": ""
           }
          },
          "title": {
           "x": 0.05
          },
          "xaxis": {
           "automargin": true,
           "gridcolor": "white",
           "linecolor": "white",
           "ticks": "",
           "title": {
            "standoff": 15
           },
           "zerolinecolor": "white",
           "zerolinewidth": 2
          },
          "yaxis": {
           "automargin": true,
           "gridcolor": "white",
           "linecolor": "white",
           "ticks": "",
           "title": {
            "standoff": 15
           },
           "zerolinecolor": "white",
           "zerolinewidth": 2
          }
         }
        }
       }
      },
      "text/html": [
       "<div>                            <div id=\"71ab0709-ec1e-4a1d-9c44-09124fccf32f\" class=\"plotly-graph-div\" style=\"height:525px; width:100%;\"></div>            <script type=\"text/javascript\">                require([\"plotly\"], function(Plotly) {                    window.PLOTLYENV=window.PLOTLYENV || {};                                    if (document.getElementById(\"71ab0709-ec1e-4a1d-9c44-09124fccf32f\")) {                    Plotly.newPlot(                        \"71ab0709-ec1e-4a1d-9c44-09124fccf32f\",                        [{\"connector\":{\"line\":{\"color\":\"royalblue\",\"dash\":\"dot\",\"width\":3}},\"marker\":{\"color\":[\"deepskyblue\",\"lightsalmon\",\"tan\",\"teal\",\"silver\"],\"line\":{\"color\":[\"wheat\",\"wheat\",\"blue\",\"wheat\",\"wheat\"],\"width\":[4,2,2,3,1,1]}},\"opacity\":0.65,\"textinfo\":\"value+percent initial\",\"textposition\":\"inside\",\"x\":[596.158,467,60],\"y\":[\"leads\",\"testando\",\"assinado\"],\"type\":\"funnel\"}],                        {\"template\":{\"data\":{\"bar\":[{\"error_x\":{\"color\":\"#2a3f5f\"},\"error_y\":{\"color\":\"#2a3f5f\"},\"marker\":{\"line\":{\"color\":\"#E5ECF6\",\"width\":0.5},\"pattern\":{\"fillmode\":\"overlay\",\"size\":10,\"solidity\":0.2}},\"type\":\"bar\"}],\"barpolar\":[{\"marker\":{\"line\":{\"color\":\"#E5ECF6\",\"width\":0.5},\"pattern\":{\"fillmode\":\"overlay\",\"size\":10,\"solidity\":0.2}},\"type\":\"barpolar\"}],\"carpet\":[{\"aaxis\":{\"endlinecolor\":\"#2a3f5f\",\"gridcolor\":\"white\",\"linecolor\":\"white\",\"minorgridcolor\":\"white\",\"startlinecolor\":\"#2a3f5f\"},\"baxis\":{\"endlinecolor\":\"#2a3f5f\",\"gridcolor\":\"white\",\"linecolor\":\"white\",\"minorgridcolor\":\"white\",\"startlinecolor\":\"#2a3f5f\"},\"type\":\"carpet\"}],\"choropleth\":[{\"colorbar\":{\"outlinewidth\":0,\"ticks\":\"\"},\"type\":\"choropleth\"}],\"contour\":[{\"colorbar\":{\"outlinewidth\":0,\"ticks\":\"\"},\"colorscale\":[[0.0,\"#0d0887\"],[0.1111111111111111,\"#46039f\"],[0.2222222222222222,\"#7201a8\"],[0.3333333333333333,\"#9c179e\"],[0.4444444444444444,\"#bd3786\"],[0.5555555555555556,\"#d8576b\"],[0.6666666666666666,\"#ed7953\"],[0.7777777777777778,\"#fb9f3a\"],[0.8888888888888888,\"#fdca26\"],[1.0,\"#f0f921\"]],\"type\":\"contour\"}],\"contourcarpet\":[{\"colorbar\":{\"outlinewidth\":0,\"ticks\":\"\"},\"type\":\"contourcarpet\"}],\"heatmap\":[{\"colorbar\":{\"outlinewidth\":0,\"ticks\":\"\"},\"colorscale\":[[0.0,\"#0d0887\"],[0.1111111111111111,\"#46039f\"],[0.2222222222222222,\"#7201a8\"],[0.3333333333333333,\"#9c179e\"],[0.4444444444444444,\"#bd3786\"],[0.5555555555555556,\"#d8576b\"],[0.6666666666666666,\"#ed7953\"],[0.7777777777777778,\"#fb9f3a\"],[0.8888888888888888,\"#fdca26\"],[1.0,\"#f0f921\"]],\"type\":\"heatmap\"}],\"heatmapgl\":[{\"colorbar\":{\"outlinewidth\":0,\"ticks\":\"\"},\"colorscale\":[[0.0,\"#0d0887\"],[0.1111111111111111,\"#46039f\"],[0.2222222222222222,\"#7201a8\"],[0.3333333333333333,\"#9c179e\"],[0.4444444444444444,\"#bd3786\"],[0.5555555555555556,\"#d8576b\"],[0.6666666666666666,\"#ed7953\"],[0.7777777777777778,\"#fb9f3a\"],[0.8888888888888888,\"#fdca26\"],[1.0,\"#f0f921\"]],\"type\":\"heatmapgl\"}],\"histogram\":[{\"marker\":{\"pattern\":{\"fillmode\":\"overlay\",\"size\":10,\"solidity\":0.2}},\"type\":\"histogram\"}],\"histogram2d\":[{\"colorbar\":{\"outlinewidth\":0,\"ticks\":\"\"},\"colorscale\":[[0.0,\"#0d0887\"],[0.1111111111111111,\"#46039f\"],[0.2222222222222222,\"#7201a8\"],[0.3333333333333333,\"#9c179e\"],[0.4444444444444444,\"#bd3786\"],[0.5555555555555556,\"#d8576b\"],[0.6666666666666666,\"#ed7953\"],[0.7777777777777778,\"#fb9f3a\"],[0.8888888888888888,\"#fdca26\"],[1.0,\"#f0f921\"]],\"type\":\"histogram2d\"}],\"histogram2dcontour\":[{\"colorbar\":{\"outlinewidth\":0,\"ticks\":\"\"},\"colorscale\":[[0.0,\"#0d0887\"],[0.1111111111111111,\"#46039f\"],[0.2222222222222222,\"#7201a8\"],[0.3333333333333333,\"#9c179e\"],[0.4444444444444444,\"#bd3786\"],[0.5555555555555556,\"#d8576b\"],[0.6666666666666666,\"#ed7953\"],[0.7777777777777778,\"#fb9f3a\"],[0.8888888888888888,\"#fdca26\"],[1.0,\"#f0f921\"]],\"type\":\"histogram2dcontour\"}],\"mesh3d\":[{\"colorbar\":{\"outlinewidth\":0,\"ticks\":\"\"},\"type\":\"mesh3d\"}],\"parcoords\":[{\"line\":{\"colorbar\":{\"outlinewidth\":0,\"ticks\":\"\"}},\"type\":\"parcoords\"}],\"pie\":[{\"automargin\":true,\"type\":\"pie\"}],\"scatter\":[{\"marker\":{\"colorbar\":{\"outlinewidth\":0,\"ticks\":\"\"}},\"type\":\"scatter\"}],\"scatter3d\":[{\"line\":{\"colorbar\":{\"outlinewidth\":0,\"ticks\":\"\"}},\"marker\":{\"colorbar\":{\"outlinewidth\":0,\"ticks\":\"\"}},\"type\":\"scatter3d\"}],\"scattercarpet\":[{\"marker\":{\"colorbar\":{\"outlinewidth\":0,\"ticks\":\"\"}},\"type\":\"scattercarpet\"}],\"scattergeo\":[{\"marker\":{\"colorbar\":{\"outlinewidth\":0,\"ticks\":\"\"}},\"type\":\"scattergeo\"}],\"scattergl\":[{\"marker\":{\"colorbar\":{\"outlinewidth\":0,\"ticks\":\"\"}},\"type\":\"scattergl\"}],\"scattermapbox\":[{\"marker\":{\"colorbar\":{\"outlinewidth\":0,\"ticks\":\"\"}},\"type\":\"scattermapbox\"}],\"scatterpolar\":[{\"marker\":{\"colorbar\":{\"outlinewidth\":0,\"ticks\":\"\"}},\"type\":\"scatterpolar\"}],\"scatterpolargl\":[{\"marker\":{\"colorbar\":{\"outlinewidth\":0,\"ticks\":\"\"}},\"type\":\"scatterpolargl\"}],\"scatterternary\":[{\"marker\":{\"colorbar\":{\"outlinewidth\":0,\"ticks\":\"\"}},\"type\":\"scatterternary\"}],\"surface\":[{\"colorbar\":{\"outlinewidth\":0,\"ticks\":\"\"},\"colorscale\":[[0.0,\"#0d0887\"],[0.1111111111111111,\"#46039f\"],[0.2222222222222222,\"#7201a8\"],[0.3333333333333333,\"#9c179e\"],[0.4444444444444444,\"#bd3786\"],[0.5555555555555556,\"#d8576b\"],[0.6666666666666666,\"#ed7953\"],[0.7777777777777778,\"#fb9f3a\"],[0.8888888888888888,\"#fdca26\"],[1.0,\"#f0f921\"]],\"type\":\"surface\"}],\"table\":[{\"cells\":{\"fill\":{\"color\":\"#EBF0F8\"},\"line\":{\"color\":\"white\"}},\"header\":{\"fill\":{\"color\":\"#C8D4E3\"},\"line\":{\"color\":\"white\"}},\"type\":\"table\"}]},\"layout\":{\"annotationdefaults\":{\"arrowcolor\":\"#2a3f5f\",\"arrowhead\":0,\"arrowwidth\":1},\"autotypenumbers\":\"strict\",\"coloraxis\":{\"colorbar\":{\"outlinewidth\":0,\"ticks\":\"\"}},\"colorscale\":{\"diverging\":[[0,\"#8e0152\"],[0.1,\"#c51b7d\"],[0.2,\"#de77ae\"],[0.3,\"#f1b6da\"],[0.4,\"#fde0ef\"],[0.5,\"#f7f7f7\"],[0.6,\"#e6f5d0\"],[0.7,\"#b8e186\"],[0.8,\"#7fbc41\"],[0.9,\"#4d9221\"],[1,\"#276419\"]],\"sequential\":[[0.0,\"#0d0887\"],[0.1111111111111111,\"#46039f\"],[0.2222222222222222,\"#7201a8\"],[0.3333333333333333,\"#9c179e\"],[0.4444444444444444,\"#bd3786\"],[0.5555555555555556,\"#d8576b\"],[0.6666666666666666,\"#ed7953\"],[0.7777777777777778,\"#fb9f3a\"],[0.8888888888888888,\"#fdca26\"],[1.0,\"#f0f921\"]],\"sequentialminus\":[[0.0,\"#0d0887\"],[0.1111111111111111,\"#46039f\"],[0.2222222222222222,\"#7201a8\"],[0.3333333333333333,\"#9c179e\"],[0.4444444444444444,\"#bd3786\"],[0.5555555555555556,\"#d8576b\"],[0.6666666666666666,\"#ed7953\"],[0.7777777777777778,\"#fb9f3a\"],[0.8888888888888888,\"#fdca26\"],[1.0,\"#f0f921\"]]},\"colorway\":[\"#636efa\",\"#EF553B\",\"#00cc96\",\"#ab63fa\",\"#FFA15A\",\"#19d3f3\",\"#FF6692\",\"#B6E880\",\"#FF97FF\",\"#FECB52\"],\"font\":{\"color\":\"#2a3f5f\"},\"geo\":{\"bgcolor\":\"white\",\"lakecolor\":\"white\",\"landcolor\":\"#E5ECF6\",\"showlakes\":true,\"showland\":true,\"subunitcolor\":\"white\"},\"hoverlabel\":{\"align\":\"left\"},\"hovermode\":\"closest\",\"mapbox\":{\"style\":\"light\"},\"paper_bgcolor\":\"white\",\"plot_bgcolor\":\"#E5ECF6\",\"polar\":{\"angularaxis\":{\"gridcolor\":\"white\",\"linecolor\":\"white\",\"ticks\":\"\"},\"bgcolor\":\"#E5ECF6\",\"radialaxis\":{\"gridcolor\":\"white\",\"linecolor\":\"white\",\"ticks\":\"\"}},\"scene\":{\"xaxis\":{\"backgroundcolor\":\"#E5ECF6\",\"gridcolor\":\"white\",\"gridwidth\":2,\"linecolor\":\"white\",\"showbackground\":true,\"ticks\":\"\",\"zerolinecolor\":\"white\"},\"yaxis\":{\"backgroundcolor\":\"#E5ECF6\",\"gridcolor\":\"white\",\"gridwidth\":2,\"linecolor\":\"white\",\"showbackground\":true,\"ticks\":\"\",\"zerolinecolor\":\"white\"},\"zaxis\":{\"backgroundcolor\":\"#E5ECF6\",\"gridcolor\":\"white\",\"gridwidth\":2,\"linecolor\":\"white\",\"showbackground\":true,\"ticks\":\"\",\"zerolinecolor\":\"white\"}},\"shapedefaults\":{\"line\":{\"color\":\"#2a3f5f\"}},\"ternary\":{\"aaxis\":{\"gridcolor\":\"white\",\"linecolor\":\"white\",\"ticks\":\"\"},\"baxis\":{\"gridcolor\":\"white\",\"linecolor\":\"white\",\"ticks\":\"\"},\"bgcolor\":\"#E5ECF6\",\"caxis\":{\"gridcolor\":\"white\",\"linecolor\":\"white\",\"ticks\":\"\"}},\"title\":{\"x\":0.05},\"xaxis\":{\"automargin\":true,\"gridcolor\":\"white\",\"linecolor\":\"white\",\"ticks\":\"\",\"title\":{\"standoff\":15},\"zerolinecolor\":\"white\",\"zerolinewidth\":2},\"yaxis\":{\"automargin\":true,\"gridcolor\":\"white\",\"linecolor\":\"white\",\"ticks\":\"\",\"title\":{\"standoff\":15},\"zerolinecolor\":\"white\",\"zerolinewidth\":2}}}},                        {\"responsive\": true}                    ).then(function(){\n",
       "                            \n",
       "var gd = document.getElementById('71ab0709-ec1e-4a1d-9c44-09124fccf32f');\n",
       "var x = new MutationObserver(function (mutations, observer) {{\n",
       "        var display = window.getComputedStyle(gd).display;\n",
       "        if (!display || display === 'none') {{\n",
       "            console.log([gd, 'removed!']);\n",
       "            Plotly.purge(gd);\n",
       "            observer.disconnect();\n",
       "        }}\n",
       "}});\n",
       "\n",
       "// Listen for the removal of the full notebook cells\n",
       "var notebookContainer = gd.closest('#notebook-container');\n",
       "if (notebookContainer) {{\n",
       "    x.observe(notebookContainer, {childList: true});\n",
       "}}\n",
       "\n",
       "// Listen for the clearing of the current output cell\n",
       "var outputEl = gd.closest('.output');\n",
       "if (outputEl) {{\n",
       "    x.observe(outputEl, {childList: true});\n",
       "}}\n",
       "\n",
       "                        })                };                });            </script>        </div>"
      ]
     },
     "metadata": {},
     "output_type": "display_data"
    }
   ],
   "source": [
    "from plotly import graph_objects as go\n",
    "\n",
    "fig = go.Figure(go.Funnel(\n",
    "    y = df_tb['etapas'],\n",
    "    x = df_tb['Values'],\n",
    "    textposition = \"inside\",\n",
    "    textinfo = \"value+percent initial\",\n",
    "    opacity = 0.65, marker = {\"color\": [\"deepskyblue\", \"lightsalmon\", \"tan\", \"teal\", \"silver\"],\n",
    "    \"line\": {\"width\": [4, 2, 2, 3, 1, 1], \"color\": [\"wheat\", \"wheat\", \"blue\", \"wheat\", \"wheat\"]}},\n",
    "    connector = {\"line\": {\"color\": \"royalblue\", \"dash\": \"dot\", \"width\": 3}})\n",
    "    )\n",
    "\n",
    "fig.show()"
   ]
  },
  {
   "cell_type": "code",
   "execution_count": 139,
   "id": "a0eef1f4",
   "metadata": {},
   "outputs": [
    {
     "data": {
      "text/html": [
       "<div>\n",
       "<style scoped>\n",
       "    .dataframe tbody tr th:only-of-type {\n",
       "        vertical-align: middle;\n",
       "    }\n",
       "\n",
       "    .dataframe tbody tr th {\n",
       "        vertical-align: top;\n",
       "    }\n",
       "\n",
       "    .dataframe thead th {\n",
       "        text-align: right;\n",
       "    }\n",
       "</style>\n",
       "<table border=\"1\" class=\"dataframe\">\n",
       "  <thead>\n",
       "    <tr style=\"text-align: right;\">\n",
       "      <th></th>\n",
       "      <th>month</th>\n",
       "      <th>Total</th>\n",
       "    </tr>\n",
       "  </thead>\n",
       "  <tbody>\n",
       "    <tr>\n",
       "      <th>2</th>\n",
       "      <td>Jan</td>\n",
       "      <td>14</td>\n",
       "    </tr>\n",
       "    <tr>\n",
       "      <th>1</th>\n",
       "      <td>Feb</td>\n",
       "      <td>16</td>\n",
       "    </tr>\n",
       "    <tr>\n",
       "      <th>3</th>\n",
       "      <td>Mar</td>\n",
       "      <td>27</td>\n",
       "    </tr>\n",
       "    <tr>\n",
       "      <th>0</th>\n",
       "      <td>NaN</td>\n",
       "      <td>3</td>\n",
       "    </tr>\n",
       "  </tbody>\n",
       "</table>\n",
       "</div>"
      ],
      "text/plain": [
       "  month  Total\n",
       "2   Jan     14\n",
       "1   Feb     16\n",
       "3   Mar     27\n",
       "0   NaN      3"
      ]
     },
     "execution_count": 139,
     "metadata": {},
     "output_type": "execute_result"
    }
   ],
   "source": [
    "months = [\"Jan\",\"Feb\", \"Mar\"]\n",
    "df_emp_ativo_gr['month'] = pd.Categorical(df_emp_ativo_gr['month'], categories=months, ordered=True)\n",
    "df_emp_ativo_gr.sort_values(by='month', ascending = True, inplace=True)\n",
    "\n",
    "df_emp_ativo_gr"
   ]
  },
  {
   "cell_type": "markdown",
   "id": "a8afd900",
   "metadata": {},
   "source": [
    "# Fazendo o merge dos três DFs"
   ]
  },
  {
   "cell_type": "code",
   "execution_count": 140,
   "id": "a559a535",
   "metadata": {},
   "outputs": [
    {
     "data": {
      "text/html": [
       "<div>\n",
       "<style scoped>\n",
       "    .dataframe tbody tr th:only-of-type {\n",
       "        vertical-align: middle;\n",
       "    }\n",
       "\n",
       "    .dataframe tbody tr th {\n",
       "        vertical-align: top;\n",
       "    }\n",
       "\n",
       "    .dataframe thead th {\n",
       "        text-align: right;\n",
       "    }\n",
       "</style>\n",
       "<table border=\"1\" class=\"dataframe\">\n",
       "  <thead>\n",
       "    <tr style=\"text-align: right;\">\n",
       "      <th></th>\n",
       "      <th>month</th>\n",
       "      <th>Total</th>\n",
       "    </tr>\n",
       "  </thead>\n",
       "  <tbody>\n",
       "    <tr>\n",
       "      <th>111</th>\n",
       "      <td>mar</td>\n",
       "      <td>594.0</td>\n",
       "    </tr>\n",
       "  </tbody>\n",
       "</table>\n",
       "</div>"
      ],
      "text/plain": [
       "    month  Total\n",
       "111   mar  594.0"
      ]
     },
     "execution_count": 140,
     "metadata": {},
     "output_type": "execute_result"
    }
   ],
   "source": [
    "#pegando apenas o mês de março\n",
    "df_leads = df.copy()\n",
    "df_leads = df_leads[(df_leads['month'] == 'mar')]\n",
    "df_leads.head()"
   ]
  },
  {
   "cell_type": "code",
   "execution_count": 141,
   "id": "947d5af3",
   "metadata": {},
   "outputs": [
    {
     "data": {
      "text/html": [
       "<div>\n",
       "<style scoped>\n",
       "    .dataframe tbody tr th:only-of-type {\n",
       "        vertical-align: middle;\n",
       "    }\n",
       "\n",
       "    .dataframe tbody tr th {\n",
       "        vertical-align: top;\n",
       "    }\n",
       "\n",
       "    .dataframe thead th {\n",
       "        text-align: right;\n",
       "    }\n",
       "</style>\n",
       "<table border=\"1\" class=\"dataframe\">\n",
       "  <thead>\n",
       "    <tr style=\"text-align: right;\">\n",
       "      <th></th>\n",
       "      <th>month</th>\n",
       "      <th>Total</th>\n",
       "    </tr>\n",
       "  </thead>\n",
       "  <tbody>\n",
       "    <tr>\n",
       "      <th>111</th>\n",
       "      <td>Mar</td>\n",
       "      <td>594.0</td>\n",
       "    </tr>\n",
       "  </tbody>\n",
       "</table>\n",
       "</div>"
      ],
      "text/plain": [
       "    month  Total\n",
       "111   Mar  594.0"
      ]
     },
     "execution_count": 141,
     "metadata": {},
     "output_type": "execute_result"
    }
   ],
   "source": [
    "df_leads['month'] = df['month'].str.capitalize()\n",
    "df_leads"
   ]
  },
  {
   "cell_type": "code",
   "execution_count": 142,
   "id": "828f3f39",
   "metadata": {},
   "outputs": [
    {
     "data": {
      "text/html": [
       "<div>\n",
       "<style scoped>\n",
       "    .dataframe tbody tr th:only-of-type {\n",
       "        vertical-align: middle;\n",
       "    }\n",
       "\n",
       "    .dataframe tbody tr th {\n",
       "        vertical-align: top;\n",
       "    }\n",
       "\n",
       "    .dataframe thead th {\n",
       "        text-align: right;\n",
       "    }\n",
       "</style>\n",
       "<table border=\"1\" class=\"dataframe\">\n",
       "  <thead>\n",
       "    <tr style=\"text-align: right;\">\n",
       "      <th></th>\n",
       "      <th>month</th>\n",
       "      <th>Total</th>\n",
       "    </tr>\n",
       "  </thead>\n",
       "  <tbody>\n",
       "    <tr>\n",
       "      <th>3</th>\n",
       "      <td>Mar</td>\n",
       "      <td>166</td>\n",
       "    </tr>\n",
       "  </tbody>\n",
       "</table>\n",
       "</div>"
      ],
      "text/plain": [
       "  month  Total\n",
       "3   Mar    166"
      ]
     },
     "execution_count": 142,
     "metadata": {},
     "output_type": "execute_result"
    }
   ],
   "source": [
    "df_teste = df_emp_testando_gr.copy()\n",
    "df_teste = df_teste[(df_teste['month'] == 'Mar')]\n",
    "df_teste"
   ]
  },
  {
   "cell_type": "code",
   "execution_count": 143,
   "id": "8c867fbf",
   "metadata": {},
   "outputs": [
    {
     "data": {
      "text/html": [
       "<div>\n",
       "<style scoped>\n",
       "    .dataframe tbody tr th:only-of-type {\n",
       "        vertical-align: middle;\n",
       "    }\n",
       "\n",
       "    .dataframe tbody tr th {\n",
       "        vertical-align: top;\n",
       "    }\n",
       "\n",
       "    .dataframe thead th {\n",
       "        text-align: right;\n",
       "    }\n",
       "</style>\n",
       "<table border=\"1\" class=\"dataframe\">\n",
       "  <thead>\n",
       "    <tr style=\"text-align: right;\">\n",
       "      <th></th>\n",
       "      <th>month</th>\n",
       "      <th>Total</th>\n",
       "    </tr>\n",
       "  </thead>\n",
       "  <tbody>\n",
       "    <tr>\n",
       "      <th>3</th>\n",
       "      <td>Mar</td>\n",
       "      <td>27</td>\n",
       "    </tr>\n",
       "  </tbody>\n",
       "</table>\n",
       "</div>"
      ],
      "text/plain": [
       "  month  Total\n",
       "3   Mar     27"
      ]
     },
     "execution_count": 143,
     "metadata": {},
     "output_type": "execute_result"
    }
   ],
   "source": [
    "df_ativo = df_emp_ativo_gr.copy()\n",
    "df_ativo = df_ativo[(df_ativo['month'] == 'Mar')]\n",
    "df_ativo"
   ]
  },
  {
   "cell_type": "code",
   "execution_count": 144,
   "id": "eebb3e82",
   "metadata": {},
   "outputs": [],
   "source": [
    "def mergefiles(dfs=[], on=''):\n",
    "    \"\"\"Merge a list of files based on one column\"\"\"\n",
    "    if len(dfs) == 1:\n",
    "         return \"List only have one element.\"\n",
    "\n",
    "    elif len(dfs) == 2:\n",
    "        df1 = dfs[0]\n",
    "        df2 = dfs[1]\n",
    "        df = df1.merge(df2, on=on)\n",
    "        return df\n",
    "\n",
    "    # Merge the first and second datafranes into new dataframe\n",
    "    df1 = dfs[0]\n",
    "    df2 = dfs[1]\n",
    "    df = dfs[0].merge(dfs[1], on=on)\n",
    "\n",
    "    # Create new list with merged dataframe\n",
    "    dfl = []\n",
    "    dfl.append(df)\n",
    "\n",
    "    # Join lists\n",
    "    dfl = dfl + dfs[2:] \n",
    "    dfm = mergefiles(dfl, on)\n",
    "    return dfm"
   ]
  },
  {
   "cell_type": "code",
   "execution_count": 145,
   "id": "ab309398",
   "metadata": {},
   "outputs": [
    {
     "data": {
      "text/html": [
       "<div>\n",
       "<style scoped>\n",
       "    .dataframe tbody tr th:only-of-type {\n",
       "        vertical-align: middle;\n",
       "    }\n",
       "\n",
       "    .dataframe tbody tr th {\n",
       "        vertical-align: top;\n",
       "    }\n",
       "\n",
       "    .dataframe thead th {\n",
       "        text-align: right;\n",
       "    }\n",
       "</style>\n",
       "<table border=\"1\" class=\"dataframe\">\n",
       "  <thead>\n",
       "    <tr style=\"text-align: right;\">\n",
       "      <th></th>\n",
       "      <th>0</th>\n",
       "      <th>1</th>\n",
       "      <th>2</th>\n",
       "      <th>3</th>\n",
       "      <th>4</th>\n",
       "      <th>5</th>\n",
       "    </tr>\n",
       "  </thead>\n",
       "  <tbody>\n",
       "    <tr>\n",
       "      <th>3</th>\n",
       "      <td>NaN</td>\n",
       "      <td>NaN</td>\n",
       "      <td>Mar</td>\n",
       "      <td>166.0</td>\n",
       "      <td>Mar</td>\n",
       "      <td>27.0</td>\n",
       "    </tr>\n",
       "    <tr>\n",
       "      <th>111</th>\n",
       "      <td>Mar</td>\n",
       "      <td>594.0</td>\n",
       "      <td>NaN</td>\n",
       "      <td>NaN</td>\n",
       "      <td>NaN</td>\n",
       "      <td>NaN</td>\n",
       "    </tr>\n",
       "  </tbody>\n",
       "</table>\n",
       "</div>"
      ],
      "text/plain": [
       "       0      1    2      3    4     5\n",
       "3    NaN    NaN  Mar  166.0  Mar  27.0\n",
       "111  Mar  594.0  NaN    NaN  NaN   NaN"
      ]
     },
     "execution_count": 145,
     "metadata": {},
     "output_type": "execute_result"
    }
   ],
   "source": [
    "result = pd.concat([df_leads, df_teste, df_ativo],ignore_index=True, axis=1)\n",
    "result"
   ]
  },
  {
   "cell_type": "code",
   "execution_count": 146,
   "id": "60693fe4",
   "metadata": {},
   "outputs": [
    {
     "data": {
      "text/html": [
       "<div>\n",
       "<style scoped>\n",
       "    .dataframe tbody tr th:only-of-type {\n",
       "        vertical-align: middle;\n",
       "    }\n",
       "\n",
       "    .dataframe tbody tr th {\n",
       "        vertical-align: top;\n",
       "    }\n",
       "\n",
       "    .dataframe thead th {\n",
       "        text-align: right;\n",
       "    }\n",
       "</style>\n",
       "<table border=\"1\" class=\"dataframe\">\n",
       "  <thead>\n",
       "    <tr style=\"text-align: right;\">\n",
       "      <th></th>\n",
       "      <th>month</th>\n",
       "      <th>Total_x</th>\n",
       "      <th>Total_y</th>\n",
       "      <th>Total</th>\n",
       "    </tr>\n",
       "  </thead>\n",
       "  <tbody>\n",
       "    <tr>\n",
       "      <th>0</th>\n",
       "      <td>Mar</td>\n",
       "      <td>594.0</td>\n",
       "      <td>166</td>\n",
       "      <td>27</td>\n",
       "    </tr>\n",
       "  </tbody>\n",
       "</table>\n",
       "</div>"
      ],
      "text/plain": [
       "  month  Total_x  Total_y  Total\n",
       "0   Mar    594.0      166     27"
      ]
     },
     "execution_count": 146,
     "metadata": {},
     "output_type": "execute_result"
    }
   ],
   "source": [
    "# df_merge_col = pd.merge(df_leads, df_teste, df_ativo, on='month')\n",
    "df_merge_col = df_leads.merge(df_teste, on=\"month\").merge(df_ativo, on=\"month\")\n",
    "df_merge_col"
   ]
  },
  {
   "cell_type": "code",
   "execution_count": 147,
   "id": "c6836110",
   "metadata": {},
   "outputs": [
    {
     "data": {
      "text/html": [
       "<div>\n",
       "<style scoped>\n",
       "    .dataframe tbody tr th:only-of-type {\n",
       "        vertical-align: middle;\n",
       "    }\n",
       "\n",
       "    .dataframe tbody tr th {\n",
       "        vertical-align: top;\n",
       "    }\n",
       "\n",
       "    .dataframe thead th {\n",
       "        text-align: right;\n",
       "    }\n",
       "</style>\n",
       "<table border=\"1\" class=\"dataframe\">\n",
       "  <thead>\n",
       "    <tr style=\"text-align: right;\">\n",
       "      <th></th>\n",
       "      <th>Total_x</th>\n",
       "      <th>Total_y</th>\n",
       "      <th>Total</th>\n",
       "    </tr>\n",
       "  </thead>\n",
       "  <tbody>\n",
       "    <tr>\n",
       "      <th>0</th>\n",
       "      <td>594.0</td>\n",
       "      <td>166</td>\n",
       "      <td>27</td>\n",
       "    </tr>\n",
       "  </tbody>\n",
       "</table>\n",
       "</div>"
      ],
      "text/plain": [
       "   Total_x  Total_y  Total\n",
       "0    594.0      166     27"
      ]
     },
     "execution_count": 147,
     "metadata": {},
     "output_type": "execute_result"
    }
   ],
   "source": [
    "df_merge_col1 = df_merge_col[['Total_x','Total_y', 'Total']]\n",
    "df_merge_col1"
   ]
  },
  {
   "cell_type": "code",
   "execution_count": 148,
   "id": "8b148c9d",
   "metadata": {},
   "outputs": [
    {
     "name": "stdout",
     "output_type": "stream",
     "text": [
      "DataFrame as a dictionary(List orientation): {'Total_x': [594.0], 'Total_y': [166], 'Total': [27]}\n"
     ]
    }
   ],
   "source": [
    "dictionaryInstance = df_merge_col1.to_dict(orient=\"list\");\n",
    "\n",
    "print(\"DataFrame as a dictionary(List orientation):\",dictionaryInstance);"
   ]
  },
  {
   "cell_type": "code",
   "execution_count": 149,
   "id": "d523033f",
   "metadata": {},
   "outputs": [],
   "source": [
    "# dfemp_gr_month.to_csv('empresas_devolus_agrupadas_por_situacao_mes.csv')"
   ]
  },
  {
   "cell_type": "code",
   "execution_count": 150,
   "id": "c5166a22",
   "metadata": {},
   "outputs": [],
   "source": [
    "df_emp_testando_gr.to_csv(\"empresas_cadastros_2021.csv\")"
   ]
  },
  {
   "cell_type": "code",
   "execution_count": 151,
   "id": "d3cb8d6e",
   "metadata": {},
   "outputs": [
    {
     "ename": "NameError",
     "evalue": "name 'df_rec' is not defined",
     "output_type": "error",
     "traceback": [
      "\u001b[0;31m---------------------------------------------------------------------------\u001b[0m",
      "\u001b[0;31mNameError\u001b[0m                                 Traceback (most recent call last)",
      "\u001b[0;32m/var/folders/cq/9zm9cz053nn98gw_1z7xgyhm0000gn/T/ipykernel_17222/3393995626.py\u001b[0m in \u001b[0;36m<module>\u001b[0;34m\u001b[0m\n\u001b[0;32m----> 1\u001b[0;31m \u001b[0mdf_rec_dep\u001b[0m \u001b[0;34m=\u001b[0m \u001b[0mdf_rec\u001b[0m\u001b[0;34m[\u001b[0m\u001b[0;34m'Department Name'\u001b[0m\u001b[0;34m]\u001b[0m\u001b[0;34m.\u001b[0m\u001b[0mvalue_counts\u001b[0m\u001b[0;34m(\u001b[0m\u001b[0;34m)\u001b[0m\u001b[0;34m.\u001b[0m\u001b[0mrename_axis\u001b[0m\u001b[0;34m(\u001b[0m\u001b[0;34m'Stage'\u001b[0m\u001b[0;34m)\u001b[0m\u001b[0;34m.\u001b[0m\u001b[0mreset_index\u001b[0m\u001b[0;34m(\u001b[0m\u001b[0mname\u001b[0m\u001b[0;34m=\u001b[0m\u001b[0;34m'Counts'\u001b[0m\u001b[0;34m)\u001b[0m\u001b[0;34m\u001b[0m\u001b[0;34m\u001b[0m\u001b[0m\n\u001b[0m",
      "\u001b[0;31mNameError\u001b[0m: name 'df_rec' is not defined"
     ]
    }
   ],
   "source": [
    "# df_rec_dep = df_rec['Department Name'].value_counts().rename_axis('Stage').reset_index(name='Counts')"
   ]
  },
  {
   "cell_type": "code",
   "execution_count": null,
   "id": "221b9a49",
   "metadata": {},
   "outputs": [],
   "source": [
    "import plotly.express as px\n",
    "data = dict(\n",
    "    number=[39, 27.4, 20.6, 11, 2],\n",
    "    stage=[\"Website visit\", \"Downloads\", \"Potential customers\", \"Requested price\", \"invoice sent\"])\n",
    "fig = px.funnel(dictionaryInstance, x='Total', y='stage')\n",
    "fig.show()"
   ]
  },
  {
   "cell_type": "code",
   "execution_count": null,
   "id": "adeeb81c",
   "metadata": {},
   "outputs": [],
   "source": [
    "import plotly.express as px\n",
    "# ------------------------------ DEPARTMENT NAME---------------------------------------\n",
    "df_rec = df[df['Recommended IND'] == 'Recommended'][['Recommended IND', 'Department Name']]\n",
    "df_rec_dep = df_rec['Department Name'].value_counts().rename_axis('Stage').reset_index(name='Counts')\n",
    "df_rec_dep['Recommended IND'] = 'Recommended'\n",
    "\n",
    "df_not_rec = df[df['Recommended IND'] == 'Not Recommended'][['Recommended IND', 'Department Name']]\n",
    "df_not_rec_dep = df_not_rec['Department Name'].value_counts().rename_axis('Stage').reset_index(name='Counts')\n",
    "df_not_rec_dep['Recommended IND'] = 'Not Recommended'\n",
    "\n",
    "dff = pd.concat([df_rec_dep, df_not_rec_dep], axis=0)\n",
    "department = px.funnel(dff, x='Counts', y='Stage', color='Recommended IND',\n",
    "                       height=300, title='Recommended IND by department Name',\n",
    "                       category_orders={'Recommended IND': ['Recommended', 'Not Recommended']},\n",
    "                       color_discrete_sequence=['#DB6574', '#03DAC5'],\n",
    "                       )\n",
    "department.update_traces(textposition='auto', textfont=dict(color='#fff'))\n",
    "department.update_layout(autosize=True,\n",
    "                         margin=dict(t=110, b=50, l=70, r=40),\n",
    "                         xaxis_title=' ', yaxis_title=\" \",\n",
    "                         plot_bgcolor='#2d3035', paper_bgcolor='#2d3035',\n",
    "                         title_font=dict(size=25, color='#a5a7ab', family=\"Muli, sans-serif\"),\n",
    "                         font=dict(color='#8a8d93'),\n",
    "                         legend=dict(orientation=\"h\", yanchor=\"bottom\", y=1.02, xanchor=\"right\", x=1)\n",
    "                        )"
   ]
  },
  {
   "cell_type": "code",
   "execution_count": null,
   "id": "8d3025dc",
   "metadata": {},
   "outputs": [],
   "source": []
  }
 ],
 "metadata": {
  "kernelspec": {
   "display_name": "Python 3 (ipykernel)",
   "language": "python",
   "name": "python3"
  },
  "language_info": {
   "codemirror_mode": {
    "name": "ipython",
    "version": 3
   },
   "file_extension": ".py",
   "mimetype": "text/x-python",
   "name": "python",
   "nbconvert_exporter": "python",
   "pygments_lexer": "ipython3",
   "version": "3.7.11"
  }
 },
 "nbformat": 4,
 "nbformat_minor": 5
}
